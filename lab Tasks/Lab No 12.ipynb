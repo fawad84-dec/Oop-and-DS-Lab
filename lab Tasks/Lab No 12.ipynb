{
 "cells": [
  {
   "cell_type": "markdown",
   "id": "39a60eaa-f7de-4414-955d-82a70c5d3a96",
   "metadata": {},
   "source": [
    "<h1 style=\"margin-left: 10px; text-decoration: underline; text-decoration-style: double;\"><strong><i> Lab Practice: </i></strong></h1>"
   ]
  },
  {
   "cell_type": "markdown",
   "id": "b2650382-f40b-42b7-b9dc-e4d53a92fd3d",
   "metadata": {},
   "source": [
    "<p style=\"margin-left: 10px;text-decoration: underline;\"><strong> Name </strong>:Fawad khan</p>\n",
    "<p style=\"margin-left: 10px;text-decoration: underline;\"><strong> Reg No </strong>: 23zele0544 <p>\n",
    "<p style=\"margin-left: 10px;text-decoration: underline;\"><strong> Lab Practice </strong>: <strong> 12 </strong> <p>"
   ]
  },
  {
   "cell_type": "markdown",
   "id": "9bd28a66-0170-4909-bb24-dbb0d2a21dac",
   "metadata": {},
   "source": [
    "<hr>"
   ]
  },
  {
   "cell_type": "markdown",
   "id": "ef856458-e59c-4f34-8a85-6cc8b15011e8",
   "metadata": {},
   "source": [
    "<h1 style=\"margin-left: 29px;text-decoration: underline;text-decoration-style: double;\"><i><b>Lab Title :</b></i></h1>"
   ]
  },
  {
   "cell_type": "markdown",
   "id": "bff8f479-3c40-4659-bd60-37b6c233a069",
   "metadata": {},
   "source": [
    "<h2 style=\"margin-left: 129px;text-decoration: underline;text-decoration-style: double;\"><i><b>\"QUEUE ALGORITHMS\"\n",
    "</b></i></h2>"
   ]
  },
  {
   "cell_type": "markdown",
   "id": "76936c9b-ea5c-4eda-9532-47f1b3a3f268",
   "metadata": {},
   "source": [
    "<h1 style=\"margin-left: 19px;text-decoration: underline;\"><i><b>AIM:</b></i></h1>"
   ]
  },
  {
   "cell_type": "markdown",
   "id": "2eeb3647-8123-4e99-a439-a7e89e04235f",
   "metadata": {},
   "source": [
    "<h4 style=\"margin-left: 10px;\"><i><b> To understand the concept of queue algorithms in OOP (PYTHON).</b></i></h4>"
   ]
  },
  {
   "cell_type": "markdown",
   "id": "3c493775-6e5f-4877-9cf3-1171b8d4bd99",
   "metadata": {},
   "source": [
    "<h1 style=\"margin-left: 19px;text-decoration: underline;\"><i><b>INTRODUCTION:</b></i></h1>"
   ]
  },
  {
   "cell_type": "markdown",
   "id": "20960da2-2cb7-40b5-8608-424f7b9e72da",
   "metadata": {},
   "source": [
    "<h4 style=\"margin-left: 10px;\"><i><b> A queue is a fundamental data structure in computer science that follows the First-In-First\u0002Out (FIFO) principle. In a queue, elements are added at the rear (enqueue) and removed \n",
    "from the front (dequeue). This ensures that the oldest element in the queue is the first to be \n",
    "processed</b></i></h4>"
   ]
  },
  {
   "cell_type": "markdown",
   "id": "9dd44da1-f95c-4dfc-bb41-4fedf3fc3ff1",
   "metadata": {},
   "source": [
    "<h1 style=\"margin-left: 19px;text-decoration: underline;\"><i><b>TYPES OF QUEUE:</b></i></h1>"
   ]
  },
  {
   "cell_type": "markdown",
   "id": "c1eb6b5a-b94f-43e6-8f37-ad1dffd44826",
   "metadata": {},
   "source": [
    "<h4 style=\"margin-left: 10px;\"><i> i. List Queue<br>\n",
    "ii. Deque Queue<br>\n",
    "iii. Node base Queue.<br>\n",
    "</i></h4>"
   ]
  },
  {
   "cell_type": "markdown",
   "id": "97124c24-168a-421e-8ece-216edfcc6bfa",
   "metadata": {},
   "source": [
    "<hr>"
   ]
  },
  {
   "cell_type": "markdown",
   "id": "2ace5156-29e9-4de6-a5a4-516a8869bcab",
   "metadata": {},
   "source": [
    "<h2 style=\"margin-left: 10px;text-decoration: underline;\"><i><b>Task : 1</b></b></i></h2>"
   ]
  },
  {
   "cell_type": "markdown",
   "id": "1ba5f724-a4da-46db-b15e-1cb4e5d7ff67",
   "metadata": {},
   "source": [
    "<h2 style=\"margin-left: 10px;text-decoration: underline;\"><i><b>1. LIST QUEUE</b></i></h2>"
   ]
  },
  {
   "cell_type": "markdown",
   "id": "a2d2ddfb-9ae7-4e27-85ba-7c2e200410a9",
   "metadata": {},
   "source": [
    "<h3><b> a.</b>Run this Code</h3>"
   ]
  },
  {
   "cell_type": "code",
   "execution_count": 216,
   "id": "0f8f2769-9bca-438b-af52-e2f5322f07f1",
   "metadata": {},
   "outputs": [],
   "source": [
    "class Queue:\n",
    "    def __init__(self):\n",
    "        self.items = []\n",
    "\n",
    "    def is_empty(self):\n",
    "        return len(self.items) == 0"
   ]
  },
  {
   "cell_type": "markdown",
   "id": "0e7d4c9b-81a9-456b-b643-962cfe9bad9c",
   "metadata": {},
   "source": [
    "<h4><b> i.  __init__(self):This is the constructor method that initializes a new \n",
    "instance of the Queue class. It creates an empty list (self.items) to store \n",
    "the elements of the queue</h4></b>"
   ]
  },
  {
   "cell_type": "markdown",
   "id": "d250fdb4-ca2a-42a2-8223-50ac76e1ee59",
   "metadata": {},
   "source": [
    "<h3><b> b.</b>  Run the Following Code:\n",
    "</h3>"
   ]
  },
  {
   "cell_type": "code",
   "execution_count": 220,
   "id": "d049bfd7-08e2-48b2-932f-9e94e8e09c7b",
   "metadata": {},
   "outputs": [],
   "source": [
    "def enqueue(self, item):\n",
    "    self.items.append(item)"
   ]
  },
  {
   "cell_type": "markdown",
   "id": "45a00cea-9010-4f99-bc0a-fbc7a04d0334",
   "metadata": {},
   "source": [
    "<h4><b>ii. is_empty(self): This method returns True if the queue is empty.\n",
    "(i.e., it has no elements), and False otherwise. It checks the length of the \n",
    "list (self.items) to determine if the queue is empty</b></h4>"
   ]
  },
  {
   "cell_type": "markdown",
   "id": "c3429e4f-bb74-4853-95eb-10d7b977babf",
   "metadata": {},
   "source": [
    "<h3><b>c.</b>  Now Run this Code:</h3>"
   ]
  },
  {
   "cell_type": "code",
   "execution_count": 224,
   "id": "6a6204eb-2fe5-474d-87e2-24a8508722ac",
   "metadata": {},
   "outputs": [],
   "source": [
    "def dequeue(self):\n",
    "    if not self.is_empty():\n",
    "        return self.items.pop(0)\n",
    "    else:\n",
    "        print(\"Queue is empty. Cannot dequeue.\")"
   ]
  },
  {
   "cell_type": "markdown",
   "id": "abfc10d1-bb64-428f-8547-09bdfe0f094b",
   "metadata": {},
   "source": [
    "<h4><b>iv. dequeue(self): This method removes and returns the item from the front \n",
    "of the queue. It uses the pop(0) method to remove and return the first \n",
    "element in the list. Before attempting to dequeue, it checks if the queue \n",
    "is empty using the is_empty method to avoid errors.</h4></b>"
   ]
  },
  {
   "cell_type": "markdown",
   "id": "31d09d77-8d20-4cfd-841a-0fdcc5d3f430",
   "metadata": {},
   "source": [
    "<h3><b>d.</b>  Now Run this code:</h3>"
   ]
  },
  {
   "cell_type": "code",
   "execution_count": 228,
   "id": "5a010c74-d2f7-4945-968b-236e309fa283",
   "metadata": {},
   "outputs": [],
   "source": [
    "my_queue = Queue()"
   ]
  },
  {
   "cell_type": "code",
   "execution_count": 230,
   "id": "a3bb6bf2-7687-4ea5-a749-8ea77c5d65f6",
   "metadata": {},
   "outputs": [
    {
     "ename": "AttributeError",
     "evalue": "'Queue' object has no attribute 'enqueue'",
     "output_type": "error",
     "traceback": [
      "\u001b[1;31m---------------------------------------------------------------------------\u001b[0m",
      "\u001b[1;31mAttributeError\u001b[0m                            Traceback (most recent call last)",
      "Cell \u001b[1;32mIn[230], line 1\u001b[0m\n\u001b[1;32m----> 1\u001b[0m my_queue\u001b[38;5;241m.\u001b[39menqueue(\u001b[38;5;241m1\u001b[39m)\n\u001b[0;32m      2\u001b[0m my_queue\u001b[38;5;241m.\u001b[39menqueue(\u001b[38;5;241m2\u001b[39m)\n\u001b[0;32m      3\u001b[0m my_queue\u001b[38;5;241m.\u001b[39menqueue(\u001b[38;5;241m3\u001b[39m)\n",
      "\u001b[1;31mAttributeError\u001b[0m: 'Queue' object has no attribute 'enqueue'"
     ]
    }
   ],
   "source": [
    "my_queue.enqueue(1)\n",
    "my_queue.enqueue(2)\n",
    "my_queue.enqueue(3)"
   ]
  },
  {
   "cell_type": "markdown",
   "id": "24fceb9f-90b6-4348-bf25-59191761ce6f",
   "metadata": {},
   "source": [
    "<h4><b>v. This example creates a Queue object, enqueues three elements (1, 2, \n",
    "and 3), prints the queue, dequeues two elements, and checks if the \n",
    "queue is empty. The output should demonstrate the basic functionality of \n",
    "the queue.</h4></b>"
   ]
  },
  {
   "cell_type": "markdown",
   "id": "1c866f1a-5b87-46c2-9ff2-2c4c01d1199f",
   "metadata": {},
   "source": [
    "<h2 style=\"margin-left: 10px;text-decoration: underline;\"><i><b>2. DEQUE QUEUE:</b></i></h2>"
   ]
  },
  {
   "cell_type": "code",
   "execution_count": 234,
   "id": "b4cb6184-2f75-4f9c-ae79-e8c98853aea4",
   "metadata": {},
   "outputs": [],
   "source": [
    "from collections import deque\n",
    "\n",
    "class DequeQueue:\n",
    "    def __init__(self):\n",
    "        self.items = deque()\n",
    "\n",
    "    def is_empty(self):\n",
    "        return len(self.items) == 0\n",
    "\n",
    "    def enqueue(self, item):\n",
    "        self.items.append(item)\n",
    "\n",
    "    def dequeue(self):\n",
    "        if not self.is_empty():\n",
    "            return self.items.popleft()\n",
    "        else:\n",
    "            print(\"Queue is empty. Cannot dequeue.\")"
   ]
  },
  {
   "cell_type": "markdown",
   "id": "16461cd3-6867-4ff2-9b67-f9d99aa94b08",
   "metadata": {},
   "source": [
    "<h4><b>  i.</b> __init__(self): The constructor initializes a new instance of the \n",
    "DequeQueue class. It creates an empty deque (self.items) to store the \n",
    "elements of the queue.</h4>"
   ]
  },
  {
   "cell_type": "code",
   "execution_count": 237,
   "id": "d8c0a617-eb1f-4b94-baf2-0cf50ba3ac76",
   "metadata": {},
   "outputs": [],
   "source": [
    "def __init__(self):\n",
    "    self.items = deque()"
   ]
  },
  {
   "cell_type": "markdown",
   "id": "c8b19955-c4c6-4721-b367-f2b565d8b45b",
   "metadata": {},
   "source": [
    "<h4><b> ii.</b>  is_empty(self): This method returns True if the queue is empty (i.e., it \n",
    "has no elements), and False otherwise. It checks the length of the deque \n",
    "(self.items) to determine if the queue is empty.</h4>"
   ]
  },
  {
   "cell_type": "code",
   "execution_count": 240,
   "id": "13041ad6-1271-45ac-a2a7-ba26ff1b2c79",
   "metadata": {},
   "outputs": [],
   "source": [
    "def is_empty(self):\n",
    "    return len(self.items) == 0"
   ]
  },
  {
   "cell_type": "markdown",
   "id": "4f8408d4-4418-4865-a992-97da70d218c3",
   "metadata": {},
   "source": [
    "<h4><b> iii.</b>  enqueue(self, item): This method adds an item to the rear of the queue. \n",
    "It uses the append method of the deque to add the specified item to the \n",
    "end, effectively enqueueing it</h4>"
   ]
  },
  {
   "cell_type": "code",
   "execution_count": 243,
   "id": "81588894-80bd-4af9-9416-e7e28c772d06",
   "metadata": {},
   "outputs": [],
   "source": [
    "def enqueue(self, item):\n",
    "    self.items.append(item)"
   ]
  },
  {
   "cell_type": "markdown",
   "id": "04531e24-438b-4ae2-9484-c0874d9a79a8",
   "metadata": {},
   "source": [
    "<h4><b> iv. </b> dequeue(self): This method removes and returns the item from the front \n",
    "of the queue. It uses the popleft method of the deque to remove and \n",
    "return the leftmost element. Before attempting to dequeue, it checks if \n",
    "the queue is empty using the is_empty method to avoid errors.</h4>"
   ]
  },
  {
   "cell_type": "code",
   "execution_count": 246,
   "id": "7efab8e9-5fa7-4d3f-b043-f1d2e2182e39",
   "metadata": {},
   "outputs": [],
   "source": [
    "def dequeue(self):\n",
    "    if not self.is_empty():\n",
    "        return self.items.popleft()\n",
    "    else:\n",
    "        print(\"Queue is empty. Cannot dequeue.\")"
   ]
  },
  {
   "cell_type": "markdown",
   "id": "2a70d55a-40e9-4ba1-ac7b-5fa54a5b0910",
   "metadata": {},
   "source": [
    "<h4><b> v. </b> This creates a DequeQueue object, enqueues three elements, prints the \n",
    "queue, dequeues two elements, and checks if the queue is empty. The \n",
    "output should demonstrate the basic functionality of the deque-based \n",
    "queue.</h4>"
   ]
  },
  {
   "cell_type": "code",
   "execution_count": 249,
   "id": "af939582-bdca-41f3-b0bc-52be04a84692",
   "metadata": {},
   "outputs": [],
   "source": [
    "from collections import deque\n",
    "\n",
    "class DequeQueue:\n",
    "    def __init__(self):\n",
    "        self.items = deque()\n",
    "\n",
    "    def is_empty(self):\n",
    "        return len(self.items) == 0\n",
    "\n",
    "    def enqueue(self, item):\n",
    "        self.items.append(item)\n",
    "\n",
    "    def dequeue(self):\n",
    "        if not self.is_empty():\n",
    "            return self.items.popleft()\n",
    "        else:\n",
    "            print(\"Queue is empty. Cannot dequeue.\")"
   ]
  },
  {
   "cell_type": "code",
   "execution_count": 251,
   "id": "a8be30a1-9443-4227-8c63-d4799314373b",
   "metadata": {},
   "outputs": [],
   "source": [
    "my_queue = DequeQueue()"
   ]
  },
  {
   "cell_type": "code",
   "execution_count": 253,
   "id": "32eb1843-14cf-40b3-bfdb-54fefdd21aad",
   "metadata": {},
   "outputs": [],
   "source": [
    "# Enqueue elements\n",
    "my_queue.enqueue(1)\n",
    "my_queue.enqueue(2)\n",
    "my_queue.enqueue(3)"
   ]
  },
  {
   "cell_type": "code",
   "execution_count": 255,
   "id": "8e92ae89-a976-44f5-99eb-0859ec3b3cf1",
   "metadata": {},
   "outputs": [
    {
     "name": "stdout",
     "output_type": "stream",
     "text": [
      "Current Queue: [1, 2, 3]\n"
     ]
    }
   ],
   "source": [
    "# Print the queue (for demonstration purposes, not a standard queue method)\n",
    "print(\"Current Queue:\", list(my_queue.items)) "
   ]
  },
  {
   "cell_type": "code",
   "execution_count": 257,
   "id": "a634c76d-02f6-49e3-bd80-b1f8f82db5e4",
   "metadata": {},
   "outputs": [
    {
     "name": "stdout",
     "output_type": "stream",
     "text": [
      "Dequeued: 1\n",
      "Dequeued: 2\n"
     ]
    }
   ],
   "source": [
    "# Dequeue two elements\n",
    "print(\"Dequeued:\", my_queue.dequeue())\n",
    "print(\"Dequeued:\", my_queue.dequeue())"
   ]
  },
  {
   "cell_type": "code",
   "execution_count": 259,
   "id": "3339220a-d1a4-4a32-8bc6-6cda28a7cb2e",
   "metadata": {},
   "outputs": [
    {
     "name": "stdout",
     "output_type": "stream",
     "text": [
      "Is the queue empty? False\n"
     ]
    }
   ],
   "source": [
    "# Check if the queue is empty\n",
    "print(\"Is the queue empty?\", my_queue.is_empty())"
   ]
  },
  {
   "cell_type": "markdown",
   "id": "0debfec8-290f-4698-8c06-ad92cd06958f",
   "metadata": {},
   "source": [
    "<hr>"
   ]
  },
  {
   "cell_type": "markdown",
   "id": "a4f9748e-fc0c-4fe2-944c-961b01f38426",
   "metadata": {},
   "source": [
    "<h2 style=\"margin-left: 10px;text-decoration: underline;\"><i><b>3. NODE BASE QUEUE:</b></i></h2>"
   ]
  },
  {
   "cell_type": "code",
   "execution_count": 263,
   "id": "e63868e0-cf02-431b-bcc7-76a5dc15fa4c",
   "metadata": {},
   "outputs": [],
   "source": [
    "class Node:\n",
    "    def __init__(self, data=None):\n",
    "        self.data = data\n",
    "        self.next = None\n",
    "class NodeQueue:\n",
    "    def __init__(self):\n",
    "        self.front = None \n",
    "        self.rear = None   \n",
    "\n",
    "    def is_empty(self):\n",
    "        return self.front is None\n",
    "    def enqueue(self, data):\n",
    "        new_node = Node(data)\n",
    "        if self.rear is None:\n",
    "            self.front = new_node\n",
    "            self.rear = new_node\n",
    "        else: \n",
    "            self.rear.next = new_node\n",
    "            self.rear = new_node\n",
    "    def dequeue(self):\n",
    "        if self.is_empty():\n",
    "            print(\"Queue is empty. Cannot dequeue.\")\n",
    "            return None\n",
    "\n",
    "        else:  \n",
    "            removed_data = self.front.data\n",
    "            self.front = self.front.next\n",
    "            if self.front is None:\n",
    "                self.rear = None\n",
    "\n",
    "            return removed_data"
   ]
  },
  {
   "cell_type": "markdown",
   "id": "b678c9b1-516e-48e4-a18c-5fa77b550d9e",
   "metadata": {},
   "source": [
    "<h4><b> i. </b>  Node class: This class represents a node in the queue. Each node \n",
    "contains data and a reference to the next node in the queue.</h4>"
   ]
  },
  {
   "cell_type": "code",
   "execution_count": 266,
   "id": "e99e96ef-6a90-4d8f-9919-212f17fee043",
   "metadata": {},
   "outputs": [],
   "source": [
    "class Node:\n",
    "    def __init__(self, data=None):\n",
    "        self.data = data\n",
    "        self.next = None"
   ]
  },
  {
   "cell_type": "markdown",
   "id": "f3504245-5744-477b-9456-ef720e77b867",
   "metadata": {},
   "source": [
    "<h4><b> ii. </b>  __init__(self): The constructor initializes a new instance of the \n",
    "NodeQueue class. It sets both the front and rear pointers to None\n",
    "because the queue is initially empty.</h4>"
   ]
  },
  {
   "cell_type": "code",
   "execution_count": 269,
   "id": "c6b9196e-0fc2-477f-b4c8-cd6c6bd03ba0",
   "metadata": {},
   "outputs": [],
   "source": [
    "class NodeQueue:\n",
    "    def __init__(self):\n",
    "        self.front = None\n",
    "        self.rear = None"
   ]
  },
  {
   "cell_type": "markdown",
   "id": "9c799204-ce77-4f0c-bcbf-abd4d79e5f76",
   "metadata": {},
   "source": [
    "<h4><b> iii. </b>  is_empty(self): This method returns True if the queue is empty (i.e., \n",
    "front is None), and False otherwise.</h4>"
   ]
  },
  {
   "cell_type": "code",
   "execution_count": 188,
   "id": "d25b7825-7438-4723-9455-9707537ab7f7",
   "metadata": {},
   "outputs": [],
   "source": [
    "def is_empty(self):\n",
    "  return self.front is None"
   ]
  },
  {
   "cell_type": "markdown",
   "id": "14272a33-030d-4e13-88cc-c5bd39b6a960",
   "metadata": {},
   "source": [
    "<h4><b> iv. </b> enqueue(self, data): This method adds a new node with the given \n",
    "data to the rear of the queue. If the queue is empty, both the front and \n",
    "rear pointers are set to the new node.</h4>"
   ]
  },
  {
   "cell_type": "code",
   "execution_count": 191,
   "id": "a9800be1-d4e2-4fcb-938e-1d3d4b961bf5",
   "metadata": {},
   "outputs": [],
   "source": [
    "def enqueue(self, data):\n",
    "    new_node = Node(data)\n",
    "    if self.rear is None:\n",
    "        self.front = self.rear = new_node\n",
    "    else:\n",
    "        self.rear.next = new_node\n",
    "        self.rear = new_node"
   ]
  },
  {
   "cell_type": "markdown",
   "id": "3ca7e09d-a5ee-4408-97b1-c96a1a5e4129",
   "metadata": {},
   "source": [
    "<h4><b> v. </b> dequeue(self): This method removes and returns the data from the \n",
    "front of the queue. If the queue becomes empty after dequeue, the \n",
    "rear pointer is also updated to None.</h4>"
   ]
  },
  {
   "cell_type": "code",
   "execution_count": 193,
   "id": "faf05cae-1ba7-44f9-b503-f6cbf7f42363",
   "metadata": {},
   "outputs": [],
   "source": [
    "def dequeue(self):\n",
    "    if self.is_empty():\n",
    "        print(\"Queue is empty. Cannot dequeue.\")\n",
    "        return None\n",
    "    else:\n",
    "        removed_data = self.front.data\n",
    "        self.front = self.front.next\n",
    "        if self.front is None:\n",
    "            self.rear = None\n",
    "        return removed_data"
   ]
  },
  {
   "cell_type": "markdown",
   "id": "5f4f005d-c9cb-4ad7-b338-dd70b2dbd349",
   "metadata": {},
   "source": [
    "<h4><b> vi. </b>  This creates a NodeQueue object, enqueues three elements, prints \n",
    "the queue, dequeues two elements, and checks if the queue is empty. \n",
    "The output should demonstrate the basic functionality of the node\u0002based queue.</h4>"
   ]
  },
  {
   "cell_type": "code",
   "execution_count": 196,
   "id": "8e57235d-e302-415d-b674-bd1631826adc",
   "metadata": {},
   "outputs": [
    {
     "ename": "AttributeError",
     "evalue": "'NodeQueue' object has no attribute 'enqueue'",
     "output_type": "error",
     "traceback": [
      "\u001b[1;31m---------------------------------------------------------------------------\u001b[0m",
      "\u001b[1;31mAttributeError\u001b[0m                            Traceback (most recent call last)",
      "Cell \u001b[1;32mIn[196], line 4\u001b[0m\n\u001b[0;32m      1\u001b[0m \u001b[38;5;66;03m# Example usage:\u001b[39;00m\n\u001b[0;32m      2\u001b[0m my_node_queue \u001b[38;5;241m=\u001b[39m NodeQueue()\n\u001b[1;32m----> 4\u001b[0m my_node_queue\u001b[38;5;241m.\u001b[39menqueue(\u001b[38;5;241m1\u001b[39m)\n\u001b[0;32m      5\u001b[0m my_node_queue\u001b[38;5;241m.\u001b[39menqueue(\u001b[38;5;241m2\u001b[39m)\n\u001b[0;32m      6\u001b[0m my_node_queue\u001b[38;5;241m.\u001b[39menqueue(\u001b[38;5;241m3\u001b[39m)\n",
      "\u001b[1;31mAttributeError\u001b[0m: 'NodeQueue' object has no attribute 'enqueue'"
     ]
    }
   ],
   "source": [
    "# Example usage:\n",
    "my_node_queue = NodeQueue()\n",
    "\n",
    "my_node_queue.enqueue(1)\n",
    "my_node_queue.enqueue(2)\n",
    "my_node_queue.enqueue(3)\n",
    "\n",
    "print(\"Dequeue:\", my_node_queue.dequeue())\n",
    "print(\"Dequeue:\", my_node_queue.dequeue())\n",
    "\n",
    "print(\"Is the queue empty?\", my_node_queue.is_empty())"
   ]
  },
  {
   "cell_type": "code",
   "execution_count": 198,
   "id": "4cdc2f1c-a74e-4d34-8e98-0310c360d304",
   "metadata": {},
   "outputs": [
    {
     "ename": "AttributeError",
     "evalue": "'NodeQueue' object has no attribute 'enqueue'",
     "output_type": "error",
     "traceback": [
      "\u001b[1;31m---------------------------------------------------------------------------\u001b[0m",
      "\u001b[1;31mAttributeError\u001b[0m                            Traceback (most recent call last)",
      "Cell \u001b[1;32mIn[198], line 1\u001b[0m\n\u001b[1;32m----> 1\u001b[0m my_node_queue\u001b[38;5;241m.\u001b[39menqueue(\u001b[38;5;241m1\u001b[39m)\n\u001b[0;32m      2\u001b[0m my_node_queue\u001b[38;5;241m.\u001b[39menqueue(\u001b[38;5;241m2\u001b[39m)\n\u001b[0;32m      3\u001b[0m my_node_queue\u001b[38;5;241m.\u001b[39menqueue(\u001b[38;5;241m3\u001b[39m)\n",
      "\u001b[1;31mAttributeError\u001b[0m: 'NodeQueue' object has no attribute 'enqueue'"
     ]
    }
   ],
   "source": [
    "my_node_queue.enqueue(1)\n",
    "my_node_queue.enqueue(2)\n",
    "my_node_queue.enqueue(3)"
   ]
  },
  {
   "cell_type": "code",
   "execution_count": 200,
   "id": "ee953581-1332-4437-aed9-e659df44aa47",
   "metadata": {},
   "outputs": [
    {
     "ename": "AttributeError",
     "evalue": "'NodeQueue' object has no attribute 'dequeue'",
     "output_type": "error",
     "traceback": [
      "\u001b[1;31m---------------------------------------------------------------------------\u001b[0m",
      "\u001b[1;31mAttributeError\u001b[0m                            Traceback (most recent call last)",
      "Cell \u001b[1;32mIn[200], line 1\u001b[0m\n\u001b[1;32m----> 1\u001b[0m \u001b[38;5;28mprint\u001b[39m(\u001b[38;5;124m\"\u001b[39m\u001b[38;5;124mDequeue:\u001b[39m\u001b[38;5;124m\"\u001b[39m, my_node_queue\u001b[38;5;241m.\u001b[39mdequeue())\n\u001b[0;32m      2\u001b[0m \u001b[38;5;28mprint\u001b[39m(\u001b[38;5;124m\"\u001b[39m\u001b[38;5;124mDequeue:\u001b[39m\u001b[38;5;124m\"\u001b[39m, my_node_queue\u001b[38;5;241m.\u001b[39mdequeue())\n\u001b[0;32m      4\u001b[0m \u001b[38;5;28mprint\u001b[39m(\u001b[38;5;124m\"\u001b[39m\u001b[38;5;124mIs the queue empty?\u001b[39m\u001b[38;5;124m\"\u001b[39m, my_node_queue\u001b[38;5;241m.\u001b[39mis_empty())\n",
      "\u001b[1;31mAttributeError\u001b[0m: 'NodeQueue' object has no attribute 'dequeue'"
     ]
    }
   ],
   "source": [
    "print(\"Dequeue:\", my_node_queue.dequeue())\n",
    "print(\"Dequeue:\", my_node_queue.dequeue())\n",
    "\n",
    "print(\"Is the queue empty?\", my_node_queue.is_empty())"
   ]
  },
  {
   "cell_type": "markdown",
   "id": "2493ac03-1f6d-4c12-8bb6-d77f94a4e243",
   "metadata": {},
   "source": [
    "<hr>"
   ]
  }
 ],
 "metadata": {
  "kernelspec": {
   "display_name": "Python 3 (ipykernel)",
   "language": "python",
   "name": "python3"
  },
  "language_info": {
   "codemirror_mode": {
    "name": "ipython",
    "version": 3
   },
   "file_extension": ".py",
   "mimetype": "text/x-python",
   "name": "python",
   "nbconvert_exporter": "python",
   "pygments_lexer": "ipython3",
   "version": "3.12.4"
  }
 },
 "nbformat": 4,
 "nbformat_minor": 5
}
