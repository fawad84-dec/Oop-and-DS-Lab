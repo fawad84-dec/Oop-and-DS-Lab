{
 "cells": [
  {
   "cell_type": "markdown",
   "id": "c5a0ac46-e12c-4e10-90e2-a9dd2182870b",
   "metadata": {},
   "source": [
    "# **Name Fawad khan**\n",
    "# **Reg No 0544**\n"
   ]
  },
  {
   "cell_type": "markdown",
   "id": "c7d9c1f8-6e2f-464a-87ea-ae6bc84dd655",
   "metadata": {},
   "source": [
    "# Lab Report \n",
    "\n",
    "## Task 1: Convert Labs 7, 8, and 9 into Modules, Package them with Name `inheritance`, and Revise the Corresponding Tasks.\n",
    "\n",
    "### Introduction\n",
    "\n",
    "In this task, we are asked to convert Labs 7, 8, and 9 into Python modules, and then organize them into a package named `inheritance`. After converting them into modules, we will revise the tasks to include the functionality and structure of the newly created modules and package.\n",
    "\n",
    "### Steps to Convert Labs into Modules\n",
    "\n",
    "1. **Create a new directory** to store the package:\n",
    "   - The name of the directory will be `inheritance`.\n",
    "\n",
    "2. **Convert Lab 7, 8, and 9 scripts** into separate Python modules:\n",
    "   - Each lab will be a module in the `inheritance` package.\n",
    "   - You will need to create `.py` files for each lab task.\n",
    "\n",
    "3. **Organize the modules inside the `inheritance` package**:\n",
    "   - The directory `inheritance` will contain the Python modules that correspond to each lab.\n",
    "\n",
    "4. **Revised Tasks with the New Structure**:\n",
    "   - After creating the modules and packaging them, revise the tasks to import and use the modules as required.\n",
    "\n",
    "### Directory Structure\n",
    "```plaintext\n",
    "inheritance/\n",
    "│\n",
    "├── __init__.py\n",
    "├── lab7.py\n",
    "├── lab8.py\n",
    "├── lab9.py"
   ]
  },
  {
   "cell_type": "code",
   "execution_count": 1,
   "id": "9ee235b8-d668-4c3e-b773-aa07df7dcfa6",
   "metadata": {},
   "outputs": [],
   "source": [
    "import os"
   ]
  },
  {
   "cell_type": "code",
   "execution_count": 2,
   "id": "d2d821cf-8b79-4f25-9325-c5e001c97bbc",
   "metadata": {},
   "outputs": [
    {
     "data": {
      "text/plain": [
       "'C:\\\\Users\\\\Computer Zone\\\\OneDrive\\\\OOP lab\\\\INHERITANCE\\\\Package'"
      ]
     },
     "execution_count": 2,
     "metadata": {},
     "output_type": "execute_result"
    }
   ],
   "source": [
    "os.getcwd()"
   ]
  },
  {
   "cell_type": "code",
   "execution_count": 12,
   "id": "4b4a0dd6-5a22-4c70-be76-e6dc71cc99be",
   "metadata": {},
   "outputs": [],
   "source": [
    "from Lab7 import Cube, Point3D, Rectangle, Square"
   ]
  },
  {
   "cell_type": "code",
   "execution_count": 13,
   "id": "5a095a78-1b30-4409-b36f-b7d961b367cf",
   "metadata": {},
   "outputs": [
    {
     "data": {
      "text/plain": [
       "24"
      ]
     },
     "execution_count": 13,
     "metadata": {},
     "output_type": "execute_result"
    }
   ],
   "source": [
    "cube1 = Cube(2)\n",
    "cube1.volume()\n",
    "cube1.surface_area()"
   ]
  },
  {
   "cell_type": "code",
   "execution_count": 14,
   "id": "b171d96b-c084-4666-9d2d-0aae0fb4d11e",
   "metadata": {},
   "outputs": [
    {
     "name": "stdout",
     "output_type": "stream",
     "text": [
      "Point1: Point3D (3, 4, 5), Distance from origin: 7.0710678118654755\n",
      "Point2: Point3D (6, 8, 10), Distance from origin: 14.142135623730951\n",
      "Distance between Point1 and Point2: 7.0710678118654755\n"
     ]
    }
   ],
   "source": [
    "point1 = Point3D(3, 4, 5)\n",
    "point2 = Point3D(6, 8, 10)\n",
    "print(f\"Point1: {point1}, Distance from origin: {point1.distance_from_origin()}\")\n",
    "print(f\"Point2: {point2}, Distance from origin: {point2.distance_from_origin()}\")\n",
    "print(f\"Distance between Point1 and Point2: {point1.distance_to(point2)}\")"
   ]
  },
  {
   "cell_type": "code",
   "execution_count": 15,
   "id": "466d1c5e-7629-45f4-b0e1-1a556dc665a7",
   "metadata": {},
   "outputs": [
    {
     "name": "stdout",
     "output_type": "stream",
     "text": [
      "Rectangle 1: Rectangle(width=4, height=6), Area: 24, Perimeter: 20\n",
      "Rectangle 2: Rectangle(width=3, height=8), Area: 24, Perimeter: 22\n",
      "Square: Square(side=5), Area: 25, Perimeter: 20\n"
     ]
    }
   ],
   "source": [
    "rect1 = Rectangle(4, 6)\n",
    "rect2 = Rectangle(3, 8)\n",
    "print(f\"Rectangle 1: {rect1}, Area: {rect1.area}, Perimeter: {rect1.perimeter}\")\n",
    "print(f\"Rectangle 2: {rect2}, Area: {rect2.area}, Perimeter: {rect2.perimeter}\")\n",
    "\n",
    "square = Square(5)\n",
    "print(f\"Square: {square}, Area: {square.area}, Perimeter: {square.perimeter}\")"
   ]
  },
  {
   "cell_type": "code",
   "execution_count": 16,
   "id": "2e185f3a-4bb4-434a-813f-41a469d22c0c",
   "metadata": {},
   "outputs": [],
   "source": [
    "from Lab7 import Payroll_system, Salary_employee, Hourly_employee, Commission_employee"
   ]
  },
  {
   "cell_type": "code",
   "execution_count": 17,
   "id": "14c91170-a0da-4623-88fa-b5013ca74bd6",
   "metadata": {},
   "outputs": [],
   "source": [
    "salary_employee = Salary_employee(528, \"Yahya Ahmad\", 1500)\n",
    "hourly_employee = Hourly_employee(529, \"Idrees\", 40, 25)\n",
    "commission_employee = Commission_employee(545, \"Abbas\", 1000, 250)"
   ]
  },
  {
   "cell_type": "code",
   "execution_count": 18,
   "id": "ec02f82c-e4f9-4d1c-9e0c-afe05a145c8f",
   "metadata": {},
   "outputs": [
    {
     "name": "stdout",
     "output_type": "stream",
     "text": [
      "Calculate Payroll\n",
      "===========================\n",
      "Payroll for: 528 - Yahya Ahmad\n",
      "- Check amount: 1500\n",
      "\n",
      "Payroll for: 529 - Idrees\n",
      "- Check amount: 1000\n",
      "\n",
      "Payroll for: 545 - Abbas\n",
      "- Check amount: 1250\n",
      "\n"
     ]
    }
   ],
   "source": [
    "payroll_system = Payroll_system()\n",
    "employees = [salary_employee, hourly_employee, commission_employee]\n",
    "payroll_system.calculate_payroll(employees)"
   ]
  },
  {
   "cell_type": "code",
   "execution_count": 21,
   "id": "1e47a590-5365-4c79-ba07-8674874450cf",
   "metadata": {},
   "outputs": [],
   "source": [
    "from Lab7 import ElectricalAdminStaff, ElectricalInstructor"
   ]
  },
  {
   "cell_type": "code",
   "execution_count": 22,
   "id": "61133144-7969-4aa6-ad44-dd1b6f0fbda4",
   "metadata": {},
   "outputs": [
    {
     "name": "stdout",
     "output_type": "stream",
     "text": [
      "Admin Staff Details:\n",
      "Name: Muhammad Idrees\n",
      "Email: muhammadidrees@uet.edu.pk\n",
      "Pay: Rs4000.00\n",
      "Department: Electrical Department\n",
      "Team: Team A\n",
      "Tasks Assigned: Manage Electrical Maintenance, Prepare Electrical Reports\n",
      "\n",
      "Instructor Details:\n",
      "Name: Yahya Ahmad\n",
      "Email: yahyaahmad@uet.edu.pk\n",
      "Pay: Rs5000.00\n",
      "Department: Electrical Department\n",
      "Designation: Senior Instructor\n",
      "Courses Assigned: Basic Electrical Engineering, Advanced Circuit Analysis\n"
     ]
    }
   ],
   "source": [
    "admin_staff = ElectricalAdminStaff(\"Muhammad\", \"Idrees\", 4000, \"Team A\")\n",
    "admin_staff.assignTask(\"Manage Electrical Maintenance\")\n",
    "admin_staff.assignTask(\"Prepare Electrical Reports\")\n",
    "\n",
    "instructor = ElectricalInstructor(\"Yahya\", \"Ahmad\", 5000, \"Senior Instructor\")\n",
    "instructor.assignCourse(\"Basic Electrical Engineering\")\n",
    "instructor.assignCourse(\"Advanced Circuit Analysis\")\n",
    "\n",
    "print(\"Admin Staff Details:\")\n",
    "print(admin_staff)\n",
    "\n",
    "print(\"\\nInstructor Details:\")\n",
    "print(instructor)"
   ]
  },
  {
   "cell_type": "code",
   "execution_count": 25,
   "id": "364c078e-446c-4e24-8be0-fe718f9f4439",
   "metadata": {},
   "outputs": [],
   "source": [
    "from Lab8 import Cube"
   ]
  },
  {
   "cell_type": "code",
   "execution_count": 26,
   "id": "5e961e6c-a7f1-46a3-b7bd-fb5597a18991",
   "metadata": {},
   "outputs": [
    {
     "name": "stdout",
     "output_type": "stream",
     "text": [
      "Cube 1 Details:\n",
      "Cube [Side: 3, Surface Area: 54, Volume: 27]\n",
      "\n",
      "Cube 2 Details:\n",
      "Cube [Side: 5, Surface Area: 150, Volume: 125]\n"
     ]
    }
   ],
   "source": [
    "cube1 = Cube(3)\n",
    "cube2 = Cube(5)\n",
    "\n",
    "print(\"Cube 1 Details:\")\n",
    "print(cube1)\n",
    "print(\"\\nCube 2 Details:\")\n",
    "print(cube2)"
   ]
  },
  {
   "cell_type": "code",
   "execution_count": 27,
   "id": "0feaa2dd-823b-43f6-87d7-a55e1bdcf6b5",
   "metadata": {},
   "outputs": [],
   "source": [
    "from Lab8 import Manager_role, Secretary_role, SalesPerson_role, FactoryWorker_role"
   ]
  },
  {
   "cell_type": "code",
   "execution_count": 29,
   "id": "dded6378-6d19-43f6-aa0d-6e1959a2e77e",
   "metadata": {},
   "outputs": [],
   "source": [
    "Manager = Manager_role(528, 'Yahya Ahmad', 3000)\n",
    "Secretary = Secretary_role(527, 'Assadullah', 1500)\n",
    "SalesPerson = SalesPerson_role(529, 'Muhammad Idrees', 23, 40)\n",
    "FactoryWorker = FactoryWorker_role(545, 'Abbas Mabood', 34, 55)"
   ]
  },
  {
   "cell_type": "code",
   "execution_count": null,
   "id": "73dda40c-3715-4419-a371-dc370ca93250",
   "metadata": {},
   "outputs": [],
   "source": [
    "from Lab8 import Productivity_system"
   ]
  },
  {
   "cell_type": "code",
   "execution_count": null,
   "id": "7b287902-ce63-45b2-88f7-e62286aac7c5",
   "metadata": {},
   "outputs": [],
   "source": [
    "employees = [Manager, Secretary, SalesPerson, FactoryWorker]\n",
    "\n",
    "productivity_system = Productivity_system()\n",
    "\n",
    "productivity_system.Track(employees, 44)"
   ]
  },
  {
   "cell_type": "code",
   "execution_count": null,
   "id": "5d209f38-91f7-4397-a7de-b10bb8f1786f",
   "metadata": {},
   "outputs": [],
   "source": [
    "from Lab9 import TemporarySecretary"
   ]
  },
  {
   "cell_type": "code",
   "execution_count": 38,
   "id": "41a0c88b-448e-4452-9135-f90c135790f1",
   "metadata": {},
   "outputs": [
    {
     "name": "stdout",
     "output_type": "stream",
     "text": [
      "Productivity System Tracking\n",
      "-----------------------------\n",
      "Robin Williams efficiently organizes and manages documents for 40 hours.\n",
      "\n",
      "Calculate Payroll\n",
      "===========================\n",
      "Payroll for: 5 - Robin Williams\n",
      "- Check amount: 360\n",
      "\n"
     ]
    }
   ],
   "source": [
    "temporary_secretary = TemporarySecretary(5, \"Robin Williams\", 40, 9)\n",
    "company_employees = [temporary_secretary]\n",
    "productivity_system = Productivity_system()\n",
    "productivity_system.Track(company_employees, 40)\n",
    "payroll_system = Payroll_system()\n",
    "payroll_system.calculate_payroll(company_employees)\n"
   ]
  },
  {
   "cell_type": "markdown",
   "id": "bd39d18f-376d-45c2-a0a5-4c97f6e2ae62",
   "metadata": {},
   "source": [
    "# Task: Convert Geometry Classes to Modules and Create a Package\n",
    "\n",
    "## Steps to Follow:\n",
    "\n",
    "1. **Convert Geometry Classes to Modules**  \n",
    "   Take the Geometry classes covered in lab 6 and refactor them into individual Python modules.\n",
    "\n",
    "2. **Create a Package**  \n",
    "   Organize the converted modules into a package with the classes' names.\n",
    "\n",
    "3. **Repeat Corresponding Tasks**  \n",
    "   Revisit and perform the tasks previously associated with these classes using the newly created package.\n"
   ]
  },
  {
   "cell_type": "code",
   "execution_count": null,
   "id": "485c250c-f3f3-4243-b874-69d929f2b25c",
   "metadata": {},
   "outputs": [],
   "source": []
  }
 ],
 "metadata": {
  "kernelspec": {
   "display_name": "Python 3 (ipykernel)",
   "language": "python",
   "name": "python3"
  },
  "language_info": {
   "codemirror_mode": {
    "name": "ipython",
    "version": 3
   },
   "file_extension": ".py",
   "mimetype": "text/x-python",
   "name": "python",
   "nbconvert_exporter": "python",
   "pygments_lexer": "ipython3",
   "version": "3.9.20"
  }
 },
 "nbformat": 4,
 "nbformat_minor": 5
}
