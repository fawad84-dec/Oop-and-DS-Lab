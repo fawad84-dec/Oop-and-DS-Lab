{
 "cells": [
  {
   "cell_type": "markdown",
   "id": "5ca1d669-169a-41ee-b84b-ef80c324dcee",
   "metadata": {},
   "source": [
    "<h1 style=\"margin-left: 10px; text-decoration: underline; text-decoration-style: double;\"><strong><i> Lab Task: </i></strong></h1>"
   ]
  },
  {
   "cell_type": "markdown",
   "id": "daf04e79-1b08-454c-90f2-a4a475622309",
   "metadata": {},
   "source": [
    "<p style=\"margin-left: 10px;text-decoration: underline;\"><strong> Name </strong>: Fawad khan </p>\n",
    "<p style=\"margin-left: 10px;text-decoration: underline;\"><strong> Reg No </strong>: 23jzele0544 <p>\n",
    "<p style=\"margin-left: 10px;text-decoration: underline;\"><strong> Lab Practice </strong>: <strong> 11 </strong> <p>"
   ]
  },
  {
   "cell_type": "markdown",
   "id": "4c4c3579-9b36-430f-b8c0-3a254837ceed",
   "metadata": {},
   "source": [
    "<hr>"
   ]
  },
  {
   "cell_type": "markdown",
   "id": "4a644308-8079-464b-bd9d-7b61137f79b0",
   "metadata": {},
   "source": [
    "<h1 style=\"margin-left: 29px;text-decoration: underline;text-decoration-style: double;\"><i><b>Lab Title :</b></i></h1>"
   ]
  },
  {
   "cell_type": "markdown",
   "id": "4a756ef7-a061-40c3-bd86-e83b65b5960d",
   "metadata": {},
   "source": [
    "<h2 style=\"margin-left: 129px;text-decoration: underline;text-decoration-style: double;\"><i><b>\"STACK ALGORITHM\"\n",
    "</b></i></h2>"
   ]
  },
  {
   "cell_type": "markdown",
   "id": "d63161db-3141-4b68-8993-490f78f360c9",
   "metadata": {},
   "source": [
    "<h1 style=\"margin-left: 19px;text-decoration: underline;\"><i><b>AIM:</b></i></h1>"
   ]
  },
  {
   "cell_type": "markdown",
   "id": "12460746-9909-446a-bc2c-f29020758802",
   "metadata": {},
   "source": [
    "<h4 style=\"margin-left: 10px;\"><i><b> To understand the concepts of Stack data structure in Python.</b></i></h4>"
   ]
  },
  {
   "cell_type": "markdown",
   "id": "13745062-ffde-4cf4-8987-90d0c2fc40a4",
   "metadata": {},
   "source": [
    "<h1 style=\"margin-left: 19px;text-decoration: underline;\"><i><b>INTRODUCTION:</b></i></h1>"
   ]
  },
  {
   "cell_type": "markdown",
   "id": "aef8df14-21d6-46fb-9238-39a33e7302bd",
   "metadata": {},
   "source": [
    "<h4 style=\"margin-left: 10px;\"><i><b> A stack is a fundamental data structure that follows the Last In, First Out (LIFO) principle. \n",
    "This means the last element added to the stack is the first to be removed.</b></i></h4>"
   ]
  },
  {
   "cell_type": "markdown",
   "id": "258d0010-f8db-4209-a2bc-dad0e5a51e9d",
   "metadata": {},
   "source": [
    "<h1 style=\"margin-left: 19px;text-decoration: underline;\"><i><b>TYPES OF STACK:</b></i></h1>"
   ]
  },
  {
   "cell_type": "markdown",
   "id": "b1b2c23a-c011-444d-8359-e19a57d83536",
   "metadata": {},
   "source": [
    "<h4 style=\"margin-left: 10px;\"><i> i. List Stack<br>\n",
    "ii. Deque Stack<br>\n",
    "iii. Node base Stack.\n",
    "</i></h4>"
   ]
  },
  {
   "cell_type": "markdown",
   "id": "44f88168-47e9-4df5-a74b-edd753f5b33a",
   "metadata": {},
   "source": [
    "<hr>"
   ]
  },
  {
   "cell_type": "markdown",
   "id": "eb8f52f5-cd13-4de9-87f0-b0b66d65b9de",
   "metadata": {},
   "source": [
    "<h2 style=\"margin-left: 10px;text-decoration: underline;\"><i><b>Task : 1</b></b></i></h2>"
   ]
  },
  {
   "cell_type": "markdown",
   "id": "baa068b9-7160-4fa0-9dc2-21da9c1a5f10",
   "metadata": {},
   "source": [
    "<h4 style=\"margin-left: 10px;text-decoration: underline;\"><i><b> Make a node base implementation for Stack and pass different data types \n",
    "and push and pop different items and display the top item </b></i></h4>"
   ]
  },
  {
   "cell_type": "code",
   "execution_count": 124,
   "id": "4330ecbd-b867-4d3c-a354-e05e46facc66",
   "metadata": {},
   "outputs": [],
   "source": [
    "class Node:\n",
    "    def __init__(self, data):\n",
    "        self.data = data\n",
    "        self.next = None\n",
    "\n",
    "class NodeStack:\n",
    "    def __init__(self):\n",
    "        self.top = None\n",
    "\n",
    "    def is_empty(self):\n",
    "        return self.top is None\n",
    "\n",
    "    def push(self, item):\n",
    "        new_node = Node(item)\n",
    "        new_node.next = self.top\n",
    "        self.top = new_node\n",
    "\n",
    "    def pop(self):\n",
    "        if not self.is_empty():\n",
    "            popped_item = self.top.data\n",
    "            self.top = self.top.next\n",
    "            return popped_item\n",
    "        else:\n",
    "            print(\"Stack is empty\")"
   ]
  },
  {
   "cell_type": "code",
   "execution_count": 126,
   "id": "e53bd04f-f143-4e0b-95a9-12264d6e1cad",
   "metadata": {},
   "outputs": [],
   "source": [
    "stack = NodeStack()"
   ]
  },
  {
   "cell_type": "code",
   "execution_count": 128,
   "id": "0c7f6390-7143-45c2-b444-8af6be946faf",
   "metadata": {},
   "outputs": [],
   "source": [
    "stack.push(10)"
   ]
  },
  {
   "cell_type": "code",
   "execution_count": 130,
   "id": "1459fa5e-226b-493e-951a-9b502339001d",
   "metadata": {},
   "outputs": [],
   "source": [
    "stack.push(3.14)"
   ]
  },
  {
   "cell_type": "code",
   "execution_count": 132,
   "id": "bfa2396f-b683-4949-a0d6-37967299b1cd",
   "metadata": {},
   "outputs": [],
   "source": [
    "stack.push(\"Hello\")  "
   ]
  },
  {
   "cell_type": "code",
   "execution_count": 134,
   "id": "1da3b411-99fb-470c-a61e-7d7f2ab88989",
   "metadata": {},
   "outputs": [],
   "source": [
    "stack.push(True) "
   ]
  },
  {
   "cell_type": "code",
   "execution_count": 136,
   "id": "e75aa48c-c8c1-42b6-b336-66d0f27d84a1",
   "metadata": {},
   "outputs": [
    {
     "name": "stdout",
     "output_type": "stream",
     "text": [
      "Popped: True\n"
     ]
    }
   ],
   "source": [
    "print(\"Popped:\", stack.pop()) "
   ]
  },
  {
   "cell_type": "code",
   "execution_count": 138,
   "id": "48143fd0-ef52-4dec-a188-dff3c94c3ec4",
   "metadata": {},
   "outputs": [
    {
     "name": "stdout",
     "output_type": "stream",
     "text": [
      "Popped: Hello\n"
     ]
    }
   ],
   "source": [
    "print(\"Popped:\", stack.pop())  "
   ]
  },
  {
   "cell_type": "code",
   "execution_count": 140,
   "id": "37664a7a-734c-4768-8551-6966d99d0605",
   "metadata": {},
   "outputs": [
    {
     "name": "stdout",
     "output_type": "stream",
     "text": [
      "Popped: 3.14\n"
     ]
    }
   ],
   "source": [
    "print(\"Popped:\", stack.pop())  "
   ]
  },
  {
   "cell_type": "code",
   "execution_count": 142,
   "id": "1da2deb0-3ecf-4d92-a037-b19b66717add",
   "metadata": {},
   "outputs": [
    {
     "name": "stdout",
     "output_type": "stream",
     "text": [
      "Top item: 10\n"
     ]
    }
   ],
   "source": [
    "print(\"Top item:\", stack.top.data)"
   ]
  },
  {
   "cell_type": "markdown",
   "id": "5b69532e-1828-44a7-bd28-31cc8bdc59c6",
   "metadata": {},
   "source": [
    "<hr>"
   ]
  },
  {
   "cell_type": "markdown",
   "id": "f431b892-be07-40c4-9af0-5b7fe1cf7465",
   "metadata": {},
   "source": [
    "<h1 style=\"margin-left: 19px;text-decoration: underline;\"><i><b>IMPLEMENTATION OF STACKS IN PYTHON:</b></i></h1>"
   ]
  },
  {
   "cell_type": "markdown",
   "id": "4fc0fb4a-1353-4997-b182-9adfc4f78ba9",
   "metadata": {},
   "source": [
    "<h2 style=\"margin-left: 10px;text-decoration: underline;\"><i><b>1. List Stack </b></b></i></h2>"
   ]
  },
  {
   "cell_type": "code",
   "execution_count": 147,
   "id": "47e0fea3-89fc-475d-b09a-f51530935dec",
   "metadata": {},
   "outputs": [],
   "source": [
    "class StackList:\n",
    "    def __init__(self):\n",
    "        self.items = []\n",
    "\n",
    "    def is_empty(self):\n",
    "        return len(self.items) == 0\n",
    "\n",
    "    def push(self, item):\n",
    "        self.items.append(item)\n",
    "\n",
    "    def pop(self):\n",
    "        if not self.is_empty():\n",
    "            return self.items.pop()\n",
    "        else:\n",
    "            print(\"Stack is empty\")\n",
    "\n",
    "    def peek(self):\n",
    "        if not self.is_empty():\n",
    "            return self.items[-1]\n",
    "        else:\n",
    "            print(\"Stack is empty\")\n",
    "\n",
    "    def size(self):\n",
    "        return len(self.items)"
   ]
  },
  {
   "cell_type": "markdown",
   "id": "78f4c716-7b6c-4039-8522-e23a3ad20b5d",
   "metadata": {},
   "source": [
    "<h2 style=\"margin-left: 10px;text-decoration: underline;\"><i><b>a.Creating Data types in Deque Stack Implementation</b></b></i></h2>"
   ]
  },
  {
   "cell_type": "code",
   "execution_count": 150,
   "id": "89df6a32-ce36-4469-9a26-d1f1b1adc401",
   "metadata": {},
   "outputs": [],
   "source": [
    "stack_list = StackList()"
   ]
  },
  {
   "cell_type": "markdown",
   "id": "9cc823dc-3d21-46da-b485-22f04baa0ae9",
   "metadata": {},
   "source": [
    "<h2 style=\"margin-left: 10px;text-decoration: underline;\"><i><b> In this implementation:</b></b></i></h2>"
   ]
  },
  {
   "cell_type": "code",
   "execution_count": 153,
   "id": "56350f36-6c1e-47b9-9993-20596e7fc8af",
   "metadata": {},
   "outputs": [],
   "source": [
    "class StackList:\n",
    "    def __init__(self):\n",
    "        self.items = []\n",
    "\n",
    "    def is_empty(self):\n",
    "        return len(self.items) == 0\n",
    "\n",
    "    def push(self, item):\n",
    "        self.items.append(item)\n",
    "\n",
    "    def pop(self):\n",
    "        if not self.is_empty():\n",
    "            return self.items.pop()\n",
    "        else:\n",
    "            print(\"Stack is empty\")\n",
    "\n",
    "    def peek(self):\n",
    "        if not self.is_empty():\n",
    "            return self.items[-1]\n",
    "        else:\n",
    "            print(\"Stack is empty\")\n",
    "\n",
    "    def size(self):\n",
    "        return len(self.items)"
   ]
  },
  {
   "cell_type": "code",
   "execution_count": 155,
   "id": "f9c03025-5f1a-4eef-a8b9-c1111567648f",
   "metadata": {},
   "outputs": [],
   "source": [
    "stack = StackList()"
   ]
  },
  {
   "cell_type": "markdown",
   "id": "b4ce8406-4052-4f48-acb2-be88347fc766",
   "metadata": {},
   "source": [
    "<h2 style=\"margin-left: 10px;text-decoration: underline;\"><i><b> The __init__ method initializes an empty list to store the stack \n",
    "elements.<br>is_empty() checks if the stack is empty.<br>push(item) adds an item to the top of the stack using the append()\n",
    "method.</b></i></h2>"
   ]
  },
  {
   "cell_type": "code",
   "execution_count": 158,
   "id": "0f856ad3-0b69-406a-9912-e593dad3439e",
   "metadata": {},
   "outputs": [],
   "source": [
    "stack.push(1)\n",
    "stack.push(2)\n",
    "stack.push(3)"
   ]
  },
  {
   "cell_type": "markdown",
   "id": "cf823735-7d37-47f7-a51c-c5fc579b7293",
   "metadata": {},
   "source": [
    "<h2 style=\"margin-left: 10px;text-decoration: underline;\"><i><b>pop() removes and returns the item from the top of the stack using \n",
    "the pop() method.</b></i></h2>"
   ]
  },
  {
   "cell_type": "code",
   "execution_count": 161,
   "id": "c3ec1e72-3125-462c-9611-812807b982fd",
   "metadata": {},
   "outputs": [
    {
     "name": "stdout",
     "output_type": "stream",
     "text": [
      "pop: 3\n"
     ]
    }
   ],
   "source": [
    "print(\"pop:\", stack.pop())"
   ]
  },
  {
   "cell_type": "markdown",
   "id": "d11a1260-dfdf-4d09-8e51-a49d8f255cca",
   "metadata": {},
   "source": [
    "<h2 style=\"margin-left: 10px;text-decoration: underline;\"><i><b> peek() returns the item from the top of the stack without removing \n",
    "it.</b></i></h2>"
   ]
  },
  {
   "cell_type": "code",
   "execution_count": 164,
   "id": "7e34069e-229c-47f1-b52c-effdf2fa7721",
   "metadata": {},
   "outputs": [
    {
     "name": "stdout",
     "output_type": "stream",
     "text": [
      "Peek: 2\n"
     ]
    }
   ],
   "source": [
    "print(\"Peek:\", stack.peek())"
   ]
  },
  {
   "cell_type": "markdown",
   "id": "28bc6999-d3f1-4181-80f8-0af87a475a4f",
   "metadata": {},
   "source": [
    "<h2 style=\"margin-left: 10px;text-decoration: underline;\"><i><b> size() returns the number of elements in the stack.</b></i></h2>"
   ]
  },
  {
   "cell_type": "code",
   "execution_count": 167,
   "id": "ebc14bc8-8669-4954-aca4-5886dfb4e8eb",
   "metadata": {},
   "outputs": [
    {
     "name": "stdout",
     "output_type": "stream",
     "text": [
      "Stack size: 2\n"
     ]
    }
   ],
   "source": [
    "print(\"Stack size:\",stack.size())"
   ]
  },
  {
   "cell_type": "code",
   "execution_count": null,
   "id": "622fde7a-8e0c-49a3-953b-86cbb4ad98de",
   "metadata": {},
   "outputs": [],
   "source": []
  },
  {
   "cell_type": "markdown",
   "id": "632f38ba-f904-4218-84fd-42954a4b9537",
   "metadata": {},
   "source": [
    "<h2 style=\"margin-left: 10px;text-decoration: underline;\"><i><b> 1. Deque Implementation:</b></i></h2>"
   ]
  },
  {
   "cell_type": "markdown",
   "id": "2210f676-89a3-4b76-8fa7-7b2ce5d55b00",
   "metadata": {},
   "source": [
    "<h4 style=\"margin-left: 10px;\"><i> i. A deque (double-ended queue) is a versatile data structure that allows \n",
    "efficient insertion and deletion operations at both ends. In Python, you \n",
    "can implement a deque using the collections.deque class</i></h4>"
   ]
  },
  {
   "cell_type": "code",
   "execution_count": 172,
   "id": "d65108c5-e57d-4d7b-86ec-9b1735e32751",
   "metadata": {},
   "outputs": [],
   "source": [
    "from collections import deque\n",
    "class StackDeque:\n",
    "    def __init__(self):\n",
    "        self.items = deque()\n",
    "\n",
    "    def is_empty(self):\n",
    "        return len(self.items) == 0\n",
    "\n",
    "    def push(self, item):\n",
    "        self.items.append(item)\n",
    "\n",
    "    def pop(self):\n",
    "        if not self.is_empty():\n",
    "            return self.items.pop()\n",
    "        else:\n",
    "            print(\"Stack is empty\")\n",
    "\n",
    "    def peek(self):\n",
    "        if not self.is_empty():\n",
    "            return self.items[-1]\n",
    "        else:\n",
    "            print(\"Stack is empty\")\n",
    "\n",
    "    def size(self):\n",
    "        return len(self.items)"
   ]
  },
  {
   "cell_type": "markdown",
   "id": "40b45eda-8b56-4f57-9d61-25a7f3b40a31",
   "metadata": {},
   "source": [
    "<h3><b> a.</b> Creating Data types in Deque Stack Implementation.</h3>"
   ]
  },
  {
   "cell_type": "code",
   "execution_count": 175,
   "id": "368b6947-2da1-412a-a3ca-fd4f6f461b71",
   "metadata": {},
   "outputs": [],
   "source": [
    "stack1 = StackDeque()\n",
    "stack2 = StackDeque()"
   ]
  },
  {
   "cell_type": "markdown",
   "id": "0d5cba9a-beba-4d55-930d-b84f656464e2",
   "metadata": {},
   "source": [
    "<h3><b> b.</b>  Pushing element in Stack:</h3>"
   ]
  },
  {
   "cell_type": "code",
   "execution_count": 178,
   "id": "87dd67a0-d53c-4a5c-8498-03a77074034c",
   "metadata": {},
   "outputs": [],
   "source": [
    "stack1.push(1)\n",
    "stack1.push(2)\n",
    "stack1.push(3)"
   ]
  },
  {
   "cell_type": "code",
   "execution_count": 180,
   "id": "c23a0a64-81b9-474a-ae2f-a8e229582577",
   "metadata": {},
   "outputs": [],
   "source": [
    "stack2.push(\"apple\")\n",
    "stack2.push(\"banana\")\n",
    "stack2.push(\"cherry\")"
   ]
  },
  {
   "cell_type": "code",
   "execution_count": 182,
   "id": "87f68a3b-a371-45e9-9b4b-761a370da66e",
   "metadata": {},
   "outputs": [
    {
     "name": "stdout",
     "output_type": "stream",
     "text": [
      "Stack1:\n",
      "Stack2: <__main__.StackDeque object at 0x0000012D25A7F380>\n"
     ]
    }
   ],
   "source": [
    "print(\"Stack1:\")\n",
    "print(\"Stack2:\", stack2)"
   ]
  },
  {
   "cell_type": "markdown",
   "id": "7a1290f0-01c0-4b1c-9dae-bff11343e4a5",
   "metadata": {},
   "source": [
    "<h3><b> c.</b> . Popping out element from Stack.</h3>"
   ]
  },
  {
   "cell_type": "code",
   "execution_count": 185,
   "id": "19900480-bd5f-47d1-8768-014f84919f53",
   "metadata": {},
   "outputs": [],
   "source": [
    "popped1=stack1.pop()\n",
    "popped2=stack1.pop()"
   ]
  },
  {
   "cell_type": "code",
   "execution_count": 187,
   "id": "b7ef7027-1506-4118-96c4-21d1b86940d7",
   "metadata": {},
   "outputs": [],
   "source": [
    "popped3=stack2.pop()\n",
    "popped4=stack2.pop()"
   ]
  },
  {
   "cell_type": "code",
   "execution_count": 189,
   "id": "b25f79cd-d4a1-470f-811e-50e09d110f09",
   "metadata": {},
   "outputs": [
    {
     "name": "stdout",
     "output_type": "stream",
     "text": [
      "Popped from Stack1: 3 2\n",
      "Popped from Stack2: cherry banana\n"
     ]
    }
   ],
   "source": [
    "print(\"Popped from Stack1:\", popped1, popped2)\n",
    "print(\"Popped from Stack2:\", popped3, popped4)"
   ]
  },
  {
   "cell_type": "code",
   "execution_count": 191,
   "id": "feba6b25-73ad-4951-9b0a-8b51cd68e6ea",
   "metadata": {},
   "outputs": [
    {
     "name": "stdout",
     "output_type": "stream",
     "text": [
      "current Stack1:\n",
      "current Stack2:\n"
     ]
    }
   ],
   "source": [
    "print(\"current Stack1:\")\n",
    "print(\"current Stack2:\")"
   ]
  },
  {
   "cell_type": "markdown",
   "id": "6087f469-c6b1-4253-ae57-5982962173c6",
   "metadata": {},
   "source": [
    "<h1 style=\"margin-left: 19px;text-decoration: underline;\"><i><b>2. NODE BASE IMPLEMENTATION:</b></i></h1>"
   ]
  },
  {
   "cell_type": "markdown",
   "id": "5f75d43e-d5b5-42bd-a00f-43e2f1e8ae2f",
   "metadata": {},
   "source": [
    "<h5><b>i.</b> A node-based implementation refers to a data structure or algorithm design \n",
    "that involves the use of nodes, where each node contains data and a \n",
    "Department of Electrical Engineering , UET Peshawar Jalozai Campus\n",
    "reference (or link) to the next node in the sequence. This is commonly seen in \n",
    "linked lists, stacks, and queues.</h5>\n",
    "<h5><b>ii.</b> The Node class represents each element in the stack with a data attribute \n",
    "and a next attribute pointing to the next node.</h5>"
   ]
  },
  {
   "cell_type": "code",
   "execution_count": 195,
   "id": "a538f6b9-c526-4255-bf77-a064a61e87ba",
   "metadata": {},
   "outputs": [],
   "source": [
    "class Node:\n",
    "    def __init__(self, data):\n",
    "        self.data = data\n",
    "        self.next = None"
   ]
  },
  {
   "cell_type": "markdown",
   "id": "8b7174a2-6603-4c76-95ed-b5344db9a230",
   "metadata": {},
   "source": [
    "<h3><b> a.</b> The NodeStack class maintains a reference to the top of the stack \n",
    "(top).</h3>"
   ]
  },
  {
   "cell_type": "code",
   "execution_count": 198,
   "id": "7434676d-cba4-4129-8294-c4cf86f7dc7a",
   "metadata": {},
   "outputs": [],
   "source": [
    "class NodeStack:\n",
    "    def __init__(self):\n",
    "        self.top = None"
   ]
  },
  {
   "cell_type": "markdown",
   "id": "175b6632-a13c-4ef9-ac89-b0bfe5e19997",
   "metadata": {},
   "source": [
    "<h3><b> b.</b> The push() method adds a new node to the top of the stack.</h3>"
   ]
  },
  {
   "cell_type": "code",
   "execution_count": 201,
   "id": "849f6eaf-a155-42d6-9613-b1cb07817fb2",
   "metadata": {},
   "outputs": [],
   "source": [
    "def push(self, item):\n",
    "  new_node = Node(item)\n",
    "  new_node.next = self.top\n",
    "  self.top = new_node"
   ]
  },
  {
   "cell_type": "markdown",
   "id": "31729fe8-49aa-4568-9d1e-c1e5873eeb1d",
   "metadata": {},
   "source": [
    "<h3><b> c.</b> The pop() method removes and returns the item from the top of the \n",
    "stack.</h3>"
   ]
  },
  {
   "cell_type": "code",
   "execution_count": 204,
   "id": "1679e5b1-1513-4598-afc9-87dd7d02de28",
   "metadata": {},
   "outputs": [],
   "source": [
    "def pop(self):\n",
    "    if not self.is_empty():\n",
    "        popped_item = self.top.data\n",
    "        self.top = self.top.next\n",
    "        return popped_item\n",
    "    else:\n",
    "        print(\"Stack is empty\")"
   ]
  },
  {
   "cell_type": "markdown",
   "id": "ffd932a9-f986-4bc7-8591-6834cdfc4fe8",
   "metadata": {},
   "source": [
    "<h3><b> d.</b> The peek() method returns the item from the top of the stack \n",
    "without removing it.</h3>"
   ]
  },
  {
   "cell_type": "code",
   "execution_count": 207,
   "id": "2b59efff-1c12-4342-9fd6-63681061643d",
   "metadata": {},
   "outputs": [],
   "source": [
    "def peek(self):\n",
    "    if not self.is_empty():\n",
    "        return self.top.data\n",
    "    else:\n",
    "        print(\"stack is empty\")"
   ]
  },
  {
   "cell_type": "markdown",
   "id": "6b44e9cf-bfac-4440-b697-848d0d2267e7",
   "metadata": {},
   "source": [
    "<h3><b> e.</b> The size() method calculates the number of elements in the stack by \n",
    "traversing the linked nodes.</h3>"
   ]
  },
  {
   "cell_type": "code",
   "execution_count": 210,
   "id": "8ee8fb21-39df-4aa5-b749-a3a56d588920",
   "metadata": {},
   "outputs": [],
   "source": [
    "def size(self):\n",
    "    current=self.top\n",
    "    count=0\n",
    "    while current:\n",
    "        count +=1\n",
    "        current=current.next\n",
    "    return count"
   ]
  },
  {
   "cell_type": "markdown",
   "id": "a91fa04b-5cf2-4128-8532-9ea358b8d44c",
   "metadata": {},
   "source": [
    "<h1 style=\"margin-left: 19px;text-decoration: underline;\"><i><b> 3. NOW CREATING INSTANCES:</b></i></h1>"
   ]
  },
  {
   "cell_type": "markdown",
   "id": "190a6a6a-9785-4aa8-b394-737e1062040a",
   "metadata": {},
   "source": [
    "<h3><b> a.</b> Creating instances of Node base Stack and apply push pop and other \n",
    "methods on that instance.</h3>"
   ]
  },
  {
   "cell_type": "code",
   "execution_count": 214,
   "id": "4943b29c-6b0e-4d88-95d3-da1dd69c70bc",
   "metadata": {},
   "outputs": [],
   "source": [
    "class Node:\n",
    "    def __init__(self, data):\n",
    "        self.data = data\n",
    "        self.next = None\n",
    "\n",
    "class NodeStack:\n",
    "    def __init__(self):\n",
    "        self.top = None\n",
    "\n",
    "    def push(self, item):\n",
    "        new_node = Node(item)\n",
    "        new_node.next = self.top\n",
    "        self.top = new_node\n",
    "\n",
    "    def pop(self):\n",
    "        if not self.is_empty():\n",
    "            popped_item = self.top.data\n",
    "            self.top = self.top.next\n",
    "            return popped_item\n",
    "        else:\n",
    "            print(\"Stack is empty\")\n",
    "\n",
    "    def peek(self):\n",
    "        if not self.is_empty():\n",
    "            return self.top.data\n",
    "        else:\n",
    "            print(\"Stack is empty\")\n",
    "\n",
    "    def size(self):\n",
    "        current = self.top\n",
    "        count = 0\n",
    "        while current:\n",
    "            count += 1\n",
    "            current = current.next\n",
    "        return count\n",
    "\n",
    "    def is_empty(self):\n",
    "        return self.top is None"
   ]
  },
  {
   "cell_type": "code",
   "execution_count": 216,
   "id": "05142dae-3be5-44d7-a82f-a1614110cbc6",
   "metadata": {},
   "outputs": [],
   "source": [
    "stack=NodeStack()"
   ]
  },
  {
   "cell_type": "code",
   "execution_count": 218,
   "id": "1f7de7f4-d22c-4fd4-acd2-83b1ddcd364e",
   "metadata": {},
   "outputs": [],
   "source": [
    "stack.push(1)\n",
    "stack.push(2)\n",
    "stack.push(3)"
   ]
  },
  {
   "cell_type": "code",
   "execution_count": 220,
   "id": "46784015-12c4-47c3-8062-3eb6d6c0e75e",
   "metadata": {},
   "outputs": [
    {
     "name": "stdout",
     "output_type": "stream",
     "text": [
      "Peek: 3\n",
      "Pop: 3\n",
      "Stack size: 2\n"
     ]
    }
   ],
   "source": [
    "print(\"Peek:\", stack.peek())\n",
    "print(\"Pop:\", stack.pop())\n",
    "print(\"Stack size:\", stack.size())"
   ]
  },
  {
   "cell_type": "markdown",
   "id": "a6450806-e2f6-416c-8705-168c1dec09ff",
   "metadata": {},
   "source": [
    "<hr>"
   ]
  }
 ],
 "metadata": {
  "kernelspec": {
   "display_name": "Python 3 (ipykernel)",
   "language": "python",
   "name": "python3"
  },
  "language_info": {
   "codemirror_mode": {
    "name": "ipython",
    "version": 3
   },
   "file_extension": ".py",
   "mimetype": "text/x-python",
   "name": "python",
   "nbconvert_exporter": "python",
   "pygments_lexer": "ipython3",
   "version": "3.12.4"
  }
 },
 "nbformat": 4,
 "nbformat_minor": 5
}
