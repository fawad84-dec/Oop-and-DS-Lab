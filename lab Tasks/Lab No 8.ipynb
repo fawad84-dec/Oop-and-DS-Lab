{
 "cells": [
  {
   "cell_type": "markdown",
   "id": "96ec6331-cf7c-49c2-91f6-a5607d8cfaea",
   "metadata": {},
   "source": [
    "# **Name :  Fawad khan**\n",
    "# **Reg No : 23jzele0544**\n",
    "# **lab No 08**"
   ]
  },
  {
   "cell_type": "markdown",
   "id": "b234b58a-bbae-4832-aae7-95f83c4b2ead",
   "metadata": {},
   "source": [
    "# **Problem No 01**\n",
    "# **Rectangle -> Square -> Cube**"
   ]
  },
  {
   "cell_type": "markdown",
   "id": "ca4b0549-283e-4648-9077-97d2225cee6a",
   "metadata": {},
   "source": [
    "* Construct a **rectangle** class \n",
    "* Inherit a it by **square** class from **rectangle** class.\n",
    "* create a class Cube that inherits from **Square** and extends the functionality of **.area()** (inherited from the Rectangle class through Square) to ***calculate the surface area and volume of a Cube*** instance:\n",
    "* Create two instances of the cube class and call both the instance methods. \n"
   ]
  },
  {
   "cell_type": "code",
   "execution_count": 2,
   "id": "2d95429c-fbc5-4f48-bff5-f98ed691b366",
   "metadata": {},
   "outputs": [],
   "source": [
    "class Rectangle:\n",
    "    def __init__(self, width, height):\n",
    "        self.width = width\n",
    "        self.height = height\n",
    "\n",
    "    def area(self):\n",
    "        return self.width * self.height\n",
    "\n",
    "    def __str__(self):\n",
    "        return f\"Rectangle [Width: {self.width}, Height: {self.height}, Area: {self.area()}]\""
   ]
  },
  {
   "cell_type": "code",
   "execution_count": 3,
   "id": "0b30ce45-b39a-4e11-8426-27254e622fe7",
   "metadata": {},
   "outputs": [],
   "source": [
    "class Square(Rectangle):\n",
    "    def __init__(self, side):\n",
    "        super().__init__(side, side)\n",
    "\n",
    "    def __str__(self):\n",
    "        return f\"Square [Side: {self.width}, Area: {self.area()}]\""
   ]
  },
  {
   "cell_type": "code",
   "execution_count": 4,
   "id": "32a5ade5-9be3-439c-879c-424116596215",
   "metadata": {},
   "outputs": [],
   "source": [
    "class Cube(Square):\n",
    "    def __init__(self, side):\n",
    "        super().__init__(side)\n",
    "\n",
    "    def surface_area(self):\n",
    "        return 6 * super().area()\n",
    "\n",
    "    def volume(self):\n",
    "        return self.width ** 3\n",
    "\n",
    "    def __str__(self):\n",
    "        return (f\"Cube [Side: {self.width}, Surface Area: {self.surface_area()}, \"\n",
    "                f\"Volume: {self.volume()}]\")"
   ]
  },
  {
   "cell_type": "code",
   "execution_count": 5,
   "id": "a36834da-0147-4559-8525-9eca5608dbbd",
   "metadata": {},
   "outputs": [],
   "source": [
    "cube1 = Cube(3)\n",
    "cube2 = Cube(5)"
   ]
  },
  {
   "cell_type": "code",
   "execution_count": 6,
   "id": "a0e2974b-3352-40a1-8f1a-0e2a1ae94a11",
   "metadata": {},
   "outputs": [
    {
     "name": "stdout",
     "output_type": "stream",
     "text": [
      "Cube 1 Details:\n",
      "Cube [Side: 3, Surface Area: 54, Volume: 27]\n",
      "\n",
      "Cube 2 Details:\n",
      "Cube [Side: 5, Surface Area: 150, Volume: 125]\n"
     ]
    }
   ],
   "source": [
    "print(\"Cube 1 Details:\")\n",
    "print(cube1)\n",
    "print(\"\\nCube 2 Details:\")\n",
    "print(cube2)"
   ]
  },
  {
   "cell_type": "markdown",
   "id": "d3bd5a4e-89da-478c-ae52-b16efe23c50d",
   "metadata": {},
   "source": [
    "# **Problem No 02**\n",
    "# **Extent the HR System**"
   ]
  },
  {
   "cell_type": "markdown",
   "id": "47d03838-524a-4583-8c10-ec93b537c9be",
   "metadata": {},
   "source": [
    "* Start adding the new classes to the exixting class. \n",
    "**ProductivitySystem tracks productivity based on employee roles. There are different employee roles:**\n",
    "* **Managers:** They walk around yelling at people, telling them what to do. They’re salaried employees and make more money.\n",
    "* **Secretaries:** They do all the paperwork for managers and ensure that everything gets billed and payed on time. They’re also salaried employees but make less money.\n",
    "* **Sales employees:** They make a lot of phone calls to sell products. They have a salary, but they also get commissions for sales.\n",
    "* **Factory workers:** They manufacture the products for the company. They’re paid by the hour.\n",
    "* First, you add a Manager class that derives from **SalaryEmployee**. The class exposes a **.work()* method that the productivity system will use. The method takes the **hours** that the employee worked.\n",
    "* Then you add **Secretary**, **SalesPerson**, and **FactoryWorker** and then implement the **.work()** interface, so they can be used by the productivity system\n"
   ]
  },
  {
   "cell_type": "code",
   "execution_count": 14,
   "id": "a7edc073-d61f-4fda-b634-ffdb4ac9cbb2",
   "metadata": {},
   "outputs": [],
   "source": [
    "class Employee:\n",
    "    def __init__(self, id, name):\n",
    "        self.id = id\n",
    "        self.name = name\n",
    "\n",
    "class SalaryEmployee(Employee):\n",
    "    def __init__(self, id, name, weekly_salary):\n",
    "        super().__init__(id, name)\n",
    "        self.weekly_salary = weekly_salary\n",
    "\n",
    "    def calculate_payroll(self):\n",
    "        return self.weekly_salary\n",
    "\n",
    "class HourlyEmployee(Employee):\n",
    "    def __init__(self, id, name, hours_worked, hourly_rate):\n",
    "        super().__init__(id, name)\n",
    "        self.hours_worked = hours_worked\n",
    "        self.hourly_rate = hourly_rate\n",
    "\n",
    "    def calculate_payroll(self):\n",
    "        return self.hours_worked * self.hourly_rate\n",
    "\n",
    "class CommissionEmployee(SalaryEmployee):\n",
    "    def __init__(self, id, name, weekly_salary, commission):\n",
    "        super().__init__(id, name, weekly_salary)\n",
    "        self.commission = commission\n",
    "\n",
    "    def calculate_payroll(self):\n",
    "        fixed = super().calculate_payroll()\n",
    "        return fixed + self.commission\n",
    "#------------------------------------------------------------------\n",
    "\n",
    "class Manager(SalaryEmployee):\n",
    "    def work(self, hours):\n",
    "        print(f\"{self.name} screams and yells for {hours} hours.\")\n",
    "\n",
    "class Secretary(SalaryEmployee):\n",
    "    def work(self, hours):\n",
    "        print(f\"{self.name} expends {hours} hours doing office paperwork.\")\n",
    "\n",
    "class SalesPerson(CommissionEmployee):\n",
    "    def work(self, hours):\n",
    "        print(f\"{self.name} expends {hours} hours on the phone.\")\n",
    "\n",
    "class FactoryWorker(HourlyEmployee):\n",
    "    def work(self, hours):\n",
    "        print(f\"{self.name} manufactures gadgets for {hours} hours.\")\n",
    "#---------------------------------------------------------------------\n",
    "class TemporarySecretary(Secretary, HourlyEmployee):\n",
    "    def __init__(self, id, name, hours_worked, hourly_rate):\n",
    "        HourlyEmployee.__init__(self, id, name, hours_worked, hourly_rate)\n",
    "\n",
    "    def calculate_payroll(self):\n",
    "        return HourlyEmployee.calculate_payroll(self)"
   ]
  },
  {
   "cell_type": "code",
   "execution_count": 18,
   "id": "8029b8a1-acc1-4e92-a4d2-3cc602b4c43f",
   "metadata": {},
   "outputs": [],
   "source": [
    "    class Manager_role(SalaryEmployee):\n",
    "        def work(self, hours):\n",
    "            print(f\"{self.name} oversees and delegates tasks for {hours} hours.\")\n",
    "    \n",
    "    class Secretary_role(SalaryEmployee):\n",
    "        def work(self, hours):\n",
    "            print(f\"{self.name} efficiently organizes and manages documents for {hours} hours.\")\n",
    "    \n",
    "    class SalesPerson_role(CommissionEmployee):\n",
    "        def work(self, hours):\n",
    "            print(f\"{self.name} engages with clients and closes deals for {hours} hours.\")\n",
    "    \n",
    "    class FactoryWorker_role(HourlyEmployee):\n",
    "        def work(self, hours):\n",
    "            print(f\"{self.name} diligently assembles products for {hours} hours.\")\n"
   ]
  },
  {
   "cell_type": "code",
   "execution_count": 19,
   "id": "0e6b0680-694c-4b0e-8427-768da36f5bd9",
   "metadata": {},
   "outputs": [],
   "source": [
    "class Productivity_system:\n",
    "    def Track(self, employees, hours):\n",
    "        print(\"Productivity System Tracking\")\n",
    "        print('-----------------------------')\n",
    "        for employee in employees:\n",
    "            employee.work(hours)\n",
    "            print()"
   ]
  },
  {
   "cell_type": "code",
   "execution_count": 20,
   "id": "c72c0540-1f68-497b-bdc5-255938212c5e",
   "metadata": {},
   "outputs": [],
   "source": [
    "Manager = Manager_role(528, 'M Jamal', 3000)\n",
    "Secretary = Secretary_role(527, 'Assadullah', 1500)\n",
    "SalesPerson = SalesPerson_role(529, 'Muhammad Idrees', 23, 40)\n",
    "FactoryWorker = FactoryWorker_role(545, 'Waqas Mabood', 34, 55)"
   ]
  },
  {
   "cell_type": "code",
   "execution_count": 21,
   "id": "c6e7e64e-2de5-4116-b318-a1eb244fca82",
   "metadata": {},
   "outputs": [],
   "source": [
    "employees = [Manager, Secretary, SalesPerson, FactoryWorker]"
   ]
  },
  {
   "cell_type": "code",
   "execution_count": 22,
   "id": "0652fcbd-9ff1-4cfb-90dd-8450b8eaea35",
   "metadata": {},
   "outputs": [],
   "source": [
    "productivity_system = Productivity_system()"
   ]
  },
  {
   "cell_type": "code",
   "execution_count": 23,
   "id": "439cef96-3c80-4f45-a1d7-55dcc0ec9a32",
   "metadata": {},
   "outputs": [
    {
     "name": "stdout",
     "output_type": "stream",
     "text": [
      "Productivity System Tracking\n",
      "-----------------------------\n",
      "M Jamal oversees and delegates tasks for 44 hours.\n",
      "\n",
      "Assadullah efficiently organizes and manages documents for 44 hours.\n",
      "\n",
      "Muhammad Idrees engages with clients and closes deals for 44 hours.\n",
      "\n",
      "Waqas Mabood diligently assembles products for 44 hours.\n",
      "\n"
     ]
    }
   ],
   "source": [
    "productivity_system.Track(employees, 44)"
   ]
  },
  {
   "cell_type": "code",
   "execution_count": null,
   "id": "bba3c16b-5110-4346-9891-ff7e57cf07b1",
   "metadata": {},
   "outputs": [],
   "source": []
  },
  {
   "cell_type": "code",
   "execution_count": null,
   "id": "eaef31f5-ef44-4771-b123-55685c6aee74",
   "metadata": {},
   "outputs": [],
   "source": []
  },
  {
   "cell_type": "code",
   "execution_count": null,
   "id": "11501713-5e6e-4c65-9eff-142f7887af80",
   "metadata": {},
   "outputs": [],
   "source": []
  },
  {
   "cell_type": "code",
   "execution_count": null,
   "id": "03a3a657-b5e6-4fa7-b48e-6b1a803a2ce2",
   "metadata": {},
   "outputs": [],
   "source": []
  },
  {
   "cell_type": "code",
   "execution_count": null,
   "id": "ce0a4450-af61-41ed-8e6b-b049173e7d74",
   "metadata": {},
   "outputs": [],
   "source": []
  },
  {
   "cell_type": "code",
   "execution_count": null,
   "id": "efe4fd26-0b0a-4cca-963e-14e87b1f39a9",
   "metadata": {},
   "outputs": [],
   "source": []
  },
  {
   "cell_type": "code",
   "execution_count": null,
   "id": "2441c824-ce71-4cd4-8510-32595cf2e490",
   "metadata": {},
   "outputs": [],
   "source": []
  },
  {
   "cell_type": "code",
   "execution_count": null,
   "id": "720043f9-e9cd-4e05-9e64-1bd72cad09b3",
   "metadata": {},
   "outputs": [],
   "source": []
  },
  {
   "cell_type": "code",
   "execution_count": null,
   "id": "4a9aa095-6c23-4cf1-a7bd-0c786b7629c6",
   "metadata": {},
   "outputs": [],
   "source": []
  },
  {
   "cell_type": "code",
   "execution_count": null,
   "id": "fc20eae5-cd73-47d3-be61-2aa96697434b",
   "metadata": {},
   "outputs": [],
   "source": []
  },
  {
   "cell_type": "code",
   "execution_count": null,
   "id": "ff146292-426b-4b87-8e4d-b1b6c30b3dba",
   "metadata": {},
   "outputs": [],
   "source": []
  },
  {
   "cell_type": "code",
   "execution_count": null,
   "id": "242a768b-f5bc-4900-84b3-d1b482f8f370",
   "metadata": {},
   "outputs": [],
   "source": []
  },
  {
   "cell_type": "code",
   "execution_count": null,
   "id": "44494814-c539-40a2-bfc7-24d9bf15a7c6",
   "metadata": {},
   "outputs": [],
   "source": []
  },
  {
   "cell_type": "code",
   "execution_count": null,
   "id": "ad1c8e39-dbab-422a-a924-97464da26f91",
   "metadata": {},
   "outputs": [],
   "source": []
  },
  {
   "cell_type": "code",
   "execution_count": null,
   "id": "875854ba-5954-48ba-b6c3-348295f4dd74",
   "metadata": {},
   "outputs": [],
   "source": []
  },
  {
   "cell_type": "code",
   "execution_count": null,
   "id": "beedd846-7623-4bfb-8e51-0622b5f023e0",
   "metadata": {},
   "outputs": [],
   "source": []
  },
  {
   "cell_type": "code",
   "execution_count": null,
   "id": "961821f3-25d1-44cf-91cf-46c9f571a71c",
   "metadata": {},
   "outputs": [],
   "source": []
  },
  {
   "cell_type": "code",
   "execution_count": null,
   "id": "48e23946-53ce-4680-a287-7f5e1f8e2cde",
   "metadata": {},
   "outputs": [],
   "source": []
  }
 ],
 "metadata": {
  "kernelspec": {
   "display_name": "Python 3 (ipykernel)",
   "language": "python",
   "name": "python3"
  },
  "language_info": {
   "codemirror_mode": {
    "name": "ipython",
    "version": 3
   },
   "file_extension": ".py",
   "mimetype": "text/x-python",
   "name": "python",
   "nbconvert_exporter": "python",
   "pygments_lexer": "ipython3",
   "version": "3.9.19"
  }
 },
 "nbformat": 4,
 "nbformat_minor": 5
}
