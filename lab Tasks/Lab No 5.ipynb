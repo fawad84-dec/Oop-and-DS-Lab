{
 "cells": [
  {
   "cell_type": "markdown",
   "id": "581d7510-2ac4-4d4c-98f9-4e9258f85702",
   "metadata": {},
   "source": [
    "# ***Name : Fawad khan***\n",
    "# ***Reg No : 23jzele0544***\n",
    "# **Lab : 05**"
   ]
  },
  {
   "cell_type": "markdown",
   "id": "08106270-d0e2-4a8f-ad92-6f1985961343",
   "metadata": {},
   "source": [
    "# **Lab Task**"
   ]
  },
  {
   "cell_type": "markdown",
   "id": "8826d062-1082-4cb4-8ed8-5782ef90891e",
   "metadata": {},
   "source": [
    "1. Define a class circle. Your class must have the appropriate __init__ method.\n",
    "* In addition, add an instance method for the volume of a cylinder with the given\n",
    "radius.\n",
    "* Add property method for area, circumference, and diameter.\n",
    "*  Add __repr__ and __str__ to the class.\n",
    "* Add proper annotation and doc string to every class and instance method."
   ]
  },
  {
   "cell_type": "code",
   "execution_count": 1,
   "id": "d294ae6a-e4e7-4dab-b480-c9753a0d6aca",
   "metadata": {},
   "outputs": [],
   "source": [
    "import math"
   ]
  },
  {
   "cell_type": "code",
   "execution_count": 2,
   "id": "7f6930ac-b1ff-4b33-8f08-8408d2d9551d",
   "metadata": {},
   "outputs": [],
   "source": [
    "class Circle:\n",
    "    pass"
   ]
  },
  {
   "cell_type": "code",
   "execution_count": 3,
   "id": "5e99f1a7-5df6-47f4-87a9-48086672d2e2",
   "metadata": {},
   "outputs": [],
   "source": [
    "class Circle:\n",
    "    \"\"\"A class to represent a circle and perform related calculations.\n",
    "    \n",
    "    Attributes:\n",
    "    radius : float\n",
    "        The radius of the circle with a default value 1.0.\n",
    "    \n",
    "    Methods:\n",
    "    area():\n",
    "        Returns the area of the circle.\n",
    "    circumference():\n",
    "        Returns the circumference of the circle.\n",
    "    diameter():\n",
    "        Returns the diameter of the circle.\n",
    "    cylinder_volume(height: float):\n",
    "        Returns the volume of a cylinder with the circle as its area and a given height.\n",
    "    \"\"\"\n",
    "    def __init__(self,radius: float = 1.0):\n",
    "        \"\"\"Initializes the Circle with a radius.\n",
    "\n",
    "        Parameters:\n",
    "        radius:\n",
    "            The radius of the circle with a default value of 1.0.\n",
    "        \"\"\"\n",
    "        self.radius = radius\n",
    "    def area(self)-> float :\n",
    "        \"\"\"Calculates the area of the circle.\n",
    "    Return:\n",
    "        Return area in float\n",
    "    \"\"\"\n",
    "        return math.pi * self.radius**2\n",
    "    def circumference(self) -> float:\n",
    "        \"\"\"Calculates the circumference of the circle.\n",
    "    Return:\n",
    "        Return circumference in float\n",
    "    \"\"\"\n",
    "        return math.pi * 2 * self.radius\n",
    "    def diameter(self) -> float:\n",
    "        \"\"\"Calculates the diameter of the circle.\n",
    "    Return:\n",
    "        Return diameter in float\n",
    "    \"\"\"\n",
    "        return  2 * self.radius\n",
    "    def Volume_of_cylinder(self, height: float) -> float:\n",
    "        \"\"\"Calculates the volume of cylinder with the area of the circle.\n",
    "    Parameters:\n",
    "        height : float\n",
    "            The height of the cylinder.\n",
    "        Return:\n",
    "        float\n",
    "            The volume of the cylinder.\n",
    "        \"\"\"\n",
    "        return self.area * height\n",
    "    def __repr__(self) -> str:\n",
    "        \"\"\"This representation is intended for developers,\n",
    "        showing the class name and radius attribute in a format suitable for\n",
    "        recreating the object.\"\"\"\n",
    "        return f\"{type(self).__name__} ({self.radius})\"\n",
    "    def __str__(self) -> str:\n",
    "        \"\"\" This representation provides a simple description of the circle's\n",
    "        radius and is intended for end-users or general display purposes.\"\"\"\n",
    "        return f\"Circle with Radius: {self.radius}\""
   ]
  },
  {
   "cell_type": "markdown",
   "id": "38af430e-ed21-483a-8baf-e06ece2c77f2",
   "metadata": {},
   "source": [
    "a. Define inst_1 and pass two numbers. \n"
   ]
  },
  {
   "cell_type": "code",
   "execution_count": 4,
   "id": "98767091-73c9-4fb6-bc7a-42d35d00a512",
   "metadata": {},
   "outputs": [],
   "source": [
    "inst_1 = Circle(4)"
   ]
  },
  {
   "cell_type": "markdown",
   "id": "c96d21dd-5901-4993-9a48-51d43849f7b5",
   "metadata": {},
   "source": [
    "\n",
    "b. Make another instance inst2"
   ]
  },
  {
   "cell_type": "code",
   "execution_count": 5,
   "id": "4c55cb16-20a4-4185-93d0-fc984d7eae59",
   "metadata": {},
   "outputs": [],
   "source": [
    "inst_2 = Circle(8)"
   ]
  },
  {
   "cell_type": "markdown",
   "id": "8381acfd-20dc-4cf5-874f-053802368095",
   "metadata": {},
   "source": [
    "c. Print inst_1 and inst_2, for this use the print command and pass the inst_1 and inst_2."
   ]
  },
  {
   "cell_type": "code",
   "execution_count": 6,
   "id": "fc3a2ef7-2f31-4be4-9e85-2ba9bd5bef1e",
   "metadata": {},
   "outputs": [
    {
     "name": "stdout",
     "output_type": "stream",
     "text": [
      "Circle with Radius: 4\n",
      "Circle with Radius: 8\n"
     ]
    }
   ],
   "source": [
    "print(inst_1)\n",
    "print(inst_2)"
   ]
  },
  {
   "cell_type": "markdown",
   "id": "95d2e505-c6d6-4644-baca-61e56da57541",
   "metadata": {},
   "source": [
    "d. Call the __dict__ by the class name. "
   ]
  },
  {
   "cell_type": "code",
   "execution_count": 7,
   "id": "2ac2c6c7-7013-423e-8d89-78ee465a2781",
   "metadata": {},
   "outputs": [
    {
     "name": "stdout",
     "output_type": "stream",
     "text": [
      "mappingproxy({'Volume_of_cylinder': <function Circle.Volume_of_cylinder at 0x0000027FBEB934C0>,\n",
      "              '__dict__': <attribute '__dict__' of 'Circle' objects>,\n",
      "              '__doc__': 'A class to represent a circle and perform related '\n",
      "                         'calculations.\\n'\n",
      "                         '    \\n'\n",
      "                         '    Attributes:\\n'\n",
      "                         '    radius : float\\n'\n",
      "                         '        The radius of the circle with a default '\n",
      "                         'value 1.0.\\n'\n",
      "                         '    \\n'\n",
      "                         '    Methods:\\n'\n",
      "                         '    area():\\n'\n",
      "                         '        Returns the area of the circle.\\n'\n",
      "                         '    circumference():\\n'\n",
      "                         '        Returns the circumference of the circle.\\n'\n",
      "                         '    diameter():\\n'\n",
      "                         '        Returns the diameter of the circle.\\n'\n",
      "                         '    cylinder_volume(height: float):\\n'\n",
      "                         '        Returns the volume of a cylinder with the '\n",
      "                         'circle as its area and a given height.\\n'\n",
      "                         '    ',\n",
      "              '__init__': <function Circle.__init__ at 0x0000027FBEB93160>,\n",
      "              '__module__': '__main__',\n",
      "              '__repr__': <function Circle.__repr__ at 0x0000027FBEB93550>,\n",
      "              '__str__': <function Circle.__str__ at 0x0000027FBEB935E0>,\n",
      "              '__weakref__': <attribute '__weakref__' of 'Circle' objects>,\n",
      "              'area': <function Circle.area at 0x0000027FBEB93040>,\n",
      "              'circumference': <function Circle.circumference at 0x0000027FBEB93310>,\n",
      "              'diameter': <function Circle.diameter at 0x0000027FBEB931F0>})\n"
     ]
    }
   ],
   "source": [
    "from pprint import pprint\n",
    "pprint(Circle.__dict__)"
   ]
  },
  {
   "cell_type": "code",
   "execution_count": 8,
   "id": "4e2bf2ed-c54f-4353-bd48-dd8c7d1addbe",
   "metadata": {},
   "outputs": [
    {
     "name": "stdout",
     "output_type": "stream",
     "text": [
      "mappingproxy({'Volume_of_cylinder': <function Circle.Volume_of_cylinder at 0x0000027FBEB934C0>,\n",
      "              '__dict__': <attribute '__dict__' of 'Circle' objects>,\n",
      "              '__doc__': 'A class to represent a circle and perform related '\n",
      "                         'calculations.\\n'\n",
      "                         '    \\n'\n",
      "                         '    Attributes:\\n'\n",
      "                         '    radius : float\\n'\n",
      "                         '        The radius of the circle with a default '\n",
      "                         'value 1.0.\\n'\n",
      "                         '    \\n'\n",
      "                         '    Methods:\\n'\n",
      "                         '    area():\\n'\n",
      "                         '        Returns the area of the circle.\\n'\n",
      "                         '    circumference():\\n'\n",
      "                         '        Returns the circumference of the circle.\\n'\n",
      "                         '    diameter():\\n'\n",
      "                         '        Returns the diameter of the circle.\\n'\n",
      "                         '    cylinder_volume(height: float):\\n'\n",
      "                         '        Returns the volume of a cylinder with the '\n",
      "                         'circle as its area and a given height.\\n'\n",
      "                         '    ',\n",
      "              '__init__': <function Circle.__init__ at 0x0000027FBEB93160>,\n",
      "              '__module__': '__main__',\n",
      "              '__repr__': <function Circle.__repr__ at 0x0000027FBEB93550>,\n",
      "              '__str__': <function Circle.__str__ at 0x0000027FBEB935E0>,\n",
      "              '__weakref__': <attribute '__weakref__' of 'Circle' objects>,\n",
      "              'area': <function Circle.area at 0x0000027FBEB93040>,\n",
      "              'circumference': <function Circle.circumference at 0x0000027FBEB93310>,\n",
      "              'diameter': <function Circle.diameter at 0x0000027FBEB931F0>})\n"
     ]
    }
   ],
   "source": [
    "pprint(vars(Circle))"
   ]
  },
  {
   "cell_type": "code",
   "execution_count": 9,
   "id": "ee6976ad-45b0-4dee-b61f-1c69ae68e259",
   "metadata": {},
   "outputs": [
    {
     "name": "stdout",
     "output_type": "stream",
     "text": [
      "{'radius': 4}\n"
     ]
    }
   ],
   "source": [
    "print(inst_1.__dict__)"
   ]
  },
  {
   "cell_type": "code",
   "execution_count": 10,
   "id": "b3ff709c-23a4-4322-8130-3b34a4b9647b",
   "metadata": {},
   "outputs": [
    {
     "name": "stdout",
     "output_type": "stream",
     "text": [
      "{'radius': 8}\n"
     ]
    }
   ],
   "source": [
    "print(inst_2.__dict__)"
   ]
  },
  {
   "cell_type": "code",
   "execution_count": 11,
   "id": "1cc1cfcc-8020-42d3-a850-2eabb2c8e77d",
   "metadata": {},
   "outputs": [
    {
     "name": "stdout",
     "output_type": "stream",
     "text": [
      "Help on class Circle in module __main__:\n",
      "\n",
      "class Circle(builtins.object)\n",
      " |  Circle(radius: float = 1.0)\n",
      " |  \n",
      " |  A class to represent a circle and perform related calculations.\n",
      " |  \n",
      " |  Attributes:\n",
      " |  radius : float\n",
      " |      The radius of the circle with a default value 1.0.\n",
      " |  \n",
      " |  Methods:\n",
      " |  area():\n",
      " |      Returns the area of the circle.\n",
      " |  circumference():\n",
      " |      Returns the circumference of the circle.\n",
      " |  diameter():\n",
      " |      Returns the diameter of the circle.\n",
      " |  cylinder_volume(height: float):\n",
      " |      Returns the volume of a cylinder with the circle as its area and a given height.\n",
      " |  \n",
      " |  Methods defined here:\n",
      " |  \n",
      " |  Volume_of_cylinder(self, height: float) -> float\n",
      " |      Calculates the volume of cylinder with the area of the circle.\n",
      " |      Parameters:\n",
      " |          height : float\n",
      " |              The height of the cylinder.\n",
      " |          Return:\n",
      " |          float\n",
      " |              The volume of the cylinder.\n",
      " |  \n",
      " |  __init__(self, radius: float = 1.0)\n",
      " |      Initializes the Circle with a radius.\n",
      " |      \n",
      " |      Parameters:\n",
      " |      radius:\n",
      " |          The radius of the circle with a default value of 1.0.\n",
      " |  \n",
      " |  __repr__(self) -> str\n",
      " |      This representation is intended for developers,\n",
      " |      showing the class name and radius attribute in a format suitable for\n",
      " |      recreating the object.\n",
      " |  \n",
      " |  __str__(self) -> str\n",
      " |      This representation provides a simple description of the circle's\n",
      " |      radius and is intended for end-users or general display purposes.\n",
      " |  \n",
      " |  area(self) -> float\n",
      " |      Calculates the area of the circle.\n",
      " |      Return:\n",
      " |          Return area in float\n",
      " |  \n",
      " |  circumference(self) -> float\n",
      " |      Calculates the circumference of the circle.\n",
      " |      Return:\n",
      " |          Return circumference in float\n",
      " |  \n",
      " |  diameter(self) -> float\n",
      " |      Calculates the diameter of the circle.\n",
      " |      Return:\n",
      " |          Return diameter in float\n",
      " |  \n",
      " |  ----------------------------------------------------------------------\n",
      " |  Data descriptors defined here:\n",
      " |  \n",
      " |  __dict__\n",
      " |      dictionary for instance variables (if defined)\n",
      " |  \n",
      " |  __weakref__\n",
      " |      list of weak references to the object (if defined)\n",
      "\n"
     ]
    }
   ],
   "source": [
    "help(Circle)"
   ]
  },
  {
   "cell_type": "code",
   "execution_count": 12,
   "id": "a0f3c3de-77ce-40b4-ab11-2b803cb5d8c4",
   "metadata": {},
   "outputs": [
    {
     "name": "stdout",
     "output_type": "stream",
     "text": [
      "A class to represent a circle and perform related calculations.\n",
      "    \n",
      "    Attributes:\n",
      "    radius : float\n",
      "        The radius of the circle with a default value 1.0.\n",
      "    \n",
      "    Methods:\n",
      "    area():\n",
      "        Returns the area of the circle.\n",
      "    circumference():\n",
      "        Returns the circumference of the circle.\n",
      "    diameter():\n",
      "        Returns the diameter of the circle.\n",
      "    cylinder_volume(height: float):\n",
      "        Returns the volume of a cylinder with the circle as its area and a given height.\n",
      "    \n",
      "\n",
      "{'radius': <class 'float'>}\n",
      "Initializes the Circle with a radius.\n",
      "\n",
      "        Parameters:\n",
      "        radius:\n",
      "            The radius of the circle with a default value of 1.0.\n",
      "        \n",
      "\n",
      "Calculates the area of the circle.\n",
      "    Return:\n",
      "        Return area in float\n",
      "    \n",
      "Calculates the circumference of the circle.\n",
      "    Return:\n",
      "        Return circumference in float\n",
      "    \n",
      "\n",
      "Calculates the diameter of the circle.\n",
      "    Return:\n",
      "        Return diameter in float\n",
      "    \n",
      "\n",
      "This representation is intended for developers,\n",
      "        showing the class name and radius attribute in a format suitable for\n",
      "        recreating the object.\n",
      " This representation provides a simple description of the circle's\n",
      "        radius and is intended for end-users or general display purposes.\n"
     ]
    }
   ],
   "source": [
    "print(Circle.__doc__)\n",
    "print()\n",
    "print(Circle.__init__.__annotations__)\n",
    "print(Circle.__init__.__doc__)\n",
    "print()\n",
    "print(Circle.area.__doc__)\n",
    "print(Circle.circumference.__doc__)\n",
    "print()\n",
    "print(Circle.diameter.__doc__)\n",
    "\n",
    "print()\n",
    "print(Circle.__repr__.__doc__)\n",
    "print(Circle.__str__.__doc__)"
   ]
  },
  {
   "cell_type": "code",
   "execution_count": 13,
   "id": "9d9d200a-176b-423d-8229-67bf6c623a75",
   "metadata": {},
   "outputs": [],
   "source": [
    "inst_3 = Circle()"
   ]
  },
  {
   "cell_type": "code",
   "execution_count": 14,
   "id": "22d879f0-a5ea-4af7-a3f1-25d55e48c31a",
   "metadata": {},
   "outputs": [
    {
     "name": "stdout",
     "output_type": "stream",
     "text": [
      "Circle with Radius: 1.0\n"
     ]
    }
   ],
   "source": [
    "print(inst_3)"
   ]
  },
  {
   "cell_type": "markdown",
   "id": "7761391e-5ebf-4d48-8387-a12949ab40d9",
   "metadata": {},
   "source": [
    "**1.** Define a class point in 2 dimension coordinate system. Your class must have the appropriate\n",
    "__init__ method.\n",
    "* In addition, add instance method for the distance between points.\n",
    "* Add another instance method for calculating the distance from origin.\n",
    "* Add another method with the name locate to display the coordinate in which\n",
    "the point is located.\n",
    "* Add __repr__ and __str__ to the class.\n",
    "* Add proper annotation and doc string to every class and instance method. "
   ]
  },
  {
   "cell_type": "code",
   "execution_count": 15,
   "id": "31a91495-33c7-4986-9e4e-9c13a87b256a",
   "metadata": {},
   "outputs": [],
   "source": [
    "class Point:\n",
    "    pass"
   ]
  },
  {
   "cell_type": "code",
   "execution_count": 16,
   "id": "31f63498-e157-4c56-b59b-c0a90dd85aff",
   "metadata": {},
   "outputs": [],
   "source": [
    "import math\n",
    "class Point:\n",
    "    \"\"\"A 2D coordinates system which has following parameters\n",
    "            x and y\n",
    "    \"\"\"\n",
    "    def __init__(self, x = 1, y = 1):\n",
    "        \"\"\"Initiate the class with attributes of x and y\n",
    "        \"\"\"\n",
    "        self.x = x\n",
    "        self.y = y\n",
    "    def distance(self,point)  -> float:\n",
    "        \"\"\"To calculate the distance between two points\n",
    "        \"\"\"\n",
    "        return math.sqrt((self.x - point.x)**2 + (self.y - point.y)**2 )\n",
    "    def distanceFromOrigin(self) -> float:\n",
    "        \"\"\"To calculate the distance from origin\n",
    "        \"\"\"\n",
    "        return math.sqrt(self.x**2 + self.y**2)\n",
    "    def display(self) -> str:\n",
    "        \"\"\"To display where is the points are locate or in which quadrant is that points\n",
    "        \"\"\"\n",
    "        if self.x > 0 and self.y > 0:\n",
    "            return \"Point is in the first quadrant.\"\n",
    "        elif self.x < 0 and self.y > 0:\n",
    "            return \"Point is in the second quadrant.\"\n",
    "        elif self.x < 0 and self.y < 0:\n",
    "            return \"Point is in the third quadrant.\"\n",
    "        elif self.x > 0 and self.y < 0:\n",
    "            return \"Point is in the fourth quadrant.\"\n",
    "        elif self.x == 0 and self.y == 0:\n",
    "            return \"Point is at the origin.\"\n",
    "        elif self.x == 0:\n",
    "            return \"Point is on the y-axis.\"\n",
    "        else:\n",
    "            return \"Point is on the x-axis.\"\n",
    "    def __repr__(self):\n",
    "        \"\"\"Use to display the class name and the parameters in the class and we can reuse it  as object\n",
    "        \"\"\"\n",
    "        return f\"{type(self).__name__} ({self.x},{self.y})\"\n",
    "    def __str__(self):\n",
    "        \"\"\"Use to display the class attributes only\n",
    "        \"\"\"\n",
    "        return f\"Points are ({self.x},{self.y})\""
   ]
  },
  {
   "cell_type": "markdown",
   "id": "8cd51403-a470-4544-976f-5783fc046935",
   "metadata": {},
   "source": [
    "**a**. Define inst_1 and pass two numbers. \n",
    "- **b**. Make another instance inst2"
   ]
  },
  {
   "cell_type": "code",
   "execution_count": 17,
   "id": "7602d05c-8231-479d-b273-474305cd0e63",
   "metadata": {},
   "outputs": [],
   "source": [
    "inst_1 = Point(3,5)\n",
    "inst_2 = Point(7,-2)"
   ]
  },
  {
   "cell_type": "markdown",
   "id": "a3d3ca89-eeee-4d4a-9a5f-b0f27dd20ea6",
   "metadata": {},
   "source": [
    "**c.** Print inst_1 and inst_2, for this use the print command and pass theinst_1 and inst_2. "
   ]
  },
  {
   "cell_type": "code",
   "execution_count": 18,
   "id": "7ec13b38-dbe5-4b32-b280-677d5e022a33",
   "metadata": {},
   "outputs": [
    {
     "name": "stdout",
     "output_type": "stream",
     "text": [
      "Points are (3,5)\n",
      "Points are (7,-2)\n"
     ]
    }
   ],
   "source": [
    "print(inst_1)\n",
    "print(inst_2)"
   ]
  },
  {
   "cell_type": "code",
   "execution_count": 19,
   "id": "2e1a4ae8-21f8-4ac3-a102-c124c3dc7692",
   "metadata": {},
   "outputs": [
    {
     "data": {
      "text/plain": [
       "Point (3,5)"
      ]
     },
     "execution_count": 19,
     "metadata": {},
     "output_type": "execute_result"
    }
   ],
   "source": [
    "inst_1"
   ]
  },
  {
   "cell_type": "code",
   "execution_count": 20,
   "id": "1e551be7-8651-4e3a-a56b-648574daf948",
   "metadata": {},
   "outputs": [
    {
     "data": {
      "text/plain": [
       "Point (7,-2)"
      ]
     },
     "execution_count": 20,
     "metadata": {},
     "output_type": "execute_result"
    }
   ],
   "source": [
    "inst_2"
   ]
  },
  {
   "cell_type": "markdown",
   "id": "8ea31469-cd21-43d1-81bc-15e086f22ec2",
   "metadata": {},
   "source": [
    "**d.** Also print the location of both points. (Add a display method)."
   ]
  },
  {
   "cell_type": "code",
   "execution_count": 21,
   "id": "a71f14a9-ad7f-4280-a3dc-6d1643836ac4",
   "metadata": {},
   "outputs": [
    {
     "name": "stdout",
     "output_type": "stream",
     "text": [
      "Point is in the first quadrant.\n",
      "Point is in the fourth quadrant.\n"
     ]
    }
   ],
   "source": [
    "print(inst_1.display())\n",
    "print(inst_2.display())"
   ]
  },
  {
   "cell_type": "markdown",
   "id": "958af618-84f1-4630-b06e-0365ca27dd11",
   "metadata": {},
   "source": [
    "**e.** Calculate the distance between these two pints. "
   ]
  },
  {
   "cell_type": "code",
   "execution_count": 22,
   "id": "8172e1e2-3e9e-4b0a-a656-5525fa006db2",
   "metadata": {},
   "outputs": [
    {
     "data": {
      "text/plain": [
       "8.06225774829855"
      ]
     },
     "execution_count": 22,
     "metadata": {},
     "output_type": "execute_result"
    }
   ],
   "source": [
    "inst_1.distance(inst_2)"
   ]
  },
  {
   "cell_type": "markdown",
   "id": "197a3055-0a0f-4a34-aeec-782ca3b9ca32",
   "metadata": {},
   "source": [
    "f. Call the __dict__ by the class name. "
   ]
  },
  {
   "cell_type": "code",
   "execution_count": 23,
   "id": "9c31f548-4ca2-4e59-8511-1f3953ad86d1",
   "metadata": {},
   "outputs": [
    {
     "name": "stdout",
     "output_type": "stream",
     "text": [
      "mappingproxy({'__dict__': <attribute '__dict__' of 'Point' objects>,\n",
      "              '__doc__': 'A 2D coordinates system which has following '\n",
      "                         'parameters\\n'\n",
      "                         '            x and y\\n'\n",
      "                         '    ',\n",
      "              '__init__': <function Point.__init__ at 0x0000027FBEB93820>,\n",
      "              '__module__': '__main__',\n",
      "              '__repr__': <function Point.__repr__ at 0x0000027FBEB93AF0>,\n",
      "              '__str__': <function Point.__str__ at 0x0000027FBEB93CA0>,\n",
      "              '__weakref__': <attribute '__weakref__' of 'Point' objects>,\n",
      "              'display': <function Point.display at 0x0000027FBEB93A60>,\n",
      "              'distance': <function Point.distance at 0x0000027FBEB93940>,\n",
      "              'distanceFromOrigin': <function Point.distanceFromOrigin at 0x0000027FBEB93B80>})\n"
     ]
    }
   ],
   "source": [
    "from pprint import pprint\n",
    "pprint(Point.__dict__)"
   ]
  },
  {
   "cell_type": "markdown",
   "id": "bb2ce3f3-a89e-48b6-964c-343ab10f67b4",
   "metadata": {},
   "source": [
    "g. Also pass the class name to the vars built-in function"
   ]
  },
  {
   "cell_type": "code",
   "execution_count": 24,
   "id": "6b6f7d24-d274-496a-b29a-a5f1ee290a5b",
   "metadata": {},
   "outputs": [
    {
     "name": "stdout",
     "output_type": "stream",
     "text": [
      "mappingproxy({'__dict__': <attribute '__dict__' of 'Point' objects>,\n",
      "              '__doc__': 'A 2D coordinates system which has following '\n",
      "                         'parameters\\n'\n",
      "                         '            x and y\\n'\n",
      "                         '    ',\n",
      "              '__init__': <function Point.__init__ at 0x0000027FBEB93820>,\n",
      "              '__module__': '__main__',\n",
      "              '__repr__': <function Point.__repr__ at 0x0000027FBEB93AF0>,\n",
      "              '__str__': <function Point.__str__ at 0x0000027FBEB93CA0>,\n",
      "              '__weakref__': <attribute '__weakref__' of 'Point' objects>,\n",
      "              'display': <function Point.display at 0x0000027FBEB93A60>,\n",
      "              'distance': <function Point.distance at 0x0000027FBEB93940>,\n",
      "              'distanceFromOrigin': <function Point.distanceFromOrigin at 0x0000027FBEB93B80>})\n"
     ]
    }
   ],
   "source": [
    "pprint(vars(Point))"
   ]
  },
  {
   "cell_type": "markdown",
   "id": "f7fe1306-a24b-4494-a0ae-d3b73c44e297",
   "metadata": {},
   "source": [
    "h. Call the __dict__ on the object of the class. "
   ]
  },
  {
   "cell_type": "code",
   "execution_count": 25,
   "id": "b216cc2e-a132-47a9-8b31-f755d4600f33",
   "metadata": {},
   "outputs": [
    {
     "name": "stdout",
     "output_type": "stream",
     "text": [
      "{'x': 3, 'y': 5}\n"
     ]
    }
   ],
   "source": [
    "print(inst_1.__dict__)"
   ]
  },
  {
   "cell_type": "code",
   "execution_count": 26,
   "id": "3370f7b1-e09c-45c9-b282-55cff8a1dae0",
   "metadata": {},
   "outputs": [
    {
     "name": "stdout",
     "output_type": "stream",
     "text": [
      "{'x': 7, 'y': -2}\n"
     ]
    }
   ],
   "source": [
    "print(inst_2.__dict__)"
   ]
  },
  {
   "cell_type": "markdown",
   "id": "d9a91f39-28c0-496f-a8e1-fb9add864d90",
   "metadata": {},
   "source": [
    "i. Pass the class name to help. "
   ]
  },
  {
   "cell_type": "code",
   "execution_count": 27,
   "id": "d85be462-633e-4426-8a66-9de17194abda",
   "metadata": {},
   "outputs": [
    {
     "name": "stdout",
     "output_type": "stream",
     "text": [
      "Help on class Point in module __main__:\n",
      "\n",
      "class Point(builtins.object)\n",
      " |  Point(x=1, y=1)\n",
      " |  \n",
      " |  A 2D coordinates system which has following parameters\n",
      " |  x and y\n",
      " |  \n",
      " |  Methods defined here:\n",
      " |  \n",
      " |  __init__(self, x=1, y=1)\n",
      " |      Initiate the class with attributes of x and y\n",
      " |  \n",
      " |  __repr__(self)\n",
      " |      Use to display the class name and the parameters in the class and we can reuse it  as object\n",
      " |  \n",
      " |  __str__(self)\n",
      " |      Use to display the class attributes only\n",
      " |  \n",
      " |  display(self) -> str\n",
      " |      To display where is the points are locate or in which quadrant is that points\n",
      " |  \n",
      " |  distance(self, point) -> float\n",
      " |      To calculate the distance between two points\n",
      " |  \n",
      " |  distanceFromOrigin(self) -> float\n",
      " |      To calculate the distance from origin\n",
      " |  \n",
      " |  ----------------------------------------------------------------------\n",
      " |  Data descriptors defined here:\n",
      " |  \n",
      " |  __dict__\n",
      " |      dictionary for instance variables (if defined)\n",
      " |  \n",
      " |  __weakref__\n",
      " |      list of weak references to the object (if defined)\n",
      "\n"
     ]
    }
   ],
   "source": [
    "help(Point)"
   ]
  },
  {
   "cell_type": "markdown",
   "id": "7a0db5ea-9314-4930-a7bb-9b22d952bfc6",
   "metadata": {},
   "source": [
    "j. Print the doc-string and annotations of both the class and each instance method. "
   ]
  },
  {
   "cell_type": "code",
   "execution_count": 28,
   "id": "d3e38c2b-5941-40e1-8c47-bccf32f9dd41",
   "metadata": {},
   "outputs": [
    {
     "name": "stdout",
     "output_type": "stream",
     "text": [
      "A 2D coordinates system which has following parameters\n",
      "            x and y\n",
      "    \n",
      "Initiate the class with attributes of x and y\n",
      "        \n",
      "{'return': <class 'float'>}\n",
      "To calculate the distance between two points\n",
      "        \n",
      "{'return': <class 'float'>}\n",
      "To calculate the distance from origin\n",
      "        \n",
      "To display where is the points are locate or in which quadrant is that points\n",
      "        \n",
      "{'return': <class 'str'>}\n"
     ]
    }
   ],
   "source": [
    "print(Point.__doc__)\n",
    "print(Point.__init__.__doc__)\n",
    "print(Point.distance.__annotations__)\n",
    "print(Point.distance.__doc__)\n",
    "print(Point.distanceFromOrigin.__annotations__)\n",
    "print(Point.distanceFromOrigin.__doc__)\n",
    "print(Point.display.__doc__)\n",
    "print(Point.display.__annotations__)"
   ]
  },
  {
   "cell_type": "markdown",
   "id": "bb1c7da7-c41f-41b4-8016-53131076b341",
   "metadata": {},
   "source": [
    "k. Modify the __init__ by by making its parameters default and verify by instances."
   ]
  },
  {
   "cell_type": "code",
   "execution_count": 29,
   "id": "2a3e4389-66b4-4219-acf0-7d5e24faa3d4",
   "metadata": {},
   "outputs": [
    {
     "name": "stdout",
     "output_type": "stream",
     "text": [
      "Points are (1,1)\n"
     ]
    },
    {
     "data": {
      "text/plain": [
       "Point (1,1)"
      ]
     },
     "execution_count": 29,
     "metadata": {},
     "output_type": "execute_result"
    }
   ],
   "source": [
    "p3 = Point()\n",
    "print(p3)\n",
    "p3"
   ]
  },
  {
   "cell_type": "markdown",
   "id": "548bf421-dda9-49ba-b6e3-2d7dae69a36c",
   "metadata": {},
   "source": [
    "**2.** Define a class circle. Your class must have the appropriate __init__ method.\n",
    "* In addition, add an instance method for the volume of a cylinder with the given\n",
    "radius.\n",
    "* Add property method for area, circumference, and diameter.\n",
    "* Add __repr__ and __str__ to the class.\n",
    "*  Add proper annotation and doc string to every class and instance method. "
   ]
  },
  {
   "cell_type": "code",
   "execution_count": 30,
   "id": "5b8aa4d6-7e55-466c-bd13-31a4304a5200",
   "metadata": {},
   "outputs": [],
   "source": [
    "import math\n",
    "class Circle:\n",
    "    \"\"\"A class representing a circle in a 2D space.\n",
    "    \"\"\"\n",
    "    def __init__(self, radius: float):\n",
    "        \"\"\"\n",
    "        Initializes a Circle instance.\n",
    "        \n",
    "        Parameters:\n",
    "        - radius: The radius of the circle in float.\n",
    "        \"\"\"\n",
    "        self.radius = radius\n",
    "    def area(self) -> float:\n",
    "        \"\"\"\n",
    "        Calculates the area of the circle.\n",
    "        Returns: The area of the circle in float.\n",
    "        \"\"\"\n",
    "        return pi * self.radius ** 2\n",
    "    def circumference(self) -> float:\n",
    "        \"\"\"\n",
    "        Calculates the circumference of the circle.  \n",
    "        Returns: The circumference of the circle in float.\n",
    "        \"\"\"\n",
    "        return 2 * pi * self.radius\n",
    "    \n",
    "    def diameter(self) -> float:\n",
    "        \"\"\"\n",
    "        Calculates the diameter of the circle.\n",
    "        Returns: The diameter of the circle in  float.\n",
    "        \"\"\"\n",
    "        return 2 * self.radius\n",
    "    \n",
    "    def cylinder_volume(self, height: float) -> float:\n",
    "        \"\"\"\n",
    "        Calculates the volume of a cylinder with the circle as the base.\n",
    "        \n",
    "        Parameters:\n",
    "                    Height\n",
    "        \"\"\"\n",
    "    def __repr__(self):\n",
    "        return f\"{type(self).__name__}({self.radius})\"\n",
    "    def __str__(self):\n",
    "        return f\"Circle of Radius ({self.radius})\""
   ]
  },
  {
   "cell_type": "markdown",
   "id": "19cffc10-0e93-48e3-ae43-098368323d76",
   "metadata": {},
   "source": [
    "j. Define inst_1 \n",
    "-  Make another instance inst2. "
   ]
  },
  {
   "cell_type": "code",
   "execution_count": 31,
   "id": "c150b060-f7e3-4308-91b2-fac323c3f385",
   "metadata": {},
   "outputs": [],
   "source": [
    "inst_1 = Circle(8)\n",
    "inst_2 = Circle(4)"
   ]
  },
  {
   "cell_type": "markdown",
   "id": "0d91ad3f-d5b6-4fa5-aba3-08476c613682",
   "metadata": {},
   "source": [
    "l. Print inst_1 and inst_2, for this use the print command and pass the inst_1 and inst_2. "
   ]
  },
  {
   "cell_type": "code",
   "execution_count": 32,
   "id": "0d6893bd-04a6-4578-b6db-7ece19dcdfcd",
   "metadata": {},
   "outputs": [
    {
     "name": "stdout",
     "output_type": "stream",
     "text": [
      "Circle of Radius (8)\n",
      "Circle of Radius (4)\n"
     ]
    }
   ],
   "source": [
    "print(inst_1)\n",
    "print(inst_2)"
   ]
  },
  {
   "cell_type": "code",
   "execution_count": 33,
   "id": "abca6854-90ca-4db9-9e91-d6baac99e028",
   "metadata": {},
   "outputs": [
    {
     "data": {
      "text/plain": [
       "Circle(8)"
      ]
     },
     "execution_count": 33,
     "metadata": {},
     "output_type": "execute_result"
    }
   ],
   "source": [
    "inst_1"
   ]
  },
  {
   "cell_type": "code",
   "execution_count": 34,
   "id": "e23afd07-ac89-42c1-94c2-d999537d9d1c",
   "metadata": {},
   "outputs": [
    {
     "data": {
      "text/plain": [
       "Circle(4)"
      ]
     },
     "execution_count": 34,
     "metadata": {},
     "output_type": "execute_result"
    }
   ],
   "source": [
    "inst_2"
   ]
  },
  {
   "cell_type": "markdown",
   "id": "763be2ed-d1f5-4009-b2ac-6c82a55384f8",
   "metadata": {},
   "source": [
    "m. Call the __dict__ by the class name"
   ]
  },
  {
   "cell_type": "code",
   "execution_count": 35,
   "id": "34b785e2-f67d-4c7b-99a0-e3dfdd13013c",
   "metadata": {},
   "outputs": [
    {
     "name": "stdout",
     "output_type": "stream",
     "text": [
      "mappingproxy({'__dict__': <attribute '__dict__' of 'Circle' objects>,\n",
      "              '__doc__': 'A class representing a circle in a 2D space.\\n    ',\n",
      "              '__init__': <function Circle.__init__ at 0x0000027FBEB93790>,\n",
      "              '__module__': '__main__',\n",
      "              '__repr__': <function Circle.__repr__ at 0x0000027FBEB045E0>,\n",
      "              '__str__': <function Circle.__str__ at 0x0000027FBEBC9040>,\n",
      "              '__weakref__': <attribute '__weakref__' of 'Circle' objects>,\n",
      "              'area': <function Circle.area at 0x0000027FBEB939D0>,\n",
      "              'circumference': <function Circle.circumference at 0x0000027FBEB5FD30>,\n",
      "              'cylinder_volume': <function Circle.cylinder_volume at 0x0000027FBEB04670>,\n",
      "              'diameter': <function Circle.diameter at 0x0000027FBEB5FC10>})\n"
     ]
    }
   ],
   "source": [
    "from pprint import pprint\n",
    "pprint(Circle.__dict__)"
   ]
  },
  {
   "cell_type": "markdown",
   "id": "93aab750-0209-4dd0-8e37-0368ee0bd3af",
   "metadata": {},
   "source": [
    "n. Also pass the class name to the vars built-in function."
   ]
  },
  {
   "cell_type": "code",
   "execution_count": 36,
   "id": "a265fdea-feba-44c1-89ae-c9ebbe5ff9b5",
   "metadata": {},
   "outputs": [
    {
     "name": "stdout",
     "output_type": "stream",
     "text": [
      "mappingproxy({'__dict__': <attribute '__dict__' of 'Circle' objects>,\n",
      "              '__doc__': 'A class representing a circle in a 2D space.\\n    ',\n",
      "              '__init__': <function Circle.__init__ at 0x0000027FBEB93790>,\n",
      "              '__module__': '__main__',\n",
      "              '__repr__': <function Circle.__repr__ at 0x0000027FBEB045E0>,\n",
      "              '__str__': <function Circle.__str__ at 0x0000027FBEBC9040>,\n",
      "              '__weakref__': <attribute '__weakref__' of 'Circle' objects>,\n",
      "              'area': <function Circle.area at 0x0000027FBEB939D0>,\n",
      "              'circumference': <function Circle.circumference at 0x0000027FBEB5FD30>,\n",
      "              'cylinder_volume': <function Circle.cylinder_volume at 0x0000027FBEB04670>,\n",
      "              'diameter': <function Circle.diameter at 0x0000027FBEB5FC10>})\n"
     ]
    }
   ],
   "source": [
    "pprint(vars(Circle))"
   ]
  },
  {
   "cell_type": "markdown",
   "id": "c7c04a06-3c67-4424-b5ba-dd5deb4343df",
   "metadata": {},
   "source": [
    "o. Call the __dict__ on the object of the class. "
   ]
  },
  {
   "cell_type": "code",
   "execution_count": 37,
   "id": "5e2cecbd-4dd3-4056-8537-0dc5f7a2d272",
   "metadata": {},
   "outputs": [
    {
     "name": "stdout",
     "output_type": "stream",
     "text": [
      "{'radius': 8}\n",
      "{'radius': 4}\n"
     ]
    }
   ],
   "source": [
    "print(inst_1.__dict__)\n",
    "print(inst_2.__dict__)"
   ]
  },
  {
   "cell_type": "markdown",
   "id": "35717672-59b7-4c3c-93f0-539f8480f180",
   "metadata": {},
   "source": [
    "p. Pass the class name to help. "
   ]
  },
  {
   "cell_type": "code",
   "execution_count": 38,
   "id": "4dafe6c7-e57d-40dd-9485-7997e5eb451f",
   "metadata": {},
   "outputs": [
    {
     "name": "stdout",
     "output_type": "stream",
     "text": [
      "Help on class Circle in module __main__:\n",
      "\n",
      "class Circle(builtins.object)\n",
      " |  Circle(radius: float)\n",
      " |  \n",
      " |  A class representing a circle in a 2D space.\n",
      " |  \n",
      " |  Methods defined here:\n",
      " |  \n",
      " |  __init__(self, radius: float)\n",
      " |      Initializes a Circle instance.\n",
      " |      \n",
      " |      Parameters:\n",
      " |      - radius: The radius of the circle in float.\n",
      " |  \n",
      " |  __repr__(self)\n",
      " |      Return repr(self).\n",
      " |  \n",
      " |  __str__(self)\n",
      " |      Return str(self).\n",
      " |  \n",
      " |  area(self) -> float\n",
      " |      Calculates the area of the circle.\n",
      " |      Returns: The area of the circle in float.\n",
      " |  \n",
      " |  circumference(self) -> float\n",
      " |      Calculates the circumference of the circle.  \n",
      " |      Returns: The circumference of the circle in float.\n",
      " |  \n",
      " |  cylinder_volume(self, height: float) -> float\n",
      " |      Calculates the volume of a cylinder with the circle as the base.\n",
      " |      \n",
      " |      Parameters:\n",
      " |                  Height\n",
      " |  \n",
      " |  diameter(self) -> float\n",
      " |      Calculates the diameter of the circle.\n",
      " |      Returns: The diameter of the circle in  float.\n",
      " |  \n",
      " |  ----------------------------------------------------------------------\n",
      " |  Data descriptors defined here:\n",
      " |  \n",
      " |  __dict__\n",
      " |      dictionary for instance variables (if defined)\n",
      " |  \n",
      " |  __weakref__\n",
      " |      list of weak references to the object (if defined)\n",
      "\n"
     ]
    }
   ],
   "source": [
    "help(Circle)"
   ]
  },
  {
   "cell_type": "markdown",
   "id": "7d575523-e0f4-4d21-a57a-f014a83fe3dd",
   "metadata": {},
   "source": [
    "q. Print the doc-string and annotations of both the class and each instance method."
   ]
  },
  {
   "cell_type": "code",
   "execution_count": 39,
   "id": "1ad08721-957c-4af5-a7d1-63618123988a",
   "metadata": {},
   "outputs": [
    {
     "name": "stdout",
     "output_type": "stream",
     "text": [
      "A class representing a circle in a 2D space.\n",
      "    \n",
      "\n",
      "        Initializes a Circle instance.\n",
      "        \n",
      "        Parameters:\n",
      "        - radius: The radius of the circle in float.\n",
      "        \n",
      "\n",
      "{'return': <class 'float'>}\n",
      "\n",
      "        Calculates the area of the circle.\n",
      "        Returns: The area of the circle in float.\n",
      "        \n",
      "\n",
      "{'return': <class 'float'>}\n",
      "\n",
      "        Calculates the circumference of the circle.  \n",
      "        Returns: The circumference of the circle in float.\n",
      "        \n",
      "\n",
      "\n",
      "        Calculates the diameter of the circle.\n",
      "        Returns: The diameter of the circle in  float.\n",
      "        \n",
      "{'return': <class 'float'>}\n",
      "\n",
      "\n",
      "        Calculates the volume of a cylinder with the circle as the base.\n",
      "        \n",
      "        Parameters:\n",
      "                    Height\n",
      "        \n",
      "{'height': <class 'float'>, 'return': <class 'float'>}\n"
     ]
    }
   ],
   "source": [
    "print(Circle.__doc__)\n",
    "print(Circle.__init__.__doc__)\n",
    "print()\n",
    "print(Circle.area.__annotations__)\n",
    "print(Circle.area.__doc__)\n",
    "print()\n",
    "print(Circle.circumference.__annotations__)\n",
    "print(Circle.circumference.__doc__)\n",
    "\n",
    "print()\n",
    "print(Circle.diameter.__doc__)\n",
    "print(Circle.diameter.__annotations__)\n",
    "print()\n",
    "print(Circle.cylinder_volume.__doc__)\n",
    "print(Circle.cylinder_volume.__annotations__)"
   ]
  },
  {
   "cell_type": "markdown",
   "id": "bacd9943-65e1-4fc5-8db2-1968015e2459",
   "metadata": {},
   "source": [
    "**3.** Define a class RLC for a series RLC circuit. Your class must have the appropriate __init__ method.\n",
    "* Add property method for impedance, phase, and power factor.\n",
    "* In addition, add an instance method for the current in the circuit with a given\n",
    "input voltage.\n",
    "* Add __repr__ and __str__ to the class.\n",
    "* Add proper annotation and doc string to every class and instance method. "
   ]
  },
  {
   "cell_type": "code",
   "execution_count": 40,
   "id": "af168056-c396-49ee-ae5c-b332ea137722",
   "metadata": {},
   "outputs": [],
   "source": [
    "import math\n",
    "class RLC:\n",
    "    \"\"\"A class representing a series RLC circuit with resistance (R), inductance (L), and capacitance (C).\"\"\"\n",
    "\n",
    "    def __init__(self, R: float = 1, XL: float = 1, XC: float = 1, F: float = 100):\n",
    "        \"\"\"\n",
    "        Initializes an RLC circuit instance.\n",
    "        \n",
    "        Parameters:\n",
    "        - resistance : Resistance (R) in ohms.\n",
    "        - inductance : Inductance (L) in henrys.\n",
    "        - capacitance : Capacitance (C) in farads.\n",
    "        - frequency : Frequency (f) of the AC source in hertz.\n",
    "        \"\"\"\n",
    "        self.R = R\n",
    "        self.XL = XL\n",
    "        self.XC = XC\n",
    "        self.F = F\n",
    "    def Z(self) -> float:\n",
    "        \"\"\"\n",
    "        Calculates the impedance of the RLC circuit.\n",
    "        Returns: The impedance in ohms in float.\n",
    "        \"\"\"\n",
    "        Frequency = math.pi * 2 *  self.F\n",
    "        reactance_inductive = Frequency * self.XL\n",
    "        reactance_capacitive = 1 / (Frequency * self.XC)\n",
    "        return sqrt(self.R ** 2 + (reactance_inductive - reactance_capacitive) ** 2)\n",
    "    def phase(self) -> float:\n",
    "        \"\"\"\n",
    "        Calculates the phase angle (in degrees) of the RLC circuit.\n",
    "        \n",
    "        Returns:\n",
    "        - float: The phase angle in degrees.\n",
    "        \"\"\"\n",
    "        return atan((reactance_inductive - reactance_capacitive) / self.R) * (180 / math.pi)\n",
    "    def power_factor(self) -> float:\n",
    "        \"\"\"\n",
    "        Calculates the power factor of the RLC circuit.\n",
    "        \n",
    "        Returns: The power factor.\n",
    "        \"\"\"\n",
    "        return math.cos(math.radians(self.phase))\n",
    "    def current(self, voltage: float) -> float:\n",
    "        \"\"\"\n",
    "        Calculates the current in the RLC circuit for a given input voltage.\n",
    "        \n",
    "        Parameters:\n",
    "        - voltage : The input voltage in volts.\n",
    "        \n",
    "        Returns: The current in amperes.\n",
    "        \"\"\"\n",
    "        return voltage / self.Z\n",
    "        \n",
    "    def __repr__(self) -> str:\n",
    "        \"\"\"\n",
    "        Returns a formal string representation of the RLC instance. \n",
    "        Returns: A representation of the RLC circuit with R, L, C, and frequency.\n",
    "        \"\"\"\n",
    "        return (f\"{type(self).__name__}(Resistance={self.R} ohm, \"\n",
    "                f\"Inductance={self.XL} H, Capacitance={self.XC} F, \"\n",
    "                f\"Frequency={self.F} Hz)\")\n",
    "\n",
    "    def __str__(self) -> str:\n",
    "        \"\"\"\n",
    "        Returns an informal string representation of the RLC instance.\n",
    "        \n",
    "        Returns:  A description of the RLC circuit components and properties.\n",
    "        \"\"\"\n",
    "        return (f\"Series RLC Circuit with R = {self.R} ohm, L = {self.XL} H, \"\n",
    "                f\"C = {self.XC} F, f = {self.F} Hz\")\n"
   ]
  },
  {
   "cell_type": "markdown",
   "id": "a5c5d4c8-01d5-4e8d-9775-f909db1f49ab",
   "metadata": {},
   "source": [
    "a. Define inst_1\n",
    "* Make another instance inst2. "
   ]
  },
  {
   "cell_type": "code",
   "execution_count": 42,
   "id": "fadfccbc-bad9-4283-b799-bb6ae2faf831",
   "metadata": {},
   "outputs": [],
   "source": [
    "inst_1 = RLC(10,13,15,2800)\n",
    "inst_2 = RLC(13, 17, 20, 4000)"
   ]
  },
  {
   "cell_type": "markdown",
   "id": "f40dfaec-be6b-40db-85c5-45bf5853f101",
   "metadata": {},
   "source": [
    "c. Print inst_1 and inst_2, for this use the print command and pass theinst_1 and inst_2."
   ]
  },
  {
   "cell_type": "code",
   "execution_count": 43,
   "id": "6db81538-8bc8-43ca-81e7-d2cf0cc2ea21",
   "metadata": {},
   "outputs": [
    {
     "name": "stdout",
     "output_type": "stream",
     "text": [
      "Series RLC Circuit with R = 10 ohm, L = 13 H, C = 15 F, f = 2800 Hz\n",
      "Series RLC Circuit with R = 13 ohm, L = 17 H, C = 20 F, f = 4000 Hz\n"
     ]
    }
   ],
   "source": [
    "print(inst_1)\n",
    "print(inst_2)"
   ]
  },
  {
   "cell_type": "code",
   "execution_count": 44,
   "id": "c9d96ba5-8a34-4679-9678-e8c869fc4f6b",
   "metadata": {},
   "outputs": [
    {
     "data": {
      "text/plain": [
       "RLC(Resistance=10 ohm, Inductance=13 H, Capacitance=15 F, Frequency=2800 Hz)"
      ]
     },
     "execution_count": 44,
     "metadata": {},
     "output_type": "execute_result"
    }
   ],
   "source": [
    "inst_1"
   ]
  },
  {
   "cell_type": "code",
   "execution_count": 45,
   "id": "2854a7dd-4013-4bd9-adbf-1374fddcfa60",
   "metadata": {},
   "outputs": [
    {
     "data": {
      "text/plain": [
       "RLC(Resistance=13 ohm, Inductance=17 H, Capacitance=20 F, Frequency=4000 Hz)"
      ]
     },
     "execution_count": 45,
     "metadata": {},
     "output_type": "execute_result"
    }
   ],
   "source": [
    "inst_2"
   ]
  },
  {
   "cell_type": "markdown",
   "id": "1082f45e-1016-4858-8016-992964e32ba9",
   "metadata": {},
   "source": [
    "d. Call the __dict__ by the class name. "
   ]
  },
  {
   "cell_type": "code",
   "execution_count": 46,
   "id": "edd0f3ad-5b66-42af-875e-806c56319294",
   "metadata": {},
   "outputs": [
    {
     "name": "stdout",
     "output_type": "stream",
     "text": [
      "mappingproxy({'Z': <function RLC.Z at 0x0000027FBEBC9280>,\n",
      "              '__dict__': <attribute '__dict__' of 'RLC' objects>,\n",
      "              '__doc__': 'A class representing a series RLC circuit with '\n",
      "                         'resistance (R), inductance (L), and capacitance (C).',\n",
      "              '__init__': <function RLC.__init__ at 0x0000027FBEB93E50>,\n",
      "              '__module__': '__main__',\n",
      "              '__repr__': <function RLC.__repr__ at 0x0000027FBEBC9700>,\n",
      "              '__str__': <function RLC.__str__ at 0x0000027FBEBC9790>,\n",
      "              '__weakref__': <attribute '__weakref__' of 'RLC' objects>,\n",
      "              'current': <function RLC.current at 0x0000027FBEBC9670>,\n",
      "              'phase': <function RLC.phase at 0x0000027FBEBC91F0>,\n",
      "              'power_factor': <function RLC.power_factor at 0x0000027FBEBC95E0>})\n"
     ]
    }
   ],
   "source": [
    "from pprint import pprint\n",
    "pprint(RLC.__dict__)"
   ]
  },
  {
   "cell_type": "markdown",
   "id": "0e42fdb7-be3b-48f8-baae-0f5f9a6c26d5",
   "metadata": {},
   "source": [
    "e. Also pass the class name to the vars built-in function.\n"
   ]
  },
  {
   "cell_type": "code",
   "execution_count": 47,
   "id": "e9f4153b-1110-4418-b77a-caa9cf637e5b",
   "metadata": {},
   "outputs": [
    {
     "name": "stdout",
     "output_type": "stream",
     "text": [
      "mappingproxy({'Z': <function RLC.Z at 0x0000027FBEBC9280>,\n",
      "              '__dict__': <attribute '__dict__' of 'RLC' objects>,\n",
      "              '__doc__': 'A class representing a series RLC circuit with '\n",
      "                         'resistance (R), inductance (L), and capacitance (C).',\n",
      "              '__init__': <function RLC.__init__ at 0x0000027FBEB93E50>,\n",
      "              '__module__': '__main__',\n",
      "              '__repr__': <function RLC.__repr__ at 0x0000027FBEBC9700>,\n",
      "              '__str__': <function RLC.__str__ at 0x0000027FBEBC9790>,\n",
      "              '__weakref__': <attribute '__weakref__' of 'RLC' objects>,\n",
      "              'current': <function RLC.current at 0x0000027FBEBC9670>,\n",
      "              'phase': <function RLC.phase at 0x0000027FBEBC91F0>,\n",
      "              'power_factor': <function RLC.power_factor at 0x0000027FBEBC95E0>})\n"
     ]
    }
   ],
   "source": [
    "pprint(vars(RLC))"
   ]
  },
  {
   "cell_type": "markdown",
   "id": "befde619-6ac0-44d3-a79d-9f3467a68bfc",
   "metadata": {},
   "source": [
    "f. Call the __dict__ on the object of the class. "
   ]
  },
  {
   "cell_type": "code",
   "execution_count": 48,
   "id": "b0ef46c7-c0a3-4eb8-971c-0dab2de00eba",
   "metadata": {},
   "outputs": [
    {
     "name": "stdout",
     "output_type": "stream",
     "text": [
      "{'R': 10, 'XL': 13, 'XC': 15, 'F': 2800}\n"
     ]
    }
   ],
   "source": [
    "print(inst_1.__dict__)"
   ]
  },
  {
   "cell_type": "code",
   "execution_count": 49,
   "id": "beceea6e-9fd4-4a05-a998-8b52adf32b73",
   "metadata": {},
   "outputs": [
    {
     "name": "stdout",
     "output_type": "stream",
     "text": [
      "{'R': 13, 'XL': 17, 'XC': 20, 'F': 4000}\n"
     ]
    }
   ],
   "source": [
    "print(inst_2.__dict__)"
   ]
  },
  {
   "cell_type": "markdown",
   "id": "7745075f-8090-4918-813b-5303d6ff8dcd",
   "metadata": {},
   "source": [
    "g. Pass the class name to help. "
   ]
  },
  {
   "cell_type": "code",
   "execution_count": 50,
   "id": "3d5da321-19d7-4f17-930e-2b210823cb17",
   "metadata": {},
   "outputs": [
    {
     "name": "stdout",
     "output_type": "stream",
     "text": [
      "Help on class RLC in module __main__:\n",
      "\n",
      "class RLC(builtins.object)\n",
      " |  RLC(R: float = 1, XL: float = 1, XC: float = 1, F: float = 100)\n",
      " |  \n",
      " |  A class representing a series RLC circuit with resistance (R), inductance (L), and capacitance (C).\n",
      " |  \n",
      " |  Methods defined here:\n",
      " |  \n",
      " |  Z(self) -> float\n",
      " |      Calculates the impedance of the RLC circuit.\n",
      " |      Returns: The impedance in ohms in float.\n",
      " |  \n",
      " |  __init__(self, R: float = 1, XL: float = 1, XC: float = 1, F: float = 100)\n",
      " |      Initializes an RLC circuit instance.\n",
      " |      \n",
      " |      Parameters:\n",
      " |      - resistance : Resistance (R) in ohms.\n",
      " |      - inductance : Inductance (L) in henrys.\n",
      " |      - capacitance : Capacitance (C) in farads.\n",
      " |      - frequency : Frequency (f) of the AC source in hertz.\n",
      " |  \n",
      " |  __repr__(self) -> str\n",
      " |      Returns a formal string representation of the RLC instance. \n",
      " |      Returns: A representation of the RLC circuit with R, L, C, and frequency.\n",
      " |  \n",
      " |  __str__(self) -> str\n",
      " |      Returns an informal string representation of the RLC instance.\n",
      " |      \n",
      " |      Returns:  A description of the RLC circuit components and properties.\n",
      " |  \n",
      " |  current(self, voltage: float) -> float\n",
      " |      Calculates the current in the RLC circuit for a given input voltage.\n",
      " |      \n",
      " |      Parameters:\n",
      " |      - voltage : The input voltage in volts.\n",
      " |      \n",
      " |      Returns: The current in amperes.\n",
      " |  \n",
      " |  phase(self) -> float\n",
      " |      Calculates the phase angle (in degrees) of the RLC circuit.\n",
      " |      \n",
      " |      Returns:\n",
      " |      - float: The phase angle in degrees.\n",
      " |  \n",
      " |  power_factor(self) -> float\n",
      " |      Calculates the power factor of the RLC circuit.\n",
      " |      \n",
      " |      Returns: The power factor.\n",
      " |  \n",
      " |  ----------------------------------------------------------------------\n",
      " |  Data descriptors defined here:\n",
      " |  \n",
      " |  __dict__\n",
      " |      dictionary for instance variables (if defined)\n",
      " |  \n",
      " |  __weakref__\n",
      " |      list of weak references to the object (if defined)\n",
      "\n"
     ]
    }
   ],
   "source": [
    "help(RLC)"
   ]
  },
  {
   "cell_type": "markdown",
   "id": "f3644f32-7d00-43a1-b73e-db1e397aa7df",
   "metadata": {},
   "source": [
    "h. Print the doc-string and annotations of both the class and each instance method. "
   ]
  },
  {
   "cell_type": "code",
   "execution_count": 51,
   "id": "e73afeb3-a9f6-4dcc-84d9-d4768c054dd1",
   "metadata": {},
   "outputs": [
    {
     "name": "stdout",
     "output_type": "stream",
     "text": [
      "A class representing a series RLC circuit with resistance (R), inductance (L), and capacitance (C).\n",
      "{'R': <class 'float'>, 'XL': <class 'float'>, 'XC': <class 'float'>, 'F': <class 'float'>}\n",
      "\n",
      "\n",
      "        Calculates the impedance of the RLC circuit.\n",
      "        Returns: The impedance in ohms in float.\n",
      "        \n",
      "{'return': <class 'float'>}\n",
      "\n",
      "\n",
      "        Calculates the phase angle (in degrees) of the RLC circuit.\n",
      "        \n",
      "        Returns:\n",
      "        - float: The phase angle in degrees.\n",
      "        \n",
      "{'return': <class 'float'>}\n",
      "\n",
      "\n",
      "        Calculates the current in the RLC circuit for a given input voltage.\n",
      "        \n",
      "        Parameters:\n",
      "        - voltage : The input voltage in volts.\n",
      "        \n",
      "        Returns: The current in amperes.\n",
      "        \n",
      "{'voltage': <class 'float'>, 'return': <class 'float'>}\n",
      "\n",
      "{'return': <class 'str'>}\n",
      "\n",
      "        Returns a formal string representation of the RLC instance. \n",
      "        Returns: A representation of the RLC circuit with R, L, C, and frequency.\n",
      "        \n",
      "\n",
      "{'return': <class 'str'>}\n",
      "\n",
      "        Returns an informal string representation of the RLC instance.\n",
      "        \n",
      "        Returns:  A description of the RLC circuit components and properties.\n",
      "        \n"
     ]
    }
   ],
   "source": [
    "print(RLC.__doc__)\n",
    "print(RLC.__init__.__annotations__)\n",
    "print()\n",
    "print(RLC.Z.__doc__)\n",
    "print(RLC.Z.__annotations__)\n",
    "print()\n",
    "print(RLC.phase.__doc__)\n",
    "print(RLC.phase.__annotations__)\n",
    "print()\n",
    "print(RLC.current.__doc__)\n",
    "print(RLC.current.__annotations__)\n",
    "print()\n",
    "print(RLC.__repr__.__annotations__)\n",
    "print(RLC.__repr__.__doc__)\n",
    "print()\n",
    "print(RLC.__str__.__annotations__)\n",
    "print(RLC.__str__.__doc__)"
   ]
  },
  {
   "cell_type": "code",
   "execution_count": 52,
   "id": "6cf5280f-e0fa-4670-89d4-dc2d0e38f699",
   "metadata": {},
   "outputs": [
    {
     "name": "stdout",
     "output_type": "stream",
     "text": [
      "Series RLC Circuit with R = 1 ohm, L = 1 H, C = 1 F, f = 100 Hz\n"
     ]
    }
   ],
   "source": [
    "    inst_3 = RLC()\n",
    "print(inst_3)"
   ]
  },
  {
   "cell_type": "code",
   "execution_count": null,
   "id": "a5c6262c-caaa-40cd-9b10-909389c6ddc3",
   "metadata": {},
   "outputs": [],
   "source": []
  },
  {
   "cell_type": "markdown",
   "id": "94917755-e41e-4962-b364-bee6679889a0",
   "metadata": {},
   "source": [
    "*4*. ***Square:*** A four-sided polygon (quadrilateral) with all sides of equal length and all angles 90\n",
    "degrees."
   ]
  },
  {
   "cell_type": "code",
   "execution_count": 53,
   "id": "a22c0dba-fdd6-40cf-89c8-9ce8506c1a02",
   "metadata": {},
   "outputs": [],
   "source": [
    "class Square:\n",
    "    \"\"\"\n",
    "    Represents a square, a four-sided polygon (quadrilateral) with all sides of equal length and all angles 90 degrees.\n",
    "\n",
    "    This class provides methods to calculate the area and perimeter of the square and to compare its size with another square.\n",
    "\n",
    "    Attributes: side_length : float\n",
    "        The length of one side of the square.\n",
    "    \"\"\"\n",
    "\n",
    "    def __init__(self, side_length: float = 1.0):\n",
    "        \"\"\"\n",
    "        Initializes a square with a specified side length.\n",
    "        \n",
    "        Parameters: side_length : float\n",
    "            The length of each side of the square in units (default is 1.0).\n",
    "        \"\"\"\n",
    "        self.side_length = side_length\n",
    "    def area(self) -> float:\n",
    "        \"\"\"\n",
    "        Calculates the area of the square.\n",
    "\n",
    "        Returns: float\n",
    "            The area of the square (side_length^2).\n",
    "        \"\"\"\n",
    "        return self.side_length ** 2\n",
    "    def perimeter(self) -> float:\n",
    "        \"\"\"\n",
    "        Calculates the perimeter of the square.\n",
    "\n",
    "        Returns: float\n",
    "            The perimeter of the square (4 * side_length).\n",
    "        \"\"\"\n",
    "        return 4 * self.side_length\n",
    "    def __repr__(self) -> str:\n",
    "        \"\"\"\n",
    "        Returns a formal string representation of the Square instance.\n",
    "\n",
    "        Returns:  str\n",
    "            A representation of the Square with side length.\n",
    "        \"\"\"\n",
    "        return f\"{type(self).__name__}(side_length={self.side_length})\"\n",
    "\n",
    "    def __str__(self) -> str:\n",
    "        \"\"\"\n",
    "        Returns an informal string representation of the Square instance.\n",
    "\n",
    "        Returns: str\n",
    "            A description of the Square with its side length, area, and perimeter.\n",
    "        \"\"\"\n",
    "        return (f\"Square with side length = {self.side_length}\")\n"
   ]
  },
  {
   "cell_type": "code",
   "execution_count": 54,
   "id": "3b6ca04e-9d96-4c3a-b1ef-fb3cae8207eb",
   "metadata": {},
   "outputs": [],
   "source": [
    "inst_1 = Square(12)\n",
    "inst_2 = Square(20)"
   ]
  },
  {
   "cell_type": "code",
   "execution_count": 55,
   "id": "64c6f8fe-1ce7-4e5f-8cda-d3684747f2df",
   "metadata": {},
   "outputs": [
    {
     "name": "stdout",
     "output_type": "stream",
     "text": [
      "Square with side length = 12\n",
      "Square with side length = 20\n"
     ]
    }
   ],
   "source": [
    "print(inst_1)\n",
    "print(inst_2)"
   ]
  },
  {
   "cell_type": "code",
   "execution_count": 56,
   "id": "184d8a06-cbca-47cf-bc5b-f1e0d2756ac0",
   "metadata": {},
   "outputs": [
    {
     "data": {
      "text/plain": [
       "Square(side_length=12)"
      ]
     },
     "execution_count": 56,
     "metadata": {},
     "output_type": "execute_result"
    }
   ],
   "source": [
    "inst_1"
   ]
  },
  {
   "cell_type": "code",
   "execution_count": 58,
   "id": "f8923f1d-ec1d-4b7e-985d-8f760ee7e815",
   "metadata": {},
   "outputs": [
    {
     "data": {
      "text/plain": [
       "Square(side_length=20)"
      ]
     },
     "execution_count": 58,
     "metadata": {},
     "output_type": "execute_result"
    }
   ],
   "source": [
    "inst_2"
   ]
  },
  {
   "cell_type": "code",
   "execution_count": 59,
   "id": "89d43c6b-85e5-4130-b857-b6dd0d26b490",
   "metadata": {},
   "outputs": [
    {
     "name": "stdout",
     "output_type": "stream",
     "text": [
      "mappingproxy({'__dict__': <attribute '__dict__' of 'Square' objects>,\n",
      "              '__doc__': '\\n'\n",
      "                         '    Represents a square, a four-sided polygon '\n",
      "                         '(quadrilateral) with all sides of equal length and '\n",
      "                         'all angles 90 degrees.\\n'\n",
      "                         '\\n'\n",
      "                         '    This class provides methods to calculate the '\n",
      "                         'area and perimeter of the square and to compare its '\n",
      "                         'size with another square.\\n'\n",
      "                         '\\n'\n",
      "                         '    Attributes: side_length : float\\n'\n",
      "                         '        The length of one side of the square.\\n'\n",
      "                         '    ',\n",
      "              '__init__': <function Square.__init__ at 0x0000027FBEBC9940>,\n",
      "              '__module__': '__main__',\n",
      "              '__repr__': <function Square.__repr__ at 0x0000027FBEBC9C10>,\n",
      "              '__str__': <function Square.__str__ at 0x0000027FBEBC9A60>,\n",
      "              '__weakref__': <attribute '__weakref__' of 'Square' objects>,\n",
      "              'area': <function Square.area at 0x0000027FBEBC9820>,\n",
      "              'perimeter': <function Square.perimeter at 0x0000027FBEBC9CA0>})\n"
     ]
    }
   ],
   "source": [
    "from pprint import pprint\n",
    "pprint(Square.__dict__)"
   ]
  },
  {
   "cell_type": "code",
   "execution_count": 60,
   "id": "4e4bd8f1-9cb3-476d-94bc-4df14f07d03a",
   "metadata": {},
   "outputs": [
    {
     "name": "stdout",
     "output_type": "stream",
     "text": [
      "mappingproxy({'__dict__': <attribute '__dict__' of 'Square' objects>,\n",
      "              '__doc__': '\\n'\n",
      "                         '    Represents a square, a four-sided polygon '\n",
      "                         '(quadrilateral) with all sides of equal length and '\n",
      "                         'all angles 90 degrees.\\n'\n",
      "                         '\\n'\n",
      "                         '    This class provides methods to calculate the '\n",
      "                         'area and perimeter of the square and to compare its '\n",
      "                         'size with another square.\\n'\n",
      "                         '\\n'\n",
      "                         '    Attributes: side_length : float\\n'\n",
      "                         '        The length of one side of the square.\\n'\n",
      "                         '    ',\n",
      "              '__init__': <function Square.__init__ at 0x0000027FBEBC9940>,\n",
      "              '__module__': '__main__',\n",
      "              '__repr__': <function Square.__repr__ at 0x0000027FBEBC9C10>,\n",
      "              '__str__': <function Square.__str__ at 0x0000027FBEBC9A60>,\n",
      "              '__weakref__': <attribute '__weakref__' of 'Square' objects>,\n",
      "              'area': <function Square.area at 0x0000027FBEBC9820>,\n",
      "              'perimeter': <function Square.perimeter at 0x0000027FBEBC9CA0>})\n"
     ]
    }
   ],
   "source": [
    "pprint(vars(Square))"
   ]
  },
  {
   "cell_type": "code",
   "execution_count": 61,
   "id": "79ccdcc7-d392-416b-a002-01b1727fc62c",
   "metadata": {},
   "outputs": [
    {
     "name": "stdout",
     "output_type": "stream",
     "text": [
      "{'side_length': 12}\n",
      "{'side_length': 20}\n"
     ]
    }
   ],
   "source": [
    "print(inst_1.__dict__)\n",
    "print(inst_2.__dict__)"
   ]
  },
  {
   "cell_type": "code",
   "execution_count": 62,
   "id": "2d92630a-483d-44ea-8558-22c1822b9573",
   "metadata": {},
   "outputs": [
    {
     "name": "stdout",
     "output_type": "stream",
     "text": [
      "Help on class Square in module __main__:\n",
      "\n",
      "class Square(builtins.object)\n",
      " |  Square(side_length: float = 1.0)\n",
      " |  \n",
      " |  Represents a square, a four-sided polygon (quadrilateral) with all sides of equal length and all angles 90 degrees.\n",
      " |  \n",
      " |  This class provides methods to calculate the area and perimeter of the square and to compare its size with another square.\n",
      " |  \n",
      " |  Attributes: side_length : float\n",
      " |      The length of one side of the square.\n",
      " |  \n",
      " |  Methods defined here:\n",
      " |  \n",
      " |  __init__(self, side_length: float = 1.0)\n",
      " |      Initializes a square with a specified side length.\n",
      " |      \n",
      " |      Parameters: side_length : float\n",
      " |          The length of each side of the square in units (default is 1.0).\n",
      " |  \n",
      " |  __repr__(self) -> str\n",
      " |      Returns a formal string representation of the Square instance.\n",
      " |      \n",
      " |      Returns:  str\n",
      " |          A representation of the Square with side length.\n",
      " |  \n",
      " |  __str__(self) -> str\n",
      " |      Returns an informal string representation of the Square instance.\n",
      " |      \n",
      " |      Returns: str\n",
      " |          A description of the Square with its side length, area, and perimeter.\n",
      " |  \n",
      " |  area(self) -> float\n",
      " |      Calculates the area of the square.\n",
      " |      \n",
      " |      Returns: float\n",
      " |          The area of the square (side_length^2).\n",
      " |  \n",
      " |  perimeter(self) -> float\n",
      " |      Calculates the perimeter of the square.\n",
      " |      \n",
      " |      Returns: float\n",
      " |          The perimeter of the square (4 * side_length).\n",
      " |  \n",
      " |  ----------------------------------------------------------------------\n",
      " |  Data descriptors defined here:\n",
      " |  \n",
      " |  __dict__\n",
      " |      dictionary for instance variables (if defined)\n",
      " |  \n",
      " |  __weakref__\n",
      " |      list of weak references to the object (if defined)\n",
      "\n"
     ]
    }
   ],
   "source": [
    "help(Square)"
   ]
  },
  {
   "cell_type": "code",
   "execution_count": 63,
   "id": "6275f203-c64a-4792-8cd2-6cf658ee3b7a",
   "metadata": {},
   "outputs": [
    {
     "name": "stdout",
     "output_type": "stream",
     "text": [
      "\n",
      "    Represents a square, a four-sided polygon (quadrilateral) with all sides of equal length and all angles 90 degrees.\n",
      "\n",
      "    This class provides methods to calculate the area and perimeter of the square and to compare its size with another square.\n",
      "\n",
      "    Attributes: side_length : float\n",
      "        The length of one side of the square.\n",
      "    \n",
      "{'side_length': <class 'float'>}\n",
      "\n",
      "\n",
      "        Calculates the area of the square.\n",
      "\n",
      "        Returns: float\n",
      "            The area of the square (side_length^2).\n",
      "        \n",
      "{'return': <class 'float'>}\n",
      "\n",
      "\n",
      "        Calculates the perimeter of the square.\n",
      "\n",
      "        Returns: float\n",
      "            The perimeter of the square (4 * side_length).\n",
      "        \n",
      "{'return': <class 'float'>}\n",
      "\n",
      "{'return': <class 'str'>}\n",
      "\n",
      "        Returns a formal string representation of the Square instance.\n",
      "\n",
      "        Returns:  str\n",
      "            A representation of the Square with side length.\n",
      "        \n",
      "\n",
      "{'return': <class 'str'>}\n",
      "\n",
      "        Returns an informal string representation of the Square instance.\n",
      "\n",
      "        Returns: str\n",
      "            A description of the Square with its side length, area, and perimeter.\n",
      "        \n"
     ]
    }
   ],
   "source": [
    "print(Square.__doc__)\n",
    "print(Square.__init__.__annotations__)\n",
    "print()\n",
    "print(Square.area.__doc__)\n",
    "print(Square.area.__annotations__)\n",
    "print()\n",
    "print(Square.perimeter.__doc__)\n",
    "print(Square.perimeter.__annotations__)\n",
    "print()\n",
    "print(Square.__repr__.__annotations__)\n",
    "print(Square.__repr__.__doc__)\n",
    "print()\n",
    "print(Square.__str__.__annotations__)\n",
    "print(Square.__str__.__doc__)"
   ]
  },
  {
   "cell_type": "markdown",
   "id": "a0986c17-3209-44b9-813d-70a05885e2cb",
   "metadata": {},
   "source": [
    "## 5.  *Rectangle:*"
   ]
  },
  {
   "cell_type": "code",
   "execution_count": 64,
   "id": "493187d3-bdfb-4f83-afa0-7649799b7215",
   "metadata": {},
   "outputs": [],
   "source": [
    "class Rectangle:\n",
    "    \"\"\"\n",
    "    Represents a rectangle, a four-sided polygon where opposite sides are equal in length \n",
    "    and all angles are 90 degrees.   \n",
    "    This class provides methods to calculate the area, perimeter, and to check if two rectangles \n",
    "    are of the same size.    \n",
    "    Attributes: length : float\n",
    "        The length of the rectangle.\n",
    "    width : float\n",
    "        The width of the rectangle.\n",
    "    \"\"\"\n",
    "\n",
    "    def __init__(self, length = 2.0, width: float = 4.0):\n",
    "        \"\"\"\n",
    "        Initializes a Rectangle instance with specified length and width. \n",
    "        Parameters: length : float\n",
    "            The length of the rectangle.\n",
    "        width : float\n",
    "            The width of the rectangle.\n",
    "        \"\"\"\n",
    "        self.length = length\n",
    "        self.width = width\n",
    "    def area(self) -> float:\n",
    "        \"\"\"\n",
    "        Calculates the area of the rectangle.   \n",
    "        Returns: float\n",
    "            The area of the rectangle.\n",
    "        \"\"\"\n",
    "        return self.length * self.width\n",
    "    def perimeter(self) -> float:\n",
    "        \"\"\"\n",
    "        Calculates the perimeter of the rectangle.     \n",
    "        Returns: float\n",
    "            The perimeter of the rectangle.\n",
    "        \"\"\"\n",
    "        return 2 * (self.length + self.width)\n",
    "    def __repr__(self) -> str:\n",
    "        \"\"\"\n",
    "        Returns a formal string representation of the Rectangle instance.\n",
    "        Returns:  str\n",
    "            A string with the class name, length, and width.\n",
    "        \"\"\"\n",
    "        return f\"{type(self).__name__}(length={self.length}, width={self.width})\"\n",
    "\n",
    "    def __str__(self) -> str:\n",
    "        \"\"\"\n",
    "        Returns an informal string representation of the Rectangle instance.\n",
    "        Returns: str\n",
    "            A description of the rectangle with its dimensions, area, and perimeter.\n",
    "        \"\"\"\n",
    "        return (f\"Rectangle with length = {self.length}, width = {self.width}\")\n"
   ]
  },
  {
   "cell_type": "code",
   "execution_count": 65,
   "id": "f5f7787e-4314-437f-8706-4d82d0e74c6b",
   "metadata": {},
   "outputs": [],
   "source": [
    "inst_1 = Rectangle(12,10)\n",
    "inst_2 = Rectangle(20,15)"
   ]
  },
  {
   "cell_type": "code",
   "execution_count": 66,
   "id": "e5982a81-78a5-4cbc-835b-5f34d7dafa5b",
   "metadata": {},
   "outputs": [
    {
     "name": "stdout",
     "output_type": "stream",
     "text": [
      "Rectangle with length = 12, width = 10\n",
      "Rectangle with length = 20, width = 15\n"
     ]
    }
   ],
   "source": [
    "print(inst_1)\n",
    "print(inst_2)"
   ]
  },
  {
   "cell_type": "code",
   "execution_count": 67,
   "id": "12f843b3-de41-4311-a3a9-e8ab938d748b",
   "metadata": {},
   "outputs": [
    {
     "data": {
      "text/plain": [
       "Rectangle(length=12, width=10)"
      ]
     },
     "execution_count": 67,
     "metadata": {},
     "output_type": "execute_result"
    }
   ],
   "source": [
    "inst_1"
   ]
  },
  {
   "cell_type": "code",
   "execution_count": 68,
   "id": "8f9bbb6d-a258-4ff7-9e1c-d3b3a0888b52",
   "metadata": {},
   "outputs": [
    {
     "data": {
      "text/plain": [
       "Rectangle(length=20, width=15)"
      ]
     },
     "execution_count": 68,
     "metadata": {},
     "output_type": "execute_result"
    }
   ],
   "source": [
    "inst_2"
   ]
  },
  {
   "cell_type": "code",
   "execution_count": 69,
   "id": "ed704681-393c-4978-964a-c47991dddc05",
   "metadata": {},
   "outputs": [
    {
     "name": "stdout",
     "output_type": "stream",
     "text": [
      "mappingproxy({'__dict__': <attribute '__dict__' of 'Rectangle' objects>,\n",
      "              '__doc__': '\\n'\n",
      "                         '    Represents a rectangle, a four-sided polygon '\n",
      "                         'where opposite sides are equal in length \\n'\n",
      "                         '    and all angles are 90 degrees.   \\n'\n",
      "                         '    This class provides methods to calculate the '\n",
      "                         'area, perimeter, and to check if two rectangles \\n'\n",
      "                         '    are of the same size.    \\n'\n",
      "                         '    Attributes: length : float\\n'\n",
      "                         '        The length of the rectangle.\\n'\n",
      "                         '    width : float\\n'\n",
      "                         '        The width of the rectangle.\\n'\n",
      "                         '    ',\n",
      "              '__init__': <function Rectangle.__init__ at 0x0000027FBEBDC0D0>,\n",
      "              '__module__': '__main__',\n",
      "              '__repr__': <function Rectangle.__repr__ at 0x0000027FBEBDC5E0>,\n",
      "              '__str__': <function Rectangle.__str__ at 0x0000027FBEBDC670>,\n",
      "              '__weakref__': <attribute '__weakref__' of 'Rectangle' objects>,\n",
      "              'area': <function Rectangle.area at 0x0000027FBEBDC310>,\n",
      "              'perimeter': <function Rectangle.perimeter at 0x0000027FBEBDC550>})\n"
     ]
    }
   ],
   "source": [
    "from pprint import pprint\n",
    "pprint(Rectangle.__dict__)"
   ]
  },
  {
   "cell_type": "code",
   "execution_count": 70,
   "id": "c12e39d2-6655-4f87-a8da-3077c052f955",
   "metadata": {},
   "outputs": [
    {
     "name": "stdout",
     "output_type": "stream",
     "text": [
      "mappingproxy({'__dict__': <attribute '__dict__' of 'Rectangle' objects>,\n",
      "              '__doc__': '\\n'\n",
      "                         '    Represents a rectangle, a four-sided polygon '\n",
      "                         'where opposite sides are equal in length \\n'\n",
      "                         '    and all angles are 90 degrees.   \\n'\n",
      "                         '    This class provides methods to calculate the '\n",
      "                         'area, perimeter, and to check if two rectangles \\n'\n",
      "                         '    are of the same size.    \\n'\n",
      "                         '    Attributes: length : float\\n'\n",
      "                         '        The length of the rectangle.\\n'\n",
      "                         '    width : float\\n'\n",
      "                         '        The width of the rectangle.\\n'\n",
      "                         '    ',\n",
      "              '__init__': <function Rectangle.__init__ at 0x0000027FBEBDC0D0>,\n",
      "              '__module__': '__main__',\n",
      "              '__repr__': <function Rectangle.__repr__ at 0x0000027FBEBDC5E0>,\n",
      "              '__str__': <function Rectangle.__str__ at 0x0000027FBEBDC670>,\n",
      "              '__weakref__': <attribute '__weakref__' of 'Rectangle' objects>,\n",
      "              'area': <function Rectangle.area at 0x0000027FBEBDC310>,\n",
      "              'perimeter': <function Rectangle.perimeter at 0x0000027FBEBDC550>})\n"
     ]
    }
   ],
   "source": [
    "pprint(vars(Rectangle))"
   ]
  },
  {
   "cell_type": "code",
   "execution_count": 71,
   "id": "b06795b4-ec7f-4bfb-87a4-d1412bdb6580",
   "metadata": {},
   "outputs": [
    {
     "name": "stdout",
     "output_type": "stream",
     "text": [
      "{'length': 12, 'width': 10}\n",
      "{'length': 20, 'width': 15}\n"
     ]
    }
   ],
   "source": [
    "print(inst_1.__dict__)\n",
    "print(inst_2.__dict__)"
   ]
  },
  {
   "cell_type": "code",
   "execution_count": 72,
   "id": "edc404d5-6571-435b-98f0-e251604fb582",
   "metadata": {},
   "outputs": [
    {
     "name": "stdout",
     "output_type": "stream",
     "text": [
      "Help on class Rectangle in module __main__:\n",
      "\n",
      "class Rectangle(builtins.object)\n",
      " |  Rectangle(length=2.0, width: float = 4.0)\n",
      " |  \n",
      " |  Represents a rectangle, a four-sided polygon where opposite sides are equal in length \n",
      " |  and all angles are 90 degrees.   \n",
      " |  This class provides methods to calculate the area, perimeter, and to check if two rectangles \n",
      " |  are of the same size.    \n",
      " |  Attributes: length : float\n",
      " |      The length of the rectangle.\n",
      " |  width : float\n",
      " |      The width of the rectangle.\n",
      " |  \n",
      " |  Methods defined here:\n",
      " |  \n",
      " |  __init__(self, length=2.0, width: float = 4.0)\n",
      " |      Initializes a Rectangle instance with specified length and width. \n",
      " |      Parameters: length : float\n",
      " |          The length of the rectangle.\n",
      " |      width : float\n",
      " |          The width of the rectangle.\n",
      " |  \n",
      " |  __repr__(self) -> str\n",
      " |      Returns a formal string representation of the Rectangle instance.\n",
      " |      Returns:  str\n",
      " |          A string with the class name, length, and width.\n",
      " |  \n",
      " |  __str__(self) -> str\n",
      " |      Returns an informal string representation of the Rectangle instance.\n",
      " |      Returns: str\n",
      " |          A description of the rectangle with its dimensions, area, and perimeter.\n",
      " |  \n",
      " |  area(self) -> float\n",
      " |      Calculates the area of the rectangle.   \n",
      " |      Returns: float\n",
      " |          The area of the rectangle.\n",
      " |  \n",
      " |  perimeter(self) -> float\n",
      " |      Calculates the perimeter of the rectangle.     \n",
      " |      Returns: float\n",
      " |          The perimeter of the rectangle.\n",
      " |  \n",
      " |  ----------------------------------------------------------------------\n",
      " |  Data descriptors defined here:\n",
      " |  \n",
      " |  __dict__\n",
      " |      dictionary for instance variables (if defined)\n",
      " |  \n",
      " |  __weakref__\n",
      " |      list of weak references to the object (if defined)\n",
      "\n"
     ]
    }
   ],
   "source": [
    "help(Rectangle)"
   ]
  },
  {
   "cell_type": "code",
   "execution_count": 73,
   "id": "9718b6e0-8a98-484f-9c6b-45e375d7c7f4",
   "metadata": {},
   "outputs": [
    {
     "name": "stdout",
     "output_type": "stream",
     "text": [
      "\n",
      "    Represents a rectangle, a four-sided polygon where opposite sides are equal in length \n",
      "    and all angles are 90 degrees.   \n",
      "    This class provides methods to calculate the area, perimeter, and to check if two rectangles \n",
      "    are of the same size.    \n",
      "    Attributes: length : float\n",
      "        The length of the rectangle.\n",
      "    width : float\n",
      "        The width of the rectangle.\n",
      "    \n",
      "{'width': <class 'float'>}\n",
      "\n",
      "\n",
      "        Calculates the area of the rectangle.   \n",
      "        Returns: float\n",
      "            The area of the rectangle.\n",
      "        \n",
      "{'return': <class 'float'>}\n",
      "\n",
      "\n",
      "        Calculates the perimeter of the rectangle.     \n",
      "        Returns: float\n",
      "            The perimeter of the rectangle.\n",
      "        \n",
      "{'return': <class 'float'>}\n",
      "\n",
      "{'return': <class 'str'>}\n",
      "\n",
      "        Returns a formal string representation of the Rectangle instance.\n",
      "        Returns:  str\n",
      "            A string with the class name, length, and width.\n",
      "        \n",
      "\n",
      "{'return': <class 'str'>}\n",
      "\n",
      "        Returns an informal string representation of the Rectangle instance.\n",
      "        Returns: str\n",
      "            A description of the rectangle with its dimensions, area, and perimeter.\n",
      "        \n"
     ]
    }
   ],
   "source": [
    "print(Rectangle.__doc__)\n",
    "print(Rectangle.__init__.__annotations__)\n",
    "print()\n",
    "print(Rectangle.area.__doc__)\n",
    "print(Rectangle.area.__annotations__)\n",
    "print()\n",
    "print(Rectangle.perimeter.__doc__)\n",
    "print(Rectangle.perimeter.__annotations__)\n",
    "print()\n",
    "print(Rectangle.__repr__.__annotations__)\n",
    "print(Rectangle.__repr__.__doc__)\n",
    "print()\n",
    "print(Rectangle.__str__.__annotations__)\n",
    "print(Rectangle.__str__.__doc__)"
   ]
  },
  {
   "cell_type": "code",
   "execution_count": 74,
   "id": "d13e590a-0f90-4804-b401-da9d0bedc965",
   "metadata": {},
   "outputs": [],
   "source": [
    "inst_3 = Rectangle()"
   ]
  },
  {
   "cell_type": "code",
   "execution_count": 75,
   "id": "db1d7bcf-989a-44a8-8b81-839348da7d76",
   "metadata": {},
   "outputs": [
    {
     "name": "stdout",
     "output_type": "stream",
     "text": [
      "Rectangle with length = 2.0, width = 4.0\n"
     ]
    },
    {
     "data": {
      "text/plain": [
       "Rectangle(length=2.0, width=4.0)"
      ]
     },
     "execution_count": 75,
     "metadata": {},
     "output_type": "execute_result"
    }
   ],
   "source": [
    "print(inst_3)\n",
    "inst_3"
   ]
  },
  {
   "cell_type": "markdown",
   "id": "2823f622-40e7-4006-a64e-944955880855",
   "metadata": {},
   "source": [
    " # **5.Triangle**"
   ]
  },
  {
   "cell_type": "code",
   "execution_count": 76,
   "id": "b89f31c6-c423-4fa8-bea8-3d62477edf62",
   "metadata": {},
   "outputs": [],
   "source": [
    "class Triangle:\n",
    "    \"\"\"\n",
    "    Represents a Triangle, a three side of equal  length   \n",
    "    This class provides methods to calculate the area, perimeter\n",
    "    \"\"\"\n",
    "    def __init__(self, a: float = 1.0, b: float = 1.0, c: float = 1.0) -> None:\n",
    "        \"\"\"To initiate the triangle with specific three side of equal length\"\"\"\n",
    "        self.a = a\n",
    "        self.b = b\n",
    "        self.c = c\n",
    "    def area(self) -> float:\n",
    "        \"\"\"To calculate  the area of the triangle\"\"\"\n",
    "        s = (self.a + self.b + self.c) / 2\n",
    "        return math.sqrt(s * (s - self.a) * (s - self.b) * (s - self.c))\n",
    "\n",
    "    def perimeter(self) -> float:\n",
    "        \"\"\"To calculate the perimeter of the triangle\"\"\"\n",
    "        return self.a + self.b + self.c\n",
    "\n",
    "    def __repr__(self) -> str:\n",
    "        \"\"\"Returns an informal string representation of the triagnle instance.\"\"\"\n",
    "\n",
    "        return f\"Triangle(a={self.a}, b={self.b}, c={self.c})\"\n",
    "\n",
    "    def __str__(self) -> str:\n",
    "        \"\"\"Returns a formal string representation of the triangle instance.\"\"\"\n",
    "        return (f\"Triangle with sides: a={self.a}, b={self.b}, c={self.c}\")\n"
   ]
  },
  {
   "cell_type": "code",
   "execution_count": 77,
   "id": "9c1af27b-c6d8-4b71-b7d9-82fd0b6e2beb",
   "metadata": {},
   "outputs": [],
   "source": [
    "t_1 = Triangle(9, 2, 6)\n",
    "t_2 = Triangle(7, 5, 3)"
   ]
  },
  {
   "cell_type": "code",
   "execution_count": 78,
   "id": "df0120dc-1cc6-4cbc-aca6-64071f81c42b",
   "metadata": {},
   "outputs": [
    {
     "name": "stdout",
     "output_type": "stream",
     "text": [
      "Triangle with sides: a=9, b=2, c=6\n",
      "Triangle with sides: a=7, b=5, c=3\n"
     ]
    }
   ],
   "source": [
    "print(t_1)\n",
    "print(t_2)"
   ]
  },
  {
   "cell_type": "code",
   "execution_count": 79,
   "id": "4936ec37-ed83-4e11-abac-d02327e4eb61",
   "metadata": {},
   "outputs": [
    {
     "data": {
      "text/plain": [
       "Triangle(a=9, b=2, c=6)"
      ]
     },
     "execution_count": 79,
     "metadata": {},
     "output_type": "execute_result"
    }
   ],
   "source": [
    "t_1"
   ]
  },
  {
   "cell_type": "code",
   "execution_count": 80,
   "id": "400750b2-b494-42fb-8843-a697d751c2ac",
   "metadata": {},
   "outputs": [
    {
     "data": {
      "text/plain": [
       "Triangle(a=7, b=5, c=3)"
      ]
     },
     "execution_count": 80,
     "metadata": {},
     "output_type": "execute_result"
    }
   ],
   "source": [
    "t_2"
   ]
  },
  {
   "cell_type": "code",
   "execution_count": 81,
   "id": "9914c49a-4b5f-40f7-a453-90261280619b",
   "metadata": {},
   "outputs": [
    {
     "name": "stdout",
     "output_type": "stream",
     "text": [
      "mappingproxy({'__dict__': <attribute '__dict__' of 'Triangle' objects>,\n",
      "              '__doc__': '\\n'\n",
      "                         '    Represents a Triangle, a three side of equal  '\n",
      "                         'length   \\n'\n",
      "                         '    This class provides methods to calculate the '\n",
      "                         'area, perimeter\\n'\n",
      "                         '    ',\n",
      "              '__init__': <function Triangle.__init__ at 0x0000027FBEC530D0>,\n",
      "              '__module__': '__main__',\n",
      "              '__repr__': <function Triangle.__repr__ at 0x0000027FBEC53280>,\n",
      "              '__str__': <function Triangle.__str__ at 0x0000027FBEC53310>,\n",
      "              '__weakref__': <attribute '__weakref__' of 'Triangle' objects>,\n",
      "              'area': <function Triangle.area at 0x0000027FBEC53160>,\n",
      "              'perimeter': <function Triangle.perimeter at 0x0000027FBEC531F0>})\n"
     ]
    }
   ],
   "source": [
    "from  pprint import pprint\n",
    "pprint(Triangle.__dict__)"
   ]
  },
  {
   "cell_type": "code",
   "execution_count": 82,
   "id": "4102c1e9-72e0-4a84-91bd-444830265acc",
   "metadata": {},
   "outputs": [
    {
     "name": "stdout",
     "output_type": "stream",
     "text": [
      "mappingproxy({'__dict__': <attribute '__dict__' of 'Triangle' objects>,\n",
      "              '__doc__': '\\n'\n",
      "                         '    Represents a Triangle, a three side of equal  '\n",
      "                         'length   \\n'\n",
      "                         '    This class provides methods to calculate the '\n",
      "                         'area, perimeter\\n'\n",
      "                         '    ',\n",
      "              '__init__': <function Triangle.__init__ at 0x0000027FBEC530D0>,\n",
      "              '__module__': '__main__',\n",
      "              '__repr__': <function Triangle.__repr__ at 0x0000027FBEC53280>,\n",
      "              '__str__': <function Triangle.__str__ at 0x0000027FBEC53310>,\n",
      "              '__weakref__': <attribute '__weakref__' of 'Triangle' objects>,\n",
      "              'area': <function Triangle.area at 0x0000027FBEC53160>,\n",
      "              'perimeter': <function Triangle.perimeter at 0x0000027FBEC531F0>})\n"
     ]
    }
   ],
   "source": [
    "pprint(vars(Triangle))"
   ]
  },
  {
   "cell_type": "code",
   "execution_count": 83,
   "id": "72c59673-421f-4b58-916c-54bfcaf29884",
   "metadata": {},
   "outputs": [
    {
     "name": "stdout",
     "output_type": "stream",
     "text": [
      "{'a': 9, 'b': 2, 'c': 6}\n",
      "{'a': 7, 'b': 5, 'c': 3}\n"
     ]
    }
   ],
   "source": [
    "print(t_1.__dict__)\n",
    "print(t_2.__dict__)"
   ]
  },
  {
   "cell_type": "code",
   "execution_count": 84,
   "id": "8f183e20-20cb-4970-8310-3c7ab69c58fb",
   "metadata": {},
   "outputs": [
    {
     "name": "stdout",
     "output_type": "stream",
     "text": [
      "Help on class Triangle in module __main__:\n",
      "\n",
      "class Triangle(builtins.object)\n",
      " |  Triangle(a: float = 1.0, b: float = 1.0, c: float = 1.0) -> None\n",
      " |  \n",
      " |  Represents a Triangle, a three side of equal  length   \n",
      " |  This class provides methods to calculate the area, perimeter\n",
      " |  \n",
      " |  Methods defined here:\n",
      " |  \n",
      " |  __init__(self, a: float = 1.0, b: float = 1.0, c: float = 1.0) -> None\n",
      " |      To initiate the triangle with specific three side of equal length\n",
      " |  \n",
      " |  __repr__(self) -> str\n",
      " |      Returns an informal string representation of the triagnle instance.\n",
      " |  \n",
      " |  __str__(self) -> str\n",
      " |      Returns a formal string representation of the triangle instance.\n",
      " |  \n",
      " |  area(self) -> float\n",
      " |      To calculate  the area of the triangle\n",
      " |  \n",
      " |  perimeter(self) -> float\n",
      " |      To calculate the perimeter of the triangle\n",
      " |  \n",
      " |  ----------------------------------------------------------------------\n",
      " |  Data descriptors defined here:\n",
      " |  \n",
      " |  __dict__\n",
      " |      dictionary for instance variables (if defined)\n",
      " |  \n",
      " |  __weakref__\n",
      " |      list of weak references to the object (if defined)\n",
      "\n"
     ]
    }
   ],
   "source": [
    "help(Triangle)"
   ]
  },
  {
   "cell_type": "code",
   "execution_count": 85,
   "id": "bc183501-9396-451d-948e-e10057a41c89",
   "metadata": {},
   "outputs": [
    {
     "name": "stdout",
     "output_type": "stream",
     "text": [
      "\n",
      "    Represents a Triangle, a three side of equal  length   \n",
      "    This class provides methods to calculate the area, perimeter\n",
      "    \n",
      "{'a': <class 'float'>, 'b': <class 'float'>, 'c': <class 'float'>, 'return': None}\n",
      "\n",
      "To calculate  the area of the triangle\n",
      "{'return': <class 'float'>}\n",
      "\n",
      "To calculate the perimeter of the triangle\n",
      "{'return': <class 'float'>}\n",
      "\n",
      "{'return': <class 'str'>}\n",
      "Returns an informal string representation of the triagnle instance.\n",
      "\n",
      "{'return': <class 'str'>}\n",
      "Returns a formal string representation of the triangle instance.\n"
     ]
    }
   ],
   "source": [
    "print(Triangle.__doc__)\n",
    "print(Triangle.__init__.__annotations__)\n",
    "print()\n",
    "print(Triangle.area.__doc__)\n",
    "print(Triangle.area.__annotations__)\n",
    "print()\n",
    "print(Triangle.perimeter.__doc__)\n",
    "print(Triangle.perimeter.__annotations__)\n",
    "print()\n",
    "print(Triangle.__repr__.__annotations__)\n",
    "print(Triangle.__repr__.__doc__)\n",
    "print()\n",
    "print(Triangle.__str__.__annotations__)\n",
    "print(Triangle.__str__.__doc__)"
   ]
  },
  {
   "cell_type": "code",
   "execution_count": 86,
   "id": "aa1545a1-22cf-4deb-bb88-40eb5f42fc28",
   "metadata": {},
   "outputs": [],
   "source": [
    "t_3 = Triangle()"
   ]
  },
  {
   "cell_type": "code",
   "execution_count": 87,
   "id": "98d8b6ec-abb7-4866-a8f5-d3bbd1fd562b",
   "metadata": {},
   "outputs": [
    {
     "name": "stdout",
     "output_type": "stream",
     "text": [
      "Triangle with sides: a=1.0, b=1.0, c=1.0\n"
     ]
    },
    {
     "data": {
      "text/plain": [
       "Triangle(a=1.0, b=1.0, c=1.0)"
      ]
     },
     "execution_count": 87,
     "metadata": {},
     "output_type": "execute_result"
    }
   ],
   "source": [
    "print(t_3)\n",
    "t_3"
   ]
  },
  {
   "cell_type": "markdown",
   "id": "edc2448d-92b9-4590-b20c-465b5c9d773d",
   "metadata": {},
   "source": [
    " # **6.Trapezoid**"
   ]
  },
  {
   "cell_type": "code",
   "execution_count": 88,
   "id": "0a58cf88-c127-4bb0-9405-b9a5742a1949",
   "metadata": {},
   "outputs": [],
   "source": [
    "class Trapezoid:\n",
    "    \"\"\"A class represent Trapezoid with two  bases and heigth\"\"\"\n",
    "    def __init__(self, base1: float = 1.0, base2: float = 1.0, height: float = 1.0) -> None:\n",
    "        \"\"\"To initate the class with specific value of bases and heigth\"\"\"\n",
    "        self.base1 = base1\n",
    "        self.base2 = base2\n",
    "        self.height = height\n",
    "    def area(self) -> float:\n",
    "        \"\"\"To calculate the area of trapezoid\"\"\"\n",
    "        return (self.base1 + self.base2) * self.height / 2\n",
    "\n",
    "    def perimeter(self) -> float:\n",
    "        \"\"\"To  calculate the perimeter of a trapezoid\"\"\"\n",
    "        raise NotImplementedError(\"Perimeter calculation requires lengths of non-parallel sides.\")\n",
    "\n",
    "    def __repr__(self) -> str:\n",
    "        \"\"\"Returns an informal string representation of the trapezoid instance.\"\"\"\n",
    "        return f\"Trapezoid(base1={self.base1}, base2={self.base2}, height={self.height})\"\n",
    "\n",
    "    def __str__(self) -> str:\n",
    "        \"\"\"Returns a formal string representation of the trapezoid instance.\"\"\"\n",
    "        return (f\"Trapezoid with base1: {self.base1}, base2: {self.base2}, \"\n",
    "                f\"height: {self.height}, area: {self.area}\")\n"
   ]
  },
  {
   "cell_type": "code",
   "execution_count": 89,
   "id": "6a275a85-f161-48ef-af6f-863aca0829c0",
   "metadata": {},
   "outputs": [],
   "source": [
    "trapezoid = Trapezoid(base1=2, base2=4, height=6)"
   ]
  },
  {
   "cell_type": "code",
   "execution_count": 90,
   "id": "c1e0cbf6-8e53-48ed-93c2-4846b9cc525e",
   "metadata": {},
   "outputs": [
    {
     "name": "stdout",
     "output_type": "stream",
     "text": [
      "Trapezoid with base1: 2, base2: 4, height: 6, area: <bound method Trapezoid.area of Trapezoid(base1=2, base2=4, height=6)>\n"
     ]
    }
   ],
   "source": [
    "print(trapezoid)"
   ]
  },
  {
   "cell_type": "code",
   "execution_count": 91,
   "id": "379e49f4-b27c-4523-ab62-98a598a46bd7",
   "metadata": {},
   "outputs": [
    {
     "data": {
      "text/plain": [
       "Trapezoid(base1=2, base2=4, height=6)"
      ]
     },
     "execution_count": 91,
     "metadata": {},
     "output_type": "execute_result"
    }
   ],
   "source": [
    "trapezoid"
   ]
  },
  {
   "cell_type": "code",
   "execution_count": 92,
   "id": "91461176-5585-4cac-883c-bfc4d516b075",
   "metadata": {},
   "outputs": [
    {
     "name": "stdout",
     "output_type": "stream",
     "text": [
      "mappingproxy({'__dict__': <attribute '__dict__' of 'Trapezoid' objects>,\n",
      "              '__doc__': 'A class represent Trapezoid with two  bases and '\n",
      "                         'heigth',\n",
      "              '__init__': <function Trapezoid.__init__ at 0x0000027FBEC53430>,\n",
      "              '__module__': '__main__',\n",
      "              '__repr__': <function Trapezoid.__repr__ at 0x0000027FBEC53A60>,\n",
      "              '__str__': <function Trapezoid.__str__ at 0x0000027FBEC53AF0>,\n",
      "              '__weakref__': <attribute '__weakref__' of 'Trapezoid' objects>,\n",
      "              'area': <function Trapezoid.area at 0x0000027FBEC53700>,\n",
      "              'perimeter': <function Trapezoid.perimeter at 0x0000027FBEC53940>})\n"
     ]
    }
   ],
   "source": [
    "from pprint import pprint\n",
    "pprint(Trapezoid.__dict__)"
   ]
  },
  {
   "cell_type": "code",
   "execution_count": 93,
   "id": "a9ee8759-6915-43cf-804e-99adce8ce5ce",
   "metadata": {},
   "outputs": [
    {
     "name": "stdout",
     "output_type": "stream",
     "text": [
      "mappingproxy({'__dict__': <attribute '__dict__' of 'Trapezoid' objects>,\n",
      "              '__doc__': 'A class represent Trapezoid with two  bases and '\n",
      "                         'heigth',\n",
      "              '__init__': <function Trapezoid.__init__ at 0x0000027FBEC53430>,\n",
      "              '__module__': '__main__',\n",
      "              '__repr__': <function Trapezoid.__repr__ at 0x0000027FBEC53A60>,\n",
      "              '__str__': <function Trapezoid.__str__ at 0x0000027FBEC53AF0>,\n",
      "              '__weakref__': <attribute '__weakref__' of 'Trapezoid' objects>,\n",
      "              'area': <function Trapezoid.area at 0x0000027FBEC53700>,\n",
      "              'perimeter': <function Trapezoid.perimeter at 0x0000027FBEC53940>})\n"
     ]
    }
   ],
   "source": [
    "pprint(vars(Trapezoid))"
   ]
  },
  {
   "cell_type": "code",
   "execution_count": 94,
   "id": "ab89eefe-85c3-4856-8699-3c15a5c7afab",
   "metadata": {},
   "outputs": [
    {
     "name": "stdout",
     "output_type": "stream",
     "text": [
      "{'base1': 2, 'base2': 4, 'height': 6}\n"
     ]
    }
   ],
   "source": [
    "print(trapezoid.__dict__)"
   ]
  },
  {
   "cell_type": "code",
   "execution_count": 95,
   "id": "cb05c52b-c57b-4efd-9662-469bf42a6298",
   "metadata": {},
   "outputs": [
    {
     "name": "stdout",
     "output_type": "stream",
     "text": [
      "Help on Trapezoid in module __main__ object:\n",
      "\n",
      "class Trapezoid(builtins.object)\n",
      " |  Trapezoid(base1: float = 1.0, base2: float = 1.0, height: float = 1.0) -> None\n",
      " |  \n",
      " |  A class represent Trapezoid with two  bases and heigth\n",
      " |  \n",
      " |  Methods defined here:\n",
      " |  \n",
      " |  __init__(self, base1: float = 1.0, base2: float = 1.0, height: float = 1.0) -> None\n",
      " |      To initate the class with specific value of bases and heigth\n",
      " |  \n",
      " |  __repr__(self) -> str\n",
      " |      Returns an informal string representation of the trapezoid instance.\n",
      " |  \n",
      " |  __str__(self) -> str\n",
      " |      Returns a formal string representation of the trapezoid instance.\n",
      " |  \n",
      " |  area(self) -> float\n",
      " |      To calculate the area of trapezoid\n",
      " |  \n",
      " |  perimeter(self) -> float\n",
      " |      To  calculate the perimeter of a trapezoid\n",
      " |  \n",
      " |  ----------------------------------------------------------------------\n",
      " |  Data descriptors defined here:\n",
      " |  \n",
      " |  __dict__\n",
      " |      dictionary for instance variables (if defined)\n",
      " |  \n",
      " |  __weakref__\n",
      " |      list of weak references to the object (if defined)\n",
      "\n"
     ]
    }
   ],
   "source": [
    "help(trapezoid)"
   ]
  },
  {
   "cell_type": "code",
   "execution_count": 96,
   "id": "d47c8a07-94c3-46ad-bef5-fbdcde03b70e",
   "metadata": {},
   "outputs": [
    {
     "name": "stdout",
     "output_type": "stream",
     "text": [
      "A class represent Trapezoid with two  bases and heigth\n",
      "{'base1': <class 'float'>, 'base2': <class 'float'>, 'height': <class 'float'>, 'return': None}\n",
      "\n",
      "To calculate the area of trapezoid\n",
      "{'return': <class 'float'>}\n",
      "\n",
      "To  calculate the perimeter of a trapezoid\n",
      "{'return': <class 'float'>}\n",
      "\n",
      "{'return': <class 'str'>}\n",
      "Returns an informal string representation of the trapezoid instance.\n",
      "\n",
      "{'return': <class 'str'>}\n",
      "Returns a formal string representation of the trapezoid instance.\n"
     ]
    }
   ],
   "source": [
    "print(Trapezoid.__doc__)\n",
    "print(Trapezoid.__init__.__annotations__)\n",
    "print()\n",
    "print(Trapezoid.area.__doc__)\n",
    "print(Trapezoid.area.__annotations__)\n",
    "print()\n",
    "print(Trapezoid.perimeter.__doc__)\n",
    "print(Trapezoid.perimeter.__annotations__)\n",
    "print()\n",
    "print(Trapezoid.__repr__.__annotations__)\n",
    "print(Trapezoid.__repr__.__doc__)\n",
    "print()\n",
    "print(Trapezoid.__str__.__annotations__)\n",
    "print(Trapezoid.__str__.__doc__)"
   ]
  },
  {
   "cell_type": "markdown",
   "id": "e79f3375-59c2-4325-b6d1-2abf40f49227",
   "metadata": {},
   "source": [
    "# **7.Parallelogram**"
   ]
  },
  {
   "cell_type": "code",
   "execution_count": 97,
   "id": "8538e5fe-d78e-4e9b-9592-6f4acb67f99e",
   "metadata": {},
   "outputs": [],
   "source": [
    "class Parallelogram:\n",
    "    \"\"\"A Class which represent Parallelogram with one base and height \"\"\"\n",
    "    def __init__(self, base: float = 1.0, height: float = 1.0) -> None:\n",
    "        self.base = base\n",
    "        self.height = height\n",
    "    def area(self) -> float:\n",
    "        \"\"\"To calculate the area of the Parallelogram\"\"\"\n",
    "        return self.base * self.height\n",
    "    def perimeter(self) -> float:\n",
    "        \"\"\"To calculate the perimeter of Parallelogram\"\"\"\n",
    "        return 2 * (self.base + self.height)\n",
    "            \n",
    "    def __repr__(self) -> str:\n",
    "        \"\"\"Return a string representation of the rhombus.\"\"\"\n",
    "        return f\"Parallelogram(base={self.base}, height={self.height})\"\n",
    "\n",
    "    def __str__(self) -> str:\n",
    "        \"\"\"Return a user-friendly string representation of the rhombus.\"\"\"\n",
    "        return (f\"Parallelogram with base: {self.base}, height: {self.height}\")\n"
   ]
  },
  {
   "cell_type": "code",
   "execution_count": 98,
   "id": "d8c52b73-9257-4127-80a1-5e6b9d02bee2",
   "metadata": {},
   "outputs": [],
   "source": [
    "p_1 = Parallelogram(base=6, height=9)\n",
    "p_2 = Parallelogram(base=4, height=7)"
   ]
  },
  {
   "cell_type": "code",
   "execution_count": 99,
   "id": "6c76b8da-6a94-4579-b23f-ca79c33ee2e7",
   "metadata": {},
   "outputs": [
    {
     "name": "stdout",
     "output_type": "stream",
     "text": [
      "Parallelogram with base: 6, height: 9\n",
      "Parallelogram with base: 4, height: 7\n"
     ]
    }
   ],
   "source": [
    "print(p_1)\n",
    "print(p_2)"
   ]
  },
  {
   "cell_type": "code",
   "execution_count": 100,
   "id": "1153d5f8-5292-4ca4-a256-a21a55c1d615",
   "metadata": {},
   "outputs": [
    {
     "data": {
      "text/plain": [
       "Parallelogram(base=6, height=9)"
      ]
     },
     "execution_count": 100,
     "metadata": {},
     "output_type": "execute_result"
    }
   ],
   "source": [
    "p_1"
   ]
  },
  {
   "cell_type": "code",
   "execution_count": 101,
   "id": "f74fc2e0-efa0-49c3-914c-08135e286ceb",
   "metadata": {},
   "outputs": [
    {
     "data": {
      "text/plain": [
       "Parallelogram(base=4, height=7)"
      ]
     },
     "execution_count": 101,
     "metadata": {},
     "output_type": "execute_result"
    }
   ],
   "source": [
    "p_2"
   ]
  },
  {
   "cell_type": "code",
   "execution_count": 102,
   "id": "ef556daf-9915-4a05-b3b2-7a6c72e6e84b",
   "metadata": {},
   "outputs": [
    {
     "name": "stdout",
     "output_type": "stream",
     "text": [
      "mappingproxy({'__dict__': <attribute '__dict__' of 'Parallelogram' objects>,\n",
      "              '__doc__': 'A Class which represent Parallelogram with one base '\n",
      "                         'and height ',\n",
      "              '__init__': <function Parallelogram.__init__ at 0x0000027FBEC53B80>,\n",
      "              '__module__': '__main__',\n",
      "              '__repr__': <function Parallelogram.__repr__ at 0x0000027FBEC610D0>,\n",
      "              '__str__': <function Parallelogram.__str__ at 0x0000027FBEC61160>,\n",
      "              '__weakref__': <attribute '__weakref__' of 'Parallelogram' objects>,\n",
      "              'area': <function Parallelogram.area at 0x0000027FBEC53DC0>,\n",
      "              'perimeter': <function Parallelogram.perimeter at 0x0000027FBEC53EE0>})\n"
     ]
    }
   ],
   "source": [
    "pprint(Parallelogram.__dict__)"
   ]
  },
  {
   "cell_type": "code",
   "execution_count": 103,
   "id": "8ac86727-d744-43d7-b0de-9e549a25dd7d",
   "metadata": {},
   "outputs": [
    {
     "name": "stdout",
     "output_type": "stream",
     "text": [
      "mappingproxy({'__dict__': <attribute '__dict__' of 'Parallelogram' objects>,\n",
      "              '__doc__': 'A Class which represent Parallelogram with one base '\n",
      "                         'and height ',\n",
      "              '__init__': <function Parallelogram.__init__ at 0x0000027FBEC53B80>,\n",
      "              '__module__': '__main__',\n",
      "              '__repr__': <function Parallelogram.__repr__ at 0x0000027FBEC610D0>,\n",
      "              '__str__': <function Parallelogram.__str__ at 0x0000027FBEC61160>,\n",
      "              '__weakref__': <attribute '__weakref__' of 'Parallelogram' objects>,\n",
      "              'area': <function Parallelogram.area at 0x0000027FBEC53DC0>,\n",
      "              'perimeter': <function Parallelogram.perimeter at 0x0000027FBEC53EE0>})\n"
     ]
    }
   ],
   "source": [
    "pprint(vars(Parallelogram))"
   ]
  },
  {
   "cell_type": "code",
   "execution_count": 104,
   "id": "29e28a53-a983-4c71-8586-16280e6e8e4c",
   "metadata": {},
   "outputs": [
    {
     "name": "stdout",
     "output_type": "stream",
     "text": [
      "Help on class Parallelogram in module __main__:\n",
      "\n",
      "class Parallelogram(builtins.object)\n",
      " |  Parallelogram(base: float = 1.0, height: float = 1.0) -> None\n",
      " |  \n",
      " |  A Class which represent Parallelogram with one base and height\n",
      " |  \n",
      " |  Methods defined here:\n",
      " |  \n",
      " |  __init__(self, base: float = 1.0, height: float = 1.0) -> None\n",
      " |      Initialize self.  See help(type(self)) for accurate signature.\n",
      " |  \n",
      " |  __repr__(self) -> str\n",
      " |      Return a string representation of the rhombus.\n",
      " |  \n",
      " |  __str__(self) -> str\n",
      " |      Return a user-friendly string representation of the rhombus.\n",
      " |  \n",
      " |  area(self) -> float\n",
      " |      To calculate the area of the Parallelogram\n",
      " |  \n",
      " |  perimeter(self) -> float\n",
      " |      To calculate the perimeter of Parallelogram\n",
      " |  \n",
      " |  ----------------------------------------------------------------------\n",
      " |  Data descriptors defined here:\n",
      " |  \n",
      " |  __dict__\n",
      " |      dictionary for instance variables (if defined)\n",
      " |  \n",
      " |  __weakref__\n",
      " |      list of weak references to the object (if defined)\n",
      "\n"
     ]
    }
   ],
   "source": [
    "help(Parallelogram)"
   ]
  },
  {
   "cell_type": "code",
   "execution_count": 105,
   "id": "4f89d9ae-3a9b-48ca-a709-fada313a3565",
   "metadata": {},
   "outputs": [
    {
     "name": "stdout",
     "output_type": "stream",
     "text": [
      "A Class which represent Parallelogram with one base and height \n",
      "{'base': <class 'float'>, 'height': <class 'float'>, 'return': None}\n",
      "To calculate the area of the Parallelogram\n",
      "{'return': <class 'float'>}\n",
      "To calculate the perimeter of Parallelogram\n",
      "{'return': <class 'float'>}\n",
      "{'return': <class 'str'>}\n",
      "Return a string representation of the rhombus.\n",
      "{'return': <class 'str'>}\n",
      "Return a user-friendly string representation of the rhombus.\n"
     ]
    }
   ],
   "source": [
    "print(Parallelogram.__doc__)\n",
    "print(Parallelogram.__init__.__annotations__)\n",
    "print(Parallelogram.area.__doc__)\n",
    "print(Parallelogram.area.__annotations__)\n",
    "print(Parallelogram.perimeter.__doc__)\n",
    "print(Parallelogram.perimeter.__annotations__)\n",
    "print(Parallelogram.__repr__.__annotations__)\n",
    "print(Parallelogram.__repr__.__doc__)\n",
    "print(Parallelogram.__str__.__annotations__)\n",
    "print(Parallelogram.__str__.__doc__)"
   ]
  },
  {
   "cell_type": "code",
   "execution_count": 106,
   "id": "32c321dc-8240-40e2-914c-91dad089bbbb",
   "metadata": {},
   "outputs": [],
   "source": [
    "p_3 = Parallelogram()"
   ]
  },
  {
   "cell_type": "code",
   "execution_count": 107,
   "id": "e495987d-b7ce-43f2-9e44-f8f44ca7ef66",
   "metadata": {},
   "outputs": [
    {
     "name": "stdout",
     "output_type": "stream",
     "text": [
      "Parallelogram with base: 1.0, height: 1.0\n"
     ]
    },
    {
     "data": {
      "text/plain": [
       "Parallelogram(base=1.0, height=1.0)"
      ]
     },
     "execution_count": 107,
     "metadata": {},
     "output_type": "execute_result"
    }
   ],
   "source": [
    "print(p_3)\n",
    "p_3"
   ]
  },
  {
   "cell_type": "markdown",
   "id": "781849b6-9257-411b-9d10-5d10a995ff0a",
   "metadata": {},
   "source": [
    "# **8.Rhombus**"
   ]
  },
  {
   "cell_type": "code",
   "execution_count": 108,
   "id": "36417b28-3393-4d62-8ac5-0ae094300d55",
   "metadata": {},
   "outputs": [],
   "source": [
    "class Rhombus:\n",
    "    \"\"\"A class to represent a rhombus, a parallelogram with all sides equal.\"\"\"\n",
    "    \n",
    "    def __init__(self, side_length: float = 1.0, height: float = 1.0) -> None:\n",
    "        \"\"\"Initialize the rhombus with the length of its sides and height.\n",
    "        \n",
    "        Args:\n",
    "            side_length (float): Length of each side. Defaults to 1.0.\n",
    "            height (float): Height of the rhombus. Defaults to 1.0.\n",
    "        \"\"\"\n",
    "        self.side_length = side_length\n",
    "        self.height = height\n",
    "    def area(self) -> float:\n",
    "        \"\"\"Calculate the area of the rhombus.\"\"\"\n",
    "        return self.side_length * self.height\n",
    "\n",
    "    def perimeter(self) -> float:\n",
    "        \"\"\"Calculate the perimeter of the rhombus.\"\"\"\n",
    "        return 4 * self.side_length\n",
    "\n",
    "    def __repr__(self) -> str:\n",
    "        \"\"\"Return a string representation of the rhombus.\"\"\"\n",
    "        return f\"Rhombus(side_length={self.side_length}, height={self.height})\"\n",
    "\n",
    "    def __str__(self) -> str:\n",
    "        \"\"\"Return a user-friendly string representation of the rhombus.\"\"\"\n",
    "        return (f\"Rhombus with side length: {self.side_length}, height: {self.height}\")\n"
   ]
  },
  {
   "cell_type": "code",
   "execution_count": 109,
   "id": "7907aab2-1d4e-48cc-af5f-c9d782b0bc2b",
   "metadata": {},
   "outputs": [],
   "source": [
    "R_1 = Rhombus(3, 2)\n",
    "R_2 = Rhombus(9, 6)"
   ]
  },
  {
   "cell_type": "code",
   "execution_count": 110,
   "id": "547e3f5f-c096-446e-9512-de43e66aee08",
   "metadata": {},
   "outputs": [
    {
     "name": "stdout",
     "output_type": "stream",
     "text": [
      "Rhombus with side length: 3, height: 2\n",
      "Rhombus with side length: 9, height: 6\n"
     ]
    }
   ],
   "source": [
    "print(R_1)\n",
    "print(R_2)"
   ]
  },
  {
   "cell_type": "code",
   "execution_count": 111,
   "id": "db03f7e7-43be-402e-bbad-8810ee1198f1",
   "metadata": {},
   "outputs": [
    {
     "data": {
      "text/plain": [
       "Rhombus(side_length=3, height=2)"
      ]
     },
     "execution_count": 111,
     "metadata": {},
     "output_type": "execute_result"
    }
   ],
   "source": [
    "R_1"
   ]
  },
  {
   "cell_type": "code",
   "execution_count": 112,
   "id": "bb86eda7-4180-41f3-8f50-3b93dc912c77",
   "metadata": {},
   "outputs": [
    {
     "data": {
      "text/plain": [
       "Rhombus(side_length=9, height=6)"
      ]
     },
     "execution_count": 112,
     "metadata": {},
     "output_type": "execute_result"
    }
   ],
   "source": [
    "R_2"
   ]
  },
  {
   "cell_type": "code",
   "execution_count": 113,
   "id": "63045045-f147-4381-8535-457cc09ab860",
   "metadata": {},
   "outputs": [
    {
     "name": "stdout",
     "output_type": "stream",
     "text": [
      "mappingproxy({'__dict__': <attribute '__dict__' of 'Rhombus' objects>,\n",
      "              '__doc__': 'A class to represent a rhombus, a parallelogram with '\n",
      "                         'all sides equal.',\n",
      "              '__init__': <function Rhombus.__init__ at 0x0000027FBEB5FAF0>,\n",
      "              '__module__': '__main__',\n",
      "              '__repr__': <function Rhombus.__repr__ at 0x0000027FBEBDC160>,\n",
      "              '__str__': <function Rhombus.__str__ at 0x0000027FBEBDC940>,\n",
      "              '__weakref__': <attribute '__weakref__' of 'Rhombus' objects>,\n",
      "              'area': <function Rhombus.area at 0x0000027FBEB5FE50>,\n",
      "              'perimeter': <function Rhombus.perimeter at 0x0000027FBEB5F670>})\n"
     ]
    }
   ],
   "source": [
    "pprint(Rhombus.__dict__)"
   ]
  },
  {
   "cell_type": "code",
   "execution_count": 114,
   "id": "c4477719-5055-4998-ac9c-1c1fc9e692f3",
   "metadata": {},
   "outputs": [
    {
     "name": "stdout",
     "output_type": "stream",
     "text": [
      "mappingproxy({'__dict__': <attribute '__dict__' of 'Rhombus' objects>,\n",
      "              '__doc__': 'A class to represent a rhombus, a parallelogram with '\n",
      "                         'all sides equal.',\n",
      "              '__init__': <function Rhombus.__init__ at 0x0000027FBEB5FAF0>,\n",
      "              '__module__': '__main__',\n",
      "              '__repr__': <function Rhombus.__repr__ at 0x0000027FBEBDC160>,\n",
      "              '__str__': <function Rhombus.__str__ at 0x0000027FBEBDC940>,\n",
      "              '__weakref__': <attribute '__weakref__' of 'Rhombus' objects>,\n",
      "              'area': <function Rhombus.area at 0x0000027FBEB5FE50>,\n",
      "              'perimeter': <function Rhombus.perimeter at 0x0000027FBEB5F670>})\n"
     ]
    }
   ],
   "source": [
    "pprint(vars(Rhombus))"
   ]
  },
  {
   "cell_type": "code",
   "execution_count": 115,
   "id": "00dde4fe-0de6-4ab2-950e-23acf74ca532",
   "metadata": {},
   "outputs": [
    {
     "name": "stdout",
     "output_type": "stream",
     "text": [
      "{'side_length': 3, 'height': 2}\n",
      "{'side_length': 9, 'height': 6}\n"
     ]
    }
   ],
   "source": [
    "print(R_1.__dict__)\n",
    "print(R_2.__dict__)"
   ]
  },
  {
   "cell_type": "code",
   "execution_count": 116,
   "id": "516a5ea9-d329-4d94-a6b1-e7caaced0188",
   "metadata": {},
   "outputs": [
    {
     "name": "stdout",
     "output_type": "stream",
     "text": [
      "Help on class Rhombus in module __main__:\n",
      "\n",
      "class Rhombus(builtins.object)\n",
      " |  Rhombus(side_length: float = 1.0, height: float = 1.0) -> None\n",
      " |  \n",
      " |  A class to represent a rhombus, a parallelogram with all sides equal.\n",
      " |  \n",
      " |  Methods defined here:\n",
      " |  \n",
      " |  __init__(self, side_length: float = 1.0, height: float = 1.0) -> None\n",
      " |      Initialize the rhombus with the length of its sides and height.\n",
      " |      \n",
      " |      Args:\n",
      " |          side_length (float): Length of each side. Defaults to 1.0.\n",
      " |          height (float): Height of the rhombus. Defaults to 1.0.\n",
      " |  \n",
      " |  __repr__(self) -> str\n",
      " |      Return a string representation of the rhombus.\n",
      " |  \n",
      " |  __str__(self) -> str\n",
      " |      Return a user-friendly string representation of the rhombus.\n",
      " |  \n",
      " |  area(self) -> float\n",
      " |      Calculate the area of the rhombus.\n",
      " |  \n",
      " |  perimeter(self) -> float\n",
      " |      Calculate the perimeter of the rhombus.\n",
      " |  \n",
      " |  ----------------------------------------------------------------------\n",
      " |  Data descriptors defined here:\n",
      " |  \n",
      " |  __dict__\n",
      " |      dictionary for instance variables (if defined)\n",
      " |  \n",
      " |  __weakref__\n",
      " |      list of weak references to the object (if defined)\n",
      "\n"
     ]
    }
   ],
   "source": [
    "help(Rhombus)"
   ]
  },
  {
   "cell_type": "code",
   "execution_count": 117,
   "id": "6505c377-ab3e-4c70-b37d-5e90e3b19e6a",
   "metadata": {},
   "outputs": [
    {
     "name": "stdout",
     "output_type": "stream",
     "text": [
      "A class to represent a rhombus, a parallelogram with all sides equal.\n",
      "{'side_length': <class 'float'>, 'height': <class 'float'>, 'return': None}\n",
      "\n",
      "Calculate the area of the rhombus.\n",
      "{'return': <class 'float'>}\n",
      "\n",
      "Calculate the perimeter of the rhombus.\n",
      "{'return': <class 'float'>}\n",
      "\n",
      "{'return': <class 'str'>}\n",
      "Return a string representation of the rhombus.\n",
      "\n",
      "{'return': <class 'str'>}\n",
      "Return a user-friendly string representation of the rhombus.\n"
     ]
    }
   ],
   "source": [
    "print(Rhombus.__doc__)\n",
    "print(Rhombus.__init__.__annotations__)\n",
    "print()\n",
    "print(Rhombus.area.__doc__)\n",
    "print(Rhombus.area.__annotations__)\n",
    "print()\n",
    "print(Rhombus.perimeter.__doc__)\n",
    "print(Rhombus.perimeter.__annotations__)\n",
    "print()\n",
    "print(Rhombus.__repr__.__annotations__)\n",
    "print(Rhombus.__repr__.__doc__)\n",
    "print()\n",
    "print(Rhombus.__str__.__annotations__)\n",
    "print(Rhombus.__str__.__doc__)"
   ]
  },
  {
   "cell_type": "code",
   "execution_count": 118,
   "id": "8816e953-973c-46c2-bf18-42c05677196d",
   "metadata": {},
   "outputs": [],
   "source": [
    "R_3 = Rhombus()"
   ]
  },
  {
   "cell_type": "code",
   "execution_count": 119,
   "id": "53e7c458-eac3-4de1-b512-c25cf1509209",
   "metadata": {},
   "outputs": [
    {
     "name": "stdout",
     "output_type": "stream",
     "text": [
      "Rhombus with side length: 1.0, height: 1.0\n"
     ]
    },
    {
     "data": {
      "text/plain": [
       "Rhombus(side_length=1.0, height=1.0)"
      ]
     },
     "execution_count": 119,
     "metadata": {},
     "output_type": "execute_result"
    }
   ],
   "source": [
    "print(R_3)\n",
    "R_3"
   ]
  },
  {
   "cell_type": "markdown",
   "id": "fac94bf9-e2bb-4e26-a9f1-23f48fa64b03",
   "metadata": {},
   "source": [
    "## 1. Resistor"
   ]
  },
  {
   "cell_type": "code",
   "execution_count": 120,
   "id": "a4cb5203-7e3f-4709-a09e-ca364ee770f8",
   "metadata": {},
   "outputs": [],
   "source": [
    "class Resister:\n",
    "    \"\"\"A class to represent a simple circuit with a single resistor.\"\"\"\n",
    "    \n",
    "    def __init__(self, resistance: float = 1.0) -> None:\n",
    "        \"\"\"Initialize the resistor with the given resistance value.\n",
    "        \n",
    "        Args:\n",
    "            resistance (float): Resistance in ohms. Defaults to 1.0.\n",
    "        \"\"\"\n",
    "        self.resistance = resistance\n",
    "\n",
    "    def resistance(self) -> float:\n",
    "        \"\"\"Get the resistance value.\"\"\"\n",
    "        return self.resistance\n",
    "\n",
    "    def __repr__(self) -> str:\n",
    "        \"\"\"Return a string representation of the Resister.\"\"\"\n",
    "\n",
    "        return f\"Resistor(resistance={self.resistance})\"\n",
    "\n",
    "    def __str__(self) -> str:\n",
    "        \"\"\"Return a user-friendly string representation of the Resister.\"\"\"\n",
    "\n",
    "        return f\"Resistor with resistance: {self.resistance} ohms\"\n"
   ]
  },
  {
   "cell_type": "code",
   "execution_count": 121,
   "id": "560cc66c-8c6b-48a7-b548-0a184242ee76",
   "metadata": {},
   "outputs": [],
   "source": [
    "r_1 = Resister(10)\n",
    "r_2 = Resister(35)"
   ]
  },
  {
   "cell_type": "code",
   "execution_count": 122,
   "id": "742e7b11-0388-4998-8ba8-04efe142ca70",
   "metadata": {},
   "outputs": [
    {
     "name": "stdout",
     "output_type": "stream",
     "text": [
      "Resistor with resistance: 10 ohms\n",
      "Resistor with resistance: 35 ohms\n"
     ]
    }
   ],
   "source": [
    "print(r_1)\n",
    "print(r_2)"
   ]
  },
  {
   "cell_type": "code",
   "execution_count": 123,
   "id": "09f18892-9def-4435-ace7-62b7bfb9c68d",
   "metadata": {},
   "outputs": [
    {
     "data": {
      "text/plain": [
       "Resistor(resistance=10)"
      ]
     },
     "execution_count": 123,
     "metadata": {},
     "output_type": "execute_result"
    }
   ],
   "source": [
    "r_1"
   ]
  },
  {
   "cell_type": "code",
   "execution_count": 124,
   "id": "1e40cfc8-aef8-4155-a049-0ffcb91ed860",
   "metadata": {},
   "outputs": [
    {
     "data": {
      "text/plain": [
       "Resistor(resistance=35)"
      ]
     },
     "execution_count": 124,
     "metadata": {},
     "output_type": "execute_result"
    }
   ],
   "source": [
    "r_2"
   ]
  },
  {
   "cell_type": "code",
   "execution_count": 125,
   "id": "456c7504-6bef-4a0d-94c5-ed04e97f9657",
   "metadata": {},
   "outputs": [
    {
     "name": "stdout",
     "output_type": "stream",
     "text": [
      "mappingproxy({'__dict__': <attribute '__dict__' of 'Resister' objects>,\n",
      "              '__doc__': 'A class to represent a simple circuit with a single '\n",
      "                         'resistor.',\n",
      "              '__init__': <function Resister.__init__ at 0x0000027FBEC32EE0>,\n",
      "              '__module__': '__main__',\n",
      "              '__repr__': <function Resister.__repr__ at 0x0000027FBEBC9EE0>,\n",
      "              '__str__': <function Resister.__str__ at 0x0000027FBEBC9DC0>,\n",
      "              '__weakref__': <attribute '__weakref__' of 'Resister' objects>,\n",
      "              'resistance': <function Resister.resistance at 0x0000027FBEC32F70>})\n"
     ]
    }
   ],
   "source": [
    "pprint(Resister.__dict__)"
   ]
  },
  {
   "cell_type": "code",
   "execution_count": 126,
   "id": "d5abdd29-6f70-4b07-8166-99775436b127",
   "metadata": {},
   "outputs": [
    {
     "name": "stdout",
     "output_type": "stream",
     "text": [
      "mappingproxy({'__dict__': <attribute '__dict__' of 'Resister' objects>,\n",
      "              '__doc__': 'A class to represent a simple circuit with a single '\n",
      "                         'resistor.',\n",
      "              '__init__': <function Resister.__init__ at 0x0000027FBEC32EE0>,\n",
      "              '__module__': '__main__',\n",
      "              '__repr__': <function Resister.__repr__ at 0x0000027FBEBC9EE0>,\n",
      "              '__str__': <function Resister.__str__ at 0x0000027FBEBC9DC0>,\n",
      "              '__weakref__': <attribute '__weakref__' of 'Resister' objects>,\n",
      "              'resistance': <function Resister.resistance at 0x0000027FBEC32F70>})\n"
     ]
    }
   ],
   "source": [
    "pprint(vars(Resister))"
   ]
  },
  {
   "cell_type": "code",
   "execution_count": 127,
   "id": "2790ae1a-1ce7-442a-b8d2-b9259829bf82",
   "metadata": {},
   "outputs": [
    {
     "name": "stdout",
     "output_type": "stream",
     "text": [
      "{'resistance': 10}\n"
     ]
    }
   ],
   "source": [
    "print(r_1.__dict__)"
   ]
  },
  {
   "cell_type": "code",
   "execution_count": 128,
   "id": "829207c1-9792-4f6a-90f2-20d9cc320a3e",
   "metadata": {},
   "outputs": [
    {
     "name": "stdout",
     "output_type": "stream",
     "text": [
      "{'resistance': 35}\n"
     ]
    }
   ],
   "source": [
    "print(r_2.__dict__)"
   ]
  },
  {
   "cell_type": "code",
   "execution_count": 129,
   "id": "45637ee0-a2df-4ea8-976e-a235c5380f57",
   "metadata": {},
   "outputs": [
    {
     "name": "stdout",
     "output_type": "stream",
     "text": [
      "Help on class Resister in module __main__:\n",
      "\n",
      "class Resister(builtins.object)\n",
      " |  Resister(resistance: float = 1.0) -> None\n",
      " |  \n",
      " |  A class to represent a simple circuit with a single resistor.\n",
      " |  \n",
      " |  Methods defined here:\n",
      " |  \n",
      " |  __init__(self, resistance: float = 1.0) -> None\n",
      " |      Initialize the resistor with the given resistance value.\n",
      " |      \n",
      " |      Args:\n",
      " |          resistance (float): Resistance in ohms. Defaults to 1.0.\n",
      " |  \n",
      " |  __repr__(self) -> str\n",
      " |      Return a string representation of the Resister.\n",
      " |  \n",
      " |  __str__(self) -> str\n",
      " |      Return a user-friendly string representation of the Resister.\n",
      " |  \n",
      " |  resistance(self) -> float\n",
      " |      Get the resistance value.\n",
      " |  \n",
      " |  ----------------------------------------------------------------------\n",
      " |  Data descriptors defined here:\n",
      " |  \n",
      " |  __dict__\n",
      " |      dictionary for instance variables (if defined)\n",
      " |  \n",
      " |  __weakref__\n",
      " |      list of weak references to the object (if defined)\n",
      "\n"
     ]
    }
   ],
   "source": [
    "help(Resister)"
   ]
  },
  {
   "cell_type": "code",
   "execution_count": 130,
   "id": "45ddf6b0-5a1d-46b0-b41d-8fb2bdaf3a3c",
   "metadata": {},
   "outputs": [
    {
     "name": "stdout",
     "output_type": "stream",
     "text": [
      "A class to represent a simple circuit with a single resistor.\n",
      "{'resistance': <class 'float'>, 'return': None}\n",
      "\n",
      "Get the resistance value.\n",
      "{'return': <class 'float'>}\n",
      "\n",
      "{'return': <class 'str'>}\n",
      "Return a string representation of the Resister.\n",
      "\n",
      "{'return': <class 'str'>}\n",
      "Return a user-friendly string representation of the Resister.\n"
     ]
    }
   ],
   "source": [
    "print(Resister.__doc__)\n",
    "print(Resister.__init__.__annotations__)\n",
    "print()\n",
    "print(Resister.resistance.__doc__)\n",
    "print(Resister.resistance.__annotations__)\n",
    "print()\n",
    "print(Resister.__repr__.__annotations__)\n",
    "print(Resister.__repr__.__doc__)\n",
    "print()\n",
    "print(Resister.__str__.__annotations__)\n",
    "print(Resister.__str__.__doc__)"
   ]
  },
  {
   "cell_type": "markdown",
   "id": "47fdecad-b448-4f1d-b52d-589d45a838fd",
   "metadata": {},
   "source": [
    "## 2. RL Circuit"
   ]
  },
  {
   "cell_type": "code",
   "execution_count": 131,
   "id": "38718dd6-3540-4f45-bdcc-1dd9d6e0d6a2",
   "metadata": {},
   "outputs": [],
   "source": [
    "class RL_Circuit:\n",
    "    \"\"\"A class to represent an RL circuit (Resistor and Inductor).\"\"\"\n",
    "    \n",
    "    def __init__(self, resistance: float = 1.0, inductance: float = 1.0) -> None:\n",
    "        \"\"\"Initialize the RL circuit with resistance and inductance.\n",
    "        \n",
    "        Args:\n",
    "            resistance (float): Resistance in ohms. Defaults to 1.0.\n",
    "            inductance (float): Inductance in henries. Defaults to 1.0.\n",
    "        \"\"\"\n",
    "        self.resistance = resistance\n",
    "        self.inductance = inductance\n",
    "    def reactance(self,frequency: float) -> float:\n",
    "        \"\"\"Calculate the reactance of the inductor\"\"\"\n",
    "        return 2 * math.pi * frequency * self.inductance\n",
    "    def impedance(self) -> float:\n",
    "        \"\"\"Calculate the impedance of the RL circuit.\n",
    "        \n",
    "        Args:\n",
    "            frequency (float): Frequency in hertz.\n",
    "        \n",
    "        Returns:\n",
    "            float: Impedance in ohms.\n",
    "        \"\"\"\n",
    "        return math.sqrt((self.resistance**2) + (self.reactance)**2)\n",
    "\n",
    "    def __repr__(self) -> str:\n",
    "        \"\"\"Return a string representation of the RL Circuit.\"\"\"\n",
    "\n",
    "        return f\"RLCircuit(resistor={self.resistance}, inductance={self.inductance})\"\n",
    "\n",
    "    def __str__(self) -> str:\n",
    "        \"\"\"Return a user-friendly string representation of the RL Circuit.\"\"\"\n",
    "        return (f\"RL Circuit with {self.resistance} ohm, inductance: {self.inductance} H\")\n"
   ]
  },
  {
   "cell_type": "code",
   "execution_count": 132,
   "id": "f2dd165f-ea01-4120-8908-e6f221ab4fcd",
   "metadata": {},
   "outputs": [],
   "source": [
    "RL_1 = RL_Circuit(10,0.1)\n",
    "RL_2 = RL_Circuit(30,0.001)"
   ]
  },
  {
   "cell_type": "code",
   "execution_count": 133,
   "id": "aac94fee-7b2b-489f-9602-59a745aa6d00",
   "metadata": {},
   "outputs": [
    {
     "name": "stdout",
     "output_type": "stream",
     "text": [
      "RL Circuit with 10 ohm, inductance: 0.1 H\n",
      "RL Circuit with 30 ohm, inductance: 0.001 H\n"
     ]
    }
   ],
   "source": [
    "print(RL_1)\n",
    "print(RL_2)"
   ]
  },
  {
   "cell_type": "code",
   "execution_count": 134,
   "id": "235eb84e-5136-449d-b3c3-dc81731274b7",
   "metadata": {},
   "outputs": [
    {
     "data": {
      "text/plain": [
       "RLCircuit(resistor=10, inductance=0.1)"
      ]
     },
     "execution_count": 134,
     "metadata": {},
     "output_type": "execute_result"
    }
   ],
   "source": [
    "RL_1"
   ]
  },
  {
   "cell_type": "code",
   "execution_count": 135,
   "id": "1b80ba19-69ba-40b9-a5bd-1a934f0746c1",
   "metadata": {},
   "outputs": [
    {
     "data": {
      "text/plain": [
       "RLCircuit(resistor=30, inductance=0.001)"
      ]
     },
     "execution_count": 135,
     "metadata": {},
     "output_type": "execute_result"
    }
   ],
   "source": [
    "RL_2"
   ]
  },
  {
   "cell_type": "code",
   "execution_count": 136,
   "id": "5015d466-ad58-4704-b7d8-451457d4f599",
   "metadata": {},
   "outputs": [
    {
     "name": "stdout",
     "output_type": "stream",
     "text": [
      "mappingproxy({'__dict__': <attribute '__dict__' of 'RL_Circuit' objects>,\n",
      "              '__doc__': 'A class to represent an RL circuit (Resistor and '\n",
      "                         'Inductor).',\n",
      "              '__init__': <function RL_Circuit.__init__ at 0x0000027FBEC534C0>,\n",
      "              '__module__': '__main__',\n",
      "              '__repr__': <function RL_Circuit.__repr__ at 0x0000027FBEC61820>,\n",
      "              '__str__': <function RL_Circuit.__str__ at 0x0000027FBEC611F0>,\n",
      "              '__weakref__': <attribute '__weakref__' of 'RL_Circuit' objects>,\n",
      "              'impedance': <function RL_Circuit.impedance at 0x0000027FBEC61040>,\n",
      "              'reactance': <function RL_Circuit.reactance at 0x0000027FBEC613A0>})\n"
     ]
    }
   ],
   "source": [
    "pprint(RL_Circuit.__dict__)"
   ]
  },
  {
   "cell_type": "code",
   "execution_count": 138,
   "id": "7ffa76ee-2bbe-4587-ac03-3ed1a13f00f0",
   "metadata": {},
   "outputs": [
    {
     "name": "stdout",
     "output_type": "stream",
     "text": [
      "mappingproxy({'__dict__': <attribute '__dict__' of 'RL_Circuit' objects>,\n",
      "              '__doc__': 'A class to represent an RL circuit (Resistor and '\n",
      "                         'Inductor).',\n",
      "              '__init__': <function RL_Circuit.__init__ at 0x0000027FBEC534C0>,\n",
      "              '__module__': '__main__',\n",
      "              '__repr__': <function RL_Circuit.__repr__ at 0x0000027FBEC61820>,\n",
      "              '__str__': <function RL_Circuit.__str__ at 0x0000027FBEC611F0>,\n",
      "              '__weakref__': <attribute '__weakref__' of 'RL_Circuit' objects>,\n",
      "              'impedance': <function RL_Circuit.impedance at 0x0000027FBEC61040>,\n",
      "              'reactance': <function RL_Circuit.reactance at 0x0000027FBEC613A0>})\n"
     ]
    }
   ],
   "source": [
    "pprint(vars(RL_Circuit))"
   ]
  },
  {
   "cell_type": "code",
   "execution_count": 139,
   "id": "b57644be-0a81-4689-9bea-c8bd60596996",
   "metadata": {},
   "outputs": [
    {
     "name": "stdout",
     "output_type": "stream",
     "text": [
      "{'resistance': 10, 'inductance': 0.1}\n",
      "{'resistance': 30, 'inductance': 0.001}\n"
     ]
    }
   ],
   "source": [
    "print(RL_1.__dict__)\n",
    "print(RL_2.__dict__)"
   ]
  },
  {
   "cell_type": "code",
   "execution_count": 140,
   "id": "10b13dea-b2a1-4eca-9ef4-cfd826e5be4b",
   "metadata": {},
   "outputs": [
    {
     "name": "stdout",
     "output_type": "stream",
     "text": [
      "Help on class RL_Circuit in module __main__:\n",
      "\n",
      "class RL_Circuit(builtins.object)\n",
      " |  RL_Circuit(resistance: float = 1.0, inductance: float = 1.0) -> None\n",
      " |  \n",
      " |  A class to represent an RL circuit (Resistor and Inductor).\n",
      " |  \n",
      " |  Methods defined here:\n",
      " |  \n",
      " |  __init__(self, resistance: float = 1.0, inductance: float = 1.0) -> None\n",
      " |      Initialize the RL circuit with resistance and inductance.\n",
      " |      \n",
      " |      Args:\n",
      " |          resistance (float): Resistance in ohms. Defaults to 1.0.\n",
      " |          inductance (float): Inductance in henries. Defaults to 1.0.\n",
      " |  \n",
      " |  __repr__(self) -> str\n",
      " |      Return a string representation of the RL Circuit.\n",
      " |  \n",
      " |  __str__(self) -> str\n",
      " |      Return a user-friendly string representation of the RL Circuit.\n",
      " |  \n",
      " |  impedance(self) -> float\n",
      " |      Calculate the impedance of the RL circuit.\n",
      " |      \n",
      " |      Args:\n",
      " |          frequency (float): Frequency in hertz.\n",
      " |      \n",
      " |      Returns:\n",
      " |          float: Impedance in ohms.\n",
      " |  \n",
      " |  reactance(self, frequency: float) -> float\n",
      " |      Calculate the reactance of the inductor\n",
      " |  \n",
      " |  ----------------------------------------------------------------------\n",
      " |  Data descriptors defined here:\n",
      " |  \n",
      " |  __dict__\n",
      " |      dictionary for instance variables (if defined)\n",
      " |  \n",
      " |  __weakref__\n",
      " |      list of weak references to the object (if defined)\n",
      "\n"
     ]
    }
   ],
   "source": [
    "help(RL_Circuit)"
   ]
  },
  {
   "cell_type": "code",
   "execution_count": 141,
   "id": "889571d4-9c30-40ae-a646-43c1682af815",
   "metadata": {},
   "outputs": [
    {
     "name": "stdout",
     "output_type": "stream",
     "text": [
      "A class to represent an RL circuit (Resistor and Inductor).\n",
      "{'resistance': <class 'float'>, 'inductance': <class 'float'>, 'return': None}\n",
      "\n",
      "Calculate the reactance of the inductor\n",
      "{'frequency': <class 'float'>, 'return': <class 'float'>}\n",
      "\n",
      "Calculate the impedance of the RL circuit.\n",
      "        \n",
      "        Args:\n",
      "            frequency (float): Frequency in hertz.\n",
      "        \n",
      "        Returns:\n",
      "            float: Impedance in ohms.\n",
      "        \n",
      "{'return': <class 'float'>}\n",
      "\n",
      "{'return': <class 'str'>}\n",
      "Return a string representation of the RL Circuit.\n",
      "\n",
      "{'return': <class 'str'>}\n",
      "Return a user-friendly string representation of the RL Circuit.\n"
     ]
    }
   ],
   "source": [
    "print(RL_Circuit.__doc__)\n",
    "print(RL_Circuit.__init__.__annotations__)\n",
    "print()\n",
    "print(RL_Circuit.reactance.__doc__)\n",
    "print(RL_Circuit.reactance.__annotations__)\n",
    "print()\n",
    "print(RL_Circuit.impedance.__doc__)\n",
    "print(RL_Circuit.impedance.__annotations__)\n",
    "print()\n",
    "print(RL_Circuit.__repr__.__annotations__)\n",
    "print(RL_Circuit.__repr__.__doc__)\n",
    "print()\n",
    "print(RL_Circuit.__str__.__annotations__)\n",
    "print(RL_Circuit.__str__.__doc__)"
   ]
  },
  {
   "cell_type": "code",
   "execution_count": 142,
   "id": "3c31eaa8-fecf-4e0b-99c8-b478cdcad8c9",
   "metadata": {},
   "outputs": [],
   "source": [
    "RL_3 = RL_Circuit()"
   ]
  },
  {
   "cell_type": "code",
   "execution_count": 143,
   "id": "ce4259f0-3740-4d02-9b18-e0c4c6f49556",
   "metadata": {},
   "outputs": [
    {
     "name": "stdout",
     "output_type": "stream",
     "text": [
      "RL Circuit with 1.0 ohm, inductance: 1.0 H\n"
     ]
    },
    {
     "data": {
      "text/plain": [
       "RLCircuit(resistor=1.0, inductance=1.0)"
      ]
     },
     "execution_count": 143,
     "metadata": {},
     "output_type": "execute_result"
    }
   ],
   "source": [
    "print(RL_3)\n",
    "RL_3"
   ]
  },
  {
   "cell_type": "markdown",
   "id": "c82e3f70-1ad0-41d7-b4a9-2fb45147308c",
   "metadata": {},
   "source": [
    "## 3. RC Circuit"
   ]
  },
  {
   "cell_type": "code",
   "execution_count": 144,
   "id": "0aecb961-5b97-4ec3-a6d0-b7ea3031735f",
   "metadata": {},
   "outputs": [],
   "source": [
    "class RC_Circuit:\n",
    "    \"\"\"A class to represent an RC circuit (Resistor and Capacitor).\"\"\"\n",
    "    \n",
    "    def __init__(self, resistance: float = 1.0, capacitance: float = 1.0) -> None:\n",
    "        \"\"\"Initialize the RC circuit with resistance and capacitance.\n",
    "        \n",
    "        Args:\n",
    "            resistance (float): Resistance in ohms. Defaults to 1.0.\n",
    "            capacitance (float): Capacitance in farads. Defaults to 1.0.\n",
    "        \"\"\"\n",
    "        self.resistance = resistance\n",
    "        self.capacitance = capacitance\n",
    "    def  reactance(self,frequency: float) -> float:\n",
    "        return 1 / (2 * math.pi * frequency * self.capacitance)\n",
    "    def impedance(self) -> float:\n",
    "        \"\"\"Calculate the impedance of the RC circuit.\n",
    "        \n",
    "        Args:\n",
    "            frequency (float): Frequency in hertz.\n",
    "        \n",
    "        Returns:\n",
    "            float: Impedance in ohms.\n",
    "        \"\"\"\n",
    "        return math.sqrt(self.resistance**2 + (self.reactance)**2)\n",
    "\n",
    "    def __repr__(self) -> str:\n",
    "        \"\"\"Return a string representation of the RC Circuit.\"\"\"\n",
    "\n",
    "        return f\"RCCircuit(resistor={self.resistance}, capacitance={self.capacitance})\"\n",
    "\n",
    "    def __str__(self) -> str:\n",
    "        \"\"\"Return a user-friendly string representation of the RC Circuit.\"\"\"\n",
    "\n",
    "        return (f\"RC Circuit with {self.resistance} ohm, capacitance: {self.capacitance} F\")\n"
   ]
  },
  {
   "cell_type": "code",
   "execution_count": 145,
   "id": "c4c4e472-f230-48b6-8ece-ef134d4bc9dd",
   "metadata": {},
   "outputs": [],
   "source": [
    "RC_1 = RC_Circuit(10, 0.001)\n",
    "RC_2 = RC_Circuit(15,0.000001)"
   ]
  },
  {
   "cell_type": "code",
   "execution_count": 146,
   "id": "5a2eee2a-e45c-499f-ba4b-e24a8a89259b",
   "metadata": {},
   "outputs": [
    {
     "name": "stdout",
     "output_type": "stream",
     "text": [
      "RC Circuit with 10 ohm, capacitance: 0.001 F\n",
      "RC Circuit with 15 ohm, capacitance: 1e-06 F\n"
     ]
    }
   ],
   "source": [
    "print(RC_1)\n",
    "print(RC_2)"
   ]
  },
  {
   "cell_type": "code",
   "execution_count": 147,
   "id": "0f6e41ab-a0b7-4418-a5e5-308064d6ab82",
   "metadata": {},
   "outputs": [
    {
     "data": {
      "text/plain": [
       "RCCircuit(resistor=10, capacitance=0.001)"
      ]
     },
     "execution_count": 147,
     "metadata": {},
     "output_type": "execute_result"
    }
   ],
   "source": [
    "RC_1"
   ]
  },
  {
   "cell_type": "code",
   "execution_count": 148,
   "id": "c7ee4745-e8a2-4fab-bd45-a5fa37c43259",
   "metadata": {},
   "outputs": [
    {
     "data": {
      "text/plain": [
       "RCCircuit(resistor=15, capacitance=1e-06)"
      ]
     },
     "execution_count": 148,
     "metadata": {},
     "output_type": "execute_result"
    }
   ],
   "source": [
    "RC_2"
   ]
  },
  {
   "cell_type": "code",
   "execution_count": 149,
   "id": "46baafdb-7fba-4544-928d-dd95ce7c8739",
   "metadata": {},
   "outputs": [
    {
     "name": "stdout",
     "output_type": "stream",
     "text": [
      "mappingproxy({'__dict__': <attribute '__dict__' of 'RC_Circuit' objects>,\n",
      "              '__doc__': 'A class to represent an RC circuit (Resistor and '\n",
      "                         'Capacitor).',\n",
      "              '__init__': <function RC_Circuit.__init__ at 0x0000027FBEBC9AF0>,\n",
      "              '__module__': '__main__',\n",
      "              '__repr__': <function RC_Circuit.__repr__ at 0x0000027FC0820160>,\n",
      "              '__str__': <function RC_Circuit.__str__ at 0x0000027FC0820EE0>,\n",
      "              '__weakref__': <attribute '__weakref__' of 'RC_Circuit' objects>,\n",
      "              'impedance': <function RC_Circuit.impedance at 0x0000027FC0820CA0>,\n",
      "              'reactance': <function RC_Circuit.reactance at 0x0000027FC08209D0>})\n"
     ]
    }
   ],
   "source": [
    "pprint(RC_Circuit.__dict__)"
   ]
  },
  {
   "cell_type": "code",
   "execution_count": 150,
   "id": "24f05d19-a22d-42ed-8001-ce6b9af27c26",
   "metadata": {},
   "outputs": [
    {
     "name": "stdout",
     "output_type": "stream",
     "text": [
      "mappingproxy({'__dict__': <attribute '__dict__' of 'RC_Circuit' objects>,\n",
      "              '__doc__': 'A class to represent an RC circuit (Resistor and '\n",
      "                         'Capacitor).',\n",
      "              '__init__': <function RC_Circuit.__init__ at 0x0000027FBEBC9AF0>,\n",
      "              '__module__': '__main__',\n",
      "              '__repr__': <function RC_Circuit.__repr__ at 0x0000027FC0820160>,\n",
      "              '__str__': <function RC_Circuit.__str__ at 0x0000027FC0820EE0>,\n",
      "              '__weakref__': <attribute '__weakref__' of 'RC_Circuit' objects>,\n",
      "              'impedance': <function RC_Circuit.impedance at 0x0000027FC0820CA0>,\n",
      "              'reactance': <function RC_Circuit.reactance at 0x0000027FC08209D0>})\n"
     ]
    }
   ],
   "source": [
    "pprint(vars(RC_Circuit))"
   ]
  },
  {
   "cell_type": "code",
   "execution_count": 151,
   "id": "df50c638-7dbf-439c-8289-3d6228549459",
   "metadata": {},
   "outputs": [
    {
     "name": "stdout",
     "output_type": "stream",
     "text": [
      "{'resistance': 10, 'capacitance': 0.001}\n",
      "{'resistance': 15, 'capacitance': 1e-06}\n"
     ]
    }
   ],
   "source": [
    "print(RC_1.__dict__)\n",
    "print(RC_2.__dict__)"
   ]
  },
  {
   "cell_type": "code",
   "execution_count": 152,
   "id": "eb743de8-cc8c-4ac7-a9da-401d9e04c9eb",
   "metadata": {},
   "outputs": [
    {
     "name": "stdout",
     "output_type": "stream",
     "text": [
      "Help on class RC_Circuit in module __main__:\n",
      "\n",
      "class RC_Circuit(builtins.object)\n",
      " |  RC_Circuit(resistance: float = 1.0, capacitance: float = 1.0) -> None\n",
      " |  \n",
      " |  A class to represent an RC circuit (Resistor and Capacitor).\n",
      " |  \n",
      " |  Methods defined here:\n",
      " |  \n",
      " |  __init__(self, resistance: float = 1.0, capacitance: float = 1.0) -> None\n",
      " |      Initialize the RC circuit with resistance and capacitance.\n",
      " |      \n",
      " |      Args:\n",
      " |          resistance (float): Resistance in ohms. Defaults to 1.0.\n",
      " |          capacitance (float): Capacitance in farads. Defaults to 1.0.\n",
      " |  \n",
      " |  __repr__(self) -> str\n",
      " |      Return a string representation of the RC Circuit.\n",
      " |  \n",
      " |  __str__(self) -> str\n",
      " |      Return a user-friendly string representation of the RC Circuit.\n",
      " |  \n",
      " |  impedance(self) -> float\n",
      " |      Calculate the impedance of the RC circuit.\n",
      " |      \n",
      " |      Args:\n",
      " |          frequency (float): Frequency in hertz.\n",
      " |      \n",
      " |      Returns:\n",
      " |          float: Impedance in ohms.\n",
      " |  \n",
      " |  reactance(self, frequency: float) -> float\n",
      " |  \n",
      " |  ----------------------------------------------------------------------\n",
      " |  Data descriptors defined here:\n",
      " |  \n",
      " |  __dict__\n",
      " |      dictionary for instance variables (if defined)\n",
      " |  \n",
      " |  __weakref__\n",
      " |      list of weak references to the object (if defined)\n",
      "\n"
     ]
    }
   ],
   "source": [
    "help(RC_Circuit)"
   ]
  },
  {
   "cell_type": "code",
   "execution_count": 153,
   "id": "d76f041d-15e0-4696-af2e-34e83019df80",
   "metadata": {},
   "outputs": [
    {
     "name": "stdout",
     "output_type": "stream",
     "text": [
      "A class to represent an RC circuit (Resistor and Capacitor).\n",
      "{'resistance': <class 'float'>, 'capacitance': <class 'float'>, 'return': None}\n",
      "\n",
      "None\n",
      "{'frequency': <class 'float'>, 'return': <class 'float'>}\n",
      "\n",
      "Calculate the impedance of the RC circuit.\n",
      "        \n",
      "        Args:\n",
      "            frequency (float): Frequency in hertz.\n",
      "        \n",
      "        Returns:\n",
      "            float: Impedance in ohms.\n",
      "        \n",
      "{'return': <class 'float'>}\n",
      "\n",
      "{'return': <class 'str'>}\n",
      "Return a string representation of the RC Circuit.\n",
      "\n",
      "{'return': <class 'str'>}\n",
      "Return a user-friendly string representation of the RC Circuit.\n"
     ]
    }
   ],
   "source": [
    "print(RC_Circuit.__doc__)\n",
    "print(RC_Circuit.__init__.__annotations__)\n",
    "print()\n",
    "print(RC_Circuit.reactance.__doc__)\n",
    "print(RC_Circuit.reactance.__annotations__)\n",
    "print()\n",
    "print(RC_Circuit.impedance.__doc__)\n",
    "print(RC_Circuit.impedance.__annotations__)\n",
    "print()\n",
    "print(RC_Circuit.__repr__.__annotations__)\n",
    "print(RC_Circuit.__repr__.__doc__)\n",
    "print()\n",
    "print(RC_Circuit.__str__.__annotations__)\n",
    "print(RC_Circuit.__str__.__doc__)"
   ]
  },
  {
   "cell_type": "code",
   "execution_count": 154,
   "id": "6d8a4234-fe67-41b5-8474-917cc5fc0426",
   "metadata": {},
   "outputs": [],
   "source": [
    "RC_3 = RC_Circuit()"
   ]
  },
  {
   "cell_type": "code",
   "execution_count": 155,
   "id": "f9ccd802-1843-4b2f-a1d0-498d8e650046",
   "metadata": {},
   "outputs": [
    {
     "name": "stdout",
     "output_type": "stream",
     "text": [
      "RC Circuit with 1.0 ohm, capacitance: 1.0 F\n"
     ]
    },
    {
     "data": {
      "text/plain": [
       "RCCircuit(resistor=1.0, capacitance=1.0)"
      ]
     },
     "execution_count": 155,
     "metadata": {},
     "output_type": "execute_result"
    }
   ],
   "source": [
    "print(RC_3)\n",
    "RC_3"
   ]
  },
  {
   "cell_type": "markdown",
   "id": "b002fe1b-b858-48ff-ba44-db06184e229a",
   "metadata": {},
   "source": [
    "## 4. RLC Parallel Circuit"
   ]
  },
  {
   "cell_type": "code",
   "execution_count": 156,
   "id": "8e7e2df6-17bf-48e5-9994-bb4c83ffa5c6",
   "metadata": {},
   "outputs": [],
   "source": [
    "class RLC_Circuit_Parallel:\n",
    "    \"\"\"A class to represent an RLC parallel circuit.\"\"\"\n",
    "    \n",
    "    def __init__(self, resistance: float = 1.0, inductance: float = 1.0, capacitance: float = 1.0) -> None:\n",
    "        \"\"\"Initialize the parallel RLC circuit with resistance, inductance, and capacitance.\n",
    "        \n",
    "        Args:\n",
    "            resistance (float): Resistance in ohms. Defaults to 1.0.\n",
    "            inductance (float): Inductance in henries. Defaults to 1.0.\n",
    "            capacitance (float): Capacitance in farads. Defaults to 1.0.\n",
    "        \"\"\"\n",
    "        self.resistance = resistance\n",
    "        self.inductance = inductance\n",
    "        self.capacitance = capacitance\n",
    "    def total_impedance(self, frequency: float) -> float:\n",
    "        \"\"\"Calculate the total impedance of the RLC parallel circuit.\n",
    "        \n",
    "        Args:\n",
    "            frequency (float): Frequency in hertz.\n",
    "        \n",
    "        Returns:\n",
    "            float: Total impedance in ohms.\n",
    "        \"\"\"\n",
    "        z_r = self.resistance\n",
    "        z_l = 2 * math.pi * frequency * self.inductance\n",
    "        z_c = 1 / (2 * math.pi * frequency * self.capacitance)\n",
    "\n",
    "        return 1 / (1/z_r + 1/z_l + 1/z_c)\n",
    "\n",
    "    def __repr__(self) -> str:\n",
    "        \"\"\"Return a string representation of the RLC_Parallel_Circuit.\"\"\"\n",
    "        return f\"RLC Circuit Parallel(resistor={self.resistance}, inductance={self.inductance}, capacitance={self.capacitance})\"\n",
    "\n",
    "    def __str__(self) -> str:\n",
    "        \"\"\"Return a user-friendly string representation of the RLC_Parallel_Circuit.\"\"\"\n",
    "        return (f\"RLC Parallel Circuit with {self.resistance} ohm, inductance: {self.inductance} H, \"\n",
    "                f\"capacitance: {self.capacitance} F\")\n"
   ]
  },
  {
   "cell_type": "code",
   "execution_count": 157,
   "id": "706ccde3-1cdc-4197-9180-4ba81890765b",
   "metadata": {},
   "outputs": [],
   "source": [
    "RLC_parallel_circuit_1 = RLC_Circuit_Parallel(10, 0.1, 0.001)\n",
    "RLC_parallel_circuit_2 = RLC_Circuit_Parallel(15,0.001,0.1)"
   ]
  },
  {
   "cell_type": "code",
   "execution_count": 158,
   "id": "e508ff1e-103c-4dad-b3e8-ad7268717be3",
   "metadata": {},
   "outputs": [
    {
     "name": "stdout",
     "output_type": "stream",
     "text": [
      "RLC Parallel Circuit with 10 ohm, inductance: 0.1 H, capacitance: 0.001 F\n",
      "RLC Parallel Circuit with 15 ohm, inductance: 0.001 H, capacitance: 0.1 F\n"
     ]
    }
   ],
   "source": [
    "print(RLC_parallel_circuit_1)\n",
    "print(RLC_parallel_circuit_2)"
   ]
  },
  {
   "cell_type": "code",
   "execution_count": 159,
   "id": "06fe53a8-6d57-4659-af7d-f67c2f557a1f",
   "metadata": {},
   "outputs": [
    {
     "data": {
      "text/plain": [
       "RLC Circuit Parallel(resistor=10, inductance=0.1, capacitance=0.001)"
      ]
     },
     "execution_count": 159,
     "metadata": {},
     "output_type": "execute_result"
    }
   ],
   "source": [
    "RLC_parallel_circuit_1"
   ]
  },
  {
   "cell_type": "code",
   "execution_count": 160,
   "id": "e213f659-1482-4a78-8b35-86450fa3a57f",
   "metadata": {},
   "outputs": [
    {
     "data": {
      "text/plain": [
       "RLC Circuit Parallel(resistor=15, inductance=0.001, capacitance=0.1)"
      ]
     },
     "execution_count": 160,
     "metadata": {},
     "output_type": "execute_result"
    }
   ],
   "source": [
    "RLC_parallel_circuit_2"
   ]
  },
  {
   "cell_type": "code",
   "execution_count": 161,
   "id": "c88fa9eb-2d5d-442f-8d04-4b37cc4a603b",
   "metadata": {},
   "outputs": [
    {
     "name": "stdout",
     "output_type": "stream",
     "text": [
      "mappingproxy({'__dict__': <attribute '__dict__' of 'RLC_Circuit_Parallel' objects>,\n",
      "              '__doc__': 'A class to represent an RLC parallel circuit.',\n",
      "              '__init__': <function RLC_Circuit_Parallel.__init__ at 0x0000027FBEC53F70>,\n",
      "              '__module__': '__main__',\n",
      "              '__repr__': <function RLC_Circuit_Parallel.__repr__ at 0x0000027FC0850430>,\n",
      "              '__str__': <function RLC_Circuit_Parallel.__str__ at 0x0000027FC0850670>,\n",
      "              '__weakref__': <attribute '__weakref__' of 'RLC_Circuit_Parallel' objects>,\n",
      "              'total_impedance': <function RLC_Circuit_Parallel.total_impedance at 0x0000027FC0850310>})\n"
     ]
    }
   ],
   "source": [
    "pprint(RLC_Circuit_Parallel.__dict__)"
   ]
  },
  {
   "cell_type": "code",
   "execution_count": 162,
   "id": "7329d386-072d-4d01-8101-1883629b6b22",
   "metadata": {},
   "outputs": [
    {
     "name": "stdout",
     "output_type": "stream",
     "text": [
      "mappingproxy({'__dict__': <attribute '__dict__' of 'RLC_Circuit_Parallel' objects>,\n",
      "              '__doc__': 'A class to represent an RLC parallel circuit.',\n",
      "              '__init__': <function RLC_Circuit_Parallel.__init__ at 0x0000027FBEC53F70>,\n",
      "              '__module__': '__main__',\n",
      "              '__repr__': <function RLC_Circuit_Parallel.__repr__ at 0x0000027FC0850430>,\n",
      "              '__str__': <function RLC_Circuit_Parallel.__str__ at 0x0000027FC0850670>,\n",
      "              '__weakref__': <attribute '__weakref__' of 'RLC_Circuit_Parallel' objects>,\n",
      "              'total_impedance': <function RLC_Circuit_Parallel.total_impedance at 0x0000027FC0850310>})\n"
     ]
    }
   ],
   "source": [
    "pprint(vars(RLC_Circuit_Parallel))"
   ]
  },
  {
   "cell_type": "code",
   "execution_count": 163,
   "id": "f8f947ea-980f-46cf-ba30-014d24018bb2",
   "metadata": {},
   "outputs": [
    {
     "name": "stdout",
     "output_type": "stream",
     "text": [
      "{'resistance': 10, 'inductance': 0.1, 'capacitance': 0.001}\n",
      "{'resistance': 15, 'inductance': 0.001, 'capacitance': 0.1}\n"
     ]
    }
   ],
   "source": [
    "print(RLC_parallel_circuit_1.__dict__)\n",
    "print(RLC_parallel_circuit_2.__dict__)"
   ]
  },
  {
   "cell_type": "code",
   "execution_count": 164,
   "id": "e05b7655-ffb0-4188-987f-89ffd2b36799",
   "metadata": {},
   "outputs": [
    {
     "name": "stdout",
     "output_type": "stream",
     "text": [
      "Help on class RLC_Circuit_Parallel in module __main__:\n",
      "\n",
      "class RLC_Circuit_Parallel(builtins.object)\n",
      " |  RLC_Circuit_Parallel(resistance: float = 1.0, inductance: float = 1.0, capacitance: float = 1.0) -> None\n",
      " |  \n",
      " |  A class to represent an RLC parallel circuit.\n",
      " |  \n",
      " |  Methods defined here:\n",
      " |  \n",
      " |  __init__(self, resistance: float = 1.0, inductance: float = 1.0, capacitance: float = 1.0) -> None\n",
      " |      Initialize the parallel RLC circuit with resistance, inductance, and capacitance.\n",
      " |      \n",
      " |      Args:\n",
      " |          resistance (float): Resistance in ohms. Defaults to 1.0.\n",
      " |          inductance (float): Inductance in henries. Defaults to 1.0.\n",
      " |          capacitance (float): Capacitance in farads. Defaults to 1.0.\n",
      " |  \n",
      " |  __repr__(self) -> str\n",
      " |      Return a string representation of the RLC_Parallel_Circuit.\n",
      " |  \n",
      " |  __str__(self) -> str\n",
      " |      Return a user-friendly string representation of the RLC_Parallel_Circuit.\n",
      " |  \n",
      " |  total_impedance(self, frequency: float) -> float\n",
      " |      Calculate the total impedance of the RLC parallel circuit.\n",
      " |      \n",
      " |      Args:\n",
      " |          frequency (float): Frequency in hertz.\n",
      " |      \n",
      " |      Returns:\n",
      " |          float: Total impedance in ohms.\n",
      " |  \n",
      " |  ----------------------------------------------------------------------\n",
      " |  Data descriptors defined here:\n",
      " |  \n",
      " |  __dict__\n",
      " |      dictionary for instance variables (if defined)\n",
      " |  \n",
      " |  __weakref__\n",
      " |      list of weak references to the object (if defined)\n",
      "\n"
     ]
    }
   ],
   "source": [
    "help(RLC_Circuit_Parallel)"
   ]
  },
  {
   "cell_type": "code",
   "execution_count": 165,
   "id": "a0afac58-0fe1-4a25-9a2d-514e2d5d027f",
   "metadata": {},
   "outputs": [
    {
     "name": "stdout",
     "output_type": "stream",
     "text": [
      "A class to represent an RLC parallel circuit.\n",
      "{'resistance': <class 'float'>, 'inductance': <class 'float'>, 'capacitance': <class 'float'>, 'return': None}\n",
      "\n",
      "Calculate the total impedance of the RLC parallel circuit.\n",
      "        \n",
      "        Args:\n",
      "            frequency (float): Frequency in hertz.\n",
      "        \n",
      "        Returns:\n",
      "            float: Total impedance in ohms.\n",
      "        \n",
      "{'frequency': <class 'float'>, 'return': <class 'float'>}\n",
      "\n",
      "{'return': <class 'str'>}\n",
      "Return a string representation of the RLC_Parallel_Circuit.\n",
      "\n",
      "{'return': <class 'str'>}\n",
      "Return a user-friendly string representation of the RLC_Parallel_Circuit.\n"
     ]
    }
   ],
   "source": [
    "    print(RLC_Circuit_Parallel.__doc__)\n",
    "print(RLC_Circuit_Parallel.__init__.__annotations__)\n",
    "print()\n",
    "print(RLC_Circuit_Parallel.total_impedance.__doc__)\n",
    "print(RLC_Circuit_Parallel.total_impedance.__annotations__)\n",
    "print()\n",
    "print(RLC_Circuit_Parallel.__repr__.__annotations__)\n",
    "print(RLC_Circuit_Parallel.__repr__.__doc__)\n",
    "print()\n",
    "print(RLC_Circuit_Parallel.__str__.__annotations__)\n",
    "print(RLC_Circuit_Parallel.__str__.__doc__)"
   ]
  },
  {
   "cell_type": "code",
   "execution_count": 166,
   "id": "ebcfc339-7f26-4176-88be-ecca415dc0ca",
   "metadata": {},
   "outputs": [],
   "source": [
    "RLC_parallel_circuit_3 = RLC_Circuit_Parallel()"
   ]
  },
  {
   "cell_type": "code",
   "execution_count": 167,
   "id": "01a78d49-57fa-4595-ac9b-474e5cf20537",
   "metadata": {},
   "outputs": [
    {
     "name": "stdout",
     "output_type": "stream",
     "text": [
      "RLC Parallel Circuit with 1.0 ohm, inductance: 1.0 H, capacitance: 1.0 F\n"
     ]
    },
    {
     "data": {
      "text/plain": [
       "RLC Circuit Parallel(resistor=1.0, inductance=1.0, capacitance=1.0)"
      ]
     },
     "execution_count": 167,
     "metadata": {},
     "output_type": "execute_result"
    }
   ],
   "source": [
    "print(RLC_parallel_circuit_3)\n",
    "RLC_parallel_circuit_3"
   ]
  },
  {
   "cell_type": "markdown",
   "id": "d70bf799-1f42-4bfd-8271-2a7c2ab956fc",
   "metadata": {},
   "source": [
    "## 5. RLC Series Resonance Circuit"
   ]
  },
  {
   "cell_type": "code",
   "execution_count": 168,
   "id": "92847998-a367-4c99-8def-4b78e5e1e8da",
   "metadata": {},
   "outputs": [],
   "source": [
    "class RLC_Series_Resonance_Circuit:\n",
    "    \"\"\"A class to represent an RLC series circuit with resonance.\"\"\"\n",
    "    \n",
    "    def __init__(self, resistance: float = 1.0, inductance: float = 1.0, capacitance: float = 1.0) -> None:\n",
    "        \"\"\"Initialize the series RLC circuit with resistance, inductance, and capacitance.\n",
    "        \n",
    "        Args:\n",
    "            resistance (float): Resistance in ohms. Defaults to 1.0.\n",
    "            inductance (float): Inductance in henries. Defaults to 1.0.\n",
    "            capacitance (float): Capacitance in farads. Defaults to 1.0.\n",
    "        \"\"\"\n",
    "        self.resistance = resistance\n",
    "        self.inductance = inductance\n",
    "        self.capacitance = capacitance\n",
    "\n",
    "    def resonance_frequency(self) -> float:\n",
    "        \"\"\"Calculate the resonance frequency of the RLC circuit.\n",
    "        \n",
    "        Returns:\n",
    "            float: Resonance frequency in hertz.\n",
    "        \"\"\"\n",
    "        return 1 / (2 * math.pi * (math.sqrt(self.inductance * self.capacitance)))\n",
    "\n",
    "    def impedance(self, frequency: float) -> float:\n",
    "        \"\"\"Calculate the impedance of the RLC series circuit.\n",
    "        \n",
    "        Args:\n",
    "            frequency (float): Frequency in hertz.\n",
    "        \n",
    "        Returns:\n",
    "            float: Impedance in ohms.\n",
    "        \"\"\"\n",
    "        z_l = 2 * math.pi * frequency * self.inductance\n",
    "        z_c = 1 / (2 * math.pi * frequency * self.capacitance)\n",
    "\n",
    "        return math.sqrt(self.resistance**2 + (z_l - z_c)**2)\n",
    "\n",
    "    def __repr__(self) -> str:        \n",
    "        \"\"\"Return a string representation of the RLC_Series_Resonance_Circuit.\"\"\"\n",
    "        return f\"RLCSeriesCircuit(resistor={self.resistance}, inductance={self.inductance}, capacitance={self.capacitance})\"\n",
    "\n",
    "    def __str__(self) -> str:\n",
    "        \"\"\"Return a user-friendly string representation of the RLC_Series_Resonance_Circuit.\"\"\"\n",
    "        return (f\"RLC Series Circuit with {self.resistance} ohm, inductance: {self.inductance} H, \"\n",
    "                f\"capacitance: {self.capacitance} F, resonance frequency: {self.resonance_frequency()} Hz\")\n"
   ]
  },
  {
   "cell_type": "code",
   "execution_count": 169,
   "id": "76f00d49-e204-44b4-8784-075335603ebc",
   "metadata": {},
   "outputs": [],
   "source": [
    "RLC_Series_Resonance_Circuit_1 = RLC_Series_Resonance_Circuit(10, 0.1, 0.001)\n",
    "RLC_Series_Resonance_Circuit_2 = RLC_Series_Resonance_Circuit(15, 0.001, 0.1)"
   ]
  },
  {
   "cell_type": "code",
   "execution_count": 170,
   "id": "a6eaabfa-3c31-487e-a95a-3a9c72d9d423",
   "metadata": {},
   "outputs": [
    {
     "name": "stdout",
     "output_type": "stream",
     "text": [
      "RLC Series Circuit with 10 ohm, inductance: 0.1 H, capacitance: 0.001 F, resonance frequency: 15.915494309189533 Hz\n",
      "RLC Series Circuit with 15 ohm, inductance: 0.001 H, capacitance: 0.1 F, resonance frequency: 15.915494309189533 Hz\n"
     ]
    }
   ],
   "source": [
    "print(RLC_Series_Resonance_Circuit_1)\n",
    "print(RLC_Series_Resonance_Circuit_2)"
   ]
  },
  {
   "cell_type": "code",
   "execution_count": 171,
   "id": "b320fe93-0d11-41a1-9959-9902f51a878c",
   "metadata": {},
   "outputs": [
    {
     "data": {
      "text/plain": [
       "RLCSeriesCircuit(resistor=10, inductance=0.1, capacitance=0.001)"
      ]
     },
     "execution_count": 171,
     "metadata": {},
     "output_type": "execute_result"
    }
   ],
   "source": [
    "RLC_Series_Resonance_Circuit_1"
   ]
  },
  {
   "cell_type": "code",
   "execution_count": 172,
   "id": "3c560d8f-f156-4b18-93a6-11fb8788dab0",
   "metadata": {},
   "outputs": [
    {
     "data": {
      "text/plain": [
       "RLCSeriesCircuit(resistor=15, inductance=0.001, capacitance=0.1)"
      ]
     },
     "execution_count": 172,
     "metadata": {},
     "output_type": "execute_result"
    }
   ],
   "source": [
    "RLC_Series_Resonance_Circuit_2"
   ]
  },
  {
   "cell_type": "code",
   "execution_count": 173,
   "id": "db9272e3-984f-4340-81ad-724245ba3b0e",
   "metadata": {},
   "outputs": [
    {
     "name": "stdout",
     "output_type": "stream",
     "text": [
      "mappingproxy({'__dict__': <attribute '__dict__' of 'RLC_Series_Resonance_Circuit' objects>,\n",
      "              '__doc__': 'A class to represent an RLC series circuit with '\n",
      "                         'resonance.',\n",
      "              '__init__': <function RLC_Series_Resonance_Circuit.__init__ at 0x0000027FC0850940>,\n",
      "              '__module__': '__main__',\n",
      "              '__repr__': <function RLC_Series_Resonance_Circuit.__repr__ at 0x0000027FC0850AF0>,\n",
      "              '__str__': <function RLC_Series_Resonance_Circuit.__str__ at 0x0000027FC0850B80>,\n",
      "              '__weakref__': <attribute '__weakref__' of 'RLC_Series_Resonance_Circuit' objects>,\n",
      "              'impedance': <function RLC_Series_Resonance_Circuit.impedance at 0x0000027FC0850DC0>,\n",
      "              'resonance_frequency': <function RLC_Series_Resonance_Circuit.resonance_frequency at 0x0000027FC0850D30>})\n"
     ]
    }
   ],
   "source": [
    "pprint(RLC_Series_Resonance_Circuit.__dict__)"
   ]
  },
  {
   "cell_type": "code",
   "execution_count": 174,
   "id": "99cea6d7-79e4-44ad-a88f-8d0ba9b58393",
   "metadata": {},
   "outputs": [
    {
     "name": "stdout",
     "output_type": "stream",
     "text": [
      "mappingproxy({'__dict__': <attribute '__dict__' of 'RLC_Series_Resonance_Circuit' objects>,\n",
      "              '__doc__': 'A class to represent an RLC series circuit with '\n",
      "                         'resonance.',\n",
      "              '__init__': <function RLC_Series_Resonance_Circuit.__init__ at 0x0000027FC0850940>,\n",
      "              '__module__': '__main__',\n",
      "              '__repr__': <function RLC_Series_Resonance_Circuit.__repr__ at 0x0000027FC0850AF0>,\n",
      "              '__str__': <function RLC_Series_Resonance_Circuit.__str__ at 0x0000027FC0850B80>,\n",
      "              '__weakref__': <attribute '__weakref__' of 'RLC_Series_Resonance_Circuit' objects>,\n",
      "              'impedance': <function RLC_Series_Resonance_Circuit.impedance at 0x0000027FC0850DC0>,\n",
      "              'resonance_frequency': <function RLC_Series_Resonance_Circuit.resonance_frequency at 0x0000027FC0850D30>})\n"
     ]
    }
   ],
   "source": [
    "pprint(vars(RLC_Series_Resonance_Circuit))"
   ]
  },
  {
   "cell_type": "code",
   "execution_count": 175,
   "id": "374be0c5-8daa-4ee7-ba13-64c750246645",
   "metadata": {},
   "outputs": [
    {
     "name": "stdout",
     "output_type": "stream",
     "text": [
      "RLC Series Circuit with 10 ohm, inductance: 0.1 H, capacitance: 0.001 F, resonance frequency: 15.915494309189533 Hz\n",
      "RLC Series Circuit with 15 ohm, inductance: 0.001 H, capacitance: 0.1 F, resonance frequency: 15.915494309189533 Hz\n"
     ]
    }
   ],
   "source": [
    "print(RLC_Series_Resonance_Circuit_1)\n",
    "print(RLC_Series_Resonance_Circuit_2)"
   ]
  },
  {
   "cell_type": "code",
   "execution_count": 176,
   "id": "667fd9d2-a252-4b03-8ef4-b6483fbe4f0b",
   "metadata": {},
   "outputs": [
    {
     "name": "stdout",
     "output_type": "stream",
     "text": [
      "Help on class RLC_Series_Resonance_Circuit in module __main__:\n",
      "\n",
      "class RLC_Series_Resonance_Circuit(builtins.object)\n",
      " |  RLC_Series_Resonance_Circuit(resistance: float = 1.0, inductance: float = 1.0, capacitance: float = 1.0) -> None\n",
      " |  \n",
      " |  A class to represent an RLC series circuit with resonance.\n",
      " |  \n",
      " |  Methods defined here:\n",
      " |  \n",
      " |  __init__(self, resistance: float = 1.0, inductance: float = 1.0, capacitance: float = 1.0) -> None\n",
      " |      Initialize the series RLC circuit with resistance, inductance, and capacitance.\n",
      " |      \n",
      " |      Args:\n",
      " |          resistance (float): Resistance in ohms. Defaults to 1.0.\n",
      " |          inductance (float): Inductance in henries. Defaults to 1.0.\n",
      " |          capacitance (float): Capacitance in farads. Defaults to 1.0.\n",
      " |  \n",
      " |  __repr__(self) -> str\n",
      " |      Return a string representation of the RLC_Series_Resonance_Circuit.\n",
      " |  \n",
      " |  __str__(self) -> str\n",
      " |      Return a user-friendly string representation of the RLC_Series_Resonance_Circuit.\n",
      " |  \n",
      " |  impedance(self, frequency: float) -> float\n",
      " |      Calculate the impedance of the RLC series circuit.\n",
      " |      \n",
      " |      Args:\n",
      " |          frequency (float): Frequency in hertz.\n",
      " |      \n",
      " |      Returns:\n",
      " |          float: Impedance in ohms.\n",
      " |  \n",
      " |  resonance_frequency(self) -> float\n",
      " |      Calculate the resonance frequency of the RLC circuit.\n",
      " |      \n",
      " |      Returns:\n",
      " |          float: Resonance frequency in hertz.\n",
      " |  \n",
      " |  ----------------------------------------------------------------------\n",
      " |  Data descriptors defined here:\n",
      " |  \n",
      " |  __dict__\n",
      " |      dictionary for instance variables (if defined)\n",
      " |  \n",
      " |  __weakref__\n",
      " |      list of weak references to the object (if defined)\n",
      "\n"
     ]
    }
   ],
   "source": [
    "help(RLC_Series_Resonance_Circuit)"
   ]
  },
  {
   "cell_type": "code",
   "execution_count": 177,
   "id": "be72576a-4177-4213-811a-0044609a7624",
   "metadata": {},
   "outputs": [
    {
     "name": "stdout",
     "output_type": "stream",
     "text": [
      "A class to represent an RLC series circuit with resonance.\n",
      "{'resistance': <class 'float'>, 'inductance': <class 'float'>, 'capacitance': <class 'float'>, 'return': None}\n",
      "\n",
      "Calculate the resonance frequency of the RLC circuit.\n",
      "        \n",
      "        Returns:\n",
      "            float: Resonance frequency in hertz.\n",
      "        \n",
      "{'return': <class 'float'>}\n",
      "\n",
      "Calculate the impedance of the RLC series circuit.\n",
      "        \n",
      "        Args:\n",
      "            frequency (float): Frequency in hertz.\n",
      "        \n",
      "        Returns:\n",
      "            float: Impedance in ohms.\n",
      "        \n",
      "{'frequency': <class 'float'>, 'return': <class 'float'>}\n",
      "\n",
      "{'return': <class 'str'>}\n",
      "Return a string representation of the RLC_Series_Resonance_Circuit.\n",
      "\n",
      "{'return': <class 'str'>}\n",
      "Return a user-friendly string representation of the RLC_Series_Resonance_Circuit.\n"
     ]
    }
   ],
   "source": [
    "print(RLC_Series_Resonance_Circuit.__doc__)\n",
    "print(RLC_Series_Resonance_Circuit.__init__.__annotations__)\n",
    "print()\n",
    "print(RLC_Series_Resonance_Circuit.resonance_frequency.__doc__)\n",
    "print(RLC_Series_Resonance_Circuit.resonance_frequency.__annotations__)\n",
    "print()\n",
    "print(RLC_Series_Resonance_Circuit.impedance.__doc__)\n",
    "print(RLC_Series_Resonance_Circuit.impedance.__annotations__)\n",
    "print()\n",
    "print(RLC_Series_Resonance_Circuit.__repr__.__annotations__)\n",
    "print(RLC_Series_Resonance_Circuit.__repr__.__doc__)\n",
    "print()\n",
    "print(RLC_Series_Resonance_Circuit.__str__.__annotations__)\n",
    "print(RLC_Series_Resonance_Circuit.__str__.__doc__)"
   ]
  },
  {
   "cell_type": "code",
   "execution_count": 178,
   "id": "a772392c-6565-473d-bdb2-bc661d94c086",
   "metadata": {},
   "outputs": [],
   "source": [
    "RLC_Series_Resonance_Circuit_3 = RLC_Series_Resonance_Circuit()"
   ]
  },
  {
   "cell_type": "code",
   "execution_count": 179,
   "id": "772edcab-6e9e-4490-ab06-48c7b08e3ebc",
   "metadata": {},
   "outputs": [
    {
     "name": "stdout",
     "output_type": "stream",
     "text": [
      "RLC Series Circuit with 10 ohm, inductance: 0.1 H, capacitance: 0.001 F, resonance frequency: 15.915494309189533 Hz\n"
     ]
    },
    {
     "data": {
      "text/plain": [
       "RLCSeriesCircuit(resistor=10, inductance=0.1, capacitance=0.001)"
      ]
     },
     "execution_count": 179,
     "metadata": {},
     "output_type": "execute_result"
    }
   ],
   "source": [
    "print(RLC_Series_Resonance_Circuit_1)\n",
    "RLC_Series_Resonance_Circuit_1"
   ]
  },
  {
   "cell_type": "markdown",
   "id": "5f5e5199-80a5-46fd-8d06-39a5f09cbe15",
   "metadata": {},
   "source": [
    "## 6. RLC Parallel Resonance Circuit"
   ]
  },
  {
   "cell_type": "code",
   "execution_count": 180,
   "id": "71070543-1d54-4ad7-8ff3-6f15af57407c",
   "metadata": {},
   "outputs": [],
   "source": [
    "class RLC_Parallel_Circuit_Resonance:\n",
    "    \"\"\"A class to represent an RLC parallel circuit with resonance.\"\"\"\n",
    "    \n",
    "    def __init__(self, resistance: float = 1.0, inductance: float = 1.0, capacitance: float = 1.0) -> None:\n",
    "        \"\"\"Initialize the parallel RLC circuit with resistance, inductance, and capacitance.\n",
    "        \n",
    "        Args:\n",
    "            resistance (float): Resistance in ohms. Defaults to 1.0.\n",
    "            inductance (float): Inductance in henries. Defaults to 1.0.\n",
    "            capacitance (float): Capacitance in farads. Defaults to 1.0.\n",
    "        \"\"\"\n",
    "        self.resistor = resistance\n",
    "        self.inductance = inductance\n",
    "        self.capacitance = capacitance\n",
    "\n",
    "    def resonance_frequency(self) -> float:\n",
    "        \"\"\"Calculate the resonance frequency of the RLC parallel circuit.\n",
    "        \n",
    "        Returns:\n",
    "            float: Resonance frequency in hertz.\n",
    "        \"\"\"\n",
    "        return 1 / (2 * math.pi * (math.sqrt(self.inductance * self.capacitance) ))\n",
    "\n",
    "    def total_impedance(self, frequency: float) -> float:\n",
    "        \"\"\"Calculate the total impedance of the RLC parallel circuit.\n",
    "        \n",
    "        Args:\n",
    "            frequency (float): Frequency in hertz.\n",
    "        \n",
    "        Returns:\n",
    "            float: Total impedance in ohms.\n",
    "        \"\"\"\n",
    "        z_r = self.resistor.resistance\n",
    "        z_l = 2 * math.pi * frequency * self.inductance\n",
    "        z_c = 1 / (2 * math.pi * frequency * self.capacitance)\n",
    "\n",
    "        return 1 / (1/z_r + 1/z_l + 1/z_c)\n",
    "\n",
    "    def __repr__(self) -> str:\n",
    "        \"\"\"Return a string representation of the RLC_Parallel_Circuit.\"\"\"\n",
    "\n",
    "        return f\"RLCParallelCircuit(resistor={self.resistor}, inductance={self.inductance}, capacitance={self.capacitance})\"\n",
    "\n",
    "    def __str__(self) -> str:\n",
    "        \"\"\"Return a user-friendly string representation of the RLC_Parallel_Circuit.\"\"\"\n",
    "        return (f\"RLC Parallel Circuit with {self.resistor} ohms, inductance: {self.inductance} H\")\n"
   ]
  },
  {
   "cell_type": "code",
   "execution_count": 181,
   "id": "d50892b1-8569-4871-8744-91d6c60bc4f4",
   "metadata": {},
   "outputs": [],
   "source": [
    "RLC_parallel_resonance_1 = RLC_Parallel_Circuit_Resonance(10, 0.1, 0.001)\n",
    "RLC_parallel_resonance_2 = RLC_Parallel_Circuit_Resonance(15,0.001,0.1)"
   ]
  },
  {
   "cell_type": "code",
   "execution_count": 182,
   "id": "56628375-9c92-4d5f-85c3-ae0939cf07b1",
   "metadata": {},
   "outputs": [
    {
     "name": "stdout",
     "output_type": "stream",
     "text": [
      "RLC Parallel Circuit with 10 ohms, inductance: 0.1 H\n",
      "RLC Parallel Circuit with 15 ohms, inductance: 0.001 H\n"
     ]
    }
   ],
   "source": [
    "print(RLC_parallel_resonance_1)\n",
    "print(RLC_parallel_resonance_2)"
   ]
  },
  {
   "cell_type": "code",
   "execution_count": 183,
   "id": "de301b68-eb70-4bb8-b823-1f8026399d82",
   "metadata": {},
   "outputs": [
    {
     "data": {
      "text/plain": [
       "RLCParallelCircuit(resistor=10, inductance=0.1, capacitance=0.001)"
      ]
     },
     "execution_count": 183,
     "metadata": {},
     "output_type": "execute_result"
    }
   ],
   "source": [
    "RLC_parallel_resonance_1"
   ]
  },
  {
   "cell_type": "code",
   "execution_count": 184,
   "id": "3390ad43-0652-4274-ae48-dbdff711b48a",
   "metadata": {},
   "outputs": [
    {
     "data": {
      "text/plain": [
       "RLCParallelCircuit(resistor=15, inductance=0.001, capacitance=0.1)"
      ]
     },
     "execution_count": 184,
     "metadata": {},
     "output_type": "execute_result"
    }
   ],
   "source": [
    "RLC_parallel_resonance_2"
   ]
  },
  {
   "cell_type": "code",
   "execution_count": 185,
   "id": "11065594-802a-4830-9eca-c06c75cf2036",
   "metadata": {},
   "outputs": [
    {
     "name": "stdout",
     "output_type": "stream",
     "text": [
      "mappingproxy({'__dict__': <attribute '__dict__' of 'RLC_Parallel_Circuit_Resonance' objects>,\n",
      "              '__doc__': 'A class to represent an RLC parallel circuit with '\n",
      "                         'resonance.',\n",
      "              '__init__': <function RLC_Parallel_Circuit_Resonance.__init__ at 0x0000027FBEC53C10>,\n",
      "              '__module__': '__main__',\n",
      "              '__repr__': <function RLC_Parallel_Circuit_Resonance.__repr__ at 0x0000027FC084E280>,\n",
      "              '__str__': <function RLC_Parallel_Circuit_Resonance.__str__ at 0x0000027FC084E430>,\n",
      "              '__weakref__': <attribute '__weakref__' of 'RLC_Parallel_Circuit_Resonance' objects>,\n",
      "              'resonance_frequency': <function RLC_Parallel_Circuit_Resonance.resonance_frequency at 0x0000027FC084E0D0>,\n",
      "              'total_impedance': <function RLC_Parallel_Circuit_Resonance.total_impedance at 0x0000027FC084E1F0>})\n"
     ]
    }
   ],
   "source": [
    "pprint(RLC_Parallel_Circuit_Resonance.__dict__)"
   ]
  },
  {
   "cell_type": "code",
   "execution_count": 187,
   "id": "94bd0173-20a3-483b-ad69-951f1053bcc2",
   "metadata": {},
   "outputs": [
    {
     "name": "stdout",
     "output_type": "stream",
     "text": [
      "mappingproxy({'__dict__': <attribute '__dict__' of 'RLC_Parallel_Circuit_Resonance' objects>,\n",
      "              '__doc__': 'A class to represent an RLC parallel circuit with '\n",
      "                         'resonance.',\n",
      "              '__init__': <function RLC_Parallel_Circuit_Resonance.__init__ at 0x0000027FBEC53C10>,\n",
      "              '__module__': '__main__',\n",
      "              '__repr__': <function RLC_Parallel_Circuit_Resonance.__repr__ at 0x0000027FC084E280>,\n",
      "              '__str__': <function RLC_Parallel_Circuit_Resonance.__str__ at 0x0000027FC084E430>,\n",
      "              '__weakref__': <attribute '__weakref__' of 'RLC_Parallel_Circuit_Resonance' objects>,\n",
      "              'resonance_frequency': <function RLC_Parallel_Circuit_Resonance.resonance_frequency at 0x0000027FC084E0D0>,\n",
      "              'total_impedance': <function RLC_Parallel_Circuit_Resonance.total_impedance at 0x0000027FC084E1F0>})\n"
     ]
    }
   ],
   "source": [
    "pprint(vars(RLC_Parallel_Circuit_Resonance))"
   ]
  },
  {
   "cell_type": "code",
   "execution_count": 188,
   "id": "94c06ea8-b6d6-4be3-b622-3b320227463f",
   "metadata": {},
   "outputs": [
    {
     "name": "stdout",
     "output_type": "stream",
     "text": [
      "{'resistor': 10, 'inductance': 0.1, 'capacitance': 0.001}\n",
      "{'resistor': 15, 'inductance': 0.001, 'capacitance': 0.1}\n"
     ]
    }
   ],
   "source": [
    "print(RLC_parallel_resonance_1.__dict__)\n",
    "print(RLC_parallel_resonance_2.__dict__)"
   ]
  },
  {
   "cell_type": "code",
   "execution_count": 189,
   "id": "8287376b-f6e5-4a33-973e-3cc02eeb4c5a",
   "metadata": {},
   "outputs": [
    {
     "name": "stdout",
     "output_type": "stream",
     "text": [
      "Help on class RLC_Parallel_Circuit_Resonance in module __main__:\n",
      "\n",
      "class RLC_Parallel_Circuit_Resonance(builtins.object)\n",
      " |  RLC_Parallel_Circuit_Resonance(resistance: float = 1.0, inductance: float = 1.0, capacitance: float = 1.0) -> None\n",
      " |  \n",
      " |  A class to represent an RLC parallel circuit with resonance.\n",
      " |  \n",
      " |  Methods defined here:\n",
      " |  \n",
      " |  __init__(self, resistance: float = 1.0, inductance: float = 1.0, capacitance: float = 1.0) -> None\n",
      " |      Initialize the parallel RLC circuit with resistance, inductance, and capacitance.\n",
      " |      \n",
      " |      Args:\n",
      " |          resistance (float): Resistance in ohms. Defaults to 1.0.\n",
      " |          inductance (float): Inductance in henries. Defaults to 1.0.\n",
      " |          capacitance (float): Capacitance in farads. Defaults to 1.0.\n",
      " |  \n",
      " |  __repr__(self) -> str\n",
      " |      Return a string representation of the RLC_Parallel_Circuit.\n",
      " |  \n",
      " |  __str__(self) -> str\n",
      " |      Return a user-friendly string representation of the RLC_Parallel_Circuit.\n",
      " |  \n",
      " |  resonance_frequency(self) -> float\n",
      " |      Calculate the resonance frequency of the RLC parallel circuit.\n",
      " |      \n",
      " |      Returns:\n",
      " |          float: Resonance frequency in hertz.\n",
      " |  \n",
      " |  total_impedance(self, frequency: float) -> float\n",
      " |      Calculate the total impedance of the RLC parallel circuit.\n",
      " |      \n",
      " |      Args:\n",
      " |          frequency (float): Frequency in hertz.\n",
      " |      \n",
      " |      Returns:\n",
      " |          float: Total impedance in ohms.\n",
      " |  \n",
      " |  ----------------------------------------------------------------------\n",
      " |  Data descriptors defined here:\n",
      " |  \n",
      " |  __dict__\n",
      " |      dictionary for instance variables (if defined)\n",
      " |  \n",
      " |  __weakref__\n",
      " |      list of weak references to the object (if defined)\n",
      "\n"
     ]
    }
   ],
   "source": [
    "help(RLC_Parallel_Circuit_Resonance)"
   ]
  },
  {
   "cell_type": "code",
   "execution_count": 190,
   "id": "36ff9f00-74c2-45de-afa4-b1913aaec905",
   "metadata": {},
   "outputs": [
    {
     "name": "stdout",
     "output_type": "stream",
     "text": [
      "A class to represent an RLC parallel circuit with resonance.\n",
      "{'resistance': <class 'float'>, 'inductance': <class 'float'>, 'capacitance': <class 'float'>, 'return': None}\n",
      "\n",
      "Calculate the resonance frequency of the RLC parallel circuit.\n",
      "        \n",
      "        Returns:\n",
      "            float: Resonance frequency in hertz.\n",
      "        \n",
      "{'return': <class 'float'>}\n",
      "\n",
      "Calculate the total impedance of the RLC parallel circuit.\n",
      "        \n",
      "        Args:\n",
      "            frequency (float): Frequency in hertz.\n",
      "        \n",
      "        Returns:\n",
      "            float: Total impedance in ohms.\n",
      "        \n",
      "{'frequency': <class 'float'>, 'return': <class 'float'>}\n",
      "\n",
      "{'return': <class 'str'>}\n",
      "Return a string representation of the RLC_Parallel_Circuit.\n",
      "\n",
      "{'return': <class 'str'>}\n",
      "Return a user-friendly string representation of the RLC_Parallel_Circuit.\n"
     ]
    }
   ],
   "source": [
    "print(RLC_Parallel_Circuit_Resonance.__doc__)\n",
    "print(RLC_Parallel_Circuit_Resonance.__init__.__annotations__)\n",
    "print()\n",
    "print(RLC_Parallel_Circuit_Resonance.resonance_frequency.__doc__)\n",
    "print(RLC_Parallel_Circuit_Resonance.resonance_frequency.__annotations__)\n",
    "print()\n",
    "print(RLC_Parallel_Circuit_Resonance.total_impedance.__doc__)\n",
    "print(RLC_Parallel_Circuit_Resonance.total_impedance.__annotations__)\n",
    "print()\n",
    "print(RLC_Parallel_Circuit_Resonance.__repr__.__annotations__)\n",
    "print(RLC_Parallel_Circuit_Resonance.__repr__.__doc__)\n",
    "print()\n",
    "print(RLC_Parallel_Circuit_Resonance.__str__.__annotations__)\n",
    "print(RLC_Parallel_Circuit_Resonance.__str__.__doc__)"
   ]
  },
  {
   "cell_type": "code",
   "execution_count": 191,
   "id": "f6af5ceb-2d43-4c85-9cf0-851cd36a841b",
   "metadata": {},
   "outputs": [],
   "source": [
    "RLC_parallel_resonance_3 = RLC_Parallel_Circuit_Resonance()"
   ]
  },
  {
   "cell_type": "code",
   "execution_count": 192,
   "id": "3a745e33-1918-40d1-a0c2-5778ec178508",
   "metadata": {},
   "outputs": [
    {
     "name": "stdout",
     "output_type": "stream",
     "text": [
      "RLC Parallel Circuit with 1.0 ohms, inductance: 1.0 H\n"
     ]
    },
    {
     "data": {
      "text/plain": [
       "RLCParallelCircuit(resistor=1.0, inductance=1.0, capacitance=1.0)"
      ]
     },
     "execution_count": 192,
     "metadata": {},
     "output_type": "execute_result"
    }
   ],
   "source": [
    "print(RLC_parallel_resonance_3)\n",
    "RLC_parallel_resonance_3"
   ]
  }
 ],
 "metadata": {
  "kernelspec": {
   "display_name": "Python 3 (ipykernel)",
   "language": "python",
   "name": "python3"
  },
  "language_info": {
   "codemirror_mode": {
    "name": "ipython",
    "version": 3
   },
   "file_extension": ".py",
   "mimetype": "text/x-python",
   "name": "python",
   "nbconvert_exporter": "python",
   "pygments_lexer": "ipython3",
   "version": "3.9.19"
  }
 },
 "nbformat": 4,
 "nbformat_minor": 5
}
