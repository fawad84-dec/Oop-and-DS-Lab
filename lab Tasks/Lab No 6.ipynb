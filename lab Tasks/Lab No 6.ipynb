{
 "cells": [
  {
   "cell_type": "markdown",
   "id": "cef18a9f-4a9c-4f87-9339-ddc3cc935409",
   "metadata": {},
   "source": [
    "# ***Name : Fawad khan***\n",
    "# ***Reg No : 23jzele0544***\n",
    "# **Lab : 06**"
   ]
  },
  {
   "cell_type": "markdown",
   "id": "86c181f6-fadc-4951-a7dc-03a002662b28",
   "metadata": {},
   "source": [
    "# **Lab Practice**"
   ]
  },
  {
   "cell_type": "markdown",
   "id": "cf91abd6-0fa8-4638-bd79-c683c6f5eb3b",
   "metadata": {},
   "source": [
    "# **Task No 01**"
   ]
  },
  {
   "cell_type": "markdown",
   "id": "543a3f09-d2b8-4cad-bb40-882a7bd1efe9",
   "metadata": {},
   "source": [
    "* Class Definition: Define a class Point in a 2-dimensional coordinate system with the necessary __init__ method.\n",
    "Property Methods:\n",
    "* Implement appropriate property methods using @property and @property.setter.\n",
    "* **Instance Methods:**\n",
    "* Distance Calculation: Add an instance method for calculating the distance between two points.\n",
    "* Distance from Origin: Include another instance method to calculate the distance from the origin (0, 0).\n",
    "* Locate: Add a method named locate to display the coordinates where the point is located.\n",
    "Special Methods:\n",
    "* Implement __repr__ and __str__ methods to provide clear string representations for the class.\n",
    "* Add methods decorated with @staticmethod, @property, and @classmethod if applicable.\n",
    "* Documentation: Ensure proper annotations and docstrings for every class and instance method to enhance readability and maintainabil"
   ]
  },
  {
   "cell_type": "code",
   "execution_count": 1,
   "id": "667b90a7-3888-43ef-aca8-f086e80deced",
   "metadata": {},
   "outputs": [],
   "source": [
    "import math\n",
    "\n",
    "class Point:\n",
    "    \"\"\"\n",
    "    A class to represent a point in a 2D coordinate system.\n",
    "    \"\"\"\n",
    "    def __init__(self, x: float = 0.0, y: float = 0.0):\n",
    "        \"\"\"\n",
    "        Initializes a new point at the given coordinates.\n",
    "        \n",
    "         x: x-coordinate (default is 0.0)\n",
    "         y: y-coordinate (default is 0.0)\n",
    "        \"\"\"\n",
    "        self.x = x\n",
    "        self.y = y\n",
    "\n",
    "    @property\n",
    "    def x(self) -> float:\n",
    "        \"\"\"Gets the x-coordinate.\"\"\"\n",
    "        return self._x\n",
    "\n",
    "    @x.setter\n",
    "    def x(self, value: float) -> None:\n",
    "        \"\"\"Sets the x-coordinate.\"\"\"\n",
    "        self._x = value\n",
    "\n",
    "    @property\n",
    "    def y(self) -> float:\n",
    "        \"\"\"Gets the y-coordinate.\"\"\"\n",
    "        return self._y\n",
    "\n",
    "    @y.setter\n",
    "    def y(self, value: float) -> None:\n",
    "        \"\"\"Sets the y-coordinate.\"\"\"\n",
    "        self._y = value\n",
    "\n",
    "    def distance_to(self, other: 'Point') -> float:\n",
    "        \"\"\"\n",
    "        Calculates the distance between this point and another point.\n",
    "        \n",
    "        :param other: Another point in the 2D coordinate system.\n",
    "        :return: The distance between the two points.\n",
    "        \"\"\"\n",
    "        return math.sqrt((self.x - other.x) ** 2 + (self.y - other.y) ** 2)\n",
    "\n",
    "    def distance_from_origin(self) -> float:\n",
    "        \"\"\"\n",
    "        Calculates the distance from the origin (0, 0) to this point.\n",
    "        \n",
    "        :return: The distance from the origin to this point.\n",
    "        \"\"\"\n",
    "        return math.sqrt(self.x ** 2 + self.y ** 2)\n",
    "\n",
    "    def located(self) -> str:\n",
    "        \"\"\"\n",
    "        Displays the coordinates of the point.\n",
    "        \n",
    "        return: A string representation of the coordinates.\n",
    "        \"\"\"\n",
    "        return f\"Point is located at ({self.x}, {self.y})\"\n",
    "\n",
    "    @staticmethod\n",
    "    def origin() -> 'Point':\n",
    "        \"\"\"\n",
    "        Returns a point at the origin (0, 0).\n",
    "        \n",
    "        return: A Point object representing the origin.\n",
    "        \"\"\"\n",
    "        return Point(0, 0)\n",
    "\n",
    "    @classmethod\n",
    "    def from_coordinates(cls, coordinates: tuple) -> 'Point':\n",
    "        \"\"\"\n",
    "        Creates a Point instance from a tuple of coordinates.\n",
    "        \n",
    "        coordinates: A tuple containing x and y coordinates.\n",
    "        return: An instance of Point.\n",
    "        \"\"\"\n",
    "        return cls(*coordinates)\n",
    "\n",
    "    def __repr__(self):\n",
    "        \"\"\"Return a string representation of the Circle instance.\"\"\"\n",
    "        return f'{type(self).__name__} ({self.x},{self.y})'\n",
    "    def __str__(self):\n",
    "        \"\"\"Return a user-friendly string representation of the Circle.\"\"\"\n",
    "        return f'2D Coordinate system with coordinates ({self.x},{self.y})'"
   ]
  },
  {
   "cell_type": "markdown",
   "id": "7827bd44-f0e9-47be-95d3-8139e7d51d07",
   "metadata": {},
   "source": [
    "* To Define inst_1,inst_2 and pass two numbers"
   ]
  },
  {
   "cell_type": "code",
   "execution_count": 2,
   "id": "d0d24d46-5934-4946-a779-fea0dfdaa1ac",
   "metadata": {},
   "outputs": [],
   "source": [
    "inst_1 = Point(4,6)\n",
    "inst_2 = Point(2,7)"
   ]
  },
  {
   "cell_type": "code",
   "execution_count": 3,
   "id": "0e63f773-df41-4752-b658-e7b9323b8e77",
   "metadata": {},
   "outputs": [
    {
     "name": "stdout",
     "output_type": "stream",
     "text": [
      "2D Coordinate system with coordinates (4,6)\n",
      "2D Coordinate system with coordinates (2,7)\n"
     ]
    }
   ],
   "source": [
    "print(inst_1)\n",
    "print(inst_2)"
   ]
  },
  {
   "cell_type": "code",
   "execution_count": 4,
   "id": "d9738f78-d83e-457a-aa03-8dc207908314",
   "metadata": {},
   "outputs": [
    {
     "name": "stdout",
     "output_type": "stream",
     "text": [
      "7.211102550927978\n"
     ]
    }
   ],
   "source": [
    "print(inst_1.distance_from_origin())"
   ]
  },
  {
   "cell_type": "code",
   "execution_count": 5,
   "id": "c40b1cc5-0e65-4e55-8171-23e8ba840a54",
   "metadata": {},
   "outputs": [
    {
     "name": "stdout",
     "output_type": "stream",
     "text": [
      "7.280109889280518\n"
     ]
    }
   ],
   "source": [
    "print(inst_2.distance_from_origin())"
   ]
  },
  {
   "cell_type": "markdown",
   "id": "16672d2c-d635-41d9-aff8-45a901a5f9b1",
   "metadata": {},
   "source": [
    "* To Print inst_1 and inst_2, for this use the print command and pass the inst_1 and inst_2."
   ]
  },
  {
   "cell_type": "code",
   "execution_count": 6,
   "id": "5cd0aa95-30cd-4b1a-8071-842f32a0b02f",
   "metadata": {},
   "outputs": [
    {
     "data": {
      "text/plain": [
       "Point (4,6)"
      ]
     },
     "execution_count": 6,
     "metadata": {},
     "output_type": "execute_result"
    }
   ],
   "source": [
    "inst_1"
   ]
  },
  {
   "cell_type": "code",
   "execution_count": 7,
   "id": "e9f545b2-4f6b-4f6b-a71c-0a9ea9c7a74d",
   "metadata": {},
   "outputs": [
    {
     "data": {
      "text/plain": [
       "Point (2,7)"
      ]
     },
     "execution_count": 7,
     "metadata": {},
     "output_type": "execute_result"
    }
   ],
   "source": [
    "inst_2"
   ]
  },
  {
   "cell_type": "markdown",
   "id": "f2317182-886c-48b2-b0fa-a784f992651f",
   "metadata": {},
   "source": [
    "* To print the location of both points. (Add a display method)."
   ]
  },
  {
   "cell_type": "code",
   "execution_count": 11,
   "id": "a3e3fc14-4f44-468b-9332-fe1fab2a3e24",
   "metadata": {},
   "outputs": [
    {
     "ename": "AttributeError",
     "evalue": "'Point' object has no attribute 'locate'",
     "output_type": "error",
     "traceback": [
      "\u001b[1;31m---------------------------------------------------------------------------\u001b[0m",
      "\u001b[1;31mAttributeError\u001b[0m                            Traceback (most recent call last)",
      "Cell \u001b[1;32mIn[11], line 1\u001b[0m\n\u001b[1;32m----> 1\u001b[0m \u001b[38;5;28mprint\u001b[39m(\u001b[43minst_1\u001b[49m\u001b[38;5;241;43m.\u001b[39;49m\u001b[43mlocate\u001b[49m())\n\u001b[0;32m      2\u001b[0m \u001b[38;5;28mprint\u001b[39m(inst_2\u001b[38;5;241m.\u001b[39mlocate())\n",
      "\u001b[1;31mAttributeError\u001b[0m: 'Point' object has no attribute 'locate'"
     ]
    }
   ],
   "source": [
    "print(inst_1.locate())\n",
    "print(inst_2.locate())"
   ]
  },
  {
   "cell_type": "markdown",
   "id": "8e1c60a8-03e7-43df-acaa-eba4b5fed413",
   "metadata": {},
   "source": [
    "* To Calculate the distance between these two pints."
   ]
  },
  {
   "cell_type": "code",
   "execution_count": 12,
   "id": "ec6a169d-2dc4-45c4-94f2-c5c203790862",
   "metadata": {},
   "outputs": [
    {
     "name": "stdout",
     "output_type": "stream",
     "text": [
      "Distance between inst_1 and inst_2 is: 2.24\n"
     ]
    }
   ],
   "source": [
    "distance = inst_1.distance_to(inst_2)\n",
    "print(f\"Distance between inst_1 and inst_2 is: {distance:.2f}\")"
   ]
  },
  {
   "cell_type": "markdown",
   "id": "b68a5bd3-da12-43d9-8df3-ad824c53d6a2",
   "metadata": {},
   "source": [
    "* To Call the __dict__ by the class name"
   ]
  },
  {
   "cell_type": "code",
   "execution_count": 15,
   "id": "2a57b051-9790-418f-8497-ba5d2dd2dcea",
   "metadata": {},
   "outputs": [
    {
     "name": "stdout",
     "output_type": "stream",
     "text": [
      "mappingproxy({'__dict__': <attribute '__dict__' of 'Point' objects>,\n",
      "              '__doc__': '\\n'\n",
      "                         '    A class to represent a point in a 2D coordinate '\n",
      "                         'system.\\n'\n",
      "                         '    ',\n",
      "              '__init__': <function Point.__init__ at 0x0000017637EA70D0>,\n",
      "              '__module__': '__main__',\n",
      "              '__repr__': <function Point.__repr__ at 0x0000017637EA7670>,\n",
      "              '__str__': <function Point.__str__ at 0x0000017637EA7700>,\n",
      "              '__weakref__': <attribute '__weakref__' of 'Point' objects>,\n",
      "              'distance_from_origin': <function Point.distance_from_origin at 0x0000017637EA7430>,\n",
      "              'distance_to': <function Point.distance_to at 0x0000017637EA73A0>,\n",
      "              'from_coordinates': <classmethod object at 0x0000017637E77D00>,\n",
      "              'located': <function Point.located at 0x0000017637EA74C0>,\n",
      "              'origin': <staticmethod object at 0x0000017637E77C70>,\n",
      "              'x': <property object at 0x0000017637EC0900>,\n",
      "              'y': <property object at 0x0000017637EC0950>})\n"
     ]
    }
   ],
   "source": [
    "from pprint import pprint\n",
    "pprint(Point.__dict__)"
   ]
  },
  {
   "cell_type": "markdown",
   "id": "9cbe1609-d0f3-4f84-9cd4-14074307c779",
   "metadata": {},
   "source": [
    "* Also pass the class name to the vars built-in function."
   ]
  },
  {
   "cell_type": "code",
   "execution_count": 16,
   "id": "b5b3d9cd-f115-4928-888c-a701f790b104",
   "metadata": {},
   "outputs": [
    {
     "name": "stdout",
     "output_type": "stream",
     "text": [
      "mappingproxy({'__dict__': <attribute '__dict__' of 'Point' objects>,\n",
      "              '__doc__': '\\n'\n",
      "                         '    A class to represent a point in a 2D coordinate '\n",
      "                         'system.\\n'\n",
      "                         '    ',\n",
      "              '__init__': <function Point.__init__ at 0x0000017637EA70D0>,\n",
      "              '__module__': '__main__',\n",
      "              '__repr__': <function Point.__repr__ at 0x0000017637EA7670>,\n",
      "              '__str__': <function Point.__str__ at 0x0000017637EA7700>,\n",
      "              '__weakref__': <attribute '__weakref__' of 'Point' objects>,\n",
      "              'distance_from_origin': <function Point.distance_from_origin at 0x0000017637EA7430>,\n",
      "              'distance_to': <function Point.distance_to at 0x0000017637EA73A0>,\n",
      "              'from_coordinates': <classmethod object at 0x0000017637E77D00>,\n",
      "              'located': <function Point.located at 0x0000017637EA74C0>,\n",
      "              'origin': <staticmethod object at 0x0000017637E77C70>,\n",
      "              'x': <property object at 0x0000017637EC0900>,\n",
      "              'y': <property object at 0x0000017637EC0950>})\n"
     ]
    }
   ],
   "source": [
    "pprint(vars(Point))"
   ]
  },
  {
   "cell_type": "markdown",
   "id": "c6d677ca-78f5-4cc6-8ef8-c12036947289",
   "metadata": {},
   "source": [
    "*  To Call the __dict__ on the object of the class."
   ]
  },
  {
   "cell_type": "code",
   "execution_count": 17,
   "id": "20978837-f3f0-483b-af88-8125a3925417",
   "metadata": {},
   "outputs": [
    {
     "name": "stdout",
     "output_type": "stream",
     "text": [
      "{'_x': 4, '_y': 6}\n"
     ]
    }
   ],
   "source": [
    "print(inst_1.__dict__)"
   ]
  },
  {
   "cell_type": "markdown",
   "id": "0019ecf4-ab3a-4225-befe-0673c9f7947a",
   "metadata": {},
   "source": [
    "To Pass the class name to help"
   ]
  },
  {
   "cell_type": "code",
   "execution_count": 18,
   "id": "dc0df9d0-9265-43b9-9713-27b45de9c416",
   "metadata": {},
   "outputs": [
    {
     "name": "stdout",
     "output_type": "stream",
     "text": [
      "Help on class Point in module __main__:\n",
      "\n",
      "class Point(builtins.object)\n",
      " |  Point(x: float = 0.0, y: float = 0.0)\n",
      " |  \n",
      " |  A class to represent a point in a 2D coordinate system.\n",
      " |  \n",
      " |  Methods defined here:\n",
      " |  \n",
      " |  __init__(self, x: float = 0.0, y: float = 0.0)\n",
      " |      Initializes a new point at the given coordinates.\n",
      " |      \n",
      " |       x: x-coordinate (default is 0.0)\n",
      " |       y: y-coordinate (default is 0.0)\n",
      " |  \n",
      " |  __repr__(self)\n",
      " |      Return a string representation of the Circle instance.\n",
      " |  \n",
      " |  __str__(self)\n",
      " |      Return a user-friendly string representation of the Circle.\n",
      " |  \n",
      " |  distance_from_origin(self) -> float\n",
      " |      Calculates the distance from the origin (0, 0) to this point.\n",
      " |      \n",
      " |      :return: The distance from the origin to this point.\n",
      " |  \n",
      " |  distance_to(self, other: 'Point') -> float\n",
      " |      Calculates the distance between this point and another point.\n",
      " |      \n",
      " |      :param other: Another point in the 2D coordinate system.\n",
      " |      :return: The distance between the two points.\n",
      " |  \n",
      " |  located(self) -> str\n",
      " |      Displays the coordinates of the point.\n",
      " |      \n",
      " |      return: A string representation of the coordinates.\n",
      " |  \n",
      " |  ----------------------------------------------------------------------\n",
      " |  Class methods defined here:\n",
      " |  \n",
      " |  from_coordinates(coordinates: tuple) -> 'Point' from builtins.type\n",
      " |      Creates a Point instance from a tuple of coordinates.\n",
      " |      \n",
      " |      coordinates: A tuple containing x and y coordinates.\n",
      " |      return: An instance of Point.\n",
      " |  \n",
      " |  ----------------------------------------------------------------------\n",
      " |  Static methods defined here:\n",
      " |  \n",
      " |  origin() -> 'Point'\n",
      " |      Returns a point at the origin (0, 0).\n",
      " |      \n",
      " |      return: A Point object representing the origin.\n",
      " |  \n",
      " |  ----------------------------------------------------------------------\n",
      " |  Data descriptors defined here:\n",
      " |  \n",
      " |  __dict__\n",
      " |      dictionary for instance variables (if defined)\n",
      " |  \n",
      " |  __weakref__\n",
      " |      list of weak references to the object (if defined)\n",
      " |  \n",
      " |  x\n",
      " |      Gets the x-coordinate.\n",
      " |  \n",
      " |  y\n",
      " |      Gets the y-coordinate.\n",
      "\n"
     ]
    }
   ],
   "source": [
    "help(Point)"
   ]
  },
  {
   "cell_type": "markdown",
   "id": "2999cfe7-bbf8-44a5-9b88-6fadc7986358",
   "metadata": {},
   "source": [
    "* To Print the doc-string and annotations of both the class and each instance method"
   ]
  },
  {
   "cell_type": "code",
   "execution_count": 19,
   "id": "7b497487-92a7-4278-9b4d-94f895c28956",
   "metadata": {},
   "outputs": [
    {
     "name": "stdout",
     "output_type": "stream",
     "text": [
      "\n",
      "    A class to represent a point in a 2D coordinate system.\n",
      "    \n"
     ]
    },
    {
     "ename": "AttributeError",
     "evalue": "type object 'Point' has no attribute 'locate'",
     "output_type": "error",
     "traceback": [
      "\u001b[1;31m---------------------------------------------------------------------------\u001b[0m",
      "\u001b[1;31mAttributeError\u001b[0m                            Traceback (most recent call last)",
      "Cell \u001b[1;32mIn[19], line 5\u001b[0m\n\u001b[0;32m      1\u001b[0m \u001b[38;5;28mprint\u001b[39m(Point\u001b[38;5;241m.\u001b[39m\u001b[38;5;18m__doc__\u001b[39m)\n\u001b[0;32m      2\u001b[0m \u001b[38;5;28;01mfor\u001b[39;00m method \u001b[38;5;129;01min\u001b[39;00m [Point\u001b[38;5;241m.\u001b[39m\u001b[38;5;21m__init__\u001b[39m,\n\u001b[0;32m      3\u001b[0m                Point\u001b[38;5;241m.\u001b[39mdistance_to,\n\u001b[0;32m      4\u001b[0m                Point\u001b[38;5;241m.\u001b[39mdistance_from_origin,\n\u001b[1;32m----> 5\u001b[0m                \u001b[43mPoint\u001b[49m\u001b[38;5;241;43m.\u001b[39;49m\u001b[43mlocate\u001b[49m,\n\u001b[0;32m      6\u001b[0m                Point\u001b[38;5;241m.\u001b[39m\u001b[38;5;21m__repr__\u001b[39m,\n\u001b[0;32m      7\u001b[0m                Point\u001b[38;5;241m.\u001b[39m\u001b[38;5;21m__str__\u001b[39m,\n\u001b[0;32m      8\u001b[0m                Point\u001b[38;5;241m.\u001b[39morigin,\n\u001b[0;32m      9\u001b[0m                Point\u001b[38;5;241m.\u001b[39mfrom_coordinates]:\n\u001b[0;32m     10\u001b[0m     \u001b[38;5;28;01mif\u001b[39;00m \u001b[38;5;28misinstance\u001b[39m(method, \u001b[38;5;28mproperty\u001b[39m):\n\u001b[0;32m     11\u001b[0m         \u001b[38;5;28mprint\u001b[39m(\u001b[38;5;124mf\u001b[39m\u001b[38;5;124m\"\u001b[39m\u001b[38;5;124mMethod: \u001b[39m\u001b[38;5;132;01m{\u001b[39;00mmethod\u001b[38;5;241m.\u001b[39mfget\u001b[38;5;241m.\u001b[39m\u001b[38;5;18m__name__\u001b[39m\u001b[38;5;132;01m}\u001b[39;00m\u001b[38;5;124m, Docstring: \u001b[39m\u001b[38;5;132;01m{\u001b[39;00mmethod\u001b[38;5;241m.\u001b[39m\u001b[38;5;18m__doc__\u001b[39m\u001b[38;5;132;01m}\u001b[39;00m\u001b[38;5;124m, Annotations: \u001b[39m\u001b[38;5;132;01m{\u001b[39;00mmethod\u001b[38;5;241m.\u001b[39mfget\u001b[38;5;241m.\u001b[39m\u001b[38;5;18m__annotations__\u001b[39m\u001b[38;5;132;01m}\u001b[39;00m\u001b[38;5;124m\"\u001b[39m)\n",
      "\u001b[1;31mAttributeError\u001b[0m: type object 'Point' has no attribute 'locate'"
     ]
    }
   ],
   "source": [
    "print(Point.__doc__)\n",
    "for method in [Point.__init__,\n",
    "               Point.distance_to,\n",
    "               Point.distance_from_origin,\n",
    "               Point.locate,\n",
    "               Point.__repr__,\n",
    "               Point.__str__,\n",
    "               Point.origin,\n",
    "               Point.from_coordinates]:\n",
    "    if isinstance(method, property):\n",
    "        print(f\"Method: {method.fget.__name__}, Docstring: {method.__doc__}, Annotations: {method.fget.__annotations__}\")\n",
    "    else:\n",
    "        print(f\"Method: {method.__name__}, Docstring: {method.__doc__}, Annotations: {method.__annotations__}\")"
   ]
  },
  {
   "cell_type": "code",
   "execution_count": 20,
   "id": "e2813ffb-3466-4429-804f-773ce9b3baa9",
   "metadata": {},
   "outputs": [
    {
     "name": "stdout",
     "output_type": "stream",
     "text": [
      "2D Coordinate system with coordinates (0.0,0.0)\n"
     ]
    }
   ],
   "source": [
    "inst_3 = Point()\n",
    "print(inst_3)"
   ]
  },
  {
   "cell_type": "markdown",
   "id": "e3ff2893-b1b2-4d57-a10b-1ef12b1edc9c",
   "metadata": {},
   "source": [
    "# Task No 2"
   ]
  },
  {
   "cell_type": "markdown",
   "id": "d256ba72-d5ed-46d3-bbd5-d2c8bc7ec526",
   "metadata": {},
   "source": [
    "* ***Class Definition:*** Define a class Circle with the necessary __init__ method.\n",
    "* **Property Methods:**\n",
    "* Add appropriate property methods using @property and @property.setter for radius.\n",
    "* Add property methods for area, circumference, and diameter.\n",
    "* **Instance Methods:**\n",
    "* ***Volume Calculation:*** Add an instance method for calculating the volume of a cylinder with the given radius.\n",
    "* **Special Methods:**\n",
    "* Implement __repr__ and __str__ methods to provide clear string representations for the class.\n",
    "* Add methods decorated with @staticmethod and @classmethod if applicable.\n",
    "* Documentation: Ensure proper annotations and docstrings for every class and instance method to enhance readability and maintainability."
   ]
  },
  {
   "cell_type": "code",
   "execution_count": 21,
   "id": "1f0dbbcb-1048-4af9-99cd-9e81de444f72",
   "metadata": {},
   "outputs": [],
   "source": [
    "import math\n",
    "class Circle:\n",
    "    \"\"\"A class to represent a circle with given radius and calculate the area, circumference, diameter  and volume\n",
    "    \"\"\"\n",
    "    def __init__(self, radius: float = 1):\n",
    "        \"\"\"\n",
    "        Initialize the Circle with a given radius.\n",
    "\n",
    "        Parameters:\n",
    "        radius (float): The radius of the circle. Default is 1.0.\n",
    "        \"\"\"\n",
    "        self.radius = radius\n",
    "\n",
    "    @property\n",
    "    def radius(self):\n",
    "        \"\"\"Get the radius of the circle.\"\"\"\n",
    "        return self._radius\n",
    "\n",
    "    @radius.setter\n",
    "    def radius(self, value: float) -> None:\n",
    "        \"\"\"Set the radius of the circle.\"\"\"\n",
    "        self._radius = value\n",
    "\n",
    "    def volume(self, height: float) -> None:\n",
    "        \"\"\"\n",
    "        Calculate the volume of a cylinder with the circle as the base.\n",
    "\n",
    "        Parameters:\n",
    "        height (float): The height of the cylinder.\n",
    "\n",
    "        Returns:\n",
    "        float: The volume of the cylinder.\n",
    "        \"\"\"\n",
    "        return self.area * height\n",
    "\n",
    "    @property\n",
    "    def area(self) -> float:\n",
    "        \"\"\"Calculate the area of the circle.\"\"\"\n",
    "        from math import pi\n",
    "        return pi * (self._radius ** 2)\n",
    "    @staticmethod\n",
    "    def volume(height: float) -> float:\n",
    "        return self.area * height\n",
    "\n",
    "    @property\n",
    "    def circumference(self) -> float:\n",
    "        \"\"\"Calculate the circumference of the circle.\"\"\"\n",
    "        from math import pi\n",
    "        return 2 * pi * self._radius\n",
    "\n",
    "    @property\n",
    "    def diameter(self) -> float:\n",
    "        \"\"\"Calculate the diameter of the circle.\"\"\"\n",
    "        return self._radius * 2\n",
    "    @classmethod\n",
    "    def unit_circle(cls) -> 'Circle':\n",
    "        \"\"\"Create a Circle instance with a radius of 1.\"\"\"\n",
    "        return cls(1)\n",
    "    def __repr__(self) -> str:\n",
    "        \"\"\"Return a string representation of the Circle instance.\"\"\"\n",
    "        return f\"Circle(radius={self._radius})\"\n",
    "\n",
    "    def __str__(self) -> str:\n",
    "        \"\"\"Return a user-friendly string representation of the Circle.\"\"\"\n",
    "        return f\"Circle with radius: {self._radius}\""
   ]
  },
  {
   "cell_type": "markdown",
   "id": "486bb704-1b1d-4908-9b15-043b29e7354d",
   "metadata": {},
   "source": [
    "* To Define inst_1,inst_2"
   ]
  },
  {
   "cell_type": "code",
   "execution_count": 23,
   "id": "40a7e1f3-88d0-49ff-80eb-2167f7b7829c",
   "metadata": {},
   "outputs": [],
   "source": [
    "inst_1 = Circle(2)\n",
    "inst_2 = Circle(15)"
   ]
  },
  {
   "cell_type": "markdown",
   "id": "4c084d2e-c41a-4be7-ae58-200c357d6365",
   "metadata": {},
   "source": [
    "* To Print inst_1 and inst_2, for this use the print command and pass the inst_1 and inst_2"
   ]
  },
  {
   "cell_type": "code",
   "execution_count": 24,
   "id": "67b770f6-6c79-4858-9ea8-99a836c1e823",
   "metadata": {},
   "outputs": [
    {
     "name": "stdout",
     "output_type": "stream",
     "text": [
      "Circle with radius: 2\n",
      "Circle with radius: 15\n"
     ]
    }
   ],
   "source": [
    "print(inst_1)\n",
    "print(inst_2)"
   ]
  },
  {
   "cell_type": "code",
   "execution_count": 25,
   "id": "3d95da41-76e6-4ba4-ae97-0c6d30bf41cb",
   "metadata": {},
   "outputs": [
    {
     "data": {
      "text/plain": [
       "Circle(radius=2)"
      ]
     },
     "execution_count": 25,
     "metadata": {},
     "output_type": "execute_result"
    }
   ],
   "source": [
    "inst_1"
   ]
  },
  {
   "cell_type": "code",
   "execution_count": 26,
   "id": "5915ad9d-b9dc-42bf-82a0-a35b9ca5e298",
   "metadata": {},
   "outputs": [
    {
     "data": {
      "text/plain": [
       "Circle(radius=15)"
      ]
     },
     "execution_count": 26,
     "metadata": {},
     "output_type": "execute_result"
    }
   ],
   "source": [
    "inst_2"
   ]
  },
  {
   "cell_type": "markdown",
   "id": "6436f21c-8af2-4909-9e68-4b2be6b357df",
   "metadata": {},
   "source": [
    "* To Demonstrate the property, staticmethod and classmethod methods on the instances"
   ]
  },
  {
   "cell_type": "code",
   "execution_count": 27,
   "id": "f46c37a3-2f08-4efa-b429-a09b592484f6",
   "metadata": {},
   "outputs": [
    {
     "name": "stdout",
     "output_type": "stream",
     "text": [
      "Area of inst_1: 12.6\n",
      "Circumference of inst_1: 12.6\n",
      "Diameter of inst_1: 4.0\n",
      "\n",
      "Area of inst_2: 706.9\n",
      "Circumference of inst_2: 94.2\n",
      "Diameter of inst_2: 30.0\n"
     ]
    }
   ],
   "source": [
    "\n",
    "print(f\"Area of inst_1: {inst_1.area:.1f}\")\n",
    "print(f\"Circumference of inst_1: {inst_1.circumference:.1f}\")\n",
    "print(f\"Diameter of inst_1: {inst_1.diameter:.1f}\")\n",
    "print()\n",
    "print(f\"Area of inst_2: {inst_2.area:.1f}\")\n",
    "print(f\"Circumference of inst_2: {inst_2.circumference:.1f}\")\n",
    "print(f\"Diameter of inst_2: {inst_2.diameter:.1f}\")"
   ]
  },
  {
   "cell_type": "markdown",
   "id": "802761b8-0521-4ae8-9ff4-94202bae1465",
   "metadata": {},
   "source": [
    "* To Call the __dict__ by the class name."
   ]
  },
  {
   "cell_type": "code",
   "execution_count": 28,
   "id": "cc2a9318-c78f-432a-8b73-045a1f6ee6bc",
   "metadata": {},
   "outputs": [
    {
     "name": "stdout",
     "output_type": "stream",
     "text": [
      "mappingproxy({'__dict__': <attribute '__dict__' of 'Circle' objects>,\n",
      "              '__doc__': 'A class to represent a circle with given radius and '\n",
      "                         'calculate the area, circumference, diameter  and '\n",
      "                         'volume\\n'\n",
      "                         '    ',\n",
      "              '__init__': <function Circle.__init__ at 0x0000017639AB04C0>,\n",
      "              '__module__': '__main__',\n",
      "              '__repr__': <function Circle.__repr__ at 0x0000017639AE93A0>,\n",
      "              '__str__': <function Circle.__str__ at 0x0000017639AE95E0>,\n",
      "              '__weakref__': <attribute '__weakref__' of 'Circle' objects>,\n",
      "              'area': <property object at 0x0000017637DD6270>,\n",
      "              'circumference': <property object at 0x0000017639ACCA40>,\n",
      "              'diameter': <property object at 0x0000017639B11CC0>,\n",
      "              'radius': <property object at 0x0000017639B11C70>,\n",
      "              'unit_circle': <classmethod object at 0x0000017638039D90>,\n",
      "              'volume': <staticmethod object at 0x000001763920C430>})\n"
     ]
    }
   ],
   "source": [
    "from pprint import pprint\n",
    "pprint(Circle.__dict__)"
   ]
  },
  {
   "cell_type": "code",
   "execution_count": 29,
   "id": "a617c81f-f0d6-4838-a1e6-ff8995e460f4",
   "metadata": {},
   "outputs": [
    {
     "name": "stdout",
     "output_type": "stream",
     "text": [
      "mappingproxy({'__dict__': <attribute '__dict__' of 'Circle' objects>,\n",
      "              '__doc__': 'A class to represent a circle with given radius and '\n",
      "                         'calculate the area, circumference, diameter  and '\n",
      "                         'volume\\n'\n",
      "                         '    ',\n",
      "              '__init__': <function Circle.__init__ at 0x0000017639AB04C0>,\n",
      "              '__module__': '__main__',\n",
      "              '__repr__': <function Circle.__repr__ at 0x0000017639AE93A0>,\n",
      "              '__str__': <function Circle.__str__ at 0x0000017639AE95E0>,\n",
      "              '__weakref__': <attribute '__weakref__' of 'Circle' objects>,\n",
      "              'area': <property object at 0x0000017637DD6270>,\n",
      "              'circumference': <property object at 0x0000017639ACCA40>,\n",
      "              'diameter': <property object at 0x0000017639B11CC0>,\n",
      "              'radius': <property object at 0x0000017639B11C70>,\n",
      "              'unit_circle': <classmethod object at 0x0000017638039D90>,\n",
      "              'volume': <staticmethod object at 0x000001763920C430>})\n"
     ]
    }
   ],
   "source": [
    "pprint(vars(Circle))"
   ]
  },
  {
   "cell_type": "markdown",
   "id": "30b61aa5-a7c6-4f2f-ac23-f737393c5d25",
   "metadata": {},
   "source": [
    "* To Call the __dict__ on the object of the class"
   ]
  },
  {
   "cell_type": "code",
   "execution_count": 30,
   "id": "cbdb955d-21ec-41d0-ab82-07205a6d01ab",
   "metadata": {},
   "outputs": [
    {
     "name": "stdout",
     "output_type": "stream",
     "text": [
      "{'_radius': 2}\n"
     ]
    }
   ],
   "source": [
    "print(inst_1.__dict__)"
   ]
  },
  {
   "cell_type": "code",
   "execution_count": 31,
   "id": "966a31e9-4dfb-47af-8c97-79ca175c10dd",
   "metadata": {},
   "outputs": [
    {
     "name": "stdout",
     "output_type": "stream",
     "text": [
      "{'_radius': 15}\n"
     ]
    }
   ],
   "source": [
    "print(inst_2.__dict__)"
   ]
  },
  {
   "cell_type": "markdown",
   "id": "ae10b078-8db8-46da-ada5-485f7f96bc6f",
   "metadata": {},
   "source": [
    "* To Pass the class name to help"
   ]
  },
  {
   "cell_type": "code",
   "execution_count": 33,
   "id": "bb4c43d0-a460-408c-a672-faa3233111a0",
   "metadata": {},
   "outputs": [
    {
     "name": "stdout",
     "output_type": "stream",
     "text": [
      "Help on class Circle in module __main__:\n",
      "\n",
      "class Circle(builtins.object)\n",
      " |  Circle(radius: float = 1)\n",
      " |  \n",
      " |  A class to represent a circle with given radius and calculate the area, circumference, diameter  and volume\n",
      " |  \n",
      " |  Methods defined here:\n",
      " |  \n",
      " |  __init__(self, radius: float = 1)\n",
      " |      Initialize the Circle with a given radius.\n",
      " |      \n",
      " |      Parameters:\n",
      " |      radius (float): The radius of the circle. Default is 1.0.\n",
      " |  \n",
      " |  __repr__(self) -> str\n",
      " |      Return a string representation of the Circle instance.\n",
      " |  \n",
      " |  __str__(self) -> str\n",
      " |      Return a user-friendly string representation of the Circle.\n",
      " |  \n",
      " |  ----------------------------------------------------------------------\n",
      " |  Class methods defined here:\n",
      " |  \n",
      " |  unit_circle() -> 'Circle' from builtins.type\n",
      " |      Create a Circle instance with a radius of 1.\n",
      " |  \n",
      " |  ----------------------------------------------------------------------\n",
      " |  Static methods defined here:\n",
      " |  \n",
      " |  volume(height: float) -> float\n",
      " |  \n",
      " |  ----------------------------------------------------------------------\n",
      " |  Readonly properties defined here:\n",
      " |  \n",
      " |  area\n",
      " |      Calculate the area of the circle.\n",
      " |  \n",
      " |  circumference\n",
      " |      Calculate the circumference of the circle.\n",
      " |  \n",
      " |  diameter\n",
      " |      Calculate the diameter of the circle.\n",
      " |  \n",
      " |  ----------------------------------------------------------------------\n",
      " |  Data descriptors defined here:\n",
      " |  \n",
      " |  __dict__\n",
      " |      dictionary for instance variables (if defined)\n",
      " |  \n",
      " |  __weakref__\n",
      " |      list of weak references to the object (if defined)\n",
      " |  \n",
      " |  radius\n",
      " |      Get the radius of the circle.\n",
      "\n"
     ]
    }
   ],
   "source": [
    "help(Circle)"
   ]
  },
  {
   "cell_type": "code",
   "execution_count": 34,
   "id": "6880226a-d9da-4f93-8f49-2acd1aa18d3f",
   "metadata": {},
   "outputs": [
    {
     "name": "stdout",
     "output_type": "stream",
     "text": [
      "A class to represent a circle with given radius and calculate the area, circumference, diameter  and volume\n",
      "    \n",
      "Method: __init__, Docstring: \n",
      "        Initialize the Circle with a given radius.\n",
      "\n",
      "        Parameters:\n",
      "        radius (float): The radius of the circle. Default is 1.0.\n",
      "        , Annotations: {'radius': <class 'float'>}\n",
      "Method: volume, Docstring: None, Annotations: {'height': <class 'float'>, 'return': <class 'float'>}\n",
      "Method: area, Docstring: Calculate the area of the circle., Annotations: {'return': <class 'float'>}\n",
      "Method: circumference, Docstring: Calculate the circumference of the circle., Annotations: {'return': <class 'float'>}\n",
      "Method: diameter, Docstring: Calculate the diameter of the circle., Annotations: {'return': <class 'float'>}\n",
      "Method: __repr__, Docstring: Return a string representation of the Circle instance., Annotations: {'return': <class 'str'>}\n",
      "Method: __str__, Docstring: Return a user-friendly string representation of the Circle., Annotations: {'return': <class 'str'>}\n",
      "Method: diameter, Docstring: Calculate the diameter of the circle., Annotations: {'return': <class 'float'>}\n",
      "Method: unit_circle, Docstring: Create a Circle instance with a radius of 1., Annotations: {'return': 'Circle'}\n"
     ]
    }
   ],
   "source": [
    "print(Circle.__doc__)\n",
    "for method in [\n",
    "    Circle.__init__,\n",
    "    Circle.volume,\n",
    "    Circle.area,\n",
    "    Circle.circumference,\n",
    "    Circle.diameter,\n",
    "    Circle.__repr__,\n",
    "    Circle.__str__,\n",
    "    Circle.diameter,\n",
    "    Circle.unit_circle,]:\n",
    "    if isinstance(method, property):\n",
    "        print(f\"Method: {method.fget.__name__}, Docstring: {method.__doc__}, Annotations: {method.fget.__annotations__}\")\n",
    "    else:\n",
    "        print(f\"Method: {method.__name__}, Docstring: {method.__doc__}, Annotations: {method.__annotations__}\")"
   ]
  },
  {
   "cell_type": "markdown",
   "id": "634096c9-3c59-47a1-a61b-3c15b2461211",
   "metadata": {},
   "source": [
    "* To Modify the __init__ by by making its parameters default and verify by instances"
   ]
  },
  {
   "cell_type": "code",
   "execution_count": 35,
   "id": "778dc0de-04c7-45e8-8a3c-ba3f8dba1ae5",
   "metadata": {},
   "outputs": [
    {
     "name": "stdout",
     "output_type": "stream",
     "text": [
      "Circle with radius: 1\n"
     ]
    }
   ],
   "source": [
    "inst_3 = Circle()\n",
    "print(inst_3)"
   ]
  },
  {
   "cell_type": "markdown",
   "id": "361f117b-c047-44f1-bd95-a6d8f4722f71",
   "metadata": {},
   "source": [
    "# **Task No 03**"
   ]
  },
  {
   "cell_type": "markdown",
   "id": "1266539f-0755-452a-ae00-dc13eeb63028",
   "metadata": {},
   "source": [
    "* ***Class Definition:*** Define a class RLC with the necessary __init__ method.\n",
    "* **Property Methods:**\n",
    "* Add appropriate property methods using @property and @property.setter for resistance, inductance, and capacitance.\n",
    "*Add property methods for impedance, phase, and power factor.\n",
    "* **Instance Method:**\n",
    "* ***Current Calculation:*** Add an instance method for calculating the current in the circuit with a given input voltage.\n",
    "* **Special Methods:**\n",
    "* Implement __repr__ and __str__ methods to provide clear string representations for the class.\n",
    "* Add methods decorated with @staticmethod and @classmethod if applicable.\n",
    "* Documentation: Ensure proper annotations and docstrings for every class and instance method to enhance readability and maintainability."
   ]
  },
  {
   "cell_type": "code",
   "execution_count": 37,
   "id": "e965f24d-9a38-47bb-a294-b4b81acf8d94",
   "metadata": {},
   "outputs": [],
   "source": [
    "import math\n",
    "\n",
    "class RLC:\n",
    "    \"\"\"A class to represent a series RLC circuit.\"\"\"\n",
    "\n",
    "    def __init__(self, resistance: float = 1.0, inductance: float = 1.0, capacitance: float = 1.0):\n",
    "        \"\"\"\n",
    "        Initialize the RLC circuit with given resistance, inductance, and capacitance.\n",
    "\n",
    "        Parameters:\n",
    "        Resistance in ohms. Default is 1.0.\n",
    "        Inductance in henries. Default is 1.0.\n",
    "        Capacitance in farads. Default is 1.0.\n",
    "        \"\"\"\n",
    "        self.resistance = resistance\n",
    "        self.inductance = inductance\n",
    "        self.capacitance = capacitance\n",
    "\n",
    "    @property\n",
    "    def resistance(self) -> float:\n",
    "        \"\"\"Get the resistance of the circuit.\"\"\"\n",
    "        return self._resistance\n",
    "\n",
    "    @resistance.setter\n",
    "    def resistance(self, value: float) -> None:\n",
    "        \"\"\"Set the resistance of the circuit.\"\"\"\n",
    "        self._resistance = value\n",
    "\n",
    "    @property\n",
    "    def inductance(self) -> float:\n",
    "        \"\"\"Get the inductance of the circuit.\"\"\"\n",
    "        return self._inductance\n",
    "\n",
    "    @inductance.setter\n",
    "    def inductance(self, value: float) -> None:\n",
    "        \"\"\"Set the inductance of the circuit.\"\"\"\n",
    "        self._inductance = value\n",
    "\n",
    "    @property\n",
    "    def capacitance(self) -> float:\n",
    "        \"\"\"Get the capacitance of the circuit.\"\"\"\n",
    "        return self._capacitance\n",
    "\n",
    "    @capacitance.setter\n",
    "    def capacitance(self, value: float) -> None:\n",
    "        \"\"\"Set the capacitance of the circuit.\"\"\"\n",
    "        self._capacitance = value\n",
    "    @property\n",
    "    def impedance(self) -> float:\n",
    "        \"\"\"Calculate the impedance of the circuit.\"\"\"\n",
    "        reactance = (self._inductance * 2 * math.pi * 100) - (1 / (self._capacitance * 2 * math.pi * 100))\n",
    "        return math.sqrt(self._resistance ** 2 + reactance**2)\n",
    "\n",
    "    @property\n",
    "    def phase(self) -> float:\n",
    "        \"\"\"Calculate the phase angle of the circuit in radians.\"\"\"\n",
    "        reactance = (self._inductance * 2 * math.pi * 50) - (1 / (self._capacitance * 2 * math.pi * 50)) # here the frequency is 50\n",
    "        return math.atan(reactance / self._resistance)\n",
    "\n",
    "    @property\n",
    "    def power_factor(self) -> float:\n",
    "        \"\"\"Calculate the power factor of the circuit.\"\"\"\n",
    "        return (math.cos(self.phase))\n",
    "\n",
    "    def current(self, voltage: float) -> float:\n",
    "        \"\"\"\n",
    "        Calculate the current in the circuit with a given input voltage.\n",
    "\n",
    "        Parameters:\n",
    "        The input voltage in volts.\n",
    "\n",
    "        Returns:\n",
    "        float: The current in amperes.\n",
    "        \"\"\"\n",
    "        return voltage / self.impedance\n",
    "\n",
    "    @staticmethod\n",
    "    def series_RLC_from_values(resistance: float, inductance: float, capacitance: float):\n",
    "        \"\"\"\n",
    "        Create an RLC instance from resistance, inductance, and capacitance values.\n",
    "        Returns:\n",
    "        RLC: An instance of RLC.\n",
    "        \"\"\"\n",
    "        return RLC(resistance, inductance, capacitance)\n",
    "\n",
    "    @classmethod\n",
    "    def default_RLC(cls):\n",
    "        \"\"\"Create a default RLC instance with default values.\"\"\"\n",
    "        return cls()\n",
    "    def __repr__(self) -> str:\n",
    "        \"\"\"Return a string representation of the RLC instance.\"\"\"\n",
    "        return (f\"{type(self).__name__}({self._resistance} ohm,{self._inductance} H, {self._capacitance} F)\")\n",
    "\n",
    "    def __str__(self) -> str:\n",
    "        \"\"\"Return a user-friendly string representation of the RLC circuit.\"\"\"\n",
    "        return (f\"RLC Circuit with Resistance: {self._resistance} ohm,Inductance: {self._inductance} H, Capacitance: {self._capacitance} F\")"
   ]
  },
  {
   "cell_type": "markdown",
   "id": "f180b594-5fd7-468c-b910-4fab34962488",
   "metadata": {},
   "source": [
    "* To Define inst_1,inst_2 and pass two numbers"
   ]
  },
  {
   "cell_type": "code",
   "execution_count": 38,
   "id": "d282984b-5686-4737-a66e-ccf97ea83286",
   "metadata": {},
   "outputs": [],
   "source": [
    "inst_1 = RLC(60, 0.1, 0.001)\n",
    "inst_2 = RLC(100, 0.2, 0.002)"
   ]
  },
  {
   "cell_type": "markdown",
   "id": "757fcac8-a074-430e-a251-f453f4ee9c18",
   "metadata": {},
   "source": [
    "* To Print inst_1 and inst_2, for this use the print command and pass the inst_1 and inst_2"
   ]
  },
  {
   "cell_type": "code",
   "execution_count": 39,
   "id": "ae746ae7-359d-4058-bc3a-0f393f0f19bd",
   "metadata": {},
   "outputs": [
    {
     "name": "stdout",
     "output_type": "stream",
     "text": [
      "RLC Circuit with Resistance: 60 ohm,Inductance: 0.1 H, Capacitance: 0.001 F\n",
      "RLC Circuit with Resistance: 100 ohm,Inductance: 0.2 H, Capacitance: 0.002 F\n"
     ]
    }
   ],
   "source": [
    "print(inst_1)\n",
    "print(inst_2)"
   ]
  },
  {
   "cell_type": "code",
   "execution_count": 40,
   "id": "97105e6d-fb03-4376-bf29-24f9889ec63e",
   "metadata": {},
   "outputs": [
    {
     "data": {
      "text/plain": [
       "RLC(60 ohm,0.1 H, 0.001 F)"
      ]
     },
     "execution_count": 40,
     "metadata": {},
     "output_type": "execute_result"
    }
   ],
   "source": [
    "inst_1"
   ]
  },
  {
   "cell_type": "code",
   "execution_count": 41,
   "id": "095c68b0-1652-43a8-a43d-c28c21a1047f",
   "metadata": {},
   "outputs": [
    {
     "data": {
      "text/plain": [
       "RLC(100 ohm,0.2 H, 0.002 F)"
      ]
     },
     "execution_count": 41,
     "metadata": {},
     "output_type": "execute_result"
    }
   ],
   "source": [
    "inst_2"
   ]
  },
  {
   "cell_type": "markdown",
   "id": "06155a8a-849f-4b9a-8b67-081198959bdd",
   "metadata": {},
   "source": [
    "* To Demonstrate the property, staticmethod and classmethod methods on the instances"
   ]
  },
  {
   "cell_type": "code",
   "execution_count": 42,
   "id": "f0bac731-5593-4fe5-a357-1516d4a22eb5",
   "metadata": {},
   "outputs": [
    {
     "name": "stdout",
     "output_type": "stream",
     "text": [
      "Impedance of inst_1: 85.7 ohm\n",
      "Phase of inst_1: 0.4 radians\n",
      "Power Factor of inst_1: 0.905 W\n",
      "\n",
      "Impedance of inst_2: 160.0 ohm\n",
      "Phase of inst_2: 0.5 radians\n",
      "Power Factor of inst_2: 0.853 W\n"
     ]
    }
   ],
   "source": [
    "print(f\"Impedance of inst_1: {inst_1.impedance:.1f} ohm\")\n",
    "print(f\"Phase of inst_1: {inst_1.phase:.1f} radians\")\n",
    "print(f\"Power Factor of inst_1: {inst_1.power_factor:.3f} W\")\n",
    "print()\n",
    "print(f\"Impedance of inst_2: {inst_2.impedance:.1f} ohm\")\n",
    "print(f\"Phase of inst_2: {inst_2.phase:.1f} radians\")\n",
    "print(f\"Power Factor of inst_2: {inst_2.power_factor:.3f} W\")"
   ]
  },
  {
   "cell_type": "markdown",
   "id": "0ce7b71b-4db6-4906-a26b-495128552965",
   "metadata": {},
   "source": [
    "* Current with a given voltage"
   ]
  },
  {
   "cell_type": "code",
   "execution_count": 43,
   "id": "072b3773-d395-4889-923c-d33552c79b48",
   "metadata": {},
   "outputs": [
    {
     "name": "stdout",
     "output_type": "stream",
     "text": [
      "Current through inst_1 with voltage 220V: 2.57A\n",
      "Current through inst_2 with voltage 130V: 0.81A\n"
     ]
    }
   ],
   "source": [
    "print(f\"Current through inst_1 with voltage {220}V: {inst_1.current(220):.2f}A\")\n",
    "print(f\"Current through inst_2 with voltage {130}V: {inst_2.current(130):.2f}A\")"
   ]
  },
  {
   "cell_type": "markdown",
   "id": "3147316a-3f93-4fc5-8b30-5d5c12decc13",
   "metadata": {},
   "source": [
    "* Using the class method"
   ]
  },
  {
   "cell_type": "code",
   "execution_count": 44,
   "id": "e1339d32-a322-45f5-a1da-18266555e1f7",
   "metadata": {},
   "outputs": [
    {
     "name": "stdout",
     "output_type": "stream",
     "text": [
      "RLC Circuit with Resistance: 1.0 ohm,Inductance: 1.0 H, Capacitance: 1.0 F\n"
     ]
    },
    {
     "data": {
      "text/plain": [
       "RLC(1.0 ohm,1.0 H, 1.0 F)"
      ]
     },
     "execution_count": 44,
     "metadata": {},
     "output_type": "execute_result"
    }
   ],
   "source": [
    "default_RLC = RLC.default_RLC()\n",
    "print(default_RLC)\n",
    "default_RLC"
   ]
  },
  {
   "cell_type": "markdown",
   "id": "a3dc129a-576f-47fb-a9a0-6dc31c43646a",
   "metadata": {},
   "source": [
    "* To Call the __dict__ by the class name."
   ]
  },
  {
   "cell_type": "code",
   "execution_count": 45,
   "id": "af156e48-f36a-4729-a756-9e4ff46a0e98",
   "metadata": {},
   "outputs": [
    {
     "name": "stdout",
     "output_type": "stream",
     "text": [
      "mappingproxy({'__dict__': <attribute '__dict__' of 'RLC' objects>,\n",
      "              '__doc__': 'A class to represent a series RLC circuit.',\n",
      "              '__init__': <function RLC.__init__ at 0x0000017639B27310>,\n",
      "              '__module__': '__main__',\n",
      "              '__repr__': <function RLC.__repr__ at 0x0000017639B540D0>,\n",
      "              '__str__': <function RLC.__str__ at 0x0000017639B54160>,\n",
      "              '__weakref__': <attribute '__weakref__' of 'RLC' objects>,\n",
      "              'capacitance': <property object at 0x0000017639B2F6D0>,\n",
      "              'current': <function RLC.current at 0x0000017639B27F70>,\n",
      "              'default_RLC': <classmethod object at 0x00000176380013D0>,\n",
      "              'impedance': <property object at 0x0000017639B01D10>,\n",
      "              'inductance': <property object at 0x0000017639B2F130>,\n",
      "              'phase': <property object at 0x0000017639B2FEF0>,\n",
      "              'power_factor': <property object at 0x0000017639B2FC70>,\n",
      "              'resistance': <property object at 0x0000017639B2F680>,\n",
      "              'series_RLC_from_values': <staticmethod object at 0x0000017638001550>})\n"
     ]
    }
   ],
   "source": [
    "from pprint import pprint\n",
    "pprint(RLC.__dict__)"
   ]
  },
  {
   "cell_type": "markdown",
   "id": "e52bddb3-c625-48a3-9b72-0468457aed54",
   "metadata": {},
   "source": [
    "* Also pass the class name to the vars built-in function"
   ]
  },
  {
   "cell_type": "code",
   "execution_count": 46,
   "id": "d2803c18-87d8-48f2-b055-df1335c44384",
   "metadata": {},
   "outputs": [
    {
     "name": "stdout",
     "output_type": "stream",
     "text": [
      "mappingproxy({'__dict__': <attribute '__dict__' of 'RLC' objects>,\n",
      "              '__doc__': 'A class to represent a series RLC circuit.',\n",
      "              '__init__': <function RLC.__init__ at 0x0000017639B27310>,\n",
      "              '__module__': '__main__',\n",
      "              '__repr__': <function RLC.__repr__ at 0x0000017639B540D0>,\n",
      "              '__str__': <function RLC.__str__ at 0x0000017639B54160>,\n",
      "              '__weakref__': <attribute '__weakref__' of 'RLC' objects>,\n",
      "              'capacitance': <property object at 0x0000017639B2F6D0>,\n",
      "              'current': <function RLC.current at 0x0000017639B27F70>,\n",
      "              'default_RLC': <classmethod object at 0x00000176380013D0>,\n",
      "              'impedance': <property object at 0x0000017639B01D10>,\n",
      "              'inductance': <property object at 0x0000017639B2F130>,\n",
      "              'phase': <property object at 0x0000017639B2FEF0>,\n",
      "              'power_factor': <property object at 0x0000017639B2FC70>,\n",
      "              'resistance': <property object at 0x0000017639B2F680>,\n",
      "              'series_RLC_from_values': <staticmethod object at 0x0000017638001550>})\n"
     ]
    }
   ],
   "source": [
    "pprint(vars(RLC))"
   ]
  },
  {
   "cell_type": "markdown",
   "id": "441af3bb-5c33-44e1-8293-be67b4afbaca",
   "metadata": {},
   "source": [
    "* To Call the __dict__ on the object of the class"
   ]
  },
  {
   "cell_type": "code",
   "execution_count": 48,
   "id": "2707b35a-4f9b-4c11-aa77-9d70278900f9",
   "metadata": {},
   "outputs": [
    {
     "name": "stdout",
     "output_type": "stream",
     "text": [
      "{'_resistance': 60, '_inductance': 0.1, '_capacitance': 0.001}\n",
      "{'_resistance': 100, '_inductance': 0.2, '_capacitance': 0.002}\n"
     ]
    }
   ],
   "source": [
    "print(inst_1.__dict__)\n",
    "print(inst_2.__dict__)"
   ]
  },
  {
   "cell_type": "markdown",
   "id": "0e5423f0-fd49-408e-89e4-3be9ee6da3f6",
   "metadata": {},
   "source": [
    "* To Pass the class name to help"
   ]
  },
  {
   "cell_type": "code",
   "execution_count": 49,
   "id": "74ab7945-f036-4a2a-9c75-d837ea159d15",
   "metadata": {},
   "outputs": [
    {
     "name": "stdout",
     "output_type": "stream",
     "text": [
      "Help on class RLC in module __main__:\n",
      "\n",
      "class RLC(builtins.object)\n",
      " |  RLC(resistance: float = 1.0, inductance: float = 1.0, capacitance: float = 1.0)\n",
      " |  \n",
      " |  A class to represent a series RLC circuit.\n",
      " |  \n",
      " |  Methods defined here:\n",
      " |  \n",
      " |  __init__(self, resistance: float = 1.0, inductance: float = 1.0, capacitance: float = 1.0)\n",
      " |      Initialize the RLC circuit with given resistance, inductance, and capacitance.\n",
      " |      \n",
      " |      Parameters:\n",
      " |      Resistance in ohms. Default is 1.0.\n",
      " |      Inductance in henries. Default is 1.0.\n",
      " |      Capacitance in farads. Default is 1.0.\n",
      " |  \n",
      " |  __repr__(self) -> str\n",
      " |      Return a string representation of the RLC instance.\n",
      " |  \n",
      " |  __str__(self) -> str\n",
      " |      Return a user-friendly string representation of the RLC circuit.\n",
      " |  \n",
      " |  current(self, voltage: float) -> float\n",
      " |      Calculate the current in the circuit with a given input voltage.\n",
      " |      \n",
      " |      Parameters:\n",
      " |      The input voltage in volts.\n",
      " |      \n",
      " |      Returns:\n",
      " |      float: The current in amperes.\n",
      " |  \n",
      " |  ----------------------------------------------------------------------\n",
      " |  Class methods defined here:\n",
      " |  \n",
      " |  default_RLC() from builtins.type\n",
      " |      Create a default RLC instance with default values.\n",
      " |  \n",
      " |  ----------------------------------------------------------------------\n",
      " |  Static methods defined here:\n",
      " |  \n",
      " |  series_RLC_from_values(resistance: float, inductance: float, capacitance: float)\n",
      " |      Create an RLC instance from resistance, inductance, and capacitance values.\n",
      " |      Returns:\n",
      " |      RLC: An instance of RLC.\n",
      " |  \n",
      " |  ----------------------------------------------------------------------\n",
      " |  Readonly properties defined here:\n",
      " |  \n",
      " |  impedance\n",
      " |      Calculate the impedance of the circuit.\n",
      " |  \n",
      " |  phase\n",
      " |      Calculate the phase angle of the circuit in radians.\n",
      " |  \n",
      " |  power_factor\n",
      " |      Calculate the power factor of the circuit.\n",
      " |  \n",
      " |  ----------------------------------------------------------------------\n",
      " |  Data descriptors defined here:\n",
      " |  \n",
      " |  __dict__\n",
      " |      dictionary for instance variables (if defined)\n",
      " |  \n",
      " |  __weakref__\n",
      " |      list of weak references to the object (if defined)\n",
      " |  \n",
      " |  capacitance\n",
      " |      Get the capacitance of the circuit.\n",
      " |  \n",
      " |  inductance\n",
      " |      Get the inductance of the circuit.\n",
      " |  \n",
      " |  resistance\n",
      " |      Get the resistance of the circuit.\n",
      "\n"
     ]
    }
   ],
   "source": [
    "help(RLC)"
   ]
  },
  {
   "cell_type": "markdown",
   "id": "7c6070cb-fdaa-42ed-b6a3-fe7a7118771b",
   "metadata": {},
   "source": [
    "* To Print the doc-string and annotations of both the class and each instance method."
   ]
  },
  {
   "cell_type": "code",
   "execution_count": 50,
   "id": "ce37b75f-4b44-4c7d-bbb3-f462d157c7fb",
   "metadata": {},
   "outputs": [
    {
     "name": "stdout",
     "output_type": "stream",
     "text": [
      "A class to represent a series RLC circuit.\n",
      "Method: __init__, Docstring: \n",
      "        Initialize the RLC circuit with given resistance, inductance, and capacitance.\n",
      "\n",
      "        Parameters:\n",
      "        Resistance in ohms. Default is 1.0.\n",
      "        Inductance in henries. Default is 1.0.\n",
      "        Capacitance in farads. Default is 1.0.\n",
      "        , Annotations: {'resistance': <class 'float'>, 'inductance': <class 'float'>, 'capacitance': <class 'float'>}\n",
      "Method: impedance, Docstring: Calculate the impedance of the circuit., Annotations: {'return': <class 'float'>}\n",
      "Method: phase, Docstring: Calculate the phase angle of the circuit in radians., Annotations: {'return': <class 'float'>}\n",
      "Method: power_factor, Docstring: Calculate the power factor of the circuit., Annotations: {'return': <class 'float'>}\n",
      "Method: series_RLC_from_values, Docstring: \n",
      "        Create an RLC instance from resistance, inductance, and capacitance values.\n",
      "        Returns:\n",
      "        RLC: An instance of RLC.\n",
      "        , Annotations: {'resistance': <class 'float'>, 'inductance': <class 'float'>, 'capacitance': <class 'float'>}\n",
      "Method: __repr__, Docstring: Return a string representation of the RLC instance., Annotations: {'return': <class 'str'>}\n",
      "Method: __str__, Docstring: Return a user-friendly string representation of the RLC circuit., Annotations: {'return': <class 'str'>}\n",
      "Method: default_RLC, Docstring: Create a default RLC instance with default values., Annotations: {}\n"
     ]
    }
   ],
   "source": [
    "print(RLC.__doc__)\n",
    "for method in [\n",
    "    RLC.__init__,\n",
    "    RLC.impedance,\n",
    "    RLC.phase,\n",
    "    RLC.power_factor,\n",
    "    RLC.series_RLC_from_values,\n",
    "    RLC.__repr__,\n",
    "    RLC.__str__,\n",
    "    RLC.default_RLC,\n",
    "]:\n",
    "    if isinstance(method, property):\n",
    "        print(f\"Method: {method.fget.__name__}, Docstring: {method.__doc__}, Annotations: {method.fget.__annotations__}\")\n",
    "    else:\n",
    "        print(f\"Method: {method.__name__}, Docstring: {method.__doc__}, Annotations: {method.__annotations__}\")"
   ]
  },
  {
   "cell_type": "markdown",
   "id": "678a6354-1483-4ee9-a263-fb65b74ec6d1",
   "metadata": {},
   "source": [
    "* To Modify the __init__3 by by making its parameters default and verify by instances."
   ]
  },
  {
   "cell_type": "code",
   "execution_count": 51,
   "id": "6439e052-16a3-4916-9220-615ed9008417",
   "metadata": {},
   "outputs": [
    {
     "name": "stdout",
     "output_type": "stream",
     "text": [
      "RLC Circuit with Resistance: 1.0 ohm,Inductance: 1.0 H, Capacitance: 1.0 F\n"
     ]
    }
   ],
   "source": [
    "inst_3 = RLC() \n",
    "print(inst_3)"
   ]
  },
  {
   "cell_type": "markdown",
   "id": "05b19fda-0f7d-45a8-b553-f21457d483f2",
   "metadata": {},
   "source": [
    "# **Task No 04**"
   ]
  },
  {
   "cell_type": "markdown",
   "id": "1b90604e-6331-43fb-9ea3-dd743529e7b0",
   "metadata": {},
   "source": [
    "**Math:**\n",
    "* **Square:** *A four-sided polygon (quadrilateral) with all sides of equal length and all angles equal to 90 degrees.*\n",
    "* **Rectangle:** *A four-sided polygon where opposite sides are equal in length and all angles are equal to 90 degrees.*\n",
    "* **Triangle:** *A three-sided polygon with three edges and three vertices. Various types include equilateral, isosceles, and scalene.*\n",
    "* **Trapezoid:** *(US) / Trapezium (UK): A four-sided figure with at least one pair of parallel sides.*\n",
    "* **Parallelogram:** *A four-sided shape with opposite sides that are equal in length and parallel.*\n",
    "* **Rhombus:** *A parallelogram where all sides are of equal length, but the angles are not necessarily 90 degrees.*\n",
    "* ***These shapes serve as building blocks for more complex forms in geometry and design.***"
   ]
  },
  {
   "cell_type": "markdown",
   "id": "85957071-b78c-4398-a765-d30c5c3ac78e",
   "metadata": {},
   "source": [
    "# **1.** ***Square***"
   ]
  },
  {
   "cell_type": "code",
   "execution_count": 52,
   "id": "4fded67a-a1c9-45ab-94ac-099c427d073f",
   "metadata": {},
   "outputs": [],
   "source": [
    "class Square:\n",
    "    \"\"\"A class which represent Square: A four-sided polygon (quadrilateral) with all sides of equal length and all angles equal to 90 degrees.\n",
    "    \"\"\"\n",
    "    def __init__(self, side_length: float = 1.0) -> None:\n",
    "        \"\"\" To initiate the class with parameter side_length in  float an default valur (1.0)\n",
    "        \"\"\"\n",
    "        self.side_length = side_length\n",
    "    @property\n",
    "    def side_length(self) -> float:\n",
    "        \"\"\"To get the side length of square\"\"\"\n",
    "        return self._side_length\n",
    "    @side_length.setter\n",
    "    def side_length(self, value: float) -> None:\n",
    "        \"\"\"To set the side length square\"\"\"\n",
    "        self._side_length = value\n",
    "    @property\n",
    "    def area(self) -> float:\n",
    "        \"\"\"To calculate the  area of the square\"\"\"\n",
    "        return self.side_length ** 2\n",
    "    @property\n",
    "    def perimeter(self) -> float:\n",
    "        \"\"\"To calculate the perimeter of the square\"\"\"\n",
    "        return 4 * self.side_length\n",
    "    def __repr__(self) -> str:\n",
    "        \"\"\"Return a string representation of the Square.\"\"\"\n",
    "        return f\"{type(self).__name__}({self.side_length})\"\n",
    "    def __str__(self) -> str:\n",
    "        \"\"\"Return a user-friendly string representation of the Square.\"\"\"\n",
    "        return f\"Square with side length: {self.side_length}\"\n"
   ]
  },
  {
   "cell_type": "code",
   "execution_count": 53,
   "id": "151d04e6-166b-404b-80a8-27cc39ec5db4",
   "metadata": {},
   "outputs": [],
   "source": [
    "s_1 = Square(10)\n",
    "s_2= Square(6)"
   ]
  },
  {
   "cell_type": "code",
   "execution_count": 54,
   "id": "49e44c54-06e5-4f3d-ab7e-97536dab4cdc",
   "metadata": {},
   "outputs": [
    {
     "name": "stdout",
     "output_type": "stream",
     "text": [
      "Square with side length: 10\n",
      "Square with side length: 6\n"
     ]
    }
   ],
   "source": [
    "print(s_1)\n",
    "print(s_2)"
   ]
  },
  {
   "cell_type": "code",
   "execution_count": 55,
   "id": "78d5f76f-0174-4011-938c-1e7a00469b1c",
   "metadata": {},
   "outputs": [
    {
     "data": {
      "text/plain": [
       "Square(10)"
      ]
     },
     "execution_count": 55,
     "metadata": {},
     "output_type": "execute_result"
    }
   ],
   "source": [
    "s_1"
   ]
  },
  {
   "cell_type": "code",
   "execution_count": 56,
   "id": "0aa68814-34c9-4edb-a5a4-ce4c38718aaa",
   "metadata": {},
   "outputs": [
    {
     "data": {
      "text/plain": [
       "Square(6)"
      ]
     },
     "execution_count": 56,
     "metadata": {},
     "output_type": "execute_result"
    }
   ],
   "source": [
    "s_2"
   ]
  },
  {
   "cell_type": "code",
   "execution_count": 57,
   "id": "3199fb30-b3a5-4ee8-b7f1-62041e55fee2",
   "metadata": {},
   "outputs": [
    {
     "name": "stdout",
     "output_type": "stream",
     "text": [
      "mappingproxy({'__dict__': <attribute '__dict__' of 'Square' objects>,\n",
      "              '__doc__': 'A class which represent Square: A four-sided polygon '\n",
      "                         '(quadrilateral) with all sides of equal length and '\n",
      "                         'all angles equal to 90 degrees.\\n'\n",
      "                         '    ',\n",
      "              '__init__': <function Square.__init__ at 0x0000017639B54700>,\n",
      "              '__module__': '__main__',\n",
      "              '__repr__': <function Square.__repr__ at 0x0000017639B549D0>,\n",
      "              '__str__': <function Square.__str__ at 0x0000017639B54C10>,\n",
      "              '__weakref__': <attribute '__weakref__' of 'Square' objects>,\n",
      "              'area': <property object at 0x0000017639B33EF0>,\n",
      "              'perimeter': <property object at 0x0000017639B36130>,\n",
      "              'side_length': <property object at 0x0000017639B36180>})\n"
     ]
    }
   ],
   "source": [
    "from pprint import pprint\n",
    "pprint(Square.__dict__)"
   ]
  },
  {
   "cell_type": "code",
   "execution_count": 58,
   "id": "0e19955b-ee29-48ba-b196-a7eeafa7da69",
   "metadata": {},
   "outputs": [
    {
     "name": "stdout",
     "output_type": "stream",
     "text": [
      "mappingproxy({'__dict__': <attribute '__dict__' of 'Square' objects>,\n",
      "              '__doc__': 'A class which represent Square: A four-sided polygon '\n",
      "                         '(quadrilateral) with all sides of equal length and '\n",
      "                         'all angles equal to 90 degrees.\\n'\n",
      "                         '    ',\n",
      "              '__init__': <function Square.__init__ at 0x0000017639B54700>,\n",
      "              '__module__': '__main__',\n",
      "              '__repr__': <function Square.__repr__ at 0x0000017639B549D0>,\n",
      "              '__str__': <function Square.__str__ at 0x0000017639B54C10>,\n",
      "              '__weakref__': <attribute '__weakref__' of 'Square' objects>,\n",
      "              'area': <property object at 0x0000017639B33EF0>,\n",
      "              'perimeter': <property object at 0x0000017639B36130>,\n",
      "              'side_length': <property object at 0x0000017639B36180>})\n"
     ]
    }
   ],
   "source": [
    "pprint(vars(Square))"
   ]
  },
  {
   "cell_type": "code",
   "execution_count": 59,
   "id": "0560b18d-c523-4b4b-8445-bca14e7a79c6",
   "metadata": {},
   "outputs": [
    {
     "name": "stdout",
     "output_type": "stream",
     "text": [
      "{'_side_length': 10}\n",
      "{'_side_length': 6}\n"
     ]
    }
   ],
   "source": [
    "print(s_1.__dict__)\n",
    "print(s_2.__dict__)"
   ]
  },
  {
   "cell_type": "code",
   "execution_count": 60,
   "id": "8cad8a9e-2aec-423c-9326-3cc6a2e6cc44",
   "metadata": {},
   "outputs": [
    {
     "name": "stdout",
     "output_type": "stream",
     "text": [
      "Help on class Square in module __main__:\n",
      "\n",
      "class Square(builtins.object)\n",
      " |  Square(side_length: float = 1.0) -> None\n",
      " |  \n",
      " |  A class which represent Square: A four-sided polygon (quadrilateral) with all sides of equal length and all angles equal to 90 degrees.\n",
      " |  \n",
      " |  Methods defined here:\n",
      " |  \n",
      " |  __init__(self, side_length: float = 1.0) -> None\n",
      " |      To initiate the class with parameter side_length in  float an default valur (1.0)\n",
      " |  \n",
      " |  __repr__(self) -> str\n",
      " |      Return a string representation of the Square.\n",
      " |  \n",
      " |  __str__(self) -> str\n",
      " |      Return a user-friendly string representation of the Square.\n",
      " |  \n",
      " |  ----------------------------------------------------------------------\n",
      " |  Readonly properties defined here:\n",
      " |  \n",
      " |  area\n",
      " |      To calculate the  area of the square\n",
      " |  \n",
      " |  perimeter\n",
      " |      To calculate the perimeter of the square\n",
      " |  \n",
      " |  ----------------------------------------------------------------------\n",
      " |  Data descriptors defined here:\n",
      " |  \n",
      " |  __dict__\n",
      " |      dictionary for instance variables (if defined)\n",
      " |  \n",
      " |  __weakref__\n",
      " |      list of weak references to the object (if defined)\n",
      " |  \n",
      " |  side_length\n",
      " |      To get the side length of square\n",
      "\n"
     ]
    }
   ],
   "source": [
    "help(Square)"
   ]
  },
  {
   "cell_type": "code",
   "execution_count": 61,
   "id": "61f69268-daec-420b-a07c-0ea1ff171895",
   "metadata": {},
   "outputs": [
    {
     "name": "stdout",
     "output_type": "stream",
     "text": [
      "A class which represent Square: A four-sided polygon (quadrilateral) with all sides of equal length and all angles equal to 90 degrees.\n",
      "    \n",
      "Method: __init__, Docstring:  To initiate the class with parameter side_length in  float an default valur (1.0)\n",
      "        , Annotations: {'side_length': <class 'float'>, 'return': None}\n",
      "Method: area, Docstring: To calculate the  area of the square, Annotations: {'return': <class 'float'>}\n",
      "Method: perimeter, Docstring: To calculate the perimeter of the square, Annotations: {'return': <class 'float'>}\n",
      "Method: __repr__, Docstring: Return a string representation of the Square., Annotations: {'return': <class 'str'>}\n",
      "Method: __str__, Docstring: Return a user-friendly string representation of the Square., Annotations: {'return': <class 'str'>}\n"
     ]
    }
   ],
   "source": [
    "print(Square.__doc__)\n",
    "for method in [\n",
    "    Square.__init__,\n",
    "    Square.area,\n",
    "    Square.perimeter,\n",
    "    Square.__repr__,\n",
    "    Square.__str__,\n",
    "]:\n",
    "    if isinstance(method, property):\n",
    "        print(f\"Method: {method.fget.__name__}, Docstring: {method.__doc__}, Annotations: {method.fget.__annotations__}\")\n",
    "    else:\n",
    "        print(f\"Method: {method.__name__}, Docstring: {method.__doc__}, Annotations: {method.__annotations__}\")"
   ]
  },
  {
   "cell_type": "code",
   "execution_count": 62,
   "id": "e2c95cdc-7991-4d43-8363-a3e865b1ff9b",
   "metadata": {},
   "outputs": [],
   "source": [
    "s_3 = Square()"
   ]
  },
  {
   "cell_type": "code",
   "execution_count": 63,
   "id": "3054c501-91ae-42fb-99f5-06412114be46",
   "metadata": {},
   "outputs": [
    {
     "name": "stdout",
     "output_type": "stream",
     "text": [
      "Square with side length: 1.0\n"
     ]
    },
    {
     "data": {
      "text/plain": [
       "Square(1.0)"
      ]
     },
     "execution_count": 63,
     "metadata": {},
     "output_type": "execute_result"
    }
   ],
   "source": [
    "print(s_3)\n",
    "s_3"
   ]
  },
  {
   "cell_type": "markdown",
   "id": "40d3f693-b460-4052-a906-069590917994",
   "metadata": {},
   "source": [
    "# **2.** ***Rectangle***"
   ]
  },
  {
   "cell_type": "code",
   "execution_count": 64,
   "id": "f04f29da-c702-4ae5-aefa-34b698e56ebb",
   "metadata": {},
   "outputs": [],
   "source": [
    "class Rectangle:\n",
    "    \"\"\"A class which represent Rectangle: A four-sided polygon where opposite sides are equal in length and all angles are equal to 90 degrees.\"\"\"\n",
    "    def __init__(self, width: float = 1.0, height: float = 1.0) -> None:\n",
    "        \"\"\"initiate the class with parameters and its default values\"\"\"\n",
    "        self.width = width\n",
    "        self.height = height\n",
    "    @property\n",
    "    def width(self) -> float:\n",
    "        \"\"\"To get the width of the Rectangle\"\"\"\n",
    "        return self._width\n",
    "    @width.setter\n",
    "    def width(self, value: float) -> None:\n",
    "        \"\"\"To set the width of the Rectangle\"\"\"\n",
    "\n",
    "        self._width = value\n",
    "    @property\n",
    "    def height(self) -> float:\n",
    "        \"\"\"To get the heigth of Rectangle\"\"\"\n",
    "        return self._height\n",
    "    @height.setter\n",
    "    def height(self, value: float) -> None:\n",
    "        \"\"\"To get the heigth of Rectangle\"\"\"\n",
    "        self._height = value\n",
    "    @property\n",
    "    def area(self) -> float:\n",
    "        \"\"\"To calculate the area of the Rectangle\"\"\"\n",
    "        return self.width * self.height\n",
    "    @property\n",
    "    def perimeter(self) -> float:\n",
    "        \"\"\"To calculate the perimeter of the square\"\"\"\n",
    "        return 2 * (self.width + self.height)\n",
    "\n",
    "    def __repr__(self) -> str:\n",
    "        \"\"\"Return a string representation of the Square\"\"\"\n",
    "        return f\"{type(self).__name__}({self.width}, height={self.height})\"\n",
    "\n",
    "    def __str__(self) -> str:\n",
    "        \"\"\"Return a use-friendly representation of the Squared\"\"\"\n",
    "        return f\"Rectangle with width: {self.width}, height: {self.height}, area: {self.area}, perimeter: {self.perimeter}\"\n"
   ]
  },
  {
   "cell_type": "code",
   "execution_count": 65,
   "id": "47088b48-6a8a-419b-8d48-fd0dbd3a7312",
   "metadata": {},
   "outputs": [],
   "source": [
    "R_1 = Rectangle(5, 9)\n",
    "R_2 = Rectangle(6, 10)"
   ]
  },
  {
   "cell_type": "code",
   "execution_count": 66,
   "id": "a7af6d9a-1238-4aec-adcb-3cb4dd41f71a",
   "metadata": {},
   "outputs": [
    {
     "name": "stdout",
     "output_type": "stream",
     "text": [
      "Rectangle with width: 5, height: 9, area: 45, perimeter: 28\n",
      "Rectangle with width: 6, height: 10, area: 60, perimeter: 32\n"
     ]
    }
   ],
   "source": [
    "print(R_1)\n",
    "print(R_2)"
   ]
  },
  {
   "cell_type": "code",
   "execution_count": 67,
   "id": "bc4ea577-00f0-4909-86d4-9905e0eb35e3",
   "metadata": {},
   "outputs": [
    {
     "data": {
      "text/plain": [
       "Rectangle(5, height=9)"
      ]
     },
     "execution_count": 67,
     "metadata": {},
     "output_type": "execute_result"
    }
   ],
   "source": [
    "R_1"
   ]
  },
  {
   "cell_type": "code",
   "execution_count": 68,
   "id": "ba702423-5c68-49aa-9f22-c75789c6b3da",
   "metadata": {},
   "outputs": [
    {
     "data": {
      "text/plain": [
       "Rectangle(6, height=10)"
      ]
     },
     "execution_count": 68,
     "metadata": {},
     "output_type": "execute_result"
    }
   ],
   "source": [
    "R_2"
   ]
  },
  {
   "cell_type": "code",
   "execution_count": 69,
   "id": "677f34c0-d17d-4fdc-978f-16fa909e69f3",
   "metadata": {},
   "outputs": [
    {
     "name": "stdout",
     "output_type": "stream",
     "text": [
      "mappingproxy({'__dict__': <attribute '__dict__' of 'Rectangle' objects>,\n",
      "              '__doc__': 'A class which represent Rectangle: A four-sided '\n",
      "                         'polygon where opposite sides are equal in length and '\n",
      "                         'all angles are equal to 90 degrees.',\n",
      "              '__init__': <function Rectangle.__init__ at 0x0000017639B544C0>,\n",
      "              '__module__': '__main__',\n",
      "              '__repr__': <function Rectangle.__repr__ at 0x0000017639B51430>,\n",
      "              '__str__': <function Rectangle.__str__ at 0x0000017639B514C0>,\n",
      "              '__weakref__': <attribute '__weakref__' of 'Rectangle' objects>,\n",
      "              'area': <property object at 0x0000017639B36CC0>,\n",
      "              'height': <property object at 0x0000017639B59C20>,\n",
      "              'perimeter': <property object at 0x0000017639B59B80>,\n",
      "              'width': <property object at 0x0000017639B59BD0>})\n"
     ]
    }
   ],
   "source": [
    "from pprint import pprint\n",
    "pprint(Rectangle.__dict__)"
   ]
  },
  {
   "cell_type": "code",
   "execution_count": 70,
   "id": "ad585f2d-e333-4aa4-88c1-d9b8d879cae2",
   "metadata": {},
   "outputs": [
    {
     "name": "stdout",
     "output_type": "stream",
     "text": [
      "mappingproxy({'__dict__': <attribute '__dict__' of 'Rectangle' objects>,\n",
      "              '__doc__': 'A class which represent Rectangle: A four-sided '\n",
      "                         'polygon where opposite sides are equal in length and '\n",
      "                         'all angles are equal to 90 degrees.',\n",
      "              '__init__': <function Rectangle.__init__ at 0x0000017639B544C0>,\n",
      "              '__module__': '__main__',\n",
      "              '__repr__': <function Rectangle.__repr__ at 0x0000017639B51430>,\n",
      "              '__str__': <function Rectangle.__str__ at 0x0000017639B514C0>,\n",
      "              '__weakref__': <attribute '__weakref__' of 'Rectangle' objects>,\n",
      "              'area': <property object at 0x0000017639B36CC0>,\n",
      "              'height': <property object at 0x0000017639B59C20>,\n",
      "              'perimeter': <property object at 0x0000017639B59B80>,\n",
      "              'width': <property object at 0x0000017639B59BD0>})\n"
     ]
    }
   ],
   "source": [
    "pprint(vars(Rectangle))"
   ]
  },
  {
   "cell_type": "code",
   "execution_count": 71,
   "id": "6da6e55a-b20b-4074-9777-6410d46578b4",
   "metadata": {},
   "outputs": [
    {
     "name": "stdout",
     "output_type": "stream",
     "text": [
      "{'_width': 5, '_height': 9}\n",
      "{'_width': 6, '_height': 10}\n"
     ]
    }
   ],
   "source": [
    "print(R_1.__dict__)\n",
    "print(R_2.__dict__)"
   ]
  },
  {
   "cell_type": "code",
   "execution_count": 72,
   "id": "519b0c2e-1f1a-45ce-be69-09edf206c60c",
   "metadata": {},
   "outputs": [
    {
     "name": "stdout",
     "output_type": "stream",
     "text": [
      "Help on class Rectangle in module __main__:\n",
      "\n",
      "class Rectangle(builtins.object)\n",
      " |  Rectangle(width: float = 1.0, height: float = 1.0) -> None\n",
      " |  \n",
      " |  A class which represent Rectangle: A four-sided polygon where opposite sides are equal in length and all angles are equal to 90 degrees.\n",
      " |  \n",
      " |  Methods defined here:\n",
      " |  \n",
      " |  __init__(self, width: float = 1.0, height: float = 1.0) -> None\n",
      " |      initiate the class with parameters and its default values\n",
      " |  \n",
      " |  __repr__(self) -> str\n",
      " |      Return a string representation of the Square\n",
      " |  \n",
      " |  __str__(self) -> str\n",
      " |      Return a use-friendly representation of the Squared\n",
      " |  \n",
      " |  ----------------------------------------------------------------------\n",
      " |  Readonly properties defined here:\n",
      " |  \n",
      " |  area\n",
      " |      To calculate the area of the Rectangle\n",
      " |  \n",
      " |  perimeter\n",
      " |      To calculate the perimeter of the square\n",
      " |  \n",
      " |  ----------------------------------------------------------------------\n",
      " |  Data descriptors defined here:\n",
      " |  \n",
      " |  __dict__\n",
      " |      dictionary for instance variables (if defined)\n",
      " |  \n",
      " |  __weakref__\n",
      " |      list of weak references to the object (if defined)\n",
      " |  \n",
      " |  height\n",
      " |      To get the heigth of Rectangle\n",
      " |  \n",
      " |  width\n",
      " |      To get the width of the Rectangle\n",
      "\n"
     ]
    }
   ],
   "source": [
    "help(Rectangle)"
   ]
  },
  {
   "cell_type": "code",
   "execution_count": 73,
   "id": "c7762e15-f649-4436-8550-6d658c24144c",
   "metadata": {},
   "outputs": [
    {
     "name": "stdout",
     "output_type": "stream",
     "text": [
      "A class which represent Rectangle: A four-sided polygon where opposite sides are equal in length and all angles are equal to 90 degrees.\n",
      "Method: __init__,   Docstring: initiate the class with parameters and its default values,   Annotations: {'width': <class 'float'>, 'height': <class 'float'>, 'return': None}\n",
      "Method: area,    Docstring: To calculate the area of the Rectangle,     Annotations: {'return': <class 'float'>}\n",
      "Method: perimeter,    Docstring: To calculate the perimeter of the square,     Annotations: {'return': <class 'float'>}\n",
      "Method: __repr__,   Docstring: Return a string representation of the Square,   Annotations: {'return': <class 'str'>}\n",
      "Method: __str__,   Docstring: Return a use-friendly representation of the Squared,   Annotations: {'return': <class 'str'>}\n"
     ]
    }
   ],
   "source": [
    "print(Rectangle.__doc__)\n",
    "for method in [\n",
    "    Rectangle.__init__,\n",
    "    Rectangle.area,\n",
    "    Rectangle.perimeter,\n",
    "    Rectangle.__repr__,\n",
    "    Rectangle.__str__,\n",
    "]:\n",
    "    if isinstance(method, property):\n",
    "        print(f\"Method: {method.fget.__name__},    Docstring: {method.__doc__},     Annotations: {method.fget.__annotations__}\")\n",
    "    else:\n",
    "        print(f\"Method: {method.__name__},   Docstring: {method.__doc__},   Annotations: {method.__annotations__}\")"
   ]
  },
  {
   "cell_type": "code",
   "execution_count": 74,
   "id": "e020f984-8d72-48ca-a05e-ee7abb7be9fc",
   "metadata": {},
   "outputs": [
    {
     "name": "stdout",
     "output_type": "stream",
     "text": [
      "Rectangle with width: 1.0, height: 1.0, area: 1.0, perimeter: 4.0\n"
     ]
    },
    {
     "data": {
      "text/plain": [
       "Rectangle(1.0, height=1.0)"
      ]
     },
     "execution_count": 74,
     "metadata": {},
     "output_type": "execute_result"
    }
   ],
   "source": [
    "R_3 = Rectangle()\n",
    "print(R_3)\n",
    "R_3"
   ]
  },
  {
   "cell_type": "markdown",
   "id": "1a80c4d2-f40f-4750-9a35-d7f4fb2d0446",
   "metadata": {},
   "source": [
    "#  **3:** ***Triangle***"
   ]
  },
  {
   "cell_type": "code",
   "execution_count": 75,
   "id": "e77876b7-0957-433a-95c0-ba1dd7dd701e",
   "metadata": {},
   "outputs": [],
   "source": [
    "import math\n",
    "class Triangle:\n",
    "    \"\"\"A class which represent Triangle: A three-sided polygon with three edges and three vertices. Various types include equilateral, isosceles, and scalene.\"\"\"\n",
    "    def __init__(self, a: float = 1.0, b: float = 1.0, c: float = 1.0) -> None:\n",
    "        \"\"\"To initiate the class (Triangle) and the given parameters with  default value\"\"\"\n",
    "        self.a = a\n",
    "        self.b = b\n",
    "        self.c = c\n",
    "\n",
    "    @property\n",
    "    def a(self) -> float:\n",
    "        \"\"\"To get the a side of the Triangle\"\"\"\n",
    "        return self._a\n",
    "\n",
    "    @a.setter\n",
    "    def a(self, value: float) -> None:\n",
    "        \"\"\"To set the a side of  the Triangle\"\"\"\n",
    "        self._a = value\n",
    "\n",
    "    @property\n",
    "    def b(self) -> float:\n",
    "        \"\"\"To get the b side of the Triangle\"\"\"\n",
    "        return self._b\n",
    "\n",
    "    @b.setter\n",
    "    def b(self, value: float) -> None:\n",
    "        \"\"\"To set the b side of the Triangle\"\"\"\n",
    "        self._b = value\n",
    "\n",
    "    @property\n",
    "    def c(self) -> float:\n",
    "        \"\"\"To  get the c side of the Triangle\"\"\"\n",
    "        return self._c\n",
    "\n",
    "    @c.setter\n",
    "    def c(self, value: float) -> None:\n",
    "        \"\"\"To set the c side of the Triangle\"\"\"\n",
    "        self._c = value\n",
    "\n",
    "    @property\n",
    "    def area(self) -> float:\n",
    "        \"\"\"To calculate the area of the Triangle\"\"\"\n",
    "        s = (self.a + self.b + self.c) / 2\n",
    "        return math.sqrt(s * (s - self.a) * (s - self.b) * (s - self.c))\n",
    "\n",
    "    @property\n",
    "    def perimeter(self) -> float:\n",
    "        \"\"\"To calculate the perimeter of the  Triangle\"\"\"\n",
    "        return self.a + self.b + self.c\n",
    "\n",
    "    def __repr__(self) -> str:\n",
    "        \"\"\"Return a string representation of the Triangle \"\"\"\n",
    "        return f\"{type(self).__name__}(a={self.a}, b={self.b}, c={self.c})\"\n",
    "\n",
    "    def __str__(self) -> str:\n",
    "        \"\"\"Return a use-friendly  representation of the Triangle\"\"\"\n",
    "        return (f\"Triangle with sides: a={self.a}, b={self.b}, c={self.c}\")\n"
   ]
  },
  {
   "cell_type": "code",
   "execution_count": 76,
   "id": "458b015b-bec1-4c4d-88d9-a6b2f4cea96f",
   "metadata": {},
   "outputs": [],
   "source": [
    "T_1= Triangle(4, 6, 8)\n",
    "T_2 = Triangle( 5, 7, 9)"
   ]
  },
  {
   "cell_type": "code",
   "execution_count": 77,
   "id": "bfe0de5e-b67a-4c80-9b16-d3a130e8b029",
   "metadata": {},
   "outputs": [
    {
     "data": {
      "text/plain": [
       "Triangle(a=4, b=6, c=8)"
      ]
     },
     "execution_count": 77,
     "metadata": {},
     "output_type": "execute_result"
    }
   ],
   "source": [
    "T_1"
   ]
  },
  {
   "cell_type": "code",
   "execution_count": 78,
   "id": "20bf07d5-5c1d-409e-9027-2bb5680b3e31",
   "metadata": {},
   "outputs": [
    {
     "data": {
      "text/plain": [
       "Triangle(a=5, b=7, c=9)"
      ]
     },
     "execution_count": 78,
     "metadata": {},
     "output_type": "execute_result"
    }
   ],
   "source": [
    "T_2"
   ]
  },
  {
   "cell_type": "code",
   "execution_count": 79,
   "id": "545e6d41-a128-4991-bda4-3b6bc2fb47e4",
   "metadata": {},
   "outputs": [
    {
     "name": "stdout",
     "output_type": "stream",
     "text": [
      "mappingproxy({'__dict__': <attribute '__dict__' of 'Triangle' objects>,\n",
      "              '__doc__': 'A class which represent Triangle: A three-sided '\n",
      "                         'polygon with three edges and three vertices. Various '\n",
      "                         'types include equilateral, isosceles, and scalene.',\n",
      "              '__init__': <function Triangle.__init__ at 0x0000017639B51820>,\n",
      "              '__module__': '__main__',\n",
      "              '__repr__': <function Triangle.__repr__ at 0x0000017639B51EE0>,\n",
      "              '__str__': <function Triangle.__str__ at 0x0000017639B51F70>,\n",
      "              '__weakref__': <attribute '__weakref__' of 'Triangle' objects>,\n",
      "              'a': <property object at 0x0000017639B61EF0>,\n",
      "              'area': <property object at 0x0000017639B37540>,\n",
      "              'b': <property object at 0x0000017639B61F40>,\n",
      "              'c': <property object at 0x0000017639B61F90>,\n",
      "              'perimeter': <property object at 0x0000017639B61EA0>})\n"
     ]
    }
   ],
   "source": [
    "from pprint import pprint\n",
    "pprint(Triangle.__dict__)"
   ]
  },
  {
   "cell_type": "code",
   "execution_count": 80,
   "id": "a90fe189-580d-4a2d-addb-3d5217172019",
   "metadata": {},
   "outputs": [
    {
     "name": "stdout",
     "output_type": "stream",
     "text": [
      "mappingproxy({'__dict__': <attribute '__dict__' of 'Triangle' objects>,\n",
      "              '__doc__': 'A class which represent Triangle: A three-sided '\n",
      "                         'polygon with three edges and three vertices. Various '\n",
      "                         'types include equilateral, isosceles, and scalene.',\n",
      "              '__init__': <function Triangle.__init__ at 0x0000017639B51820>,\n",
      "              '__module__': '__main__',\n",
      "              '__repr__': <function Triangle.__repr__ at 0x0000017639B51EE0>,\n",
      "              '__str__': <function Triangle.__str__ at 0x0000017639B51F70>,\n",
      "              '__weakref__': <attribute '__weakref__' of 'Triangle' objects>,\n",
      "              'a': <property object at 0x0000017639B61EF0>,\n",
      "              'area': <property object at 0x0000017639B37540>,\n",
      "              'b': <property object at 0x0000017639B61F40>,\n",
      "              'c': <property object at 0x0000017639B61F90>,\n",
      "              'perimeter': <property object at 0x0000017639B61EA0>})\n"
     ]
    }
   ],
   "source": [
    "pprint(vars(Triangle))"
   ]
  },
  {
   "cell_type": "code",
   "execution_count": 81,
   "id": "617e862a-84a5-458e-a29a-6a40943d0e8d",
   "metadata": {},
   "outputs": [
    {
     "name": "stdout",
     "output_type": "stream",
     "text": [
      "{'_a': 4, '_b': 6, '_c': 8}\n",
      "{'_a': 5, '_b': 7, '_c': 9}\n"
     ]
    }
   ],
   "source": [
    "print(T_1.__dict__)\n",
    "print(T_2.__dict__)"
   ]
  },
  {
   "cell_type": "code",
   "execution_count": 82,
   "id": "79bb25be-93a2-4107-869f-4eb8e6db0aba",
   "metadata": {},
   "outputs": [
    {
     "name": "stdout",
     "output_type": "stream",
     "text": [
      "Help on class Triangle in module __main__:\n",
      "\n",
      "class Triangle(builtins.object)\n",
      " |  Triangle(a: float = 1.0, b: float = 1.0, c: float = 1.0) -> None\n",
      " |  \n",
      " |  A class which represent Triangle: A three-sided polygon with three edges and three vertices. Various types include equilateral, isosceles, and scalene.\n",
      " |  \n",
      " |  Methods defined here:\n",
      " |  \n",
      " |  __init__(self, a: float = 1.0, b: float = 1.0, c: float = 1.0) -> None\n",
      " |      To initiate the class (Triangle) and the given parameters with  default value\n",
      " |  \n",
      " |  __repr__(self) -> str\n",
      " |      Return a string representation of the Triangle\n",
      " |  \n",
      " |  __str__(self) -> str\n",
      " |      Return a use-friendly  representation of the Triangle\n",
      " |  \n",
      " |  ----------------------------------------------------------------------\n",
      " |  Readonly properties defined here:\n",
      " |  \n",
      " |  area\n",
      " |      To calculate the area of the Triangle\n",
      " |  \n",
      " |  perimeter\n",
      " |      To calculate the perimeter of the  Triangle\n",
      " |  \n",
      " |  ----------------------------------------------------------------------\n",
      " |  Data descriptors defined here:\n",
      " |  \n",
      " |  __dict__\n",
      " |      dictionary for instance variables (if defined)\n",
      " |  \n",
      " |  __weakref__\n",
      " |      list of weak references to the object (if defined)\n",
      " |  \n",
      " |  a\n",
      " |      To get the a side of the Triangle\n",
      " |  \n",
      " |  b\n",
      " |      To get the b side of the Triangle\n",
      " |  \n",
      " |  c\n",
      " |      To  get the c side of the Triangle\n",
      "\n"
     ]
    }
   ],
   "source": [
    "help(Triangle)"
   ]
  },
  {
   "cell_type": "code",
   "execution_count": 83,
   "id": "cf128b9f-ce85-4479-b993-a68bf7f4ffdf",
   "metadata": {},
   "outputs": [
    {
     "name": "stdout",
     "output_type": "stream",
     "text": [
      "A class which represent Triangle: A three-sided polygon with three edges and three vertices. Various types include equilateral, isosceles, and scalene.\n",
      "Method: __init__,   Docstring: To initiate the class (Triangle) and the given parameters with  default value,   Annotations: {'a': <class 'float'>, 'b': <class 'float'>, 'c': <class 'float'>, 'return': None}\n",
      "Method: area,   Docstring: To calculate the area of the Triangle,   Annotations: {'return': <class 'float'>}\n",
      "Method: perimeter,   Docstring: To calculate the perimeter of the  Triangle,   Annotations: {'return': <class 'float'>}\n",
      "Method: __repr__,   Docstring: Return a string representation of the Triangle ,   Annotations: {'return': <class 'str'>}\n",
      "Method: __str__,   Docstring: Return a use-friendly  representation of the Triangle,   Annotations: {'return': <class 'str'>}\n"
     ]
    }
   ],
   "source": [
    "print(Triangle.__doc__)\n",
    "for method in [\n",
    "    Triangle.__init__,\n",
    "    Triangle.area,\n",
    "    Triangle.perimeter,\n",
    "    Triangle.__repr__,\n",
    "    Triangle.__str__,\n",
    "]:\n",
    "    if isinstance(method, property):\n",
    "        print(f\"Method: {method.fget.__name__},   Docstring: {method.__doc__},   Annotations: {method.fget.__annotations__}\")\n",
    "    else:\n",
    "        print(f\"Method: {method.__name__},   Docstring: {method.__doc__},   Annotations: {method.__annotations__}\")"
   ]
  },
  {
   "cell_type": "code",
   "execution_count": 84,
   "id": "9f1fb9f9-1f14-401a-b496-206e028c8bc5",
   "metadata": {},
   "outputs": [
    {
     "name": "stdout",
     "output_type": "stream",
     "text": [
      "Triangle with sides: a=1.0, b=1.0, c=1.0\n"
     ]
    },
    {
     "data": {
      "text/plain": [
       "Triangle(a=1.0, b=1.0, c=1.0)"
      ]
     },
     "execution_count": 84,
     "metadata": {},
     "output_type": "execute_result"
    }
   ],
   "source": [
    "T_3 = Triangle()\n",
    "print(T_3)\n",
    "T_3"
   ]
  },
  {
   "cell_type": "markdown",
   "id": "b5c32c27-0763-4131-b97e-1e2316acf9bd",
   "metadata": {},
   "source": [
    "# **4.** ***Trapezoid***"
   ]
  },
  {
   "cell_type": "code",
   "execution_count": 85,
   "id": "2643c9e4-1adf-4954-8820-806f0ac7e1ba",
   "metadata": {},
   "outputs": [],
   "source": [
    "class Trapezoid:\n",
    "    \"\"\"A class which represent Trapezoid: A four-sided figure with at least one pair of parallel sides.\"\"\"\n",
    "    def __init__(self, base1: float = 1.0, base2: float = 1.0, height: float = 1.0) -> None:\n",
    "        \"\"\"To innitiate the class with given parameters\"\"\"\n",
    "        self.base1 = base1\n",
    "        self.base2 = base2\n",
    "        self.height = height\n",
    "\n",
    "    @property\n",
    "    def base1(self) -> float:\n",
    "        \"\"\"To get the base1 of the Trapezoid\"\"\"\n",
    "        return self._base1\n",
    "\n",
    "    @base1.setter\n",
    "    def base1(self, value: float) -> None:\n",
    "        \"\"\"To set the base1 of the Trapezoid\"\"\"\n",
    "        self._base1 = value\n",
    "\n",
    "    @property\n",
    "    def base2(self) -> float:\n",
    "        \"\"\"To get the base2 of the Trapezoid\"\"\"\n",
    "        return self._base2\n",
    "\n",
    "    @base2.setter\n",
    "    def base2(self, value: float) -> None:\n",
    "        \"\"\"To set the base2 of the Trapezoid\"\"\"\n",
    "        self._base2 = value\n",
    "\n",
    "    @property\n",
    "    def height(self) -> float:\n",
    "        \"\"\"To get the heigth of the Trapezoid\"\"\"\n",
    "        return self._height\n",
    "\n",
    "    @height.setter\n",
    "    def height(self, value: float) -> None:\n",
    "        \"\"\"To set the heigth of the Trapezoid\"\"\"\n",
    "        self._height = value\n",
    "\n",
    "    @property\n",
    "    def area(self) -> float:\n",
    "        \"\"\"To calculate the area of the Trapezoid\"\"\"\n",
    "        return (self.base1 + self.base2) * self.height / 2\n",
    "\n",
    "    @property\n",
    "    def perimeter(self) -> float:\n",
    "        \"\"\"To calculate the perimeter of the Trapezoid\"\"\"\n",
    "        raise NotImplementedError(\"Perimeter calculation requires lengths of non-parallel sides.\")\n",
    "\n",
    "    def __repr__(self) -> str:\n",
    "        \"\"\"Return the string  Representation of the Trapezoid\"\"\"\n",
    "        return f\"{type(self).__name__}(base1={self.base1}, base2={self.base2}, height={self.height})\"\n",
    "\n",
    "    def __str__(self) -> str:\n",
    "        \"\"\"Return the user_friendly  Representation  of  the Trapezoid\"\"\"\n",
    "        return (f\"Trapezoid with base1: {self.base1}, base2: {self.base2}\")\n"
   ]
  },
  {
   "cell_type": "code",
   "execution_count": 87,
   "id": "dcfa65f6-8809-4348-b933-5ef35a9484b5",
   "metadata": {},
   "outputs": [],
   "source": [
    "tr_1 = Trapezoid(2, 4, 6)\n",
    "tr_2 = Trapezoid(5, 2, 9)"
   ]
  },
  {
   "cell_type": "code",
   "execution_count": 88,
   "id": "3a074215-15e5-4626-aca3-1e01b2e76227",
   "metadata": {},
   "outputs": [
    {
     "name": "stdout",
     "output_type": "stream",
     "text": [
      "Trapezoid with base1: 2, base2: 4\n",
      "Trapezoid with base1: 5, base2: 2\n"
     ]
    }
   ],
   "source": [
    "print(tr_1)\n",
    "print(tr_2)"
   ]
  },
  {
   "cell_type": "code",
   "execution_count": 89,
   "id": "c52d0536-35e1-4227-901e-de3b6c4dfa83",
   "metadata": {},
   "outputs": [
    {
     "data": {
      "text/plain": [
       "Trapezoid(base1=2, base2=4, height=6)"
      ]
     },
     "execution_count": 89,
     "metadata": {},
     "output_type": "execute_result"
    }
   ],
   "source": [
    "tr_1"
   ]
  },
  {
   "cell_type": "code",
   "execution_count": 90,
   "id": "d8d26a62-56e6-442f-a036-5e1e42da7605",
   "metadata": {},
   "outputs": [
    {
     "data": {
      "text/plain": [
       "Trapezoid(base1=5, base2=2, height=9)"
      ]
     },
     "execution_count": 90,
     "metadata": {},
     "output_type": "execute_result"
    }
   ],
   "source": [
    "tr_2"
   ]
  },
  {
   "cell_type": "code",
   "execution_count": 91,
   "id": "34bcada0-7f8e-41cb-9feb-91419e094a1e",
   "metadata": {},
   "outputs": [
    {
     "name": "stdout",
     "output_type": "stream",
     "text": [
      "mappingproxy({'__dict__': <attribute '__dict__' of 'Trapezoid' objects>,\n",
      "              '__doc__': 'A class which represent Trapezoid: A four-sided '\n",
      "                         'figure with at least one pair of parallel sides.',\n",
      "              '__init__': <function Trapezoid.__init__ at 0x0000017639B54550>,\n",
      "              '__module__': '__main__',\n",
      "              '__repr__': <function Trapezoid.__repr__ at 0x0000017639AB0EE0>,\n",
      "              '__str__': <function Trapezoid.__str__ at 0x000001763610DDC0>,\n",
      "              '__weakref__': <attribute '__weakref__' of 'Trapezoid' objects>,\n",
      "              'area': <property object at 0x0000017639B59720>,\n",
      "              'base1': <property object at 0x0000017639B13310>,\n",
      "              'base2': <property object at 0x0000017639B132C0>,\n",
      "              'height': <property object at 0x0000017639B13270>,\n",
      "              'perimeter': <property object at 0x0000017639B13360>})\n"
     ]
    }
   ],
   "source": [
    "from pprint import pprint\n",
    "pprint(Trapezoid.__dict__)"
   ]
  },
  {
   "cell_type": "code",
   "execution_count": 92,
   "id": "eff473d2-e5dc-4b12-bba0-a6e4057d94c0",
   "metadata": {},
   "outputs": [
    {
     "name": "stdout",
     "output_type": "stream",
     "text": [
      "mappingproxy({'__dict__': <attribute '__dict__' of 'Trapezoid' objects>,\n",
      "              '__doc__': 'A class which represent Trapezoid: A four-sided '\n",
      "                         'figure with at least one pair of parallel sides.',\n",
      "              '__init__': <function Trapezoid.__init__ at 0x0000017639B54550>,\n",
      "              '__module__': '__main__',\n",
      "              '__repr__': <function Trapezoid.__repr__ at 0x0000017639AB0EE0>,\n",
      "              '__str__': <function Trapezoid.__str__ at 0x000001763610DDC0>,\n",
      "              '__weakref__': <attribute '__weakref__' of 'Trapezoid' objects>,\n",
      "              'area': <property object at 0x0000017639B59720>,\n",
      "              'base1': <property object at 0x0000017639B13310>,\n",
      "              'base2': <property object at 0x0000017639B132C0>,\n",
      "              'height': <property object at 0x0000017639B13270>,\n",
      "              'perimeter': <property object at 0x0000017639B13360>})\n"
     ]
    }
   ],
   "source": [
    "pprint(vars(Trapezoidprint(tr_1.__dict__)\n",
    "print(tr_2.__dict__)"
   ]
  },
  {
   "cell_type": "code",
   "execution_count": 93,
   "id": "2987317e-c82a-4467-9f63-107045025780",
   "metadata": {},
   "outputs": [
    {
     "name": "stdout",
     "output_type": "stream",
     "text": [
      "{'_base1': 2, '_base2': 4, '_height': 6}\n",
      "{'_base1': 5, '_base2': 2, '_height': 9}\n"
     ]
    }
   ],
   "source": [
    "print(tr_1.__dict__)\n",
    "print(tr_2.__dict__)"
   ]
  },
  {
   "cell_type": "code",
   "execution_count": 94,
   "id": "005493d3-555a-4917-b9bb-fd7a0d47b8f9",
   "metadata": {},
   "outputs": [
    {
     "name": "stdout",
     "output_type": "stream",
     "text": [
      "Help on class Trapezoid in module __main__:\n",
      "\n",
      "class Trapezoid(builtins.object)\n",
      " |  Trapezoid(base1: float = 1.0, base2: float = 1.0, height: float = 1.0) -> None\n",
      " |  \n",
      " |  A class which represent Trapezoid: A four-sided figure with at least one pair of parallel sides.\n",
      " |  \n",
      " |  Methods defined here:\n",
      " |  \n",
      " |  __init__(self, base1: float = 1.0, base2: float = 1.0, height: float = 1.0) -> None\n",
      " |      To innitiate the class with given parameters\n",
      " |  \n",
      " |  __repr__(self) -> str\n",
      " |      Return the string  Representation of the Trapezoid\n",
      " |  \n",
      " |  __str__(self) -> str\n",
      " |      Return the user_friendly  Representation  of  the Trapezoid\n",
      " |  \n",
      " |  ----------------------------------------------------------------------\n",
      " |  Readonly properties defined here:\n",
      " |  \n",
      " |  area\n",
      " |      To calculate the area of the Trapezoid\n",
      " |  \n",
      " |  perimeter\n",
      " |      To calculate the perimeter of the Trapezoid\n",
      " |  \n",
      " |  ----------------------------------------------------------------------\n",
      " |  Data descriptors defined here:\n",
      " |  \n",
      " |  __dict__\n",
      " |      dictionary for instance variables (if defined)\n",
      " |  \n",
      " |  __weakref__\n",
      " |      list of weak references to the object (if defined)\n",
      " |  \n",
      " |  base1\n",
      " |      To get the base1 of the Trapezoid\n",
      " |  \n",
      " |  base2\n",
      " |      To get the base2 of the Trapezoid\n",
      " |  \n",
      " |  height\n",
      " |      To get the heigth of the Trapezoid\n",
      "\n"
     ]
    }
   ],
   "source": [
    "help(Trapezoid)"
   ]
  },
  {
   "cell_type": "code",
   "execution_count": 95,
   "id": "afe01dc1-66ac-45b4-9a5c-4c03782bdc48",
   "metadata": {},
   "outputs": [
    {
     "name": "stdout",
     "output_type": "stream",
     "text": [
      "A class which represent Trapezoid: A four-sided figure with at least one pair of parallel sides.\n",
      "Method: __init__,   Docstring: To innitiate the class with given parameters,   Annotations: {'base1': <class 'float'>, 'base2': <class 'float'>, 'height': <class 'float'>, 'return': None}\n",
      "(Method: area),  (Docstring: To calculate the area of the Trapezoid),  (Annotations: {'return': <class 'float'>})\n",
      "(Method: perimeter),  (Docstring: To calculate the perimeter of the Trapezoid),  (Annotations: {'return': <class 'float'>})\n",
      "Method: __repr__,   Docstring: Return the string  Representation of the Trapezoid,   Annotations: {'return': <class 'str'>}\n",
      "Method: __str__,   Docstring: Return the user_friendly  Representation  of  the Trapezoid,   Annotations: {'return': <class 'str'>}\n"
     ]
    }
   ],
   "source": [
    "print(Trapezoid.__doc__)\n",
    "for method in [\n",
    "    Trapezoid.__init__,\n",
    "    Trapezoid.area,\n",
    "    Trapezoid.perimeter,\n",
    "    Trapezoid.__repr__,\n",
    "    Trapezoid.__str__,\n",
    "]:\n",
    "    if isinstance(method, property):\n",
    "        print(f\"(Method: {method.fget.__name__}),  (Docstring: {method.__doc__}),  (Annotations: {method.fget.__annotations__})\")\n",
    "    else:\n",
    "        print(f\"Method: {method.__name__},   Docstring: {method.__doc__},   Annotations: {method.__annotations__}\")"
   ]
  },
  {
   "cell_type": "code",
   "execution_count": 96,
   "id": "e2a411a9-d184-42cf-b221-1af64c8b08b7",
   "metadata": {},
   "outputs": [
    {
     "name": "stdout",
     "output_type": "stream",
     "text": [
      "Trapezoid with base1: 1.0, base2: 1.0\n"
     ]
    },
    {
     "data": {
      "text/plain": [
       "Trapezoid(base1=1.0, base2=1.0, height=1.0)"
      ]
     },
     "execution_count": 96,
     "metadata": {},
     "output_type": "execute_result"
    }
   ],
   "source": [
    "tr_3 = Trapezoid()\n",
    "print(tr_3)\n",
    "tr_3"
   ]
  },
  {
   "cell_type": "markdown",
   "id": "c5699e37-fc63-4428-b42b-4a1c5504df0d",
   "metadata": {},
   "source": [
    "# **5.** ***Parallelogram***"
   ]
  },
  {
   "cell_type": "code",
   "execution_count": 97,
   "id": "767991ab-9692-4fef-ae60-3a64927a642b",
   "metadata": {},
   "outputs": [],
   "source": [
    "class Parallelogram:\n",
    "    \"\"\"A class which represent Parallelogram: Where all sides are of equal length, but the angles are not necessarily 90 degrees.\"\"\"\n",
    "    def __init__(self, base: float = 1.0, height: float = 1.0) -> None:\n",
    "        \"\"\"To initiate the class and give parameters with default value\"\"\"\n",
    "        self.base = base\n",
    "        self.height = height\n",
    "\n",
    "    @property\n",
    "    def base(self) -> float:\n",
    "        \"\"\"To get the base of Parallelogram\"\"\"\n",
    "        return self._base\n",
    "\n",
    "    @base.setter\n",
    "    def base(self, value: float) -> None:\n",
    "        \"\"\"To set the base of Parallelogram\"\"\"\n",
    "        self._base = value\n",
    "\n",
    "    @property\n",
    "    def height(self) -> float:\n",
    "        \"\"\"\"To get the heigth of Parallelogram\"\"\"\n",
    "        return self._height\n",
    "\n",
    "    @height.setter\n",
    "    def height(self, value: float) -> None:\n",
    "        \"\"\"To set the heigth of Parallelogram\"\"\"\n",
    "        self._height = value\n",
    "\n",
    "    @property\n",
    "    def area(self) -> float:\n",
    "        \"\"\"To calculate the area of the Parallelogram\"\"\"\n",
    "        return self.base * self.height\n",
    "\n",
    "    @property\n",
    "    def perimeter(self) -> float:\n",
    "        \"\"\"To calculate the perimeter of Parallelogram\"\"\"\n",
    "        return 2 * (self.base + self.height)\n",
    "    @classmethod\n",
    "    def from_side_and_angle(cls, side: float, angle_degrees: float) -> 'parallelogram':\n",
    "        \"\"\"\n",
    "        Create a Parallelogram instance given a side length and an angle between the sides.\n",
    "        Parameters:\n",
    "            side: The length of the side.\n",
    "            angle_degrees: The angle between the sides in degrees.\n",
    "        Returns:\n",
    "            Parallelogram: A new instance of Parallelogram.\n",
    "        \"\"\"\n",
    "        height = side * math.sin(math.radians(angle_degrees))\n",
    "        return cls(base=side, height=height)   \n",
    "    def __repr__(self) -> str:\n",
    "        \"\"\"Return the string  Representation of the Parallelogram\"\"\"\n",
    "        return f\"Parallelogram(base={self.base}, height={self.height})\"\n",
    "    def __str__(self) -> str:\n",
    "        \"\"\"Return the user_friendly  Representation  of  the Trapezoid\"\"\"\n",
    "        return (f\"Parallelogram with base: {self.base}, height: {self.height}\")\n"
   ]
  },
  {
   "cell_type": "code",
   "execution_count": 98,
   "id": "c1186ab3-da99-43f5-b8e6-18c627c0796a",
   "metadata": {},
   "outputs": [],
   "source": [
    "p_1 = Parallelogram(10, 10)\n",
    "p_2 = Parallelogram(8, 8)"
   ]
  },
  {
   "cell_type": "code",
   "execution_count": 99,
   "id": "2211b055-9c27-4ec7-9235-588d6e27c4b5",
   "metadata": {},
   "outputs": [
    {
     "name": "stdout",
     "output_type": "stream",
     "text": [
      "Parallelogram with base: 10, height: 10\n",
      "Parallelogram with base: 8, height: 8\n"
     ]
    }
   ],
   "source": [
    "print(p_1)\n",
    "print(p_2)"
   ]
  },
  {
   "cell_type": "code",
   "execution_count": 100,
   "id": "99f19273-fa85-4a36-a047-790b1c9f8e27",
   "metadata": {},
   "outputs": [
    {
     "data": {
      "text/plain": [
       "Parallelogram(base=10, height=10)"
      ]
     },
     "execution_count": 100,
     "metadata": {},
     "output_type": "execute_result"
    }
   ],
   "source": [
    "p_1"
   ]
  },
  {
   "cell_type": "code",
   "execution_count": 101,
   "id": "463afee2-ef2f-44c3-926b-dffbf0f0de21",
   "metadata": {},
   "outputs": [
    {
     "data": {
      "text/plain": [
       "Parallelogram(base=8, height=8)"
      ]
     },
     "execution_count": 101,
     "metadata": {},
     "output_type": "execute_result"
    }
   ],
   "source": [
    "p_2"
   ]
  },
  {
   "cell_type": "code",
   "execution_count": 102,
   "id": "2747a3fc-546f-4c6c-965e-5943ee6eeb2c",
   "metadata": {},
   "outputs": [
    {
     "name": "stdout",
     "output_type": "stream",
     "text": [
      "mappingproxy({'__dict__': <attribute '__dict__' of 'Parallelogram' objects>,\n",
      "              '__doc__': 'A class which represent Parallelogram: Where all '\n",
      "                         'sides are of equal length, but the angles are not '\n",
      "                         'necessarily 90 degrees.',\n",
      "              '__init__': <function Parallelogram.__init__ at 0x0000017639B51700>,\n",
      "              '__module__': '__main__',\n",
      "              '__repr__': <function Parallelogram.__repr__ at 0x0000017639AC68B0>,\n",
      "              '__str__': <function Parallelogram.__str__ at 0x0000017639AC69D0>,\n",
      "              '__weakref__': <attribute '__weakref__' of 'Parallelogram' objects>,\n",
      "              'area': <property object at 0x0000017639AF0A90>,\n",
      "              'base': <property object at 0x0000017639AD8680>,\n",
      "              'from_side_and_angle': <classmethod object at 0x0000017639077CD0>,\n",
      "              'height': <property object at 0x0000017639AD85E0>,\n",
      "              'perimeter': <property object at 0x0000017639AD8720>})\n"
     ]
    }
   ],
   "source": [
    "from pprint  import pprint\n",
    "pprint(Parallelogram.__dict__)"
   ]
  },
  {
   "cell_type": "code",
   "execution_count": 103,
   "id": "bf4027f4-0b2a-4ba6-8eba-729190dd014d",
   "metadata": {},
   "outputs": [
    {
     "name": "stdout",
     "output_type": "stream",
     "text": [
      "mappingproxy({'__dict__': <attribute '__dict__' of 'Parallelogram' objects>,\n",
      "              '__doc__': 'A class which represent Parallelogram: Where all '\n",
      "                         'sides are of equal length, but the angles are not '\n",
      "                         'necessarily 90 degrees.',\n",
      "              '__init__': <function Parallelogram.__init__ at 0x0000017639B51700>,\n",
      "              '__module__': '__main__',\n",
      "              '__repr__': <function Parallelogram.__repr__ at 0x0000017639AC68B0>,\n",
      "              '__str__': <function Parallelogram.__str__ at 0x0000017639AC69D0>,\n",
      "              '__weakref__': <attribute '__weakref__' of 'Parallelogram' objects>,\n",
      "              'area': <property object at 0x0000017639AF0A90>,\n",
      "              'base': <property object at 0x0000017639AD8680>,\n",
      "              'from_side_and_angle': <classmethod object at 0x0000017639077CD0>,\n",
      "              'height': <property object at 0x0000017639AD85E0>,\n",
      "              'perimeter': <property object at 0x0000017639AD8720>})\n"
     ]
    }
   ],
   "source": [
    "pprint(vars(Parallelogram))"
   ]
  },
  {
   "cell_type": "code",
   "execution_count": 104,
   "id": "0b3aaf3a-0a6b-4da1-9595-1d45f05ec208",
   "metadata": {},
   "outputs": [
    {
     "name": "stdout",
     "output_type": "stream",
     "text": [
      "Help on class Parallelogram in module __main__:\n",
      "\n",
      "class Parallelogram(builtins.object)\n",
      " |  Parallelogram(base: float = 1.0, height: float = 1.0) -> None\n",
      " |  \n",
      " |  A class which represent Parallelogram: Where all sides are of equal length, but the angles are not necessarily 90 degrees.\n",
      " |  \n",
      " |  Methods defined here:\n",
      " |  \n",
      " |  __init__(self, base: float = 1.0, height: float = 1.0) -> None\n",
      " |      To initiate the class and give parameters with default value\n",
      " |  \n",
      " |  __repr__(self) -> str\n",
      " |      Return the string  Representation of the Parallelogram\n",
      " |  \n",
      " |  __str__(self) -> str\n",
      " |      Return the user_friendly  Representation  of  the Trapezoid\n",
      " |  \n",
      " |  ----------------------------------------------------------------------\n",
      " |  Class methods defined here:\n",
      " |  \n",
      " |  from_side_and_angle(side: float, angle_degrees: float) -> 'parallelogram' from builtins.type\n",
      " |      Create a Parallelogram instance given a side length and an angle between the sides.\n",
      " |      Parameters:\n",
      " |          side: The length of the side.\n",
      " |          angle_degrees: The angle between the sides in degrees.\n",
      " |      Returns:\n",
      " |          Parallelogram: A new instance of Parallelogram.\n",
      " |  \n",
      " |  ----------------------------------------------------------------------\n",
      " |  Readonly properties defined here:\n",
      " |  \n",
      " |  area\n",
      " |      To calculate the area of the Parallelogram\n",
      " |  \n",
      " |  perimeter\n",
      " |      To calculate the perimeter of Parallelogram\n",
      " |  \n",
      " |  ----------------------------------------------------------------------\n",
      " |  Data descriptors defined here:\n",
      " |  \n",
      " |  __dict__\n",
      " |      dictionary for instance variables (if defined)\n",
      " |  \n",
      " |  __weakref__\n",
      " |      list of weak references to the object (if defined)\n",
      " |  \n",
      " |  base\n",
      " |      To get the base of Parallelogram\n",
      " |  \n",
      " |  height\n",
      " |      \"To get the heigth of Parallelogram\n",
      "\n"
     ]
    }
   ],
   "source": [
    "help(Parallelogram)"
   ]
  },
  {
   "cell_type": "code",
   "execution_count": 105,
   "id": "e2663684-17cb-48b7-b896-6087d1d7ae8f",
   "metadata": {},
   "outputs": [
    {
     "name": "stdout",
     "output_type": "stream",
     "text": [
      "{'_base': 10, '_height': 10}\n",
      "{'_base': 8, '_height': 8}\n"
     ]
    }
   ],
   "source": [
    "print(p_1.__dict__)\n",
    "print(p_2.__dict__)"
   ]
  },
  {
   "cell_type": "code",
   "execution_count": 106,
   "id": "883015d3-db42-44ce-bfc7-a7c6c5414d6e",
   "metadata": {},
   "outputs": [
    {
     "name": "stdout",
     "output_type": "stream",
     "text": [
      "A class which represent Parallelogram: Where all sides are of equal length, but the angles are not necessarily 90 degrees.\n",
      "\n",
      "Method: __init__,   Docstring: To initiate the class and give parameters with default value,   Annotations: {'base': <class 'float'>, 'height': <class 'float'>, 'return': None}\n",
      "(Method: area),  (Docstring: To calculate the area of the Parallelogram),  (Annotations: {'return': <class 'float'>})\n",
      "(Method: perimeter),  (Docstring: To calculate the perimeter of Parallelogram),  (Annotations: {'return': <class 'float'>})\n",
      "Method: from_side_and_angle,   Docstring: \n",
      "        Create a Parallelogram instance given a side length and an angle between the sides.\n",
      "        Parameters:\n",
      "            side: The length of the side.\n",
      "            angle_degrees: The angle between the sides in degrees.\n",
      "        Returns:\n",
      "            Parallelogram: A new instance of Parallelogram.\n",
      "        ,   Annotations: {'side': <class 'float'>, 'angle_degrees': <class 'float'>, 'return': 'parallelogram'}\n",
      "Method: __repr__,   Docstring: Return the string  Representation of the Parallelogram,   Annotations: {'return': <class 'str'>}\n",
      "Method: __str__,   Docstring: Return the user_friendly  Representation  of  the Trapezoid,   Annotations: {'return': <class 'str'>}\n"
     ]
    }
   ],
   "source": [
    "print(Parallelogram.__doc__)\n",
    "print()\n",
    "for method in [\n",
    "    Parallelogram.__init__,\n",
    "    Parallelogram.area,\n",
    "    Parallelogram.perimeter,\n",
    "    Parallelogram.from_side_and_angle,\n",
    "    Parallelogram.__repr__,    \n",
    "    Parallelogram.__str__,\n",
    "]:\n",
    "    if isinstance(method, property):\n",
    "        print(f\"(Method: {method.fget.__name__}),  (Docstring: {method.__doc__}),  (Annotations: {method.fget.__annotations__})\")\n",
    "    else:\n",
    "        print(f\"Method: {method.__name__},   Docstring: {method.__doc__},   Annotations: {method.__annotations__}\")"
   ]
  },
  {
   "cell_type": "code",
   "execution_count": 107,
   "id": "4b4322e1-a23d-4123-ba9b-87f7c2416637",
   "metadata": {},
   "outputs": [
    {
     "name": "stdout",
     "output_type": "stream",
     "text": [
      "Parallelogram with base: 1.0, height: 1.0\n"
     ]
    },
    {
     "data": {
      "text/plain": [
       "Parallelogram(base=1.0, height=1.0)"
      ]
     },
     "execution_count": 107,
     "metadata": {},
     "output_type": "execute_result"
    }
   ],
   "source": [
    "p_3 = Parallelogram()\n",
    "print(p_3)\n",
    "p_3"
   ]
  },
  {
   "cell_type": "markdown",
   "id": "3eaff4e7-725d-4510-9df1-80da9f6cd55b",
   "metadata": {},
   "source": [
    "# **6.** ***Rhombus***"
   ]
  },
  {
   "cell_type": "code",
   "execution_count": 108,
   "id": "f53bb5fc-89ee-4048-962a-8417504dd17c",
   "metadata": {},
   "outputs": [],
   "source": [
    "class Rhombus:\n",
    "    \"\"\"A class to represent a rhombus, a parallelogram with all sides equal.\"\"\"\n",
    "    \n",
    "    def __init__(self, side_length: float = 1.0, height: float = 1.0) -> None:\n",
    "        \"\"\"Initialize the rhombus with the length of its sides and height.\n",
    "        \n",
    "        Parameters:\n",
    "            side_length : Length of each side. Defaults to 1.0.\n",
    "            height : Height of the rhombus. Defaults to 1.0.\n",
    "        \"\"\"\n",
    "        self.side = side_length\n",
    "        self.height = height\n",
    "\n",
    "    @property\n",
    "    def side(self) -> float:\n",
    "        \"\"\"Get the length of the rhombus's side.\"\"\"\n",
    "        return self._side\n",
    "\n",
    "    @side.setter\n",
    "    def side(self, value: float) -> None:\n",
    "        \"\"\"Set the length of the rhombus's side.\n",
    "        \"\"\"\n",
    "        self._side = value\n",
    "    @property\n",
    "    def height(self) -> float:\n",
    "        \"\"\"Get the height of the rhombus.\"\"\"\n",
    "        return self._height\n",
    "\n",
    "    @height.setter\n",
    "    def height(self, value: float) -> None:\n",
    "        \"\"\"Set the height of the rhombus..\n",
    "        \"\"\"\n",
    "        self._height = value\n",
    "\n",
    "    @property\n",
    "    def area(self) -> float:\n",
    "        \"\"\"Calculate the area of the rhombus.\"\"\"\n",
    "        return self._side_length * self.height\n",
    "\n",
    "    @property\n",
    "    def perimeter(self) -> float:\n",
    "        \"\"\"Calculate the perimeter of the rhombus.\"\"\"\n",
    "        return 4 * self._side_length\n",
    "\n",
    "    def __repr__(self) -> str:\n",
    "        \"\"\"Return a string representation of the rhombus.\"\"\"\n",
    "        return f\"Rhombus(side_length={self.side}, height={self.height})\"\n",
    "\n",
    "    def __str__(self) -> str:\n",
    "        \"\"\"Return a user-friendly string representation of the rhombus.\"\"\"\n",
    "        return (f\"Rhombus with side length: {self.side}, height: {self.height}\")\n"
   ]
  },
  {
   "cell_type": "code",
   "execution_count": 109,
   "id": "f699c6ad-c3cc-4587-ae8a-45037a7b37bb",
   "metadata": {},
   "outputs": [],
   "source": [
    "R_1 = Rhombus(4, 8)\n",
    "R_2 = Rhombus(7,9)"
   ]
  },
  {
   "cell_type": "code",
   "execution_count": 110,
   "id": "14c9cf0f-4576-4f5b-b7ac-7273f4d76ab9",
   "metadata": {},
   "outputs": [
    {
     "name": "stdout",
     "output_type": "stream",
     "text": [
      "Rhombus with side length: 4, height: 8\n",
      "Rhombus with side length: 7, height: 9\n"
     ]
    }
   ],
   "source": [
    "print(R_1)\n",
    "print(R_2)"
   ]
  },
  {
   "cell_type": "code",
   "execution_count": 111,
   "id": "d0ec4deb-b486-4ab0-a631-ef47f933154c",
   "metadata": {},
   "outputs": [
    {
     "data": {
      "text/plain": [
       "Rhombus(side_length=4, height=8)"
      ]
     },
     "execution_count": 111,
     "metadata": {},
     "output_type": "execute_result"
    }
   ],
   "source": [
    "R_1"
   ]
  },
  {
   "cell_type": "code",
   "execution_count": 112,
   "id": "e0f6ec3e-b4a1-4a7c-930b-4536c075ca01",
   "metadata": {},
   "outputs": [
    {
     "name": "stdout",
     "output_type": "stream",
     "text": [
      "mappingproxy({'__dict__': <attribute '__dict__' of 'Rhombus' objects>,\n",
      "              '__doc__': 'A class to represent a rhombus, a parallelogram with '\n",
      "                         'all sides equal.',\n",
      "              '__init__': <function Rhombus.__init__ at 0x0000017639AC6DC0>,\n",
      "              '__module__': '__main__',\n",
      "              '__repr__': <function Rhombus.__repr__ at 0x0000017639B65280>,\n",
      "              '__str__': <function Rhombus.__str__ at 0x0000017639B65310>,\n",
      "              '__weakref__': <attribute '__weakref__' of 'Rhombus' objects>,\n",
      "              'area': <property object at 0x0000017639AF0180>,\n",
      "              'height': <property object at 0x0000017639AD75E0>,\n",
      "              'perimeter': <property object at 0x0000017639AD76D0>,\n",
      "              'side': <property object at 0x0000017639AD7680>})\n"
     ]
    }
   ],
   "source": [
    "from pprint import pprint \n",
    "pprint(Rhombus.__dict__)"
   ]
  },
  {
   "cell_type": "code",
   "execution_count": 113,
   "id": "b198eaa8-33ac-4fed-a807-40f39fdbadf4",
   "metadata": {},
   "outputs": [
    {
     "name": "stdout",
     "output_type": "stream",
     "text": [
      "mappingproxy({'__dict__': <attribute '__dict__' of 'Rhombus' objects>,\n",
      "              '__doc__': 'A class to represent a rhombus, a parallelogram with '\n",
      "                         'all sides equal.',\n",
      "              '__init__': <function Rhombus.__init__ at 0x0000017639AC6DC0>,\n",
      "              '__module__': '__main__',\n",
      "              '__repr__': <function Rhombus.__repr__ at 0x0000017639B65280>,\n",
      "              '__str__': <function Rhombus.__str__ at 0x0000017639B65310>,\n",
      "              '__weakref__': <attribute '__weakref__' of 'Rhombus' objects>,\n",
      "              'area': <property object at 0x0000017639AF0180>,\n",
      "              'height': <property object at 0x0000017639AD75E0>,\n",
      "              'perimeter': <property object at 0x0000017639AD76D0>,\n",
      "              'side': <property object at 0x0000017639AD7680>})\n"
     ]
    }
   ],
   "source": [
    "pprint(vars(Rhombus))"
   ]
  },
  {
   "cell_type": "code",
   "execution_count": 114,
   "id": "77d61afd-fea9-40de-97a5-2aaf630336a1",
   "metadata": {},
   "outputs": [
    {
     "name": "stdout",
     "output_type": "stream",
     "text": [
      "Help on class Rhombus in module __main__:\n",
      "\n",
      "class Rhombus(builtins.object)\n",
      " |  Rhombus(side_length: float = 1.0, height: float = 1.0) -> None\n",
      " |  \n",
      " |  A class to represent a rhombus, a parallelogram with all sides equal.\n",
      " |  \n",
      " |  Methods defined here:\n",
      " |  \n",
      " |  __init__(self, side_length: float = 1.0, height: float = 1.0) -> None\n",
      " |      Initialize the rhombus with the length of its sides and height.\n",
      " |      \n",
      " |      Parameters:\n",
      " |          side_length : Length of each side. Defaults to 1.0.\n",
      " |          height : Height of the rhombus. Defaults to 1.0.\n",
      " |  \n",
      " |  __repr__(self) -> str\n",
      " |      Return a string representation of the rhombus.\n",
      " |  \n",
      " |  __str__(self) -> str\n",
      " |      Return a user-friendly string representation of the rhombus.\n",
      " |  \n",
      " |  ----------------------------------------------------------------------\n",
      " |  Readonly properties defined here:\n",
      " |  \n",
      " |  area\n",
      " |      Calculate the area of the rhombus.\n",
      " |  \n",
      " |  perimeter\n",
      " |      Calculate the perimeter of the rhombus.\n",
      " |  \n",
      " |  ----------------------------------------------------------------------\n",
      " |  Data descriptors defined here:\n",
      " |  \n",
      " |  __dict__\n",
      " |      dictionary for instance variables (if defined)\n",
      " |  \n",
      " |  __weakref__\n",
      " |      list of weak references to the object (if defined)\n",
      " |  \n",
      " |  height\n",
      " |      Get the height of the rhombus.\n",
      " |  \n",
      " |  side\n",
      " |      Get the length of the rhombus's side.\n",
      "\n"
     ]
    }
   ],
   "source": [
    "help(Rhombus)"
   ]
  },
  {
   "cell_type": "code",
   "execution_count": 115,
   "id": "0cb239e9-36f9-42ad-80f7-18ffb747c44f",
   "metadata": {},
   "outputs": [
    {
     "name": "stdout",
     "output_type": "stream",
     "text": [
      "{'_side': 4, '_height': 8}\n",
      "{'_side': 7, '_height': 9}\n"
     ]
    }
   ],
   "source": [
    "print(R_1.__dict__)\n",
    "print(R_2.__dict__)"
   ]
  },
  {
   "cell_type": "code",
   "execution_count": 116,
   "id": "a7323ae0-1d72-482a-a6ea-3b440dc86312",
   "metadata": {},
   "outputs": [
    {
     "name": "stdout",
     "output_type": "stream",
     "text": [
      "A class to represent a rhombus, a parallelogram with all sides equal.\n",
      "Method: __init__,   Docstring: Initialize the rhombus with the length of its sides and height.\n",
      "        \n",
      "        Parameters:\n",
      "            side_length : Length of each side. Defaults to 1.0.\n",
      "            height : Height of the rhombus. Defaults to 1.0.\n",
      "        ,   Annotations: {'side_length': <class 'float'>, 'height': <class 'float'>, 'return': None}\n",
      "(Method: area),  (Docstring: Calculate the area of the rhombus.),  (Annotations: {'return': <class 'float'>})\n",
      "(Method: perimeter),  (Docstring: Calculate the perimeter of the rhombus.),  (Annotations: {'return': <class 'float'>})\n",
      "Method: __repr__,   Docstring: Return a string representation of the rhombus.,   Annotations: {'return': <class 'str'>}\n",
      "Method: __str__,   Docstring: Return a user-friendly string representation of the rhombus.,   Annotations: {'return': <class 'str'>}\n"
     ]
    }
   ],
   "source": [
    "print(Rhombus.__doc__)\n",
    "for method in [\n",
    "    Rhombus.__init__,\n",
    "    Rhombus.area,\n",
    "    Rhombus.perimeter,\n",
    "    Rhombus.__repr__,\n",
    "    Rhombus.__str__,\n",
    "]:\n",
    "    if isinstance(method, property):\n",
    "        print(f\"(Method: {method.fget.__name__}),  (Docstring: {method.__doc__}),  (Annotations: {method.fget.__annotations__})\")\n",
    "    else:\n",
    "        print(f\"Method: {method.__name__},   Docstring: {method.__doc__},   Annotations: {method.__annotations__}\")"
   ]
  },
  {
   "cell_type": "code",
   "execution_count": 117,
   "id": "cdf96dce-ada7-4db5-bc8d-35bc7934fcd6",
   "metadata": {},
   "outputs": [
    {
     "name": "stdout",
     "output_type": "stream",
     "text": [
      "Rhombus with side length: 1.0, height: 1.0\n"
     ]
    },
    {
     "data": {
      "text/plain": [
       "Rhombus(side_length=1.0, height=1.0)"
      ]
     },
     "execution_count": 117,
     "metadata": {},
     "output_type": "execute_result"
    }
   ],
   "source": [
    "R_3 = Rhombus()\n",
    "print(R_3)\n",
    "R_3"
   ]
  },
  {
   "cell_type": "markdown",
   "id": "c9e5620e-05c3-4dee-b562-8a733c821e5f",
   "metadata": {},
   "source": [
    "#  **Task No 05**"
   ]
  },
  {
   "cell_type": "markdown",
   "id": "b46c5683-6cff-419f-b731-a48cd5fe6cf0",
   "metadata": {},
   "source": [
    " ***Circuit:***\n",
    "* **Resistor Circuit:** *Create a class for a circuit that contains only one resistor.*\n",
    "* **RL Circuit:** *Develop a class representing an RL (Resistor-Inductor) circuit.*\n",
    "* **RC Circuit:** *Create a class for an RC (Resistor-Capacitor) circuit.*\n",
    "* **RLC Parallel Circuit:** *Construct a class for RLC (Resistor-Inductor-Capacitor) parallel circuits.*\n",
    "* **RLC Series Resonance:** *Modify the existing RLC series class to implement the series resonance case.*\n",
    "* **RLC Parallel Resonance:** *Adapt the RLC parallel class to account for the parallel resonance case.*"
   ]
  },
  {
   "cell_type": "markdown",
   "id": "5e2ed809-236f-4e91-bb84-4b8f0978b7e5",
   "metadata": {},
   "source": [
    "#  **1.** ***Resistor***"
   ]
  },
  {
   "cell_type": "code",
   "execution_count": 119,
   "id": "669b3ac2-7d53-41c7-a0d9-ae4837695874",
   "metadata": {},
   "outputs": [],
   "source": [
    "class Resistor:\n",
    "    \"\"\"A class to represent a simple circuit with a single resistor.\"\"\"\n",
    "    \n",
    "    def __init__(self, resistance: float = 1.0) -> None:\n",
    "        \"\"\"Initialize the resistor with the given resistance value.\n",
    "        \n",
    "        Parameter:\n",
    "            resistance: Resistance in ohms. Defaults to 1.0.\n",
    "        \"\"\"\n",
    "        self.resistance = resistance\n",
    "\n",
    "    @property\n",
    "    def resistance(self) -> float:\n",
    "        \"\"\"Get the resistance value.\"\"\"\n",
    "        return self._resistance\n",
    "\n",
    "    @resistance.setter\n",
    "    def resistance(self, value: float):\n",
    "        \"\"\"Set the resistance value.\"\"\"\n",
    "        self._resistance = value\n",
    "    @staticmethod\n",
    "    def calculate_power(voltage: float, current: float) -> float:\n",
    "        \"\"\"Static method to calculate the power dissipated in a resistor.  \n",
    "        Parameters:\n",
    "            voltage (float): Resistance in voltage.\n",
    "            current (float): Current in amps.\n",
    "        Returns:\n",
    "            float: Power in watts.\n",
    "        \"\"\"\n",
    "        return resistance * (current ** 2)\n",
    "    @classmethod\n",
    "    def with_standard_resistance(cls, standard: float = 10.0):\n",
    "        \"\"\"Class method to create a resistor circuit with a standard resistance.\n",
    "        parameters:\n",
    "            standard_value (float): Common resistor value in ohms.\n",
    "        Returns:\n",
    "            ResistorCircuit: A new instance with the specified standard resistance.\n",
    "        \"\"\"\n",
    "        return cls(resistance=standard)\n",
    "    def __repr__(self) -> str:\n",
    "        \"\"\"A  string  representation of the Resistor\"\"\"\n",
    "        return f\"{type(self).__name__}(resistance={self.resistance} ohm)\"\n",
    "    def __str__(self) -> str:\n",
    "        \"\"\"A user-friendly  representation of Resistor\"\"\"\n",
    "        return f\"Resistor with resistancae: {self.resistance} ohms\"\n"
   ]
  },
  {
   "cell_type": "code",
   "execution_count": 120,
   "id": "777ad4ff-7892-4a34-aa4e-158a16ecb97a",
   "metadata": {},
   "outputs": [],
   "source": [
    "resistor = Resistor(33)"
   ]
  },
  {
   "cell_type": "code",
   "execution_count": 121,
   "id": "997b4d32-7de5-47e4-8854-eafe7b565e6c",
   "metadata": {},
   "outputs": [
    {
     "name": "stdout",
     "output_type": "stream",
     "text": [
      "Resistor with resistancae: 33 ohms\n"
     ]
    }
   ],
   "source": [
    "print(resistor)"
   ]
  },
  {
   "cell_type": "code",
   "execution_count": 122,
   "id": "e50c8f15-574b-4f07-80b3-b2e06b2c0fd6",
   "metadata": {},
   "outputs": [
    {
     "data": {
      "text/plain": [
       "Resistor(resistance=33 ohm)"
      ]
     },
     "execution_count": 122,
     "metadata": {},
     "output_type": "execute_result"
    }
   ],
   "source": [
    "resistor"
   ]
  },
  {
   "cell_type": "code",
   "execution_count": 123,
   "id": "571497a6-4c4d-4c06-a16d-e1810f67f4a7",
   "metadata": {},
   "outputs": [
    {
     "name": "stdout",
     "output_type": "stream",
     "text": [
      "mappingproxy({'__dict__': <attribute '__dict__' of 'Resistor' objects>,\n",
      "              '__doc__': 'A class to represent a simple circuit with a single '\n",
      "                         'resistor.',\n",
      "              '__init__': <function Resistor.__init__ at 0x0000017637E6EB80>,\n",
      "              '__module__': '__main__',\n",
      "              '__repr__': <function Resistor.__repr__ at 0x0000017639B659D0>,\n",
      "              '__str__': <function Resistor.__str__ at 0x0000017639B65A60>,\n",
      "              '__weakref__': <attribute '__weakref__' of 'Resistor' objects>,\n",
      "              'calculate_power': <staticmethod object at 0x0000017638038550>,\n",
      "              'resistance': <property object at 0x0000017639AB7180>,\n",
      "              'with_standard_resistance': <classmethod object at 0x0000017638038460>})\n"
     ]
    }
   ],
   "source": [
    "from pprint import pprint \n",
    "pprint(Resistor.__dict__)"
   ]
  },
  {
   "cell_type": "code",
   "execution_count": 124,
   "id": "389df846-661d-4a9e-a549-496858c35353",
   "metadata": {},
   "outputs": [
    {
     "name": "stdout",
     "output_type": "stream",
     "text": [
      "Help on class Resistor in module __main__:\n",
      "\n",
      "class Resistor(builtins.object)\n",
      " |  Resistor(resistance: float = 1.0) -> None\n",
      " |  \n",
      " |  A class to represent a simple circuit with a single resistor.\n",
      " |  \n",
      " |  Methods defined here:\n",
      " |  \n",
      " |  __init__(self, resistance: float = 1.0) -> None\n",
      " |      Initialize the resistor with the given resistance value.\n",
      " |      \n",
      " |      Parameter:\n",
      " |          resistance: Resistance in ohms. Defaults to 1.0.\n",
      " |  \n",
      " |  __repr__(self) -> str\n",
      " |      A  string  representation of the Resistor\n",
      " |  \n",
      " |  __str__(self) -> str\n",
      " |      A user-friendly  representation of Resistor\n",
      " |  \n",
      " |  ----------------------------------------------------------------------\n",
      " |  Class methods defined here:\n",
      " |  \n",
      " |  with_standard_resistance(standard: float = 10.0) from builtins.type\n",
      " |      Class method to create a resistor circuit with a standard resistance.\n",
      " |      parameters:\n",
      " |          standard_value (float): Common resistor value in ohms.\n",
      " |      Returns:\n",
      " |          ResistorCircuit: A new instance with the specified standard resistance.\n",
      " |  \n",
      " |  ----------------------------------------------------------------------\n",
      " |  Static methods defined here:\n",
      " |  \n",
      " |  calculate_power(voltage: float, current: float) -> float\n",
      " |      Static method to calculate the power dissipated in a resistor.  \n",
      " |      Parameters:\n",
      " |          voltage (float): Resistance in voltage.\n",
      " |          current (float): Current in amps.\n",
      " |      Returns:\n",
      " |          float: Power in watts.\n",
      " |  \n",
      " |  ----------------------------------------------------------------------\n",
      " |  Data descriptors defined here:\n",
      " |  \n",
      " |  __dict__\n",
      " |      dictionary for instance variables (if defined)\n",
      " |  \n",
      " |  __weakref__\n",
      " |      list of weak references to the object (if defined)\n",
      " |  \n",
      " |  resistance\n",
      " |      Get the resistance value.\n",
      "\n"
     ]
    }
   ],
   "source": [
    "help(Resistor)"
   ]
  },
  {
   "cell_type": "code",
   "execution_count": 125,
   "id": "12c38ea7-ec71-4b93-9712-884d5cd8ee0c",
   "metadata": {},
   "outputs": [
    {
     "name": "stdout",
     "output_type": "stream",
     "text": [
      "{'_resistance': 33}\n"
     ]
    }
   ],
   "source": [
    "print(resistor.__dict__)"
   ]
  },
  {
   "cell_type": "code",
   "execution_count": 126,
   "id": "4ae5c9fb-1a26-4f15-a8e9-0780475d7331",
   "metadata": {},
   "outputs": [
    {
     "name": "stdout",
     "output_type": "stream",
     "text": [
      "A class to represent a simple circuit with a single resistor.\n",
      "Method: __init__,   Docstring: Initialize the resistor with the given resistance value.\n",
      "        \n",
      "        Parameter:\n",
      "            resistance: Resistance in ohms. Defaults to 1.0.\n",
      "        ,   Annotations: {'resistance': <class 'float'>, 'return': None}\n",
      "Method: with_standard_resistance,   Docstring: Class method to create a resistor circuit with a standard resistance.\n",
      "        parameters:\n",
      "            standard_value (float): Common resistor value in ohms.\n",
      "        Returns:\n",
      "            ResistorCircuit: A new instance with the specified standard resistance.\n",
      "        ,   Annotations: {'standard': <class 'float'>}\n",
      "Method: calculate_power,   Docstring: Static method to calculate the power dissipated in a resistor.  \n",
      "        Parameters:\n",
      "            voltage (float): Resistance in voltage.\n",
      "            current (float): Current in amps.\n",
      "        Returns:\n",
      "            float: Power in watts.\n",
      "        ,   Annotations: {'voltage': <class 'float'>, 'current': <class 'float'>, 'return': <class 'float'>}\n",
      "Method: __repr__,   Docstring: A  string  representation of the Resistor,   Annotations: {'return': <class 'str'>}\n",
      "Method: __str__,   Docstring: A user-friendly  representation of Resistor,   Annotations: {'return': <class 'str'>}\n"
     ]
    }
   ],
   "source": [
    "print(Resistor.__doc__)\n",
    "for method in [\n",
    "    Resistor.__init__,\n",
    "    Resistor.with_standard_resistance,\n",
    "    Resistor.calculate_power,\n",
    "    Resistor.__repr__,\n",
    "    Resistor.__str__,\n",
    "]:\n",
    "    if isinstance(method, property):\n",
    "        print(f\"(Method: {method.fget.__name__}),  (Docstring: {method.__doc__}),  (Annotations: {method.fget.__annotations__})\")\n",
    "    else:\n",
    "        print(f\"Method: {method.__name__},   Docstring: {method.__doc__},   Annotations: {method.__annotations__}\")"
   ]
  },
  {
   "cell_type": "code",
   "execution_count": 127,
   "id": "26b10308-ff6a-4fcc-89a9-cb4b62579692",
   "metadata": {},
   "outputs": [
    {
     "name": "stdout",
     "output_type": "stream",
     "text": [
      "Resistor with resistancae: 1.0 ohms\n"
     ]
    },
    {
     "data": {
      "text/plain": [
       "Resistor(resistance=1.0 ohm)"
      ]
     },
     "execution_count": 127,
     "metadata": {},
     "output_type": "execute_result"
    }
   ],
   "source": [
    "RL_3 = Resistor()\n",
    "print(RL_3)\n",
    "RL_3"
   ]
  },
  {
   "cell_type": "markdown",
   "id": "0294350a-9620-46e4-91b8-f19e4abc713f",
   "metadata": {},
   "source": [
    "#  **2.** ***RL Circuit***"
   ]
  },
  {
   "cell_type": "code",
   "execution_count": 128,
   "id": "f395bebf-df15-4459-a2a7-d0c5095e175a",
   "metadata": {},
   "outputs": [],
   "source": [
    "import math\n",
    "class RLCircuit:\n",
    "    \"\"\"A class to represent an RL circuit (Resistor and Inductor).\"\"\"\n",
    "    \n",
    "    def __init__(self, resistance: float = 1.0, inductance: float = 1.0):\n",
    "        \"\"\"Initialize the RL circuit with resistance and inductance.    \n",
    "        Parameters:\n",
    "            resistance : Resistance in ohms. Default value is 1.0.\n",
    "            inductance : Inductance in henries. Default value 1.0.\n",
    "        \"\"\"\n",
    "        self.resistance = resistance\n",
    "        self.inductance = inductance\n",
    "\n",
    "    @property\n",
    "    def resistance(self) -> float:\n",
    "        \"\"\"Get the resistance value.\"\"\"\n",
    "        return self._resistance\n",
    "\n",
    "    @resistance.setter\n",
    "    def resistance(self, value: float):\n",
    "        self._resistance = value\n",
    "\n",
    "    @property\n",
    "    def inductance(self) -> float:\n",
    "        \"\"\"Get the inductance value.\"\"\"\n",
    "        return self._inductance\n",
    "\n",
    "    @inductance.setter\n",
    "    def inductance(self, value: float):\n",
    "        self._inductance = value\n",
    "    \n",
    "    def impedance(self, frequency: float = 50.0) -> float:\n",
    "        \"\"\"Calculate the impedance of the RL circuit.\n",
    "        \n",
    "        Parameter:\n",
    "            frequency : Frequency in hertz.\n",
    "        \n",
    "        Returns:\n",
    "            float: Impedance in ohms.\n",
    "        \"\"\"\n",
    "        return math.sqrt(self.resistance**2 + (2 * math.pi * frequency * self.inductance)**2)\n",
    "\n",
    "    @classmethod\n",
    "    def standard_values(cls):\n",
    "        \"\"\"Class method to create an RL circuit with standard values.\"\"\"\n",
    "        return cls(resistance=10.0, inductance=0.05)\n",
    "\n",
    "    @staticmethod\n",
    "    def calculate_reactance(inductance: float, frequency: float) -> float:\n",
    "        \"\"\"Static method to calculate the inductive reactance.\"\"\"\n",
    "        return 2 * math.pi * frequency * inductance\n",
    "\n",
    "    def __repr__(self) -> str:\n",
    "        \"\"\"A  string  representation of the RL Circuit\"\"\"\n",
    "        return f\"{type(self).__name__}(resistance={self.resistance}, inductance={self.inductance} H)\"\n",
    "\n",
    "    def __str__(self) -> str:\n",
    "        \"\"\"A user-friendly  representation of RL Circuit\"\"\"\n",
    "        return f\"RL Circuit with resistance: {self.resistance} ohms, inductance: {self.inductance} H\"\n"
   ]
  },
  {
   "cell_type": "code",
   "execution_count": 129,
   "id": "dfb7d21a-d58b-4643-aec9-65962db61845",
   "metadata": {},
   "outputs": [],
   "source": [
    "RL_1 = RLCircuit(25, 0.001)\n",
    "RL_2 = RLCircuit(15, 0.1)"
   ]
  },
  {
   "cell_type": "code",
   "execution_count": 130,
   "id": "74cabdf3-2cd9-43de-b4a9-581adff3cdef",
   "metadata": {},
   "outputs": [
    {
     "name": "stdout",
     "output_type": "stream",
     "text": [
      "RL Circuit with resistance: 25 ohms, inductance: 0.001 H\n",
      "RL Circuit with resistance: 15 ohms, inductance: 0.1 H\n"
     ]
    }
   ],
   "source": [
    "print(RL_1)\n",
    "print(RL_2)"
   ]
  },
  {
   "cell_type": "code",
   "execution_count": 131,
   "id": "fdaa4207-5ace-44c7-8fdf-ae5008033efc",
   "metadata": {},
   "outputs": [
    {
     "data": {
      "text/plain": [
       "RLCircuit(resistance=25, inductance=0.001 H)"
      ]
     },
     "execution_count": 131,
     "metadata": {},
     "output_type": "execute_result"
    }
   ],
   "source": [
    "RL_1"
   ]
  },
  {
   "cell_type": "code",
   "execution_count": 132,
   "id": "efe418b8-9807-4473-8422-a8c852c43c75",
   "metadata": {},
   "outputs": [
    {
     "data": {
      "text/plain": [
       "RLCircuit(resistance=15, inductance=0.1 H)"
      ]
     },
     "execution_count": 132,
     "metadata": {},
     "output_type": "execute_result"
    }
   ],
   "source": [
    "RL_2"
   ]
  },
  {
   "cell_type": "code",
   "execution_count": 133,
   "id": "8eb0644e-27b1-465b-9e39-354dd059e904",
   "metadata": {},
   "outputs": [
    {
     "name": "stdout",
     "output_type": "stream",
     "text": [
      "mappingproxy({'__dict__': <attribute '__dict__' of 'RLCircuit' objects>,\n",
      "              '__doc__': 'A class to represent an RL circuit (Resistor and '\n",
      "                         'Inductor).',\n",
      "              '__init__': <function RLCircuit.__init__ at 0x0000017639B65DC0>,\n",
      "              '__module__': '__main__',\n",
      "              '__repr__': <function RLCircuit.__repr__ at 0x0000017639B6B430>,\n",
      "              '__str__': <function RLCircuit.__str__ at 0x0000017639B6B4C0>,\n",
      "              '__weakref__': <attribute '__weakref__' of 'RLCircuit' objects>,\n",
      "              'calculate_reactance': <staticmethod object at 0x0000017638071CD0>,\n",
      "              'impedance': <function RLCircuit.impedance at 0x0000017639B6B280>,\n",
      "              'inductance': <property object at 0x0000017639AD6680>,\n",
      "              'resistance': <property object at 0x0000017639AD6B80>,\n",
      "              'standard_values': <classmethod object at 0x0000017638071910>})\n"
     ]
    }
   ],
   "source": [
    "from pprint import pprint\n",
    "pprint(RLCircuit.__dict__)"
   ]
  },
  {
   "cell_type": "code",
   "execution_count": 134,
   "id": "e87a8711-acb2-477e-bde4-0be3f000ff45",
   "metadata": {},
   "outputs": [
    {
     "name": "stdout",
     "output_type": "stream",
     "text": [
      "mappingproxy({'__dict__': <attribute '__dict__' of 'RLCircuit' objects>,\n",
      "              '__doc__': 'A class to represent an RL circuit (Resistor and '\n",
      "                         'Inductor).',\n",
      "              '__init__': <function RLCircuit.__init__ at 0x0000017639B65DC0>,\n",
      "              '__module__': '__main__',\n",
      "              '__repr__': <function RLCircuit.__repr__ at 0x0000017639B6B430>,\n",
      "              '__str__': <function RLCircuit.__str__ at 0x0000017639B6B4C0>,\n",
      "              '__weakref__': <attribute '__weakref__' of 'RLCircuit' objects>,\n",
      "              'calculate_reactance': <staticmethod object at 0x0000017638071CD0>,\n",
      "              'impedance': <function RLCircuit.impedance at 0x0000017639B6B280>,\n",
      "              'inductance': <property object at 0x0000017639AD6680>,\n",
      "              'resistance': <property object at 0x0000017639AD6B80>,\n",
      "              'standard_values': <classmethod object at 0x0000017638071910>})\n"
     ]
    }
   ],
   "source": [
    "pprint(vars(RLCircuit))"
   ]
  },
  {
   "cell_type": "code",
   "execution_count": 135,
   "id": "2a21bb74-7957-495d-a064-496ab1236e31",
   "metadata": {},
   "outputs": [
    {
     "name": "stdout",
     "output_type": "stream",
     "text": [
      "Help on class RLCircuit in module __main__:\n",
      "\n",
      "class RLCircuit(builtins.object)\n",
      " |  RLCircuit(resistance: float = 1.0, inductance: float = 1.0)\n",
      " |  \n",
      " |  A class to represent an RL circuit (Resistor and Inductor).\n",
      " |  \n",
      " |  Methods defined here:\n",
      " |  \n",
      " |  __init__(self, resistance: float = 1.0, inductance: float = 1.0)\n",
      " |      Initialize the RL circuit with resistance and inductance.    \n",
      " |      Parameters:\n",
      " |          resistance : Resistance in ohms. Default value is 1.0.\n",
      " |          inductance : Inductance in henries. Default value 1.0.\n",
      " |  \n",
      " |  __repr__(self) -> str\n",
      " |      A  string  representation of the RL Circuit\n",
      " |  \n",
      " |  __str__(self) -> str\n",
      " |      A user-friendly  representation of RL Circuit\n",
      " |  \n",
      " |  impedance(self, frequency: float = 50.0) -> float\n",
      " |      Calculate the impedance of the RL circuit.\n",
      " |      \n",
      " |      Parameter:\n",
      " |          frequency : Frequency in hertz.\n",
      " |      \n",
      " |      Returns:\n",
      " |          float: Impedance in ohms.\n",
      " |  \n",
      " |  ----------------------------------------------------------------------\n",
      " |  Class methods defined here:\n",
      " |  \n",
      " |  standard_values() from builtins.type\n",
      " |      Class method to create an RL circuit with standard values.\n",
      " |  \n",
      " |  ----------------------------------------------------------------------\n",
      " |  Static methods defined here:\n",
      " |  \n",
      " |  calculate_reactance(inductance: float, frequency: float) -> float\n",
      " |      Static method to calculate the inductive reactance.\n",
      " |  \n",
      " |  ----------------------------------------------------------------------\n",
      " |  Data descriptors defined here:\n",
      " |  \n",
      " |  __dict__\n",
      " |      dictionary for instance variables (if defined)\n",
      " |  \n",
      " |  __weakref__\n",
      " |      list of weak references to the object (if defined)\n",
      " |  \n",
      " |  inductance\n",
      " |      Get the inductance value.\n",
      " |  \n",
      " |  resistance\n",
      " |      Get the resistance value.\n",
      "\n"
     ]
    }
   ],
   "source": [
    "help(RLCircuit)"
   ]
  },
  {
   "cell_type": "code",
   "execution_count": 136,
   "id": "76cbf0a9-9c4d-4695-a0e5-9450518f638e",
   "metadata": {},
   "outputs": [
    {
     "name": "stdout",
     "output_type": "stream",
     "text": [
      "{'_resistance': 25, '_inductance': 0.001}\n",
      "{'_resistance': 15, '_inductance': 0.1}\n"
     ]
    }
   ],
   "source": [
    "print(RL_1.__dict__)\n",
    "print(RL_2.__dict__)"
   ]
  },
  {
   "cell_type": "code",
   "execution_count": 137,
   "id": "9b3f19ef-ca1c-4847-b845-71123f7ec074",
   "metadata": {},
   "outputs": [
    {
     "name": "stdout",
     "output_type": "stream",
     "text": [
      "A class to represent an RL circuit (Resistor and Inductor).\n",
      "Method: __init__,   Docstring: Initialize the RL circuit with resistance and inductance.    \n",
      "        Parameters:\n",
      "            resistance : Resistance in ohms. Default value is 1.0.\n",
      "            inductance : Inductance in henries. Default value 1.0.\n",
      "        ,   Annotations: {'resistance': <class 'float'>, 'inductance': <class 'float'>}\n",
      "Method: impedance,   Docstring: Calculate the impedance of the RL circuit.\n",
      "        \n",
      "        Parameter:\n",
      "            frequency : Frequency in hertz.\n",
      "        \n",
      "        Returns:\n",
      "            float: Impedance in ohms.\n",
      "        ,   Annotations: {'frequency': <class 'float'>, 'return': <class 'float'>}\n",
      "Method: standard_values,   Docstring: Class method to create an RL circuit with standard values.,   Annotations: {}\n",
      "Method: calculate_reactance,   Docstring: Static method to calculate the inductive reactance.,   Annotations: {'inductance': <class 'float'>, 'frequency': <class 'float'>, 'return': <class 'float'>}\n",
      "Method: __repr__,   Docstring: A  string  representation of the RL Circuit,   Annotations: {'return': <class 'str'>}\n",
      "Method: __str__,   Docstring: A user-friendly  representation of RL Circuit,   Annotations: {'return': <class 'str'>}\n"
     ]
    }
   ],
   "source": [
    "print(RLCircuit.__doc__)\n",
    "for method in [\n",
    "    RLCircuit.__init__,\n",
    "    RLCircuit.impedance,\n",
    "    RLCircuit.standard_values,\n",
    "    RLCircuit.calculate_reactance,\n",
    "    RLCircuit.__repr__,\n",
    "    RLCircuit.__str__,\n",
    "]:\n",
    "    if isinstance(method, property):\n",
    "        print(f\"(Method: {method.fget.__name__}),  (Docstring: {method.__doc__}),  (Annotations: {method.fget.__annotations__})\")\n",
    "    else:\n",
    "        print(f\"Method: {method.__name__},   Docstring: {method.__doc__},   Annotations: {method.__annotations__}\")"
   ]
  },
  {
   "cell_type": "code",
   "execution_count": 138,
   "id": "f7a22f47-adc5-4f73-97eb-b33817f40a3f",
   "metadata": {},
   "outputs": [
    {
     "name": "stdout",
     "output_type": "stream",
     "text": [
      "RL Circuit with resistance: 1.0 ohms, inductance: 1.0 H\n"
     ]
    },
    {
     "data": {
      "text/plain": [
       "RLCircuit(resistance=1.0, inductance=1.0 H)"
      ]
     },
     "execution_count": 138,
     "metadata": {},
     "output_type": "execute_result"
    }
   ],
   "source": [
    "RL_3 = RLCircuit()\n",
    "print(RL_3)\n",
    "RL_3"
   ]
  },
  {
   "cell_type": "markdown",
   "id": "b7f04f36-ebe0-4b20-8b55-19a592913936",
   "metadata": {},
   "source": [
    "# **3.** ***RC Circuit***"
   ]
  },
  {
   "cell_type": "code",
   "execution_count": 140,
   "id": "a1b47067-92c1-419f-b352-9dd1a1d1e197",
   "metadata": {},
   "outputs": [],
   "source": [
    "import math\n",
    "class RC_Circuit:\n",
    "    \"\"\"A class to represent an RC series circuit.\"\"\"\n",
    "\n",
    "    def __init__(self, resistance: float = 1.0, capacitance: float = 1.0) -> None:\n",
    "        \"\"\"Initialize the series RC circuit with resistance and capacitance.\n",
    "\n",
    "        Parameters:\n",
    "            resistance : Resistance in ohms. Default value is 1.0.\n",
    "            capacitance : Capacitance in farads. Default value is 1.0.\n",
    "        \"\"\"\n",
    "        self._resistance = resistance\n",
    "        self._capacitance = capacitance\n",
    "\n",
    "    @property\n",
    "    def resistance(self) -> float:\n",
    "        \"\"\"Get the resistance value.\"\"\"\n",
    "        return self._resistance\n",
    "\n",
    "    @resistance.setter\n",
    "    def resistance(self, value: float) -> None:\n",
    "        \"\"\"set the resistance value\"\"\"\n",
    "        self.resistance = value\n",
    "    @property\n",
    "    def capacitance(self) -> float:\n",
    "        \"\"\"Get the capacitance value.\"\"\"\n",
    "        return self._capacitance\n",
    "\n",
    "    @capacitance.setter\n",
    "    def capacitance(self, value: float) -> None:\n",
    "        self._capacitance = value\n",
    "    def impedance(self, frequency: float) -> float:\n",
    "        \"\"\"Calculate the impedance of the RC circuit.\n",
    "        Parameter:\n",
    "                 frequency (float): Frequency in hertz.\n",
    "        Returns:\n",
    "               Impedance in ohms.\n",
    "        \"\"\"\n",
    "        reactance_c = 1 / (2 * math.pi * frequency * self.capacitance)\n",
    "        return math.sqrt(self.resistance**2 + reactance_c**2)\n",
    "    @classmethod\n",
    "    def standard_values(cls) -> 'RC Circuit':\n",
    "        \"\"\"Class method to create an RC circuit with standard values.\"\"\"\n",
    "        return cls(resistance=30.0, capacitance=0.1)\n",
    "\n",
    "    @staticmethod\n",
    "    def calculate_reactance(capacitance_1: float, frequency: float) -> float:\n",
    "        \"\"\"Static method to calculate the capacitive reactance.\n",
    "\n",
    "        Parameters:\n",
    "            capacitance : Capacitance in farads.\n",
    "            frequency : Frequency in hertz.\n",
    "\n",
    "        Returns:\n",
    "            Reactance in ohms.\n",
    "        \"\"\"\n",
    "        return 1 / (2 * math.pi * frequency * capacitance_1)\n",
    "    def __repr__(self) -> str:\n",
    "        \"\"\"A  string  representation of the RC Circuit\"\"\"\n",
    "        return f\"{type(self).__name__}(resistance={self.resistance}, capacitance={self.capacitance})\"\n",
    "\n",
    "    def __str__(self) -> str:\n",
    "        \"\"\"A user-friendly  representation of RC Circuit\"\"\"\n",
    "        return (f\"RC Series Circuit with resistance: {self.resistance} ohms, capacitance: {self.capacitance} F\")"
   ]
  },
  {
   "cell_type": "code",
   "execution_count": 141,
   "id": "8cbd858d-49fe-45c1-a1a1-c84bf4a589c1",
   "metadata": {},
   "outputs": [],
   "source": [
    "RC_1 = RC_Circuit(40, 0.000001)\n",
    "RC_2 = RC_Circuit(70,0.001)"
   ]
  },
  {
   "cell_type": "code",
   "execution_count": 142,
   "id": "eb597d46-6bf4-42c6-8203-f74c9558d5cc",
   "metadata": {},
   "outputs": [
    {
     "name": "stdout",
     "output_type": "stream",
     "text": [
      "RC Series Circuit with resistance: 40 ohms, capacitance: 1e-06 F\n",
      "RL Circuit with resistance: 15 ohms, inductance: 0.1 H\n"
     ]
    }
   ],
   "source": [
    "print(RC_1)\n",
    "print(RL_2)"
   ]
  },
  {
   "cell_type": "code",
   "execution_count": 143,
   "id": "cc9a1f39-77da-45cb-89c3-710b58b42586",
   "metadata": {},
   "outputs": [
    {
     "data": {
      "text/plain": [
       "RC_Circuit(resistance=40, capacitance=1e-06)"
      ]
     },
     "execution_count": 143,
     "metadata": {},
     "output_type": "execute_result"
    }
   ],
   "source": [
    "RC_1"
   ]
  },
  {
   "cell_type": "code",
   "execution_count": 144,
   "id": "395624d6-e3e0-443c-b819-1fd5a1596984",
   "metadata": {},
   "outputs": [
    {
     "data": {
      "text/plain": [
       "RC_Circuit(resistance=70, capacitance=0.001)"
      ]
     },
     "execution_count": 144,
     "metadata": {},
     "output_type": "execute_result"
    }
   ],
   "source": [
    "RC_2"
   ]
  },
  {
   "cell_type": "code",
   "execution_count": 145,
   "id": "c0fb19e0-2f89-4462-aab9-cdb08984f76a",
   "metadata": {},
   "outputs": [
    {
     "name": "stdout",
     "output_type": "stream",
     "text": [
      "mappingproxy({'__dict__': <attribute '__dict__' of 'RC_Circuit' objects>,\n",
      "              '__doc__': 'A class to represent an RC series circuit.',\n",
      "              '__init__': <function RC_Circuit.__init__ at 0x0000017639B65B80>,\n",
      "              '__module__': '__main__',\n",
      "              '__repr__': <function RC_Circuit.__repr__ at 0x0000017639AC6CA0>,\n",
      "              '__str__': <function RC_Circuit.__str__ at 0x0000017639AC6F70>,\n",
      "              '__weakref__': <attribute '__weakref__' of 'RC_Circuit' objects>,\n",
      "              'calculate_reactance': <staticmethod object at 0x00000176390539D0>,\n",
      "              'capacitance': <property object at 0x0000017639ADB860>,\n",
      "              'impedance': <function RC_Circuit.impedance at 0x0000017639B65700>,\n",
      "              'resistance': <property object at 0x0000017639AD73B0>,\n",
      "              'standard_values': <classmethod object at 0x00000176391259A0>})\n"
     ]
    }
   ],
   "source": [
    "pprint(RC_Circuit.__dict__)"
   ]
  },
  {
   "cell_type": "code",
   "execution_count": 146,
   "id": "0702c413-8b50-4a6d-ac3b-f6b767a1f041",
   "metadata": {},
   "outputs": [
    {
     "name": "stdout",
     "output_type": "stream",
     "text": [
      "mappingproxy({'__dict__': <attribute '__dict__' of 'RC_Circuit' objects>,\n",
      "              '__doc__': 'A class to represent an RC series circuit.',\n",
      "              '__init__': <function RC_Circuit.__init__ at 0x0000017639B65B80>,\n",
      "              '__module__': '__main__',\n",
      "              '__repr__': <function RC_Circuit.__repr__ at 0x0000017639AC6CA0>,\n",
      "              '__str__': <function RC_Circuit.__str__ at 0x0000017639AC6F70>,\n",
      "              '__weakref__': <attribute '__weakref__' of 'RC_Circuit' objects>,\n",
      "              'calculate_reactance': <staticmethod object at 0x00000176390539D0>,\n",
      "              'capacitance': <property object at 0x0000017639ADB860>,\n",
      "              'impedance': <function RC_Circuit.impedance at 0x0000017639B65700>,\n",
      "              'resistance': <property object at 0x0000017639AD73B0>,\n",
      "              'standard_values': <classmethod object at 0x00000176391259A0>})\n"
     ]
    }
   ],
   "source": [
    "pprint(vars(RC_Circuit))"
   ]
  },
  {
   "cell_type": "code",
   "execution_count": 147,
   "id": "6662c16f-fc83-43a7-88f4-2475bbe18c98",
   "metadata": {},
   "outputs": [
    {
     "name": "stdout",
     "output_type": "stream",
     "text": [
      "{'_resistance': 40, '_capacitance': 1e-06}\n",
      "{'_resistance': 70, '_capacitance': 0.001}\n"
     ]
    }
   ],
   "source": [
    "print(RC_1.__dict__)\n",
    "print(RC_2.__dict__)"
   ]
  },
  {
   "cell_type": "code",
   "execution_count": 148,
   "id": "8c87ba42-bcea-4529-8b6f-3e57793b571d",
   "metadata": {},
   "outputs": [
    {
     "name": "stdout",
     "output_type": "stream",
     "text": [
      "Help on class RC_Circuit in module __main__:\n",
      "\n",
      "class RC_Circuit(builtins.object)\n",
      " |  RC_Circuit(resistance: float = 1.0, capacitance: float = 1.0) -> None\n",
      " |  \n",
      " |  A class to represent an RC series circuit.\n",
      " |  \n",
      " |  Methods defined here:\n",
      " |  \n",
      " |  __init__(self, resistance: float = 1.0, capacitance: float = 1.0) -> None\n",
      " |      Initialize the series RC circuit with resistance and capacitance.\n",
      " |      \n",
      " |      Parameters:\n",
      " |          resistance : Resistance in ohms. Default value is 1.0.\n",
      " |          capacitance : Capacitance in farads. Default value is 1.0.\n",
      " |  \n",
      " |  __repr__(self) -> str\n",
      " |      A  string  representation of the RC Circuit\n",
      " |  \n",
      " |  __str__(self) -> str\n",
      " |      A user-friendly  representation of RC Circuit\n",
      " |  \n",
      " |  impedance(self, frequency: float) -> float\n",
      " |      Calculate the impedance of the RC circuit.\n",
      " |      Parameter:\n",
      " |               frequency (float): Frequency in hertz.\n",
      " |      Returns:\n",
      " |             Impedance in ohms.\n",
      " |  \n",
      " |  ----------------------------------------------------------------------\n",
      " |  Class methods defined here:\n",
      " |  \n",
      " |  standard_values() -> 'RC Circuit' from builtins.type\n",
      " |      Class method to create an RC circuit with standard values.\n",
      " |  \n",
      " |  ----------------------------------------------------------------------\n",
      " |  Static methods defined here:\n",
      " |  \n",
      " |  calculate_reactance(capacitance_1: float, frequency: float) -> float\n",
      " |      Static method to calculate the capacitive reactance.\n",
      " |      \n",
      " |      Parameters:\n",
      " |          capacitance : Capacitance in farads.\n",
      " |          frequency : Frequency in hertz.\n",
      " |      \n",
      " |      Returns:\n",
      " |          Reactance in ohms.\n",
      " |  \n",
      " |  ----------------------------------------------------------------------\n",
      " |  Data descriptors defined here:\n",
      " |  \n",
      " |  __dict__\n",
      " |      dictionary for instance variables (if defined)\n",
      " |  \n",
      " |  __weakref__\n",
      " |      list of weak references to the object (if defined)\n",
      " |  \n",
      " |  capacitance\n",
      " |      Get the capacitance value.\n",
      " |  \n",
      " |  resistance\n",
      " |      Get the resistance value.\n",
      "\n"
     ]
    }
   ],
   "source": [
    "help(RC_Circuit)"
   ]
  },
  {
   "cell_type": "code",
   "execution_count": 149,
   "id": "3d370a6a-0a6f-451e-a59d-391f6679caca",
   "metadata": {},
   "outputs": [
    {
     "name": "stdout",
     "output_type": "stream",
     "text": [
      "A class to represent an RC series circuit.\n",
      "Method: __init__,   Docstring: Initialize the series RC circuit with resistance and capacitance.\n",
      "\n",
      "        Parameters:\n",
      "            resistance : Resistance in ohms. Default value is 1.0.\n",
      "            capacitance : Capacitance in farads. Default value is 1.0.\n",
      "        ,   Annotations: {'resistance': <class 'float'>, 'capacitance': <class 'float'>, 'return': None}\n",
      "Method: impedance,   Docstring: Calculate the impedance of the RC circuit.\n",
      "        Parameter:\n",
      "                 frequency (float): Frequency in hertz.\n",
      "        Returns:\n",
      "               Impedance in ohms.\n",
      "        ,   Annotations: {'frequency': <class 'float'>, 'return': <class 'float'>}\n",
      "Method: standard_values,   Docstring: Class method to create an RC circuit with standard values.,   Annotations: {'return': 'RC Circuit'}\n",
      "Method: calculate_reactance,   Docstring: Static method to calculate the capacitive reactance.\n",
      "\n",
      "        Parameters:\n",
      "            capacitance : Capacitance in farads.\n",
      "            frequency : Frequency in hertz.\n",
      "\n",
      "        Returns:\n",
      "            Reactance in ohms.\n",
      "        ,   Annotations: {'capacitance_1': <class 'float'>, 'frequency': <class 'float'>, 'return': <class 'float'>}\n",
      "Method: __repr__,   Docstring: A  string  representation of the RC Circuit,   Annotations: {'return': <class 'str'>}\n",
      "Method: __str__,   Docstring: A user-friendly  representation of RC Circuit,   Annotations: {'return': <class 'str'>}\n"
     ]
    }
   ],
   "source": [
    "print(RC_Circuit.__doc__)\n",
    "for method in [\n",
    "    RC_Circuit.__init__,\n",
    "    RC_Circuit.impedance,\n",
    "    RC_Circuit.standard_values,\n",
    "    RC_Circuit.calculate_reactance,\n",
    "    RC_Circuit.__repr__,\n",
    "    RC_Circuit.__str__,\n",
    "]:\n",
    "    if isinstance(method, property):\n",
    "        print(f\"(Method: {method.fget.__name__}),  (Docstring: {method.__doc__}),  (Annotations: {method.fget.__annotations__})\")\n",
    "    else:\n",
    "        print(f\"Method: {method.__name__},   Docstring: {method.__doc__},   Annotations: {method.__annotations__}\")"
   ]
  },
  {
   "cell_type": "code",
   "execution_count": 150,
   "id": "fbe6a775-d934-40a6-82b6-64f8533da4c5",
   "metadata": {},
   "outputs": [
    {
     "name": "stdout",
     "output_type": "stream",
     "text": [
      "RC Series Circuit with resistance: 1.0 ohms, capacitance: 1.0 F\n"
     ]
    },
    {
     "data": {
      "text/plain": [
       "RC_Circuit(resistance=1.0, capacitance=1.0)"
      ]
     },
     "execution_count": 150,
     "metadata": {},
     "output_type": "execute_result"
    }
   ],
   "source": [
    "RC_3 = RC_Circuit()\n",
    "print(RC_3)\n",
    "RC_3"
   ]
  },
  {
   "cell_type": "markdown",
   "id": "e8010075-3993-451f-b47a-82410258d825",
   "metadata": {},
   "source": [
    "# **4.** ***RLC Parallel Circuit***"
   ]
  },
  {
   "cell_type": "code",
   "execution_count": 151,
   "id": "38a944f5-c8d1-447d-8730-dbc528e0123a",
   "metadata": {},
   "outputs": [],
   "source": [
    "import math\n",
    "class RLC_Circuit:\n",
    "    \"\"\"A class to represent an RLC parallel circuit.\"\"\"\n",
    "    def __init__(self, resistance: float = 1.0, inductance: float = 1.0, capacitance: float = 1.0) -> None:\n",
    "        \"\"\"\n",
    "        Initialize the parallel RLC circuit with resistance, inductance, and capacitance.\n",
    "        Parameters:\n",
    "            resistance : Resistance in ohms. \n",
    "            inductance : Inductance in henry. \n",
    "            capacitance : Capacitance in farads. \n",
    "        \"\"\"\n",
    "        self.resistance = resistance\n",
    "        self.inductance = inductance\n",
    "        self.capacitance = capacitance\n",
    "    @property\n",
    "    def resistance(self) -> float:\n",
    "        \"\"\"Get the resistance in ohms.\"\"\"\n",
    "        return self._resistance\n",
    "    @resistance.setter\n",
    "    def resistance(self, value: float) -> None:\n",
    "        \"\"\"Set the resistance in ohms.\"\"\"\n",
    "        self._resistance = value\n",
    "    @property\n",
    "    def inductance(self) -> float:\n",
    "        \"\"\"Get the inductance in henries.\"\"\"\n",
    "        return self._inductance\n",
    "    @inductance.setter\n",
    "    def inductance(self, value: float) -> None:\n",
    "        \"\"\"Set the inductance in henry.\"\"\"\n",
    "        self._inductance = value\n",
    "    @property\n",
    "    def capacitance(self) -> float:\n",
    "        \"\"\"Get the capacitance in farads.\"\"\"\n",
    "        return self._capacitance\n",
    "\n",
    "    @capacitance.setter\n",
    "    def capacitance(self, value: float) -> None:\n",
    "        \"\"\"Set the capacitance in farads.\"\"\"\n",
    "        self._capacitance = value\n",
    "    def total_impedance(self, frequency: float) -> complex:\n",
    "        \"\"\"\n",
    "        Calculate the total impedance of the RLC parallel circuit at a given frequency.\n",
    "        Parameter:\n",
    "            frequency : Frequency in hertz. \n",
    "        Returns:\n",
    "             Total impedance in ohms.\n",
    "        Formula:\n",
    "                impedance of Resistor = Z_R =  R\n",
    "                impedance of inductor = jXl = j * 2 * π * f * L\n",
    "                impedance of capacitor= 1 / -jXc = -j (1 / (2 * π * f * C))\n",
    "            Total_impedance ==> 1 / (1/ Z_R) + (1 / Z_L) + (1 / Z_C))\n",
    "        \"\"\"        \n",
    "        Z_R = self.resistance\n",
    "        Xl = math.pi * 2 * frequency * self.inductance\n",
    "        Xc = math.pi * 2 * frequency * self.capacitance\n",
    "        total_impedance = 1 / (1 / Z_R) + (1 / Xl) + (1 / Xc)\n",
    "        return total_impedance\n",
    "    @staticmethod\n",
    "    def RLC_reactance(capacitance_1: float, inductance_1: float, resistance_1: float,  frequency: float) -> float:\n",
    "        \"\"\"Static method to calculate the capacitive reactance.\n",
    "\n",
    "        Parameters:\n",
    "            capacitance : Capacitance in farads.\n",
    "            frequency : Frequency in hertz.\n",
    "        Returns:\n",
    "            Reactance in ohms.\n",
    "        \"\"\"\n",
    "        return 1 / (2 * math.pi * frequency * capacitance_1),\n",
    "        return (2 * math.pi * frequency * inductance_1),\n",
    "        return (resistance_1)\n",
    "    @classmethod\n",
    "    def standard_values(cls) -> 'RLC Circuit Parallel':\n",
    "        \"\"\"\n",
    "        Create an RLC parallel circuit with standard values (1 ohm, 1 H, 1 F).\n",
    "        \n",
    "        Returns:\n",
    "            RLC Circui tParallel: An instance of the class with standard values.\n",
    "        \"\"\"\n",
    "        return cls(1.0, 1.0, 1.0)\n",
    "        return  1 / (2 * math.pi * math.sqrt(inductance * capacitance))\n",
    "    def __repr__(self) -> str:\n",
    "        return (f\"{type(self).__name__} (resistance={self.resistance}, inductance={self.inductance}, capacitance={self.capacitance})\")\n",
    "\n",
    "    def __str__(self) -> str:\n",
    "        return (f\"RLC Parallel Circuit with resistance: {self.resistance} ohm,inductance: {self.inductance} H, capacitance: {self.capacitance} F\")\n"
   ]
  },
  {
   "cell_type": "code",
   "execution_count": 152,
   "id": "6653aae0-6f1f-4fef-ab12-c1643aaabf2a",
   "metadata": {},
   "outputs": [],
   "source": [
    "RLC_1 = RLC_Circuit(10, 0.1, 0.001)\n",
    "RLC_2= RLC_Circuit(30,0.001,0.001)"
   ]
  },
  {
   "cell_type": "code",
   "execution_count": 153,
   "id": "d109196e-2365-40f9-8fc9-669c0d4a9063",
   "metadata": {},
   "outputs": [
    {
     "name": "stdout",
     "output_type": "stream",
     "text": [
      "RLC Parallel Circuit with resistance: 10 ohm,inductance: 0.1 H, capacitance: 0.001 F\n",
      "RLC Parallel Circuit with resistance: 30 ohm,inductance: 0.001 H, capacitance: 0.001 F\n"
     ]
    }
   ],
   "source": [
    "print(RLC_1)\n",
    "print(RLC_2)"
   ]
  },
  {
   "cell_type": "code",
   "execution_count": 154,
   "id": "2f3b752a-b223-4ff8-942e-c4ec9bcc78b6",
   "metadata": {},
   "outputs": [
    {
     "data": {
      "text/plain": [
       "RLC_Circuit (resistance=10, inductance=0.1, capacitance=0.001)"
      ]
     },
     "execution_count": 154,
     "metadata": {},
     "output_type": "execute_result"
    }
   ],
   "source": [
    "RLC_1"
   ]
  },
  {
   "cell_type": "code",
   "execution_count": 155,
   "id": "d786231d-a3ca-4881-86cf-d9221d776394",
   "metadata": {},
   "outputs": [
    {
     "data": {
      "text/plain": [
       "RLC_Circuit (resistance=30, inductance=0.001, capacitance=0.001)"
      ]
     },
     "execution_count": 155,
     "metadata": {},
     "output_type": "execute_result"
    }
   ],
   "source": [
    "RLC_2"
   ]
  },
  {
   "cell_type": "code",
   "execution_count": 156,
   "id": "72cf241e-7e48-4bbb-8580-680feac73bba",
   "metadata": {},
   "outputs": [
    {
     "name": "stdout",
     "output_type": "stream",
     "text": [
      "mappingproxy({'RLC_reactance': <staticmethod object at 0x0000017637EACD00>,\n",
      "              '__dict__': <attribute '__dict__' of 'RLC_Circuit' objects>,\n",
      "              '__doc__': 'A class to represent an RLC parallel circuit.',\n",
      "              '__init__': <function RLC_Circuit.__init__ at 0x0000017639AC6D30>,\n",
      "              '__module__': '__main__',\n",
      "              '__repr__': <function RLC_Circuit.__repr__ at 0x0000017639B6BCA0>,\n",
      "              '__str__': <function RLC_Circuit.__str__ at 0x0000017639B6BD30>,\n",
      "              '__weakref__': <attribute '__weakref__' of 'RLC_Circuit' objects>,\n",
      "              'capacitance': <property object at 0x0000017639AB9400>,\n",
      "              'inductance': <property object at 0x0000017639AB9450>,\n",
      "              'resistance': <property object at 0x0000017639AB94A0>,\n",
      "              'standard_values': <classmethod object at 0x0000017637E112B0>,\n",
      "              'total_impedance': <function RLC_Circuit.total_impedance at 0x0000017639B6BAF0>})\n"
     ]
    }
   ],
   "source": [
    "pprint(RLC_Circuit.__dict__)"
   ]
  },
  {
   "cell_type": "code",
   "execution_count": 157,
   "id": "a908fdc7-4fad-4fbb-b1dd-49c10a84f4a2",
   "metadata": {},
   "outputs": [
    {
     "name": "stdout",
     "output_type": "stream",
     "text": [
      "mappingproxy({'RLC_reactance': <staticmethod object at 0x0000017637EACD00>,\n",
      "              '__dict__': <attribute '__dict__' of 'RLC_Circuit' objects>,\n",
      "              '__doc__': 'A class to represent an RLC parallel circuit.',\n",
      "              '__init__': <function RLC_Circuit.__init__ at 0x0000017639AC6D30>,\n",
      "              '__module__': '__main__',\n",
      "              '__repr__': <function RLC_Circuit.__repr__ at 0x0000017639B6BCA0>,\n",
      "              '__str__': <function RLC_Circuit.__str__ at 0x0000017639B6BD30>,\n",
      "              '__weakref__': <attribute '__weakref__' of 'RLC_Circuit' objects>,\n",
      "              'capacitance': <property object at 0x0000017639AB9400>,\n",
      "              'inductance': <property object at 0x0000017639AB9450>,\n",
      "              'resistance': <property object at 0x0000017639AB94A0>,\n",
      "              'standard_values': <classmethod object at 0x0000017637E112B0>,\n",
      "              'total_impedance': <function RLC_Circuit.total_impedance at 0x0000017639B6BAF0>})\n"
     ]
    }
   ],
   "source": [
    "pprint(vars(RLC_Circuit))"
   ]
  },
  {
   "cell_type": "code",
   "execution_count": 158,
   "id": "7ba0ce35-5a61-4d80-bbb0-c85dd5d56e12",
   "metadata": {},
   "outputs": [
    {
     "name": "stdout",
     "output_type": "stream",
     "text": [
      "Help on class RLC_Circuit in module __main__:\n",
      "\n",
      "class RLC_Circuit(builtins.object)\n",
      " |  RLC_Circuit(resistance: float = 1.0, inductance: float = 1.0, capacitance: float = 1.0) -> None\n",
      " |  \n",
      " |  A class to represent an RLC parallel circuit.\n",
      " |  \n",
      " |  Methods defined here:\n",
      " |  \n",
      " |  __init__(self, resistance: float = 1.0, inductance: float = 1.0, capacitance: float = 1.0) -> None\n",
      " |      Initialize the parallel RLC circuit with resistance, inductance, and capacitance.\n",
      " |      Parameters:\n",
      " |          resistance : Resistance in ohms. \n",
      " |          inductance : Inductance in henry. \n",
      " |          capacitance : Capacitance in farads.\n",
      " |  \n",
      " |  __repr__(self) -> str\n",
      " |      Return repr(self).\n",
      " |  \n",
      " |  __str__(self) -> str\n",
      " |      Return str(self).\n",
      " |  \n",
      " |  total_impedance(self, frequency: float) -> complex\n",
      " |      Calculate the total impedance of the RLC parallel circuit at a given frequency.\n",
      " |      Parameter:\n",
      " |          frequency : Frequency in hertz. \n",
      " |      Returns:\n",
      " |           Total impedance in ohms.\n",
      " |      Formula:\n",
      " |              impedance of Resistor = Z_R =  R\n",
      " |              impedance of inductor = jXl = j * 2 * π * f * L\n",
      " |              impedance of capacitor= 1 / -jXc = -j (1 / (2 * π * f * C))\n",
      " |          Total_impedance ==> 1 / (1/ Z_R) + (1 / Z_L) + (1 / Z_C))\n",
      " |  \n",
      " |  ----------------------------------------------------------------------\n",
      " |  Class methods defined here:\n",
      " |  \n",
      " |  standard_values() -> 'RLC Circuit Parallel' from builtins.type\n",
      " |      Create an RLC parallel circuit with standard values (1 ohm, 1 H, 1 F).\n",
      " |      \n",
      " |      Returns:\n",
      " |          RLC Circui tParallel: An instance of the class with standard values.\n",
      " |  \n",
      " |  ----------------------------------------------------------------------\n",
      " |  Static methods defined here:\n",
      " |  \n",
      " |  RLC_reactance(capacitance_1: float, inductance_1: float, resistance_1: float, frequency: float) -> float\n",
      " |      Static method to calculate the capacitive reactance.\n",
      " |      \n",
      " |      Parameters:\n",
      " |          capacitance : Capacitance in farads.\n",
      " |          frequency : Frequency in hertz.\n",
      " |      Returns:\n",
      " |          Reactance in ohms.\n",
      " |  \n",
      " |  ----------------------------------------------------------------------\n",
      " |  Data descriptors defined here:\n",
      " |  \n",
      " |  __dict__\n",
      " |      dictionary for instance variables (if defined)\n",
      " |  \n",
      " |  __weakref__\n",
      " |      list of weak references to the object (if defined)\n",
      " |  \n",
      " |  capacitance\n",
      " |      Get the capacitance in farads.\n",
      " |  \n",
      " |  inductance\n",
      " |      Get the inductance in henries.\n",
      " |  \n",
      " |  resistance\n",
      " |      Get the resistance in ohms.\n",
      "\n"
     ]
    }
   ],
   "source": [
    "help(RLC_Circuit)"
   ]
  },
  {
   "cell_type": "code",
   "execution_count": 159,
   "id": "ccaa6f7a-252c-4166-b6f7-33f55074c3e2",
   "metadata": {},
   "outputs": [
    {
     "name": "stdout",
     "output_type": "stream",
     "text": [
      "{'_resistance': 10, '_inductance': 0.1, '_capacitance': 0.001}\n",
      "{'_resistance': 30, '_inductance': 0.001, '_capacitance': 0.001}\n"
     ]
    }
   ],
   "source": [
    "print(RLC_1.__dict__)\n",
    "print(RLC_2.__dict__)"
   ]
  },
  {
   "cell_type": "code",
   "execution_count": 160,
   "id": "ab2c84e5-5474-48de-941b-584c000abe39",
   "metadata": {},
   "outputs": [
    {
     "name": "stdout",
     "output_type": "stream",
     "text": [
      "A class to represent an RLC parallel circuit.\n",
      "Method: __init__,   Docstring: \n",
      "        Initialize the parallel RLC circuit with resistance, inductance, and capacitance.\n",
      "        Parameters:\n",
      "            resistance : Resistance in ohms. \n",
      "            inductance : Inductance in henry. \n",
      "            capacitance : Capacitance in farads. \n",
      "        ,   Annotations: {'resistance': <class 'float'>, 'inductance': <class 'float'>, 'capacitance': <class 'float'>, 'return': None}\n",
      "Method: total_impedance,   Docstring: \n",
      "        Calculate the total impedance of the RLC parallel circuit at a given frequency.\n",
      "        Parameter:\n",
      "            frequency : Frequency in hertz. \n",
      "        Returns:\n",
      "             Total impedance in ohms.\n",
      "        Formula:\n",
      "                impedance of Resistor = Z_R =  R\n",
      "                impedance of inductor = jXl = j * 2 * π * f * L\n",
      "                impedance of capacitor= 1 / -jXc = -j (1 / (2 * π * f * C))\n",
      "            Total_impedance ==> 1 / (1/ Z_R) + (1 / Z_L) + (1 / Z_C))\n",
      "        ,   Annotations: {'frequency': <class 'float'>, 'return': <class 'complex'>}\n",
      "Method: standard_values,   Docstring: \n",
      "        Create an RLC parallel circuit with standard values (1 ohm, 1 H, 1 F).\n",
      "        \n",
      "        Returns:\n",
      "            RLC Circui tParallel: An instance of the class with standard values.\n",
      "        ,   Annotations: {'return': 'RLC Circuit Parallel'}\n",
      "Method: RLC_reactance,   Docstring: Static method to calculate the capacitive reactance.\n",
      "\n",
      "        Parameters:\n",
      "            capacitance : Capacitance in farads.\n",
      "            frequency : Frequency in hertz.\n",
      "        Returns:\n",
      "            Reactance in ohms.\n",
      "        ,   Annotations: {'capacitance_1': <class 'float'>, 'inductance_1': <class 'float'>, 'resistance_1': <class 'float'>, 'frequency': <class 'float'>, 'return': <class 'float'>}\n",
      "Method: __repr__,   Docstring: None,   Annotations: {'return': <class 'str'>}\n",
      "Method: __str__,   Docstring: None,   Annotations: {'return': <class 'str'>}\n"
     ]
    }
   ],
   "source": [
    "print(RLC_Circuit.__doc__)\n",
    "for method in [\n",
    "    RLC_Circuit.__init__,\n",
    "    RLC_Circuit.total_impedance,\n",
    "    RLC_Circuit.standard_values,\n",
    "    RLC_Circuit.RLC_reactance,\n",
    "    RLC_Circuit.__repr__,\n",
    "    RLC_Circuit.__str__,\n",
    "]:\n",
    "    if isinstance(method, property):\n",
    "        print(f\"(Method: {method.fget.__name__}),  (Docstring: {method.__doc__}),  (Annotations: {method.fget.__annotations__})\")\n",
    "    else:\n",
    "        print(f\"Method: {method.__name__},   Docstring: {method.__doc__},   Annotations: {method.__annotations__}\")"
   ]
  },
  {
   "cell_type": "code",
   "execution_count": 161,
   "id": "bb30b879-c981-4965-9167-a72ab9635015",
   "metadata": {},
   "outputs": [
    {
     "name": "stdout",
     "output_type": "stream",
     "text": [
      "RLC Parallel Circuit with resistance: 1.0 ohm,inductance: 1.0 H, capacitance: 1.0 F\n"
     ]
    },
    {
     "data": {
      "text/plain": [
       "RLC_Circuit (resistance=1.0, inductance=1.0, capacitance=1.0)"
      ]
     },
     "execution_count": 161,
     "metadata": {},
     "output_type": "execute_result"
    }
   ],
   "source": [
    "RLC = RLC_Circuit()\n",
    "print(RLC)\n",
    "RLC"
   ]
  },
  {
   "cell_type": "markdown",
   "id": "adbf3b3b-33bc-4697-b9b4-a4ee0cafacfa",
   "metadata": {},
   "source": [
    "#  **5.** ***RLC Series Circuit***"
   ]
  },
  {
   "cell_type": "code",
   "execution_count": 162,
   "id": "7bddfcda-86a7-4fb2-b7dd-13b12faed8c5",
   "metadata": {},
   "outputs": [],
   "source": [
    "import math\n",
    "class RLC_Series_Circuit:\n",
    "    \"\"\"A class to represent a series RLC circuit.\"\"\"  \n",
    "    def __init__(self, resistance: float = 1.0, inductance: float = 1.0, capacitance: float = 1.0) -> None:\n",
    "        \"\"\"\n",
    "        Initialize the series RLC circuit with resistance, inductance, and capacitance.   \n",
    "        Parameter:\n",
    "            resistance : Resistance in ohms. \n",
    "            inductance: Inductance in henries. \n",
    "            capacitance : Capacitance in farads. \n",
    "        \"\"\"\n",
    "        self.resistance = resistance\n",
    "        self.inductance = inductance\n",
    "        self.capacitance = capacitance\n",
    "    @property\n",
    "    def resistance(self) -> float:\n",
    "        \"\"\"Get the resistance in ohms.\"\"\"\n",
    "        return self._resistance\n",
    "\n",
    "    @resistance.setter\n",
    "    def resistance(self, value: float) -> None:\n",
    "        \"\"\"Set the resistance in ohms.\"\"\"\n",
    "        self._resistance = value\n",
    "    @property\n",
    "    def inductance(self) -> float:\n",
    "        \"\"\"Get the inductance in henries.\"\"\"\n",
    "        return self._inductance\n",
    "    @inductance.setter\n",
    "    def inductance(self, value: float) -> None:\n",
    "        \"\"\"Set the inductance in henries.\"\"\"\n",
    "        self._inductance = value\n",
    "    @property\n",
    "    def capacitance(self) -> float:\n",
    "        \"\"\"Get the capacitance in farads.\"\"\"\n",
    "        return self._capacitance\n",
    "    @capacitance.setter\n",
    "    def capacitance(self, value: float) -> None:\n",
    "        \"\"\"Set the capacitance in farads.\"\"\"\n",
    "        self._capacitance = value\n",
    "\n",
    "    def total_impedance(self, frequency: float) -> complex:\n",
    "        \"\"\"\n",
    "        Calculate the total impedance of the RLC series circuit at a given frequency.\n",
    "        Parameter:\n",
    "            frequency (float): Frequency in hertz.\n",
    "        Returns:\n",
    "            Total impedance in ohms.\n",
    "        Formula:\n",
    "            Z_R = R\n",
    "            Z_L = jXl = j * 2 * π * f * L\n",
    "            Z_C = -j 1/ (Xc) = -j (1 / (2 * π * f * C))\n",
    "            Total impedance Z_total = Z_R + Z_L + Z_C\n",
    "        \"\"\"\n",
    "        Z_R = self.resistance\n",
    "        Z_L = 1j * 2 * math.p1 * frequency * self.inductance\n",
    "        Z_C = -1j / (2 * math.pi * frequency * self.capacitance)\n",
    "        return Z_R + Z_L + Z_C\n",
    "    @classmethod\n",
    "    def standard_values(cls) -> 'RLC_Circuit':\n",
    "        \"\"\"\n",
    "        Create an RLC series circuit with standard values (1 ohm, 1 H, 1 F).\n",
    "        \n",
    "        Returns:\n",
    "            RLC_Circuit: An instance of the class with standard values.\n",
    "        \"\"\"\n",
    "        return cls(1.0, 1.0, 1.0)\n",
    "    @staticmethod\n",
    "    def resonant_frequency(inductance_1: float, capacitance_2: float) -> float:\n",
    "        \"\"\"\n",
    "        Calculate the resonant frequency for a series RLC circuit.\n",
    "        Args:\n",
    "            inductance (float): Inductance in henries.\n",
    "            capacitance (float): Capacitance in farads.\n",
    "        Returns:\n",
    "            float: The resonant frequency in hertz.\n",
    "        Formula:\n",
    "            f_r = 1 / (2 * π * sqrt(L * C))\n",
    "        \"\"\"\n",
    "        return 1 / (2 * math.pi * math.sqrt(inductance_1* capacitance_1))\n",
    "    def __repr__(self) -> str:\n",
    "        \"\"\"A  string  representation of the Resistor\"\"\"\n",
    "        return (f\"{type(self).__name__}(resistance={self.resistance}, inductance={self.inductance}, capacitance={self.capacitance})\")\n",
    "    def __str__(self) -> str:\n",
    "        \"\"\"A user-friendly  representation of Resistor\"\"\"\n",
    "        return (f\"RLC Series Circuit with resistance: {self.resistance} ohm, inductance: {self.inductance} H, capacitance: {self.capacitance} F\")\n"
   ]
  },
  {
   "cell_type": "code",
   "execution_count": 163,
   "id": "23525cc1-338f-42d7-84cf-5eeb6038bc35",
   "metadata": {},
   "outputs": [],
   "source": [
    "RLC_series_circuit_1 = RLC_Series_Circuit(resistance=20, inductance=0.1, capacitance=0.001)\n",
    "RLC_series_circuit_2 = RLC_Series_Circuit(resistance=30, inductance=0.1, capacitance=0.001)"
   ]
  },
  {
   "cell_type": "code",
   "execution_count": 164,
   "id": "0d0fe0b9-7b05-41f9-8fe0-4567f42cf6d6",
   "metadata": {},
   "outputs": [
    {
     "name": "stdout",
     "output_type": "stream",
     "text": [
      "RLC Series Circuit with resistance: 20 ohm, inductance: 0.1 H, capacitance: 0.001 F\n",
      "RLC Series Circuit with resistance: 30 ohm, inductance: 0.1 H, capacitance: 0.001 F\n"
     ]
    }
   ],
   "source": [
    "print(RLC_series_circuit_1)\n",
    "print(RLC_series_circuit_2)"
   ]
  },
  {
   "cell_type": "code",
   "execution_count": 165,
   "id": "50bdf828-2994-4a40-8e5d-9400017eb82a",
   "metadata": {},
   "outputs": [
    {
     "name": "stdout",
     "output_type": "stream",
     "text": [
      "mappingproxy({'__dict__': <attribute '__dict__' of 'RLC_Series_Circuit' objects>,\n",
      "              '__doc__': 'A class to represent a series RLC circuit.',\n",
      "              '__init__': <function RLC_Series_Circuit.__init__ at 0x0000017639B54F70>,\n",
      "              '__module__': '__main__',\n",
      "              '__repr__': <function RLC_Series_Circuit.__repr__ at 0x0000017639B6C700>,\n",
      "              '__str__': <function RLC_Series_Circuit.__str__ at 0x0000017639B6C790>,\n",
      "              '__weakref__': <attribute '__weakref__' of 'RLC_Series_Circuit' objects>,\n",
      "              'capacitance': <property object at 0x0000017639A994A0>,\n",
      "              'inductance': <property object at 0x0000017639A99590>,\n",
      "              'resistance': <property object at 0x0000017639A995E0>,\n",
      "              'resonant_frequency': <staticmethod object at 0x0000017639089CA0>,\n",
      "              'standard_values': <classmethod object at 0x000001763925B910>,\n",
      "              'total_impedance': <function RLC_Series_Circuit.total_impedance at 0x0000017639B6C310>})\n"
     ]
    }
   ],
   "source": [
    "pprint(RLC_Series_Circuit.__dict__)"
   ]
  },
  {
   "cell_type": "code",
   "execution_count": 166,
   "id": "5b32253d-2809-4b71-a80f-5aae66743e35",
   "metadata": {},
   "outputs": [
    {
     "name": "stdout",
     "output_type": "stream",
     "text": [
      "mappingproxy({'__dict__': <attribute '__dict__' of 'RLC_Series_Circuit' objects>,\n",
      "              '__doc__': 'A class to represent a series RLC circuit.',\n",
      "              '__init__': <function RLC_Series_Circuit.__init__ at 0x0000017639B54F70>,\n",
      "              '__module__': '__main__',\n",
      "              '__repr__': <function RLC_Series_Circuit.__repr__ at 0x0000017639B6C700>,\n",
      "              '__str__': <function RLC_Series_Circuit.__str__ at 0x0000017639B6C790>,\n",
      "              '__weakref__': <attribute '__weakref__' of 'RLC_Series_Circuit' objects>,\n",
      "              'capacitance': <property object at 0x0000017639A994A0>,\n",
      "              'inductance': <property object at 0x0000017639A99590>,\n",
      "              'resistance': <property object at 0x0000017639A995E0>,\n",
      "              'resonant_frequency': <staticmethod object at 0x0000017639089CA0>,\n",
      "              'standard_values': <classmethod object at 0x000001763925B910>,\n",
      "              'total_impedance': <function RLC_Series_Circuit.total_impedance at 0x0000017639B6C310>})\n"
     ]
    }
   ],
   "source": [
    "pprint(vars((RLC_Series_Circuit)))"
   ]
  },
  {
   "cell_type": "code",
   "execution_count": 167,
   "id": "ff2dffee-a152-41a9-8622-e7bfea7cf181",
   "metadata": {},
   "outputs": [
    {
     "name": "stdout",
     "output_type": "stream",
     "text": [
      "{'_capacitance': 0.001, '_inductance': 0.1, '_resistance': 20}\n",
      "{'_capacitance': 0.001, '_inductance': 0.1, '_resistance': 30}\n"
     ]
    }
   ],
   "source": [
    "pprint(RLC_series_circuit_1.__dict__)\n",
    "pprint(RLC_series_circuit_2.__dict__)"
   ]
  },
  {
   "cell_type": "markdown",
   "id": "8948fa71-808d-49c6-b299-931f217a5a70",
   "metadata": {},
   "source": [
    "# **5.** ***RLC Series Circuit***"
   ]
  },
  {
   "cell_type": "code",
   "execution_count": 169,
   "id": "07d45802-dc2a-46e3-9a91-f50d810126b9",
   "metadata": {},
   "outputs": [],
   "source": [
    "import math\n",
    "class RLC_Series_Circuit:\n",
    "    \"\"\"A class to represent a series RLC circuit.\"\"\"  \n",
    "    def __init__(self, resistance: float = 1.0, inductance: float = 1.0, capacitance: float = 1.0) -> None:\n",
    "        \"\"\"\n",
    "        Initialize the series RLC circuit with resistance, inductance, and capacitance.   \n",
    "        Parameter:\n",
    "            resistance : Resistance in ohms. \n",
    "            inductance: Inductance in henries. \n",
    "            capacitance : Capacitance in farads. \n",
    "        \"\"\"\n",
    "        self.resistance = resistance\n",
    "        self.inductance = inductance\n",
    "        self.capacitance = capacitance\n",
    "    @property\n",
    "    def resistance(self) -> float:\n",
    "        \"\"\"Get the resistance in ohms.\"\"\"\n",
    "        return self._resistance\n",
    "\n",
    "    @resistance.setter\n",
    "    def resistance(self, value: float) -> None:\n",
    "        \"\"\"Set the resistance in ohms.\"\"\"\n",
    "        self._resistance = value\n",
    "    @property\n",
    "    def inductance(self) -> float:\n",
    "        \"\"\"Get the inductance in henries.\"\"\"\n",
    "        return self._inductance\n",
    "    @inductance.setter\n",
    "    def inductance(self, value: float) -> None:\n",
    "        \"\"\"Set the inductance in henries.\"\"\"\n",
    "        self._inductance = value\n",
    "    @property\n",
    "    def capacitance(self) -> float:\n",
    "        \"\"\"Get the capacitance in farads.\"\"\"\n",
    "        return self._capacitance\n",
    "    @capacitance.setter\n",
    "    def capacitance(self, value: float) -> None:\n",
    "        \"\"\"Set the capacitance in farads.\"\"\"\n",
    "        self._capacitance = value\n",
    "\n",
    "    def total_impedance(self, frequency: float) -> complex:\n",
    "        \"\"\"\n",
    "        Calculate the total impedance of the RLC series circuit at a given frequency.\n",
    "        Parameter:\n",
    "            frequency (float): Frequency in hertz.\n",
    "        Returns:\n",
    "            Total impedance in ohms.\n",
    "        Formula:\n",
    "            Z_R = R\n",
    "            Z_L = jXl = j * 2 * π * f * L\n",
    "            Z_C = -j 1/ (Xc) = -j (1 / (2 * π * f * C))\n",
    "            Total impedance Z_total = Z_R + Z_L + Z_C\n",
    "        \"\"\"\n",
    "        Z_R = self.resistance\n",
    "        Z_L = 1j * 2 * math.p1 * frequency * self.inductance\n",
    "        Z_C = -1j / (2 * math.pi * frequency * self.capacitance)\n",
    "        return Z_R + Z_L + Z_C\n",
    "    @classmethod\n",
    "    def standard_values(cls) -> 'RLC_Circuit':\n",
    "        \"\"\"\n",
    "        Create an RLC series circuit with standard values (1 ohm, 1 H, 1 F).\n",
    "        \n",
    "        Returns:\n",
    "            RLC_Circuit: An instance of the class with standard values.\n",
    "        \"\"\"\n",
    "        return cls(1.0, 1.0, 1.0)\n",
    "    @staticmethod\n",
    "    def resonant_frequency(inductance_1: float, capacitance_2: float) -> float:\n",
    "        \"\"\"\n",
    "        Calculate the resonant frequency for a series RLC circuit.\n",
    "        Args:\n",
    "            inductance (float): Inductance in henries.\n",
    "            capacitance (float): Capacitance in farads.\n",
    "        Returns:\n",
    "            float: The resonant frequency in hertz.\n",
    "        Formula:\n",
    "            f_r = 1 / (2 * π * sqrt(L * C))\n",
    "        \"\"\"\n",
    "        return 1 / (2 * math.pi * math.sqrt(inductance_1* capacitance_1))\n",
    "    def __repr__(self) -> str:\n",
    "        \"\"\"A  string  representation of the Resistor\"\"\"\n",
    "        return (f\"{type(self).__name__}(resistance={self.resistance}, inductance={self.inductance}, capacitance={self.capacitance})\")\n",
    "    def __str__(self) -> str:\n",
    "        \"\"\"A user-friendly  representation of Resistor\"\"\"\n",
    "        return (f\"RLC Series Circuit with resistance: {self.resistance} ohm, inductance: {self.inductance} H, capacitance: {self.capacitance} F\")\n"
   ]
  },
  {
   "cell_type": "code",
   "execution_count": 170,
   "id": "3e562591-510f-47f0-bc54-e80937f89c95",
   "metadata": {},
   "outputs": [],
   "source": [
    "RLC_series_circuit_1 = RLC_Series_Circuit(resistance=20, inductance=0.1, capacitance=0.001)\n",
    "RLC_series_circuit_2 = RLC_Series_Circuit(resistance=30, inductance=0.1, capacitance=0.001)"
   ]
  },
  {
   "cell_type": "code",
   "execution_count": 171,
   "id": "ba34a983-81ca-4356-89c8-c461555dc970",
   "metadata": {},
   "outputs": [
    {
     "name": "stdout",
     "output_type": "stream",
     "text": [
      "RLC Series Circuit with resistance: 20 ohm, inductance: 0.1 H, capacitance: 0.001 F\n",
      "RLC Series Circuit with resistance: 30 ohm, inductance: 0.1 H, capacitance: 0.001 F\n"
     ]
    }
   ],
   "source": [
    "print(RLC_series_circuit_1)\n",
    "print(RLC_series_circuit_2)"
   ]
  },
  {
   "cell_type": "code",
   "execution_count": 172,
   "id": "269f9838-a4ca-438c-b217-eb4d49b47d25",
   "metadata": {},
   "outputs": [
    {
     "name": "stdout",
     "output_type": "stream",
     "text": [
      "mappingproxy({'__dict__': <attribute '__dict__' of 'RLC_Series_Circuit' objects>,\n",
      "              '__doc__': 'A class to represent a series RLC circuit.',\n",
      "              '__init__': <function RLC_Series_Circuit.__init__ at 0x0000017639B54280>,\n",
      "              '__module__': '__main__',\n",
      "              '__repr__': <function RLC_Series_Circuit.__repr__ at 0x0000017639B7F160>,\n",
      "              '__str__': <function RLC_Series_Circuit.__str__ at 0x0000017639B7F1F0>,\n",
      "              '__weakref__': <attribute '__weakref__' of 'RLC_Series_Circuit' objects>,\n",
      "              'capacitance': <property object at 0x0000017639A8C4F0>,\n",
      "              'inductance': <property object at 0x0000017639A8C680>,\n",
      "              'resistance': <property object at 0x0000017639A8C630>,\n",
      "              'resonant_frequency': <staticmethod object at 0x0000017639265DF0>,\n",
      "              'standard_values': <classmethod object at 0x0000017638020430>,\n",
      "              'total_impedance': <function RLC_Series_Circuit.total_impedance at 0x0000017639B6CF70>})\n"
     ]
    }
   ],
   "source": [
    "pprint(RLC_Series_Circuit.__dict__)"
   ]
  },
  {
   "cell_type": "code",
   "execution_count": 173,
   "id": "005fa737-38fa-4b07-9f92-af7469bf06e8",
   "metadata": {},
   "outputs": [
    {
     "name": "stdout",
     "output_type": "stream",
     "text": [
      "mappingproxy({'__dict__': <attribute '__dict__' of 'RLC_Series_Circuit' objects>,\n",
      "              '__doc__': 'A class to represent a series RLC circuit.',\n",
      "              '__init__': <function RLC_Series_Circuit.__init__ at 0x0000017639B54280>,\n",
      "              '__module__': '__main__',\n",
      "              '__repr__': <function RLC_Series_Circuit.__repr__ at 0x0000017639B7F160>,\n",
      "              '__str__': <function RLC_Series_Circuit.__str__ at 0x0000017639B7F1F0>,\n",
      "              '__weakref__': <attribute '__weakref__' of 'RLC_Series_Circuit' objects>,\n",
      "              'capacitance': <property object at 0x0000017639A8C4F0>,\n",
      "              'inductance': <property object at 0x0000017639A8C680>,\n",
      "              'resistance': <property object at 0x0000017639A8C630>,\n",
      "              'resonant_frequency': <staticmethod object at 0x0000017639265DF0>,\n",
      "              'standard_values': <classmethod object at 0x0000017638020430>,\n",
      "              'total_impedance': <function RLC_Series_Circuit.total_impedance at 0x0000017639B6CF70>})\n"
     ]
    }
   ],
   "source": [
    "    pprint(vars((RLC_Series_Circuit)))"
   ]
  },
  {
   "cell_type": "code",
   "execution_count": 174,
   "id": "4bff90c3-dc1c-4e59-873f-089aed2e94dc",
   "metadata": {},
   "outputs": [
    {
     "name": "stdout",
     "output_type": "stream",
     "text": [
      "{'_capacitance': 0.001, '_inductance': 0.1, '_resistance': 20}\n",
      "{'_capacitance': 0.001, '_inductance': 0.1, '_resistance': 30}\n"
     ]
    }
   ],
   "source": [
    "pprint(RLC_series_circuit_1.__dict__)\n",
    "pprint(RLC_series_circuit_2.__dict__)"
   ]
  },
  {
   "cell_type": "code",
   "execution_count": 175,
   "id": "a83d6c03-6dc6-4f62-874f-e72bbdef46c0",
   "metadata": {},
   "outputs": [
    {
     "name": "stdout",
     "output_type": "stream",
     "text": [
      "A class to represent a series RLC circuit.\n",
      "Method: __init__,   Docstring: \n",
      "        Initialize the series RLC circuit with resistance, inductance, and capacitance.   \n",
      "        Parameter:\n",
      "            resistance : Resistance in ohms. \n",
      "            inductance: Inductance in henries. \n",
      "            capacitance : Capacitance in farads. \n",
      "        ,   Annotations: {'resistance': <class 'float'>, 'inductance': <class 'float'>, 'capacitance': <class 'float'>, 'return': None}\n",
      "Method: total_impedance,   Docstring: \n",
      "        Calculate the total impedance of the RLC series circuit at a given frequency.\n",
      "        Parameter:\n",
      "            frequency (float): Frequency in hertz.\n",
      "        Returns:\n",
      "            Total impedance in ohms.\n",
      "        Formula:\n",
      "            Z_R = R\n",
      "            Z_L = jXl = j * 2 * π * f * L\n",
      "            Z_C = -j 1/ (Xc) = -j (1 / (2 * π * f * C))\n",
      "            Total impedance Z_total = Z_R + Z_L + Z_C\n",
      "        ,   Annotations: {'frequency': <class 'float'>, 'return': <class 'complex'>}\n",
      "Method: standard_values,   Docstring: \n",
      "        Create an RLC series circuit with standard values (1 ohm, 1 H, 1 F).\n",
      "        \n",
      "        Returns:\n",
      "            RLC_Circuit: An instance of the class with standard values.\n",
      "        ,   Annotations: {'return': 'RLC_Circuit'}\n",
      "Method: resonant_frequency,   Docstring: \n",
      "        Calculate the resonant frequency for a series RLC circuit.\n",
      "        Args:\n",
      "            inductance (float): Inductance in henries.\n",
      "            capacitance (float): Capacitance in farads.\n",
      "        Returns:\n",
      "            float: The resonant frequency in hertz.\n",
      "        Formula:\n",
      "            f_r = 1 / (2 * π * sqrt(L * C))\n",
      "        ,   Annotations: {'inductance_1': <class 'float'>, 'capacitance_2': <class 'float'>, 'return': <class 'float'>}\n",
      "Method: __repr__,   Docstring: A  string  representation of the Resistor,   Annotations: {'return': <class 'str'>}\n",
      "Method: __str__,   Docstring: A user-friendly  representation of Resistor,   Annotations: {'return': <class 'str'>}\n"
     ]
    }
   ],
   "source": [
    "print(RLC_Series_Circuit.__doc__)\n",
    "for method in [\n",
    "    RLC_Series_Circuit.__init__,\n",
    "    RLC_Series_Circuit.total_impedance,\n",
    "    RLC_Series_Circuit.standard_values,\n",
    "    RLC_Series_Circuit.resonant_frequency,\n",
    "    RLC_Series_Circuit.__repr__,\n",
    "    RLC_Series_Circuit.__str__,\n",
    "]:\n",
    "    if isinstance(method, property):\n",
    "        print(f\"(Method: {method.fget.__name__}),  (Docstring: {method.__doc__}),  (Annotations: {method.fget.__annotations__})\")\n",
    "    else:\n",
    "        print(f\"Method: {method.__name__},   Docstring: {method.__doc__},   Annotations: {method.__annotations__}\")"
   ]
  },
  {
   "cell_type": "code",
   "execution_count": 176,
   "id": "38757f49-d832-4917-b0a0-4111dcd33a1f",
   "metadata": {},
   "outputs": [
    {
     "name": "stdout",
     "output_type": "stream",
     "text": [
      "RLC Series Circuit with resistance: 1.0 ohm, inductance: 1.0 H, capacitance: 1.0 F\n"
     ]
    },
    {
     "data": {
      "text/plain": [
       "RLC_Series_Circuit(resistance=1.0, inductance=1.0, capacitance=1.0)"
      ]
     },
     "execution_count": 176,
     "metadata": {},
     "output_type": "execute_result"
    }
   ],
   "source": [
    "RLC_Series_Circuit_3 = RLC_Series_Circuit()\n",
    "print(RLC_Series_Circuit_3)\n",
    "RLC_Series_Circuit_3"
   ]
  },
  {
   "cell_type": "markdown",
   "id": "26d2cdb7-9dcc-4e13-bd67-d0e43dc5c797",
   "metadata": {},
   "source": [
    "# **6.** ***RLC Parallel Circuit***"
   ]
  },
  {
   "cell_type": "code",
   "execution_count": 177,
   "id": "557dcd04-719c-41b5-8dc2-04a327691a4d",
   "metadata": {},
   "outputs": [],
   "source": [
    " import math\n",
    "class RLC_Parallel_resonance_Circuit:\n",
    "    \"\"\"A class to represent a parallel RLC circuit.\"\"\"\n",
    "    \n",
    "    def __init__(self, resistance: float = 1.0, inductance: float = 1.0, capacitance: float = 1.0) -> None:\n",
    "        \"\"\"\n",
    "        Initialize the parallel RLC circuit with resistance, inductance, and capacitance.\n",
    "        \n",
    "        Parameters:\n",
    "            resistance : Resistance in ohms.\n",
    "            inductance : Inductance in henries.\n",
    "            capacitance : Capacitance in farads.\n",
    "        \"\"\"\n",
    "        self.resistance = resistance\n",
    "        self.inductance = inductance\n",
    "        self.capacitance = capacitance\n",
    "\n",
    "    @property\n",
    "    def resistance(self) -> float:\n",
    "        \"\"\"Get the resistance in ohm.\"\"\"\n",
    "        return self._resistance\n",
    "\n",
    "    @resistance.setter\n",
    "    def resistance(self, value: float) -> None:\n",
    "        \"\"\"Set the resistance in ohm.\"\"\"\n",
    "        self._resistance = value\n",
    "\n",
    "    @property\n",
    "    def inductance(self) -> float:\n",
    "        \"\"\"Get the inductance in henry.\"\"\"\n",
    "        return self._inductance\n",
    "\n",
    "    @inductance.setter\n",
    "    def inductance(self, value: float) -> None:\n",
    "        \"\"\"Set the inductance in henry.\"\"\"\n",
    "        self._inductance = value\n",
    "\n",
    "    @property\n",
    "    def capacitance(self) -> float:\n",
    "        \"\"\"Get the capacitance in farad.\"\"\"\n",
    "        return self._capacitance\n",
    "\n",
    "    @capacitance.setter\n",
    "    def capacitance(self, value: float) -> None:\n",
    "        \"\"\"Set the capacitance in farad.\"\"\"\n",
    "        self._capacitance = value\n",
    "\n",
    "    def total_impedance(self, frequency: float) -> complex:\n",
    "        \"\"\"\n",
    "        Calculate the total impedance of the RLC parallel circuit at a given frequency.\n",
    "        \n",
    "        Args:\n",
    "            frequency (float): Frequency in hertz.\n",
    "        \n",
    "        Returns:\n",
    "               Total impedance in ohms.\n",
    "        Formula:\n",
    "                Y_R = 1 / self.resistance\n",
    "                Y_L = 1 / (1j *  2 * π * f * L)\n",
    "                Y_C = 1j *  2 * π * f *)\n",
    "        \"Y\" is the addmittance\n",
    "        \"\"\"\n",
    "        Y_R = 1 / self.resistance\n",
    "        Y_L = 1 / (1j * 2 * math.pi * frequency * self.inductance)\n",
    "        Y_C = 1j * 2 * math.pi * frequency * self.capacitance\n",
    "        Y_total = Y_R + Y_L + Y_C\n",
    "        return  Y_total\n",
    "    @staticmethod\n",
    "    def resonance_frequency(inductance3e_1: float, capacitance_1: float) -> float:\n",
    "        \"\"\"\n",
    "        Calculate the resonance frequency of the RLC parallel circuit.\n",
    "        Returns:\n",
    "           Resonance frequency in hertz.\n",
    "        \"\"\"\n",
    "        return 1 / (2 * math.pi * math.sqrt(inductance * capacitance))\n",
    "    @classmethod\n",
    "    def standard_values(cls):\n",
    "        \"\"\"\n",
    "        Create an RLC parallel circuit with standard values (1 ohm, 1 H, 1 F).\n",
    "        Returns:\n",
    "            RLC_Circuit: An instance of the class with standard values.\n",
    "        \"\"\"\n",
    "        return cls(1.0, 1.0, 1.0)\n",
    "\n",
    "    def __repr__(self) -> str:\n",
    "        \"\"\"A  string  representation of the Resistor\"\"\"\n",
    "        return (f\"{type(self).__name__}(resistance={self.resistance}, inductance={self.inductance}, \"\n",
    "                f\"capacitance={self.capacitance})\")\n",
    "    def __str__(self) -> str:\n",
    "        \"\"\"A  string  representation of the Resistor\"\"\"    \n",
    "        return (f\"RLC Parallel Circuit with resistance: {self.resistance} ohm, inductance: {self.inductance} H, capacitance: {self.capacitance} F\")\n"
   ]
  },
  {
   "cell_type": "code",
   "execution_count": 178,
   "id": "cb06045c-df14-459d-a7fa-3dda6c6b42c9",
   "metadata": {},
   "outputs": [],
   "source": [
    "RLC_parallel_resonance_1 = RLC_Parallel_resonance_Circuit(resistance=50, inductance=0.1, capacitance=0.001)\n",
    "RLC_parallel_resonance_2 = RLC_Parallel_resonance_Circuit(resistance=80, inductance=0.1, capacitance=0.001)"
   ]
  },
  {
   "cell_type": "code",
   "execution_count": 179,
   "id": "59594032-e3fe-4f66-acc3-da3dfa107e6b",
   "metadata": {},
   "outputs": [
    {
     "name": "stdout",
     "output_type": "stream",
     "text": [
      "RLC Parallel Circuit with resistance: 50 ohm, inductance: 0.1 H, capacitance: 0.001 F\n",
      "RLC Parallel Circuit with resistance: 80 ohm, inductance: 0.1 H, capacitance: 0.001 F\n"
     ]
    }
   ],
   "source": [
    "print(RLC_parallel_resonance_1)\n",
    "print(RLC_parallel_resonance_2)"
   ]
  },
  {
   "cell_type": "code",
   "execution_count": 180,
   "id": "22743f86-3369-4451-908c-657d8a1d6fcf",
   "metadata": {},
   "outputs": [
    {
     "name": "stdout",
     "output_type": "stream",
     "text": [
      "mappingproxy({'__dict__': <attribute '__dict__' of 'RLC_Parallel_resonance_Circuit' objects>,\n",
      "              '__doc__': 'A class to represent a parallel RLC circuit.',\n",
      "              '__init__': <function RLC_Parallel_resonance_Circuit.__init__ at 0x0000017639B545E0>,\n",
      "              '__module__': '__main__',\n",
      "              '__repr__': <function RLC_Parallel_resonance_Circuit.__repr__ at 0x0000017639B7FA60>,\n",
      "              '__str__': <function RLC_Parallel_resonance_Circuit.__str__ at 0x0000017639B7FAF0>,\n",
      "              '__weakref__': <attribute '__weakref__' of 'RLC_Parallel_resonance_Circuit' objects>,\n",
      "              'capacitance': <property object at 0x0000017639A999A0>,\n",
      "              'inductance': <property object at 0x0000017639AB9F90>,\n",
      "              'resistance': <property object at 0x0000017639AB9C20>,\n",
      "              'resonance_frequency': <staticmethod object at 0x0000017639234D30>,\n",
      "              'standard_values': <classmethod object at 0x0000017637EB21F0>,\n",
      "              'total_impedance': <function RLC_Parallel_resonance_Circuit.total_impedance at 0x0000017639B7F8B0>})\n"
     ]
    }
   ],
   "source": [
    "    pprint(RLC_Parallel_resonance_Circuit.__dict__)"
   ]
  },
  {
   "cell_type": "code",
   "execution_count": 181,
   "id": "0a028c88-872a-4931-bdd7-1990cb1eb08d",
   "metadata": {},
   "outputs": [
    {
     "name": "stdout",
     "output_type": "stream",
     "text": [
      "Help on class RLC_Parallel_resonance_Circuit in module __main__:\n",
      "\n",
      "class RLC_Parallel_resonance_Circuit(builtins.object)\n",
      " |  RLC_Parallel_resonance_Circuit(resistance: float = 1.0, inductance: float = 1.0, capacitance: float = 1.0) -> None\n",
      " |  \n",
      " |  A class to represent a parallel RLC circuit.\n",
      " |  \n",
      " |  Methods defined here:\n",
      " |  \n",
      " |  __init__(self, resistance: float = 1.0, inductance: float = 1.0, capacitance: float = 1.0) -> None\n",
      " |      Initialize the parallel RLC circuit with resistance, inductance, and capacitance.\n",
      " |      \n",
      " |      Parameters:\n",
      " |          resistance : Resistance in ohms.\n",
      " |          inductance : Inductance in henries.\n",
      " |          capacitance : Capacitance in farads.\n",
      " |  \n",
      " |  __repr__(self) -> str\n",
      " |      A  string  representation of the Resistor\n",
      " |  \n",
      " |  __str__(self) -> str\n",
      " |      A  string  representation of the Resistor\n",
      " |  \n",
      " |  total_impedance(self, frequency: float) -> complex\n",
      " |      Calculate the total impedance of the RLC parallel circuit at a given frequency.\n",
      " |      \n",
      " |      Args:\n",
      " |          frequency (float): Frequency in hertz.\n",
      " |      \n",
      " |      Returns:\n",
      " |             Total impedance in ohms.\n",
      " |      Formula:\n",
      " |              Y_R = 1 / self.resistance\n",
      " |              Y_L = 1 / (1j *  2 * π * f * L)\n",
      " |              Y_C = 1j *  2 * π * f *)\n",
      " |      \"Y\" is the addmittance\n",
      " |  \n",
      " |  ----------------------------------------------------------------------\n",
      " |  Class methods defined here:\n",
      " |  \n",
      " |  standard_values() from builtins.type\n",
      " |      Create an RLC parallel circuit with standard values (1 ohm, 1 H, 1 F).\n",
      " |      Returns:\n",
      " |          RLC_Circuit: An instance of the class with standard values.\n",
      " |  \n",
      " |  ----------------------------------------------------------------------\n",
      " |  Static methods defined here:\n",
      " |  \n",
      " |  resonance_frequency(inductance3e_1: float, capacitance_1: float) -> float\n",
      " |      Calculate the resonance frequency of the RLC parallel circuit.\n",
      " |      Returns:\n",
      " |         Resonance frequency in hertz.\n",
      " |  \n",
      " |  ----------------------------------------------------------------------\n",
      " |  Data descriptors defined here:\n",
      " |  \n",
      " |  __dict__\n",
      " |      dictionary for instance variables (if defined)\n",
      " |  \n",
      " |  __weakref__\n",
      " |      list of weak references to the object (if defined)\n",
      " |  \n",
      " |  capacitance\n",
      " |      Get the capacitance in farad.\n",
      " |  \n",
      " |  inductance\n",
      " |      Get the inductance in henry.\n",
      " |  \n",
      " |  resistance\n",
      " |      Get the resistance in ohm.\n",
      "\n"
     ]
    }
   ],
   "source": [
    "help(RLC_Parallel_resonance_Circuit)"
   ]
  },
  {
   "cell_type": "code",
   "execution_count": 182,
   "id": "3672b4a9-357f-4447-9e09-d0a7fbdd5523",
   "metadata": {},
   "outputs": [
    {
     "name": "stdout",
     "output_type": "stream",
     "text": [
      "{'_resistance': 50, '_inductance': 0.1, '_capacitance': 0.001}\n",
      "{'_resistance': 80, '_inductance': 0.1, '_capacitance': 0.001}\n"
     ]
    }
   ],
   "source": [
    "print(RLC_parallel_resonance_1.__dict__)\n",
    "print(RLC_parallel_resonance_2.__dict__)"
   ]
  },
  {
   "cell_type": "code",
   "execution_count": 183,
   "id": "ff59fb93-64cd-4a85-85c0-5d8dcefb0801",
   "metadata": {},
   "outputs": [
    {
     "name": "stdout",
     "output_type": "stream",
     "text": [
      "A class to represent a parallel RLC circuit.\n",
      "Method: __init__,   Docstring: \n",
      "       Initialize the parallel RLC circuit with resistance, inductance, and capacitance.\n",
      "       \n",
      "       Parameters:\n",
      "           resistance : Resistance in ohms.\n",
      "           inductance : Inductance in henries.\n",
      "           capacitance : Capacitance in farads.\n",
      "       ,   Annotations: {'resistance': <class 'float'>, 'inductance': <class 'float'>, 'capacitance': <class 'float'>, 'return': None}\n",
      "Method: total_impedance,   Docstring: \n",
      "       Calculate the total impedance of the RLC parallel circuit at a given frequency.\n",
      "       \n",
      "       Args:\n",
      "           frequency (float): Frequency in hertz.\n",
      "       \n",
      "       Returns:\n",
      "              Total impedance in ohms.\n",
      "       Formula:\n",
      "               Y_R = 1 / self.resistance\n",
      "               Y_L = 1 / (1j *  2 * π * f * L)\n",
      "               Y_C = 1j *  2 * π * f *)\n",
      "       \"Y\" is the addmittance\n",
      "       ,   Annotations: {'frequency': <class 'float'>, 'return': <class 'complex'>}\n",
      "Method: standard_values,   Docstring: \n",
      "       Create an RLC parallel circuit with standard values (1 ohm, 1 H, 1 F).\n",
      "       Returns:\n",
      "           RLC_Circuit: An instance of the class with standard values.\n",
      "       ,   Annotations: {}\n",
      "Method: resonance_frequency,   Docstring: \n",
      "       Calculate the resonance frequency of the RLC parallel circuit.\n",
      "       Returns:\n",
      "          Resonance frequency in hertz.\n",
      "       ,   Annotations: {'inductance3e_1': <class 'float'>, 'capacitance_1': <class 'float'>, 'return': <class 'float'>}\n",
      "Method: __repr__,   Docstring: A  string  representation of the Resistor,   Annotations: {'return': <class 'str'>}\n",
      "Method: __str__,   Docstring: A  string  representation of the Resistor,   Annotations: {'return': <class 'str'>}\n"
     ]
    }
   ],
   "source": [
    "print(RLC_Parallel_resonance_Circuit.__doc__)\n",
    "for method in [\n",
    "    RLC_Parallel_resonance_Circuit.__init__,\n",
    "    RLC_Parallel_resonance_Circuit.total_impedance,\n",
    "    RLC_Parallel_resonance_Circuit.standard_values,\n",
    "    RLC_Parallel_resonance_Circuit.resonance_frequency,\n",
    "    RLC_Parallel_resonance_Circuit.__repr__,\n",
    "    RLC_Parallel_resonance_Circuit.__str__,\n",
    "]:\n",
    "    if isinstance(method, property):\n",
    "        print(f\"(Method: {method.fget.__name__}),  (Docstring: {method.__doc__}),  (Annotations: {method.fget.__annotations__})\")\n",
    "    else:\n",
    "        print(f\"Method: {method.__name__},   Docstring: {method.__doc__},   Annotations: {method.__annotations__}\")"
   ]
  },
  {
   "cell_type": "code",
   "execution_count": 184,
   "id": "1b47cfa6-870b-41a0-b951-68d7f45019f2",
   "metadata": {},
   "outputs": [
    {
     "name": "stdout",
     "output_type": "stream",
     "text": [
      "RLC Parallel Circuit with resistance: 1.0 ohm, inductance: 1.0 H, capacitance: 1.0 F\n"
     ]
    },
    {
     "data": {
      "text/plain": [
       "RLC_Parallel_resonance_Circuit(resistance=1.0, inductance=1.0, capacitance=1.0)"
      ]
     },
     "execution_count": 184,
     "metadata": {},
     "output_type": "execute_result"
    }
   ],
   "source": [
    "RLC_parallel_resonance1 = RLC_Parallel_resonance_Circuit()\n",
    "print(RLC_parallel_resonance1)\n",
    "RLC_parallel_resonance1"
   ]
  },
  {
   "cell_type": "code",
   "execution_count": null,
   "id": "21b6de3a-6002-47b3-95ea-a93a1c3715d6",
   "metadata": {},
   "outputs": [],
   "source": []
  },
  {
   "cell_type": "code",
   "execution_count": null,
   "id": "b3b0876d-6916-4fa7-8a11-4e80b0f90199",
   "metadata": {},
   "outputs": [],
   "source": []
  },
  {
   "cell_type": "code",
   "execution_count": null,
   "id": "e3a52f0f-979f-45cb-a2a4-bc3b0815b920",
   "metadata": {},
   "outputs": [],
   "source": []
  },
  {
   "cell_type": "code",
   "execution_count": null,
   "id": "dda19549-c353-4233-9216-b7c470191ff8",
   "metadata": {},
   "outputs": [],
   "source": []
  }
 ],
 "metadata": {
  "kernelspec": {
   "display_name": "Python 3 (ipykernel)",
   "language": "python",
   "name": "python3"
  },
  "language_info": {
   "codemirror_mode": {
    "name": "ipython",
    "version": 3
   },
   "file_extension": ".py",
   "mimetype": "text/x-python",
   "name": "python",
   "nbconvert_exporter": "python",
   "pygments_lexer": "ipython3",
   "version": "3.9.19"
  }
 },
 "nbformat": 4,
 "nbformat_minor": 5
}
