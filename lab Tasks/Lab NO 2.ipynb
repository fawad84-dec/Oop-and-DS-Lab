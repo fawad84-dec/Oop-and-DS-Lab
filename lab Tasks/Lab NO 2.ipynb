{
 "cells": [
  {
   "cell_type": "markdown",
   "id": "42d694d2-d493-4549-85c0-80208b6c4724",
   "metadata": {},
   "source": [
    "# ***Name : Fawad khan***\n",
    "# ***Reg No : 23jzele0544***\n",
    "# **Lab : 02**"
   ]
  },
  {
   "cell_type": "markdown",
   "id": "ff3639a1-de91-40df-9163-677ec2b9ed8b",
   "metadata": {},
   "source": [
    "# **Lab Tasks**"
   ]
  },
  {
   "cell_type": "markdown",
   "id": "d0d4f476-5af6-47e4-bd24-61200f7823fe",
   "metadata": {},
   "source": [
    "# **String formatting**"
   ]
  },
  {
   "cell_type": "markdown",
   "id": "4cd9dabc-cd29-4c31-a2fe-84e8e658ee6c",
   "metadata": {},
   "source": [
    "1. Observe the output of the following if:"
   ]
  },
  {
   "cell_type": "code",
   "execution_count": 1,
   "id": "70443cf6-226c-4089-ae26-b5277641c1ee",
   "metadata": {},
   "outputs": [
    {
     "name": "stdout",
     "output_type": "stream",
     "text": [
      "Hello, Bob\n",
      "Hey Bob, there is a 0xbadc0ffee error!\n",
      "Hey Bob, there is a 0xbadc0ffee error!\n"
     ]
    }
   ],
   "source": [
    "errno = 50159747054\n",
    "name = 'Bob'\n",
    "print('Hello, %s' % name)\n",
    "print('Hey %s, there is a 0x%x error!' % (name, errno))\n",
    "print('Hey %(name)s, there is a 0x%(errno)x error!' % { \"name\": name, \"errno\": errno })"
   ]
  },
  {
   "cell_type": "markdown",
   "id": "6ae08c37-9503-49c6-a063-6db5accb5cee",
   "metadata": {},
   "source": [
    "2. Observe the output of: (Mostly used)"
   ]
  },
  {
   "cell_type": "code",
   "execution_count": 2,
   "id": "3d0e1f7f-4e45-4d72-9fcb-3fb1332a8790",
   "metadata": {},
   "outputs": [
    {
     "name": "stdout",
     "output_type": "stream",
     "text": [
      "Hello, Bob\n"
     ]
    }
   ],
   "source": [
    "print('Hello, {}'.format(name))"
   ]
  },
  {
   "cell_type": "markdown",
   "id": "8b752efa-5533-4835-98d0-3aad1eb3c6b8",
   "metadata": {},
   "source": [
    "3. Observe the output of: (Recommended for Python 3.6+)"
   ]
  },
  {
   "cell_type": "code",
   "execution_count": 3,
   "id": "802a4fa2-69dc-4112-b36a-7940ca6fb890",
   "metadata": {},
   "outputs": [
    {
     "name": "stdout",
     "output_type": "stream",
     "text": [
      "Hello, Bob!\n"
     ]
    }
   ],
   "source": [
    "print(f'Hello, {name}!')"
   ]
  },
  {
   "cell_type": "markdown",
   "id": "91f4e496-8d3a-4080-83e7-2f465c80d121",
   "metadata": {},
   "source": [
    "4. Observe the output of:"
   ]
  },
  {
   "cell_type": "code",
   "execution_count": 4,
   "id": "4142d443-823e-43d8-9862-5276d4591180",
   "metadata": {},
   "outputs": [
    {
     "data": {
      "text/plain": [
       "'Hey, Bob!'"
      ]
     },
     "execution_count": 4,
     "metadata": {},
     "output_type": "execute_result"
    }
   ],
   "source": [
    "# a:\n",
    "from string import Template\n",
    "2\n",
    "t = Template('Hey, $name!')\n",
    "t.substitute(name=name)"
   ]
  },
  {
   "cell_type": "code",
   "execution_count": 5,
   "id": "373c05f0-2e09-4111-bb55-ba08a1f1c377",
   "metadata": {},
   "outputs": [
    {
     "data": {
      "text/plain": [
       "'Hey Bob, there is a 0xbadc0ffee error!'"
      ]
     },
     "execution_count": 5,
     "metadata": {},
     "output_type": "execute_result"
    }
   ],
   "source": [
    "# b:\n",
    "templ_string = 'Hey $name, there is a $error error!'\n",
    "Template(templ_string).substitute(name=name, error=hex(errno))"
   ]
  },
  {
   "cell_type": "markdown",
   "id": "aca7ada1-5ff5-48bb-aa8d-abca1935767d",
   "metadata": {},
   "source": [
    "Built-in Function:"
   ]
  },
  {
   "cell_type": "markdown",
   "id": "e17479c0-96ad-48d3-af57-c4d7ef1350f1",
   "metadata": {},
   "source": [
    "i. Use len() and find the length of three lists and two strings. "
   ]
  },
  {
   "cell_type": "code",
   "execution_count": 6,
   "id": "930b157d-4fe7-4a62-890a-128fb993dbd2",
   "metadata": {},
   "outputs": [
    {
     "name": "stdout",
     "output_type": "stream",
     "text": [
      "7\n",
      "7\n",
      "4\n"
     ]
    }
   ],
   "source": [
    "l1 = [2,4,5,6,7,8,9]\n",
    "l2 = ['a','b','u','hello', 3.6,8,99.8]\n",
    "l3 = ['i','am','yahya','ahmad']\n",
    "print(len(l1))\n",
    "print(len(l2))\n",
    "print(len(l3))"
   ]
  },
  {
   "cell_type": "markdown",
   "id": "98ef705c-85a9-4982-9c06-2f154d1ef81a",
   "metadata": {},
   "source": [
    "i. Use len() and find the length of three lists and two strings. "
   ]
  },
  {
   "cell_type": "code",
   "execution_count": 7,
   "id": "2368debf-a0be-4f38-a1c9-1615ded60a90",
   "metadata": {},
   "outputs": [
    {
     "name": "stdout",
     "output_type": "stream",
     "text": [
      "15\n",
      "16\n"
     ]
    }
   ],
   "source": [
    "str1 = 'who are you bro'\n",
    "str2 = 'I am yahya ahmad'\n",
    "print(len(str1))\n",
    "print(len(str2))"
   ]
  },
  {
   "cell_type": "markdown",
   "id": "67696385-7bc3-476c-a8ba-24cea5362b44",
   "metadata": {},
   "source": [
    "ii. Use for three example .is_integer()."
   ]
  },
  {
   "cell_type": "code",
   "execution_count": 8,
   "id": "c1d54b47-a851-4d1f-973f-9989365ad81c",
   "metadata": {},
   "outputs": [
    {
     "data": {
      "text/plain": [
       "False"
      ]
     },
     "execution_count": 8,
     "metadata": {},
     "output_type": "execute_result"
    }
   ],
   "source": [
    "a = 2.6\n",
    "a.is_integer()"
   ]
  },
  {
   "cell_type": "code",
   "execution_count": 9,
   "id": "ece7cfbd-e603-4044-a950-e5db2d07e82f",
   "metadata": {},
   "outputs": [
    {
     "data": {
      "text/plain": [
       "True"
      ]
     },
     "execution_count": 9,
     "metadata": {},
     "output_type": "execute_result"
    }
   ],
   "source": [
    "b = 35.0\n",
    "b.is_integer()"
   ]
  },
  {
   "cell_type": "code",
   "execution_count": 10,
   "id": "52fadd85-2502-45a1-ae0b-05e84a249c75",
   "metadata": {},
   "outputs": [
    {
     "data": {
      "text/plain": [
       "True"
      ]
     },
     "execution_count": 10,
     "metadata": {},
     "output_type": "execute_result"
    }
   ],
   "source": [
    "c=3349.0\n",
    "c.is_integer()"
   ]
  },
  {
   "cell_type": "markdown",
   "id": "25dc01a0-2aac-4101-bf1a-df2908b5e429",
   "metadata": {},
   "source": [
    "iii. Use for three example .conjugate()"
   ]
  },
  {
   "cell_type": "code",
   "execution_count": 11,
   "id": "0674efd5-7c3d-45eb-b67f-37f320ae5d76",
   "metadata": {},
   "outputs": [
    {
     "name": "stdout",
     "output_type": "stream",
     "text": [
      "(9-9j)\n",
      "(3-12j)\n"
     ]
    }
   ],
   "source": [
    "c = 9 + 9j\n",
    "d = 3 + 12j\n",
    "print(c.conjugate())\n",
    "print(d.conjugate())"
   ]
  },
  {
   "cell_type": "markdown",
   "id": "7b79e870-6104-422d-bd98-6a8555f74496",
   "metadata": {},
   "source": [
    "# **Function**"
   ]
  },
  {
   "cell_type": "markdown",
   "id": "e219a393-0d12-45c4-9145-27144593f065",
   "metadata": {},
   "source": [
    "Task No 01"
   ]
  },
  {
   "cell_type": "markdown",
   "id": "5ed41a78-d272-4f51-be8a-ffd5df7f932e",
   "metadata": {},
   "source": [
    "Define a **function** that will take the name and registration number of a student and print it.\n",
    "Include appropriate docstrings.\n"
   ]
  },
  {
   "cell_type": "code",
   "execution_count": 12,
   "id": "377eb6cf-f7c7-4f6c-b16c-f63a41878cc2",
   "metadata": {},
   "outputs": [],
   "source": [
    "def student():  # define simple function\n",
    "    pass"
   ]
  },
  {
   "cell_type": "code",
   "execution_count": 14,
   "id": "b8fb0c4f-32c6-4171-b017-95152cfa09af",
   "metadata": {},
   "outputs": [
    {
     "name": "stdout",
     "output_type": "stream",
     "text": [
      " The function give us Name and Reg No of student\n",
      "        take parameter as Name and Reg No\n",
      "        and return student Name and Reg No\n",
      "    \n"
     ]
    }
   ],
   "source": [
    "def student(name=\"Enter Name\",reg_no=\"Enter Reg No\"):  \n",
    "    \"\"\" The function give us Name and Reg No of student\n",
    "        take parameter as Name and Reg No\n",
    "        and return student Name and Reg No\n",
    "    \"\"\"\n",
    "    student = name,reg_no\n",
    "    return student\n",
    "print(student.__doc__)"
   ]
  },
  {
   "cell_type": "markdown",
   "id": "1dec6335-f438-4226-9dc9-65892ccc818d",
   "metadata": {},
   "source": [
    "* The argument pass will like positional arguments."
   ]
  },
  {
   "cell_type": "code",
   "execution_count": 15,
   "id": "65785d0d-2de5-495f-85bf-e7bd5520a6f2",
   "metadata": {},
   "outputs": [
    {
     "name": "stdout",
     "output_type": "stream",
     "text": [
      "('Yahya Ahmad', '23jzele0528')\n"
     ]
    }
   ],
   "source": [
    "print(student('Yahya Ahmad','23jzele0528')) #positional argument"
   ]
  },
  {
   "cell_type": "markdown",
   "id": "29449ed5-7e1d-4d80-a418-5577bde04871",
   "metadata": {},
   "source": [
    "* The arguments passing will like keyword arguments."
   ]
  },
  {
   "cell_type": "code",
   "execution_count": 17,
   "id": "749ecf66-bfe1-47eb-996b-3bcccf767fd3",
   "metadata": {},
   "outputs": [
    {
     "name": "stdout",
     "output_type": "stream",
     "text": [
      "('Yahya Ahmad', '23jzele0528')\n"
     ]
    }
   ],
   "source": [
    "print(student(name='Yahya Ahmad',reg_no='23jzele0528')) # keyword argument"
   ]
  },
  {
   "cell_type": "code",
   "execution_count": null,
   "id": "7082ff70-3cfc-4524-8045-e9e5af89f722",
   "metadata": {},
   "outputs": [],
   "source": [
    "* The arguments passing will like default arguments."
   ]
  },
  {
   "cell_type": "code",
   "execution_count": 18,
   "id": "c91e4e55-3c9e-4abb-895e-8fa8f79e9e3d",
   "metadata": {},
   "outputs": [
    {
     "name": "stdout",
     "output_type": "stream",
     "text": [
      "('Enter Name', 'Enter Reg No')\n"
     ]
    }
   ],
   "source": [
    "print(student()) # default parameter"
   ]
  },
  {
   "cell_type": "code",
   "execution_count": 19,
   "id": "b35a2289-1909-4d87-b9a7-ade870057dd9",
   "metadata": {},
   "outputs": [
    {
     "name": "stdout",
     "output_type": "stream",
     "text": [
      "('Yahya Ahmad', '23jzele0528')\n"
     ]
    }
   ],
   "source": [
    "def student(name,reg_no='0000'):  # function with one default parameter\n",
    "    student = name,reg_no\n",
    "    return student\n",
    "print(student(name='Yahya Ahmad',reg_no='23jzele0528'))  # argument pass of one style to another style"
   ]
  },
  {
   "cell_type": "markdown",
   "id": "a4c88662-2dcc-4c63-89dd-71952eac0262",
   "metadata": {},
   "source": [
    "* Pass the arguments of one style to the other."
   ]
  },
  {
   "cell_type": "code",
   "execution_count": 20,
   "id": "91c9c013-0f48-4c9e-b18d-4ec21ec078bf",
   "metadata": {},
   "outputs": [],
   "source": [
    "def student(name,reg_no):  # function with no default parameter\n",
    "    student = name,reg_no\n",
    "    return student"
   ]
  },
  {
   "cell_type": "markdown",
   "id": "0cd3a80f-a74b-4ddc-a6e1-0926fb26ac3d",
   "metadata": {},
   "source": [
    "\n",
    "* Passing less number of arguments and check the error message."
   ]
  },
  {
   "cell_type": "code",
   "execution_count": 21,
   "id": "9ec051ad-92c7-4d5f-a0be-6d3ed1720ff4",
   "metadata": {},
   "outputs": [
    {
     "ename": "TypeError",
     "evalue": "student() missing 1 required positional argument: 'reg_no'",
     "output_type": "error",
     "traceback": [
      "\u001b[1;31m---------------------------------------------------------------------------\u001b[0m",
      "\u001b[1;31mTypeError\u001b[0m                                 Traceback (most recent call last)",
      "Cell \u001b[1;32mIn[21], line 1\u001b[0m\n\u001b[1;32m----> 1\u001b[0m \u001b[38;5;28mprint\u001b[39m(\u001b[43mstudent\u001b[49m\u001b[43m(\u001b[49m\u001b[38;5;124;43m'\u001b[39;49m\u001b[38;5;124;43mYahya\u001b[39;49m\u001b[38;5;124;43m'\u001b[39;49m\u001b[43m)\u001b[49m)\n",
      "\u001b[1;31mTypeError\u001b[0m: student() missing 1 required positional argument: 'reg_no'"
     ]
    }
   ],
   "source": [
    "print(student('Yahya'))  # student() missing 1 required positional argument: 'reg_no'"
   ]
  },
  {
   "cell_type": "markdown",
   "id": "9b875eb2-2a04-433b-9b9f-0e5986a25233",
   "metadata": {},
   "source": [
    "* Verify that whether positional argument follows keyword argument"
   ]
  },
  {
   "cell_type": "code",
   "execution_count": 22,
   "id": "a34932b1-644d-4a48-9d53-73a8ce8fb304",
   "metadata": {},
   "outputs": [
    {
     "ename": "SyntaxError",
     "evalue": "positional argument follows keyword argument (3381944341.py, line 1)",
     "output_type": "error",
     "traceback": [
      "\u001b[1;36m  Cell \u001b[1;32mIn[22], line 1\u001b[1;36m\u001b[0m\n\u001b[1;33m    print(student(name='Yahya','23jze;e0528')) # error: positional argument follows keyword argument\u001b[0m\n\u001b[1;37m                                            ^\u001b[0m\n\u001b[1;31mSyntaxError\u001b[0m\u001b[1;31m:\u001b[0m positional argument follows keyword argument\n"
     ]
    }
   ],
   "source": [
    "print(student(name='Yahya','23jze;e0528')) # error: positional argument follows keyword argument"
   ]
  },
  {
   "cell_type": "markdown",
   "id": "ab61b3dd-f828-4674-bd09-8939df68c8fd",
   "metadata": {},
   "source": [
    "\n",
    "# Task No  02\n",
    "\n",
    "\n"
   ]
  },
  {
   "cell_type": "code",
   "execution_count": null,
   "id": "18b32ee1-0d11-4c16-bb64-8f1dd55668e4",
   "metadata": {},
   "outputs": [],
   "source": [
    "Define a function that will take the parameters as current and resistance and will output the\n",
    "voltage across the resistance. Include appropriate docstrings.\n"
   ]
  },
  {
   "cell_type": "code",
   "execution_count": 23,
   "id": "b626f07c-76bf-4468-8701-f41949caa97c",
   "metadata": {},
   "outputs": [
    {
     "name": "stdout",
     "output_type": "stream",
     "text": [
      "\n",
      "    Calculate the voltage across a resistor using Ohm's Law.\n",
      "    Parameters:\n",
      "    current (float): \n",
      "    resistance (float)\n",
      "    Returns:\n",
      "    The voltage across the resistor (in volts).\n",
      "    \n"
     ]
    }
   ],
   "source": [
    "def voltage(current=1,resistance=1):\n",
    "    \"\"\"\n",
    "    Calculate the voltage across a resistor using Ohm's Law.\n",
    "    Parameters:\n",
    "    current (float): \n",
    "    resistance (float)\n",
    "    Returns:\n",
    "    The voltage across the resistor (in volts).\n",
    "    \"\"\"\n",
    "    voltage = current * resistance\n",
    "    return voltage\n",
    "print(voltage.__doc__)"
   ]
  },
  {
   "cell_type": "code",
   "execution_count": null,
   "id": "c43b46ed-59dc-4b6c-a8de-ef82889df838",
   "metadata": {},
   "outputs": [],
   "source": [
    "* The argument pass will like positional arguments."
   ]
  },
  {
   "cell_type": "code",
   "execution_count": 24,
   "id": "954e2be0-4158-47e4-adcf-24fa4c3c27b2",
   "metadata": {},
   "outputs": [
    {
     "name": "stdout",
     "output_type": "stream",
     "text": [
      "32\n"
     ]
    }
   ],
   "source": [
    "print(voltage(4,8)) # positional argument"
   ]
  },
  {
   "cell_type": "markdown",
   "id": "218a5710-aea2-46b2-b758-26f85a0fbc98",
   "metadata": {},
   "source": [
    "* The arguments passing will like keyword arguments."
   ]
  },
  {
   "cell_type": "code",
   "execution_count": 25,
   "id": "08b6323e-a552-4ecd-90dc-8074bea9a6d8",
   "metadata": {},
   "outputs": [
    {
     "name": "stdout",
     "output_type": "stream",
     "text": [
      "24\n"
     ]
    }
   ],
   "source": [
    "print(voltage(current=6,resistance=4)) # keyword argument"
   ]
  },
  {
   "cell_type": "markdown",
   "id": "3e9c78e0-d297-4c14-9b12-39af8195328c",
   "metadata": {},
   "source": [
    "* The arguments passing will like default arguments."
   ]
  },
  {
   "cell_type": "code",
   "execution_count": 26,
   "id": "06cc0784-4a4f-4301-be15-b099e8bc15b6",
   "metadata": {},
   "outputs": [],
   "source": [
    "def voltage(current=1,resistance=1):   # function with one default parameter\n",
    "    voltage = current * resistance\n",
    "    return voltage   # argument pass of one style to another style "
   ]
  },
  {
   "cell_type": "markdown",
   "id": "2df11ae5-0d14-4121-87f2-9a2e4bb9a6c5",
   "metadata": {},
   "source": [
    "* Pass the arguments of one style to the other."
   ]
  },
  {
   "cell_type": "code",
   "execution_count": 27,
   "id": "3781d112-28a6-4392-8d1d-aefb6825c0ea",
   "metadata": {},
   "outputs": [
    {
     "name": "stdout",
     "output_type": "stream",
     "text": [
      "230\n"
     ]
    }
   ],
   "source": [
    "print(voltage(current=23,resistance=10))"
   ]
  },
  {
   "cell_type": "markdown",
   "id": "ac8bcb7a-d9d0-495c-911e-044c95c82d53",
   "metadata": {},
   "source": [
    "* Passing less number of arguments and check the error message."
   ]
  },
  {
   "cell_type": "code",
   "execution_count": 28,
   "id": "0df4cbce-f053-4b57-a8d4-c435c7b1c003",
   "metadata": {},
   "outputs": [
    {
     "name": "stdout",
     "output_type": "stream",
     "text": [
      "5\n"
     ]
    }
   ],
   "source": [
    "print(voltage(5)) # voltage() missing 1 required positional argument: 'resistance'"
   ]
  },
  {
   "cell_type": "markdown",
   "id": "f0587ba8-0f0f-4cc3-8bc5-65b5f1d44175",
   "metadata": {},
   "source": [
    "\n",
    "* Verify that whether positional argument follows keyword argument."
   ]
  },
  {
   "cell_type": "code",
   "execution_count": 29,
   "id": "37e3eb6c-2cf1-47f0-9c2d-63ee9bd7819a",
   "metadata": {},
   "outputs": [
    {
     "ename": "SyntaxError",
     "evalue": "positional argument follows keyword argument (2585489423.py, line 1)",
     "output_type": "error",
     "traceback": [
      "\u001b[1;36m  Cell \u001b[1;32mIn[29], line 1\u001b[1;36m\u001b[0m\n\u001b[1;33m    print(voltage(current=8,29) # positional argument follows keyword argument\u001b[0m\n\u001b[1;37m                              ^\u001b[0m\n\u001b[1;31mSyntaxError\u001b[0m\u001b[1;31m:\u001b[0m positional argument follows keyword argument\n"
     ]
    }
   ],
   "source": [
    "print(voltage(current=8,29) # positional argument follows keyword argument"
   ]
  },
  {
   "cell_type": "markdown",
   "id": "f957624a-cc03-400b-b46b-eb1571eb746c",
   "metadata": {},
   "source": [
    "# Task No 03"
   ]
  },
  {
   "cell_type": "markdown",
   "id": "72376231-23fe-43a9-845c-b6c46cd609a8",
   "metadata": {},
   "source": [
    "Define a function with *name charge_from_solar* and pass the state of charge (SOC) to the\n",
    "function. If SOC is less than 20% display charging if it is above 90% do nothing and return and if it\n",
    "is in between display that battery will be charge and there is --- % of charge in the battery. Include\n",
    "3 appropriate docstrings. Print the doc string. Also add annotation to the function parameters and\n",
    "return type. "
   ]
  },
  {
   "cell_type": "code",
   "execution_count": 30,
   "id": "56c15fbc-1e7f-4786-bc71-a5a04ac98146",
   "metadata": {},
   "outputs": [],
   "source": [
    "def charge_from_solar():   # define function\n",
    "    pass"
   ]
  },
  {
   "cell_type": "code",
   "execution_count": 31,
   "id": "9886f768-f487-40fd-8f6c-7e9d2cb1e484",
   "metadata": {},
   "outputs": [
    {
     "name": "stdout",
     "output_type": "stream",
     "text": [
      "Determines the charging status of a battery based on its state of charge (SOC).\n",
      "    Parameters:\n",
      "               SOC (float): \n",
      "    Returns:\n",
      "            None:\n",
      "    Behavior:\n",
      "            -> If SOC < 20%, the function displays \"Charging\"\n",
      "            -> If SOC > 90%, the function does nothing and returns.\n",
      "            -> If 20% <= SOC <= 90%, the function displays \"Battery will be charged\" along with the current SOC.\n",
      "    \n"
     ]
    }
   ],
   "source": [
    "def charge_from_solar(SOC: float) -> None:   # gives arguments to function\n",
    "    \"\"\"Determines the charging status of a battery based on its state of charge (SOC).\n",
    "    Parameters:\n",
    "               SOC (float): \n",
    "    Returns:\n",
    "            None:\n",
    "    Behavior:\n",
    "            -> If SOC < 20%, the function displays \"Charging\"\n",
    "            -> If SOC > 90%, the function does nothing and returns.\n",
    "            -> If 20% <= SOC <= 90%, the function displays \"Battery will be charged\" along with the current SOC.\n",
    "    \"\"\"\n",
    "    \n",
    "print(charge_from_solar.__doc__)  # print docstring"
   ]
  },
  {
   "cell_type": "code",
   "execution_count": 32,
   "id": "ca8a14d5-2899-4915-b376-30247ac37a4e",
   "metadata": {},
   "outputs": [],
   "source": [
    "def charge_from_solar(SOC: float) -> None:\n",
    "    if SOC < 20:  \n",
    "        print(\"Charging\")\n",
    "    elif SOC > 90:\n",
    "        return\n",
    "    else:\n",
    "        print(f\"Battery will charge and there is {SOC}% of charging\")    "
   ]
  },
  {
   "cell_type": "code",
   "execution_count": 33,
   "id": "2af8447b-04e5-441d-9609-931ece5610fe",
   "metadata": {},
   "outputs": [
    {
     "name": "stdout",
     "output_type": "stream",
     "text": [
      "Battery will charge and there is 45% of charging\n",
      "None\n"
     ]
    }
   ],
   "source": [
    "print(charge_from_solar(45))     # calling fucntion"
   ]
  },
  {
   "cell_type": "code",
   "execution_count": 34,
   "id": "04205da4-d764-4148-8ab3-92b41362a6e1",
   "metadata": {},
   "outputs": [
    {
     "name": "stdout",
     "output_type": "stream",
     "text": [
      "{'SOC': <class 'float'>, 'return': None}\n"
     ]
    }
   ],
   "source": [
    "print(charge_from_solar.__annotations__)  # show the annotation of the function"
   ]
  },
  {
   "cell_type": "markdown",
   "id": "43584302-a7e1-4fb1-b676-48ef7e969648",
   "metadata": {},
   "source": [
    "# Task No 04"
   ]
  },
  {
   "cell_type": "markdown",
   "id": "c27e8c1d-5442-4e0b-a11a-16914ba47a50",
   "metadata": {},
   "source": [
    "Define three function. Function one name is resistance which will return a list of five resistances.\n",
    "The second function name is voltage which will return a list of voltage across each of these\n",
    "resisters. Include appropriate docstrings. Print the doc string. Also add annotation to the function\n",
    "parameters and return type.\n",
    "* Pass these two lists to a third function name current which will calculate the current\n",
    "flowing through each resister and will return that list to the main program. The main\n",
    "program will print all the three lists in well formatting.\n",
    "* In part a return the data in tuple.\n",
    "* Return the data from current function as dictionary with keys current_1 to current_5. "
   ]
  },
  {
   "cell_type": "code",
   "execution_count": 36,
   "id": "567730ba-8cdc-46d3-b207-0ac946a9a1ed",
   "metadata": {},
   "outputs": [
    {
     "name": "stdout",
     "output_type": "stream",
     "text": [
      "retrun  a list of resisatance\n",
      "    the list is float\n",
      "retrun  a list of voltage\n",
      "    the list is float\n"
     ]
    }
   ],
   "source": [
    "from typing import List, Tuple, Dict \n",
    "def resistance() -> list[float]:       # function\n",
    "    \"\"\"retrun  a list of resisatance\n",
    "    the list is float\"\"\"\n",
    "    return [10,20,30,40,50]\n",
    "def voltage() -> list[float]:         # function\n",
    "    \"\"\"retrun  a list of voltage\n",
    "    the list is float\"\"\"\n",
    "    return [100,20,300,400,500]\n",
    "print(resistance.__doc__)     # print docstring\n",
    "print(voltage.__doc__)        # print docstring"
   ]
  },
  {
   "cell_type": "code",
   "execution_count": 37,
   "id": "b74c75ad-a788-4e6c-a19a-221e31323a96",
   "metadata": {},
   "outputs": [
    {
     "data": {
      "text/plain": [
       "[10, 20, 30, 40, 50]"
      ]
     },
     "execution_count": 37,
     "metadata": {},
     "output_type": "execute_result"
    }
   ],
   "source": [
    "resistance()     # calling fucntion"
   ]
  },
  {
   "cell_type": "code",
   "execution_count": 38,
   "id": "786d6d0d-ad5a-4510-8cf7-c868dd8d4874",
   "metadata": {},
   "outputs": [
    {
     "data": {
      "text/plain": [
       "[100, 20, 300, 400, 500]"
      ]
     },
     "execution_count": 38,
     "metadata": {},
     "output_type": "execute_result"
    }
   ],
   "source": [
    "voltage()      # calling fucntion"
   ]
  },
  {
   "cell_type": "code",
   "execution_count": 39,
   "id": "cd2e49d1-0b13-4dde-9a9b-385c565d3612",
   "metadata": {},
   "outputs": [
    {
     "name": "stdout",
     "output_type": "stream",
     "text": [
      "\n",
      "    Calculates the current flowing through each resistor using Ohm's law (I = V/R).    \n",
      "    Parameters: \n",
      "    List of resistances in ohms.\n",
      "    List of voltages across each resistor in volts. \n",
      "    Returns:tuple[List[float], Dict[str, float]]: A tuple containing:\n",
      "        - A list of currents through each resistor in amperes.\n",
      "        - A dictionary where the keys are 'current_1' to 'current_5' and the values are the currents.\n",
      "    \n"
     ]
    }
   ],
   "source": [
    "def current(resistance: list[float],voltage: list[float]) -> Tuple[list[float],Dict[str,float]]:  \n",
    "    \"\"\"\n",
    "    Calculates the current flowing through each resistor using Ohm's law (I = V/R).    \n",
    "    Parameters: \n",
    "    List of resistances in ohms.\n",
    "    List of voltages across each resistor in volts. \n",
    "    Returns:tuple[List[float], Dict[str, float]]: A tuple containing:\n",
    "        - A list of currents through each resistor in amperes.\n",
    "        - A dictionary where the keys are 'current_1' to 'current_5' and the values are the currents.\n",
    "    \"\"\"\n",
    "    currents=[v/r for v,r in zip(voltage,resistance)]\n",
    "    current_dict = {f'current_{i+1}': currents[i] for i in range(len(currents))}\n",
    "    return currents, current_dict\n",
    "print(current.__doc__)     # print docstring\n",
    "\n",
    "resistances = resistance()\n",
    "voltages = voltage()\n",
    "currents,current_dict = current(voltages,resistances)"
   ]
  },
  {
   "cell_type": "code",
   "execution_count": 41,
   "id": "f72ea3f6-67e8-426b-847e-037e5c514076",
   "metadata": {},
   "outputs": [
    {
     "name": "stdout",
     "output_type": "stream",
     "text": [
      "[0.1, 1.0, 0.1, 0.1, 0.1]\n",
      "{'current_1': 0.1, 'current_2': 1.0, 'current_3': 0.1, 'current_4': 0.1, 'current_5': 0.1}\n"
     ]
    }
   ],
   "source": [
    "print(currents,)        # calling fucntion \n",
    "print(current_dict,)    # calling fucntion"
   ]
  },
  {
   "cell_type": "code",
   "execution_count": 40,
   "id": "3fdb2c2b-8c52-40c1-b9ed-b4f585e786ff",
   "metadata": {},
   "outputs": [
    {
     "name": "stdout",
     "output_type": "stream",
     "text": [
      "{'return': list[float]}\n",
      "{'return': list[float]}\n"
     ]
    }
   ],
   "source": [
    "print(resistance.__annotations__)      # show the annotation of the function\n",
    "print(voltage.__annotations__)         # show the annotation of the function"
   ]
  },
  {
   "cell_type": "markdown",
   "id": "15e1b774-a9d2-4960-99cd-e5fe00ce2448",
   "metadata": {},
   "source": [
    "# Task NO 05"
   ]
  },
  {
   "cell_type": "markdown",
   "id": "543a0676-e02b-486a-942b-9c5c558683bb",
   "metadata": {},
   "source": [
    "Define a function with name series. The function will take a list or tuple of resisters. The function\n",
    "will return the net resistance. Note that your function must be capable for any number of\n",
    "resisters. Note: Use elegant approach. Include appropriate docstrings. Print the doc string. Also\n",
    "add annotation to the function parameters and return type. In addition, display annotation using\n",
    "special dunder attribute of the function called *__annotations__.*"
   ]
  },
  {
   "cell_type": "code",
   "execution_count": 42,
   "id": "ea4ce911-f96b-4466-9e51-3d4d9ef00a8e",
   "metadata": {},
   "outputs": [],
   "source": [
    "def series():\n",
    "    pass"
   ]
  },
  {
   "cell_type": "code",
   "execution_count": 43,
   "id": "a7594dcc-fc52-4bca-8b02-04e22f568d15",
   "metadata": {},
   "outputs": [
    {
     "name": "stdout",
     "output_type": "stream",
     "text": [
      " function which retrun  net resistance\n",
      "    paramter are resistance in the form of list\n",
      "    retrun net resistance\n",
      "    \n"
     ]
    }
   ],
   "source": [
    "def series(lst1=[]):     # define function\n",
    "    \"\"\" function which retrun  net resistance\n",
    "    paramter are resistance in the form of list\n",
    "    retrun net resistance\n",
    "    \"\"\"\n",
    "    return sum(lst1)\n",
    "print(series.__doc__)    # print docstring"
   ]
  },
  {
   "cell_type": "code",
   "execution_count": 44,
   "id": "b52d7154-81e8-4131-8f0e-6ff0337b650b",
   "metadata": {},
   "outputs": [
    {
     "data": {
      "text/plain": [
       "6"
      ]
     },
     "execution_count": 44,
     "metadata": {},
     "output_type": "execute_result"
    }
   ],
   "source": [
    "series([3,3])       # calling fucntion"
   ]
  },
  {
   "cell_type": "code",
   "execution_count": 45,
   "id": "3273eed9-e4aa-4db9-97df-73e8a4821ab7",
   "metadata": {},
   "outputs": [
    {
     "data": {
      "text/plain": [
       "25"
      ]
     },
     "execution_count": 45,
     "metadata": {},
     "output_type": "execute_result"
    }
   ],
   "source": [
    "series([3,4,5,6,7])   # calling fucntion"
   ]
  },
  {
   "cell_type": "code",
   "execution_count": 46,
   "id": "8e16d122-46f5-4bce-9598-b23737917061",
   "metadata": {},
   "outputs": [
    {
     "name": "stdout",
     "output_type": "stream",
     "text": [
      "{}\n"
     ]
    }
   ],
   "source": [
    "print(series.__annotations__)     # show the annotation of the function"
   ]
  },
  {
   "cell_type": "markdown",
   "id": "b17dd0ae-6e3c-424d-bca9-9ca0fd0de2ea",
   "metadata": {},
   "source": [
    "# Task no 6"
   ]
  },
  {
   "cell_type": "markdown",
   "id": "4a4df3d6-1f2a-4b3b-bc97-327e64f76405",
   "metadata": {},
   "source": [
    "Define a function with name parallel. The function will take a list or tuple of resisters. The function\n",
    "will return the net resistance. Note that your function must be capable for any number of\n",
    "resisters. Note: Use elegant approach. Include appropriate docstrings. Print the doc string. Also\n",
    "add annotation to the function parameters and return type. In addition, display annotation using\n",
    "special dunder attribute of the function called __annotations__Define a function with name parallel. The function will take a list or tuple of resisters. The function\n",
    "will return the net resistance. Note that your function must be capable for any number of\n",
    "resisters. Note: Use elegant approach. Include appropriate docstrings. Print the doc string. Also\n",
    "add annotation to the function parameters and return type. In addition, display annotation using\n",
    "special dunder attribute of the function called __annotations__"
   ]
  },
  {
   "cell_type": "code",
   "execution_count": 47,
   "id": "cb9ffe1a-8fe6-487d-a902-8df890b5dff9",
   "metadata": {},
   "outputs": [],
   "source": [
    "def parallal(list1=[]):       # define function\n",
    "    pass"
   ]
  },
  {
   "cell_type": "code",
   "execution_count": 48,
   "id": "c813d772-7e63-4dae-9e98-83d881395e28",
   "metadata": {},
   "outputs": [
    {
     "name": "stdout",
     "output_type": "stream",
     "text": [
      " function calculate net resistance\n",
      "    paramter is resistances in the form of list\n",
      "    retrun net resistance in pararllal\n",
      "    \n"
     ]
    }
   ],
   "source": [
    "def parallal(list1=[]):\n",
    "    \"\"\" function calculate net resistance\n",
    "    paramter is resistances in the form of list\n",
    "    retrun net resistance in pararllal\n",
    "    \"\"\"\n",
    "    return 1 / sum(1/x for x in list1) \n",
    "print(parallal.__doc__)     # print docstring"
   ]
  },
  {
   "cell_type": "code",
   "execution_count": 49,
   "id": "9dc6359f-bf7a-4903-a586-26f026c0060b",
   "metadata": {},
   "outputs": [
    {
     "name": "stdout",
     "output_type": "stream",
     "text": [
      "2.0\n"
     ]
    }
   ],
   "source": [
    "print(parallal([4,4]))           # calling fucntion"
   ]
  },
  {
   "cell_type": "code",
   "execution_count": 51,
   "id": "519bfa12-bf26-4624-9431-ace40ee067d5",
   "metadata": {},
   "outputs": [
    {
     "name": "stdout",
     "output_type": "stream",
     "text": [
      "1.12\n"
     ]
    }
   ],
   "source": [
    "print(parallal([3,4,6,7]))      # calling fucntion"
   ]
  },
  {
   "cell_type": "markdown",
   "id": "a7b28191-8fe4-4b94-99f8-acdf3ca3e867",
   "metadata": {},
   "source": [
    "# Task No 7"
   ]
  },
  {
   "cell_type": "markdown",
   "id": "9db4bf4a-32bc-450e-93a9-b5e277dbcbc3",
   "metadata": {},
   "source": [
    "Define a function with name series. The function will take resisters values and use *args for tuple\n",
    "packing. The function will return the net resistance. Note that your function must be capable for\n",
    "any number of resisters. Note: Use elegant approach. Include appropriate docstrings. Also add\n",
    "annotation to the function parameters and return type. In addition, display annotation using\n",
    "special dunder attribute of the function called __annotations__."
   ]
  },
  {
   "cell_type": "code",
   "execution_count": 52,
   "id": "7c7d1265-43eb-4194-9480-fc241ce9df45",
   "metadata": {},
   "outputs": [],
   "source": [
    "def series():    # define function\n",
    "    pass"
   ]
  },
  {
   "cell_type": "code",
   "execution_count": 53,
   "id": "6c1293a9-6fb1-45d8-8298-64e902444370",
   "metadata": {},
   "outputs": [
    {
     "name": "stdout",
     "output_type": "stream",
     "text": [
      "function calculate net resistance\n",
      "parameter is resistances in the form of tuple\n",
      "retrun net resistance in pararllal\n",
      "    \n"
     ]
    }
   ],
   "source": [
    "def series(*resistance: float) -> float:\n",
    "    \"\"\"function calculate net resistance\n",
    "parameter is resistances in the form of tuple\n",
    "retrun net resistance in pararllal\n",
    "    \"\"\"\n",
    "    return sum(resistance)\n",
    "print(series.__doc__)      # print docstring"
   ]
  },
  {
   "cell_type": "code",
   "execution_count": 54,
   "id": "8d3e08a9-63ae-4f97-947b-6c671709165c",
   "metadata": {},
   "outputs": [
    {
     "name": "stdout",
     "output_type": "stream",
     "text": [
      "7\n"
     ]
    }
   ],
   "source": [
    "print(series(2,5))        # calling fucntion"
   ]
  },
  {
   "cell_type": "code",
   "execution_count": 55,
   "id": "6dafc35c-3b12-4216-8f98-6d6541897013",
   "metadata": {},
   "outputs": [
    {
     "name": "stdout",
     "output_type": "stream",
     "text": [
      "39\n"
     ]
    }
   ],
   "source": [
    "print(series(4,5,7,2,8,9,4))   # calling fucntion"
   ]
  },
  {
   "cell_type": "code",
   "execution_count": 56,
   "id": "4f87ea4e-d509-49b8-9a5c-36762d09c262",
   "metadata": {},
   "outputs": [
    {
     "name": "stdout",
     "output_type": "stream",
     "text": [
      "{'resistance': <class 'float'>, 'return': <class 'float'>}\n"
     ]
    }
   ],
   "source": [
    "print(series.__annotations__)      # show the annotation of the function"
   ]
  },
  {
   "cell_type": "markdown",
   "id": "9cb1911f-629e-4ed9-85f0-2bf456c47a74",
   "metadata": {},
   "source": [
    "# Task No 8"
   ]
  },
  {
   "cell_type": "markdown",
   "id": "722d9872-6ca6-456d-8494-725119f47b6d",
   "metadata": {},
   "source": [
    "Define a function with name parallel. The function will take resisters values and use *argsfor tuple\n",
    "packing. The function will return the net resistance. Note that your function must be capable for\n",
    "any number of resisters. Note: Use elegant approach. Include appropriate docstrings. Print the\n",
    "doc string. Also add annotation to the function parameters and return type. In addition, display\n",
    "annotation using special dunder attribute of the function called __annotations__."
   ]
  },
  {
   "cell_type": "code",
   "execution_count": 58,
   "id": "83d0f1c6-2f5f-4318-9b55-9f38d08caed2",
   "metadata": {},
   "outputs": [],
   "source": [
    "def parallal():       # define function\n",
    "    pass"
   ]
  },
  {
   "cell_type": "code",
   "execution_count": 59,
   "id": "2149fb23-177c-443b-8295-bdc08661c8b7",
   "metadata": {},
   "outputs": [
    {
     "name": "stdout",
     "output_type": "stream",
     "text": [
      "function calculate net resistance\n",
      "parameter is resistances in the form of tuple\n",
      "retrun net resistance in pararllal\n",
      "    \n"
     ]
    }
   ],
   "source": [
    "def parallal(*resistance: float) -> float:\n",
    "    \"\"\"function calculate net resistance\n",
    "parameter is resistances in the form of tuple\n",
    "retrun net resistance in pararllal\n",
    "    \"\"\"\n",
    "    return 1 / sum(1/x for x in resistance)\n",
    "print(parallal.__doc__)    # print docstring"
   ]
  },
  {
   "cell_type": "code",
   "execution_count": 60,
   "id": "056fcf50-5dc6-4ddc-b7b1-76a25960ab3b",
   "metadata": {},
   "outputs": [
    {
     "name": "stdout",
     "output_type": "stream",
     "text": [
      "3.0\n"
     ]
    }
   ],
   "source": [
    "print(parallal(6,6))   # calling fucntion"
   ]
  },
  {
   "cell_type": "code",
   "execution_count": 61,
   "id": "a4bfba50-b083-4429-8c42-02e1217a4ef4",
   "metadata": {},
   "outputs": [
    {
     "name": "stdout",
     "output_type": "stream",
     "text": [
      "0.49084534476042074\n"
     ]
    }
   ],
   "source": [
    "print(parallal(2,3,4,5,6,7,3,9))     # calling fucntion"
   ]
  },
  {
   "cell_type": "code",
   "execution_count": 62,
   "id": "f2a80c10-417b-4446-a3e6-cae95efbab2a",
   "metadata": {},
   "outputs": [
    {
     "name": "stdout",
     "output_type": "stream",
     "text": [
      "{'resistance': <class 'float'>, 'return': <class 'float'>}\n"
     ]
    }
   ],
   "source": [
    "print(parallal.__annotations__)    # show the annotation of the function"
   ]
  },
  {
   "cell_type": "markdown",
   "id": "425d0e57-2836-4069-9a90-dd003ce382f3",
   "metadata": {},
   "source": [
    "# Task No 9"
   ]
  },
  {
   "cell_type": "markdown",
   "id": "b8926a33-b6bd-42f5-8527-09fd0194578a",
   "metadata": {},
   "source": [
    "Consider a scenario in which you receive the data of battery SOC (% age), solar generation (Kw)\n",
    "and market price (per unit in rupees) from a hybrid solar inverter that are connected with green\n",
    "meter in a list or tuple like [60, 2, 60] or (60, 2, 60). Design a function that will print these values\n",
    "in a well format. Note use the tuple or list unpacking. Include appropriate docstrings. Print the\n",
    "doc string. Also add annotation to the function parameters and return type. In addition, display\n",
    "annotation using special dunder attribute of the function called __annotations__."
   ]
  },
  {
   "cell_type": "code",
   "execution_count": 63,
   "id": "4fad6159-9aba-4a90-85d1-e53f5e4f015f",
   "metadata": {},
   "outputs": [],
   "source": [
    "def display_inverter_data():      # define function\n",
    "    pass"
   ]
  },
  {
   "cell_type": "code",
   "execution_count": 64,
   "id": "f16e798c-73bf-4542-b0fc-ac57c971d200",
   "metadata": {},
   "outputs": [
    {
     "name": "stdout",
     "output_type": "stream",
     "text": [
      "Function that takes the data as tuple\n",
      "    it show the data or display it in well format:\n",
      "    return:\n",
      "           None\n",
      "            battery SOC(% age)\n",
      "            solar generation (kw)\n",
      "            market price (per unit in rupees)\n",
      "    \n"
     ]
    }
   ],
   "source": [
    "from typing import Tuple,List,Dict\n",
    "def display_inverter_data(data: Tuple) -> None:\n",
    "    \"\"\"Function that takes the data as tuple\n",
    "    it show the data or display it in well format:\n",
    "    return:\n",
    "           None\n",
    "            battery SOC(% age)\n",
    "            solar generation (kw)\n",
    "            market price (per unit in rupees)\n",
    "    \"\"\"\n",
    "     # unpacking the tuple\n",
    "    battery_soc, solar_genr, market_price = data \n",
    "    # In well_formating data\n",
    "    print(f\"Batter_SOC = {battery_soc}%\")        \n",
    "    print(f\"Solar_Generation = {solar_genr} kw\")\n",
    "    print(f\"Market_price = {market_price} Rs/unit\")\n",
    "print(display_inverter_data.__doc__)     # print docstring"
   ]
  },
  {
   "cell_type": "code",
   "execution_count": 65,
   "id": "03971e77-215a-4557-afee-62e6979f200f",
   "metadata": {},
   "outputs": [
    {
     "name": "stdout",
     "output_type": "stream",
     "text": [
      "Batter_SOC = 90%\n",
      "Solar_Generation = 2.5 kw\n",
      "Market_price = 45 Rs/unit\n"
     ]
    }
   ],
   "source": [
    "inverter_data = (90,2.5,45)\n",
    "display_inverter_data(inverter_data)    # calling fucntion"
   ]
  },
  {
   "cell_type": "code",
   "execution_count": 66,
   "id": "2e02d0d7-4144-4359-94f8-56420e24772a",
   "metadata": {},
   "outputs": [
    {
     "name": "stdout",
     "output_type": "stream",
     "text": [
      "{'data': typing.Tuple, 'return': None}\n"
     ]
    }
   ],
   "source": [
    "print(display_inverter_data.__annotations__)    # show the annotation of the function"
   ]
  },
  {
   "cell_type": "markdown",
   "id": "063848b2-b0bf-461d-b122-8f7a8168711b",
   "metadata": {},
   "source": [
    "# Lab Task 10"
   ]
  },
  {
   "cell_type": "markdown",
   "id": "62fa8510-05b6-4b5a-91a1-0dada3a298b1",
   "metadata": {},
   "source": [
    "The more elegant approach is to pass dictionary and use dictionary unpacking. Consider a\n",
    "scenario in which you receive the data of battery SOC (% age), solar generation (Kw) and market\n",
    "price (per unit in rupees) from a hybrid solar inverter that are connected with green meter in a\n",
    "dictionary like {‘SOC’: 60, ‘solar generation’: 2, ‘price’: 60}. Design a function that will receive\n",
    "this dictionary and print these values in a well format. Include appropriate docstrings. Also add\n",
    "annotation to the function parameters and return type. In addition, display annotation using\n",
    "special dunder attribute of the function called __annotations__."
   ]
  },
  {
   "cell_type": "code",
   "execution_count": 67,
   "id": "f0cf58df-bf68-4594-8f6c-f2465b694d34",
   "metadata": {},
   "outputs": [],
   "source": [
    "def display_inverter_data():  # define function\n",
    "    pass"
   ]
  },
  {
   "cell_type": "code",
   "execution_count": 68,
   "id": "7a27ea74-02f7-443b-9be4-198d24c3e8a1",
   "metadata": {},
   "outputs": [
    {
     "name": "stdout",
     "output_type": "stream",
     "text": [
      "Function that pass the data as dictionary and use dictionary unpacking .\n",
      "    return: \n",
      "           None\n",
      "    it show the data or display it in well format:\n",
      "            battery SOC(% age)\n",
      "            solar generation (kw)\n",
      "            market price (per unit in rupees)\n",
      "    \n"
     ]
    }
   ],
   "source": [
    "def display_inverter_data(inverter_data: dict) -> None:\n",
    "    \"\"\"Function that pass the data as dictionary and use dictionary unpacking .\n",
    "    return: \n",
    "           None\n",
    "    it show the data or display it in well format:\n",
    "            battery SOC(% age)\n",
    "            solar generation (kw)\n",
    "            market price (per unit in rupees)\n",
    "    \"\"\"\n",
    "     # unpacking the dictionary\n",
    "    Battery_soc = inverter_data.get('Battery_soc')\n",
    "    solar_genr = inverter_data.get('solar_genr')\n",
    "    market_price = inverter_data.get('market_price')\n",
    "    # In well_formating data\n",
    "    print(f\"Batter SOC: {Battery_soc}%\")\n",
    "    print(f\"Solar Generation: {solar_genr} kw\")\n",
    "    print(f\"Market price: {market_price} Rs/unit\")\n",
    "    \n",
    "print(display_inverter_data.__doc__)    # print docstring"
   ]
  },
  {
   "cell_type": "code",
   "execution_count": 69,
   "id": "e155b15b-b38a-4877-8a4e-ae5f699b8b33",
   "metadata": {},
   "outputs": [
    {
     "name": "stdout",
     "output_type": "stream",
     "text": [
      "Batter SOC: 59%\n",
      "Solar Generation: 3 kw\n",
      "Market price: 33 Rs/unit\n"
     ]
    }
   ],
   "source": [
    "data = {'Battery_soc': 59, 'solar_genr': 3, 'market_price': 33}\n",
    "display_inverter_data(data)    # calling function"
   ]
  },
  {
   "cell_type": "code",
   "execution_count": 70,
   "id": "2a548e23-07f1-4331-ab76-adbd0350541f",
   "metadata": {},
   "outputs": [
    {
     "name": "stdout",
     "output_type": "stream",
     "text": [
      "{'inverter_data': <class 'dict'>, 'return': None}\n"
     ]
    }
   ],
   "source": [
    "print(display_inverter_data.__annotations__)      # show the annotation of the function"
   ]
  },
  {
   "cell_type": "markdown",
   "id": "6accc16c-c086-4cde-811e-db0ff607ee26",
   "metadata": {},
   "source": [
    "# Lab Task 11"
   ]
  },
  {
   "cell_type": "markdown",
   "id": "22e3d6d4-411b-4828-828e-6daa4e87ff90",
   "metadata": {},
   "source": [
    "Change the scenario while keep the more elegant approach of pass dictionary and use dictionary\n",
    "packing. Consider a scenario in which you receive the data of battery SOC (% age), solar\n",
    "generation (Kw) and market price (per unit in rupees) from a hybrid solar inverter that are\n",
    "connected with green meter in a dictionary like {‘SOC’: 60, ‘solar generation’: 2, ‘price’: 60}. Let\n",
    "you pass these value in a function call like solar (SOC = 60, solar generation = 2, price = 60).\n",
    "Design a function that will receive these argument as a dictionary and print these values in a\n",
    "well format. Include appropriate docstrings. Also add annotation to the function parameters and\n",
    "return type. In addition, display annotation using special dunder attribute of the function\n",
    "called __annotations__."
   ]
  },
  {
   "cell_type": "code",
   "execution_count": 72,
   "id": "fdc429e0-e782-419b-a7a9-dff32d9f2cc4",
   "metadata": {},
   "outputs": [],
   "source": [
    "def solar():      # define function\n",
    "    pass"
   ]
  },
  {
   "cell_type": "code",
   "execution_count": 73,
   "id": "89c2fb16-d7bc-4a24-92d7-aadbbe6fedde",
   "metadata": {},
   "outputs": [
    {
     "name": "stdout",
     "output_type": "stream",
     "text": [
      "Function that pass the data as dictionary and use dictionary unpacking but you can pass these\n",
      "    value in a function call.\n",
      "    return: \n",
      "           None\n",
      "    it show the data or display it in well format:\n",
      "            battery SOC(% age)\n",
      "            solar generation (kw)\n",
      "            market price (per unit in rupees)\n",
      "    \n"
     ]
    }
   ],
   "source": [
    "def solar(**data: dict) -> None:\n",
    "    \"\"\"Function that pass the data as dictionary and use dictionary unpacking but you can pass these\n",
    "    value in a function call.\n",
    "    return: \n",
    "           None\n",
    "    it show the data or display it in well format:\n",
    "            battery SOC(% age)\n",
    "            solar generation (kw)\n",
    "            market price (per unit in rupees)\n",
    "    \"\"\"\n",
    "     # unpacking the dictionary\n",
    "    SOC = data.get('SOC')\n",
    "    Generation = data.get('Generation')\n",
    "    Price = data.get('Price')\n",
    "    # In well_formating data\n",
    "    print(f\"SOC: {SOC}%\")\n",
    "    print(f\"Solar Generation: {Generation} kw\")\n",
    "    print(f\"Price: {Price} Rs/unit\")\n",
    "    \n",
    "print(solar.__doc__)     # print docstring"
   ]
  },
  {
   "cell_type": "code",
   "execution_count": 74,
   "id": "7b3e47e8-5cf8-48db-81f4-51b550a2cd26",
   "metadata": {},
   "outputs": [
    {
     "name": "stdout",
     "output_type": "stream",
     "text": [
      "SOC: 90%\n",
      "Solar Generation: 1.5 kw\n",
      "Price: 55 Rs/unit\n",
      "None\n"
     ]
    }
   ],
   "source": [
    "Data={'SOC': 90, 'Generation': 1.5, 'Price': 55}\n",
    "print(solar(**Data))  # calling function with unpacking dictionary"
   ]
  },
  {
   "cell_type": "code",
   "execution_count": 75,
   "id": "6fb6f253-d1ef-4660-92f4-3462b9662b19",
   "metadata": {},
   "outputs": [
    {
     "name": "stdout",
     "output_type": "stream",
     "text": [
      "{'data': <class 'dict'>, 'return': None}\n"
     ]
    }
   ],
   "source": [
    "print(solar.__annotations__)        # show the annotation of the function"
   ]
  },
  {
   "cell_type": "markdown",
   "id": "4d259384-38ab-47c3-b4ee-f75df22f96dc",
   "metadata": {},
   "source": [
    "xii. Understand the functions given below by run, modify and also design different scenarios. "
   ]
  },
  {
   "cell_type": "code",
   "execution_count": 76,
   "id": "557d19b2-e918-4ac4-9440-f3f77494117e",
   "metadata": {},
   "outputs": [
    {
     "name": "stdout",
     "output_type": "stream",
     "text": [
      "a = 1\n",
      "b = 2\n",
      "args = ('foo', 'bar', 'baz', 'qux')\n",
      "kwargs = {'x': 100, 'y': 200, 'z': 300}\n"
     ]
    }
   ],
   "source": [
    "def f(a, b, *args, **kwargs):\n",
    " print(F'a = {a}')\n",
    " print(F'b = {b}')\n",
    " print(F'args = {args}')\n",
    " print(F'kwargs = {kwargs}')\n",
    "f(1, 2, 'foo', 'bar', 'baz', 'qux', x=100, y=200, z=300)"
   ]
  },
  {
   "cell_type": "code",
   "execution_count": 77,
   "id": "0f118edc-f94f-44cb-a964-bd5bdfba815f",
   "metadata": {},
   "outputs": [
    {
     "name": "stdout",
     "output_type": "stream",
     "text": [
      "1\n",
      "2\n",
      "3\n",
      "4\n",
      "5\n",
      "6\n",
      "8\n",
      "9\n",
      "7\n"
     ]
    }
   ],
   "source": [
    "def f(*args):\n",
    "    for i in args:\n",
    "        print(i)\n",
    "a = [1, 2, 3]\n",
    "t = (4, 5, 6)\n",
    "s = {7, 8, 9}\n",
    "f(*a, *t, *s)"
   ]
  },
  {
   "cell_type": "code",
   "execution_count": 78,
   "id": "16dedfe4-2120-40ef-8b12-f545f1964f26",
   "metadata": {},
   "outputs": [
    {
     "name": "stdout",
     "output_type": "stream",
     "text": [
      "a -> 1\n",
      "b -> 2\n",
      "x -> 3\n",
      "y -> 4\n"
     ]
    }
   ],
   "source": [
    "def f(**kwargs):\n",
    "    for k, v in kwargs.items():\n",
    "        print(k, '->', v)\n",
    "d1 = {'a': 1, 'b': 2}\n",
    "d2 = {'x': 3, 'y': 4}\n",
    "f(**d1, **d2)"
   ]
  },
  {
   "cell_type": "code",
   "execution_count": 79,
   "id": "4034b684-bf73-4a6a-b670-cb260e209479",
   "metadata": {},
   "outputs": [
    {
     "name": "stdout",
     "output_type": "stream",
     "text": [
      "1\n",
      "2\n",
      "3\n",
      "4\n",
      "5\n",
      "6\n"
     ]
    }
   ],
   "source": [
    "def f(*args):\n",
    "    for i in args:\n",
    "        print(i)\n",
    "f(*[1, 2, 3], *[4, 5, 6])"
   ]
  },
  {
   "cell_type": "code",
   "execution_count": 80,
   "id": "06f63e8f-ab56-4e1b-9656-c2b3fc1c618d",
   "metadata": {},
   "outputs": [
    {
     "name": "stdout",
     "output_type": "stream",
     "text": [
      "a -> 1\n",
      "b -> 2\n",
      "x -> 3\n",
      "y -> 4\n"
     ]
    }
   ],
   "source": [
    "def f(**kwargs):\n",
    "    for k, v in kwargs.items():\n",
    "        print(k, '->', v)\n",
    "f(**{'a': 1, 'b': 2}, **{'x': 3, 'y': 4})"
   ]
  },
  {
   "cell_type": "code",
   "execution_count": 81,
   "id": "c7e828b4-b32b-4be8-8c5d-41bc132d29f1",
   "metadata": {},
   "outputs": [
    {
     "data": {
      "text/plain": [
       "{'a': int, 'b': str, 'return': float}"
      ]
     },
     "execution_count": 81,
     "metadata": {},
     "output_type": "execute_result"
    }
   ],
   "source": [
    "def f(a: int, b: str) -> float:\n",
    "    print(a, b)\n",
    "    return(3.5)\n",
    "    f(1, 'foo')\n",
    "f.__annotations__\n"
   ]
  },
  {
   "cell_type": "markdown",
   "id": "26fa36bf-ffde-42af-a8c6-db6ef6b72a61",
   "metadata": {},
   "source": [
    "If you want to assign a default value to a parameter that has an annotation,\n",
    "then the default value goes after the annotation:"
   ]
  },
  {
   "cell_type": "code",
   "execution_count": 82,
   "id": "4c8ba1c1-b026-488b-a8a0-a5ef22e95c4d",
   "metadata": {},
   "outputs": [
    {
     "name": "stdout",
     "output_type": "stream",
     "text": [
      "12 baz\n"
     ]
    },
    {
     "data": {
      "text/plain": [
       "3.5"
      ]
     },
     "execution_count": 82,
     "metadata": {},
     "output_type": "execute_result"
    }
   ],
   "source": [
    "def f(a: int = 12, b: str = 'baz') -> float:\n",
    "    print(a, b)\n",
    "    return(3.5)\n",
    "f.__annotations__\n",
    "f()"
   ]
  },
  {
   "cell_type": "markdown",
   "id": "3edcac1a-9a00-47bb-8619-3a23b1c8ef94",
   "metadata": {},
   "source": [
    "Annotations don’t impose any semantic restrictions on the code\n",
    "whatsoever.\n",
    "What’s going on here? The annotations for f() indicate that the first\n",
    "argument is int, the second argument str, and the return value float. But the\n",
    "subsequent call to f() breaks all the rules! The arguments are str and float,\n",
    "respectively, and the return value is a tuple. Yet the interpreter lets it all slide\n",
    "with no complaint at all."
   ]
  },
  {
   "cell_type": "code",
   "execution_count": 83,
   "id": "8347a501-cfea-4f64-ae98-85fe74e15343",
   "metadata": {},
   "outputs": [
    {
     "name": "stdout",
     "output_type": "stream",
     "text": [
      "foo 2.5\n"
     ]
    },
    {
     "data": {
      "text/plain": [
       "(1, 2, 3)"
      ]
     },
     "execution_count": 83,
     "metadata": {},
     "output_type": "execute_result"
    }
   ],
   "source": [
    "def f(a: int, b: str) -> float:\n",
    " print(a, b)\n",
    " return 1, 2, 3\n",
    "f('foo', 2.5)"
   ]
  },
  {
   "cell_type": "markdown",
   "id": "3b78f9e0-c953-4a83-9b7e-95b0721249a6",
   "metadata": {},
   "source": [
    "**String:**"
   ]
  },
  {
   "cell_type": "markdown",
   "id": "75cbe177-f947-4ae0-b9db-11634e6abba0",
   "metadata": {},
   "source": [
    "Use F-String for three string formatting."
   ]
  },
  {
   "cell_type": "code",
   "execution_count": 85,
   "id": "86756fe4-b7ae-4257-b416-7fdf8d4c1c22",
   "metadata": {},
   "outputs": [
    {
     "name": "stdout",
     "output_type": "stream",
     "text": [
      "My name is Muhammad Idrees, and my Reg No is 23jze0529\n"
     ]
    }
   ],
   "source": [
    "# f-string\n",
    "name = 'Muhammad Idrees'\n",
    "Reg_No = '23jze0529'\n",
    "student=f\"My name is {name}, and my Reg No is {Reg_No}\"\n",
    "print(student)"
   ]
  },
  {
   "cell_type": "markdown",
   "id": "c10c97a8-34d0-453a-97c7-ee2006e1f0b0",
   "metadata": {},
   "source": [
    "Use .capitalize() for three examples. "
   ]
  },
  {
   "cell_type": "code",
   "execution_count": 86,
   "id": "dc91af94-fac3-4a14-ad15-e61ce1d5cfb4",
   "metadata": {},
   "outputs": [
    {
     "name": "stdout",
     "output_type": "stream",
     "text": [
      "Muhammad idrees\n",
      "Electrical\n",
      "Power\n"
     ]
    }
   ],
   "source": [
    "name = 'Muhammad Idrees'\n",
    "department = 'electrical'\n",
    "section = 'power'\n",
    "print(name.capitalize())\n",
    "print(department.capitalize())\n",
    "print(section.capitalize())"
   ]
  },
  {
   "cell_type": "markdown",
   "id": "37161d02-cfca-419a-aeb2-0d122d8ba029",
   "metadata": {},
   "source": [
    "Use .format(*args, **kwargs) for five example formatting."
   ]
  },
  {
   "cell_type": "code",
   "execution_count": 87,
   "id": "975d2140-c3cf-4ada-8352-37503ee1081b",
   "metadata": {},
   "outputs": [
    {
     "name": "stdout",
     "output_type": "stream",
     "text": [
      "I am Yahya and my reg no is 23jzele0528\n",
      "In our room 3 bad, and also contain 1 table\n",
      "i have 4 pen, 1 book, and 8 copies\n"
     ]
    }
   ],
   "source": [
    "# .format ()\n",
    "student=\"I am {0} and my reg no is {1}\"\n",
    "print(student.format('Yahya','23jzele0528'))\n",
    "room = \"In our room {} bad, and also contain {} table\"\n",
    "print(room.format(3,1))\n",
    "my_bag=\"i have {} pen, {} book, and {} copies\"\n",
    "print(my_bag.format(4,1,8))"
   ]
  },
  {
   "cell_type": "markdown",
   "id": "9bd3e13a-093d-480d-87a1-8f404e764812",
   "metadata": {},
   "source": [
    "Use .lower() for three examples."
   ]
  },
  {
   "cell_type": "markdown",
   "id": "dbc208b6-7af5-4014-a1f1-e5bf399c0a80",
   "metadata": {},
   "source": [
    "Some method on string return true false and they are frequently use in different applications.\n",
    "Use .isdigit(),.islower(), and .isnumeric() in two example. I"
   ]
  },
  {
   "cell_type": "code",
   "execution_count": 88,
   "id": "a0866b83-8f5e-402a-a78d-64eee81e4c69",
   "metadata": {},
   "outputs": [
    {
     "name": "stdout",
     "output_type": "stream",
     "text": [
      "True\n",
      "False\n"
     ]
    }
   ],
   "source": [
    "a = \"23435\"\n",
    "c = \"Idrees\"\n",
    "print(a.isdigit())\n",
    "print(c.isdigit())"
   ]
  },
  {
   "cell_type": "code",
   "execution_count": 89,
   "id": "9750bd83-c87b-4531-9d8f-0088734397bb",
   "metadata": {},
   "outputs": [
    {
     "name": "stdout",
     "output_type": "stream",
     "text": [
      "False\n",
      "False\n"
     ]
    }
   ],
   "source": [
    "name = \"Muhammad\"\n",
    "name1 = \"IDREES\"\n",
    "print(name.islower())\n",
    "print(name1.islower())"
   ]
  },
  {
   "cell_type": "code",
   "execution_count": 90,
   "id": "d5ad4d82-8574-4a84-9bb1-6fa691f5fce5",
   "metadata": {},
   "outputs": [
    {
     "name": "stdout",
     "output_type": "stream",
     "text": [
      "True\n",
      "False\n"
     ]
    }
   ],
   "source": [
    "b = \"944239\"\n",
    "d = \"hello\"\n",
    "print(b.isnumeric())\n",
    "print(d.isnumeric())"
   ]
  },
  {
   "cell_type": "markdown",
   "id": "8e75cb5d-c2c4-4759-ae4c-7d08f7e797d3",
   "metadata": {},
   "source": [
    "Some other string operation required other methods. Use .split() for two example. "
   ]
  },
  {
   "cell_type": "code",
   "execution_count": 91,
   "id": "985f159e-b44f-4554-a33b-a8ccf6d8ddf3",
   "metadata": {},
   "outputs": [
    {
     "name": "stdout",
     "output_type": "stream",
     "text": [
      "['I', 'am', 'Yahya', 'Ahmad']\n",
      "['how', 'are', 'you', 'I', 'am', 'Yahya', 'Ahmad']\n"
     ]
    }
   ],
   "source": [
    "name =\"I am Yahya Ahmad\"\n",
    "hey = f\"how are you {name}\"\n",
    "print(name.split())\n",
    "print(hey.split())"
   ]
  },
  {
   "cell_type": "code",
   "execution_count": null,
   "id": "a581b7c9-ad6d-497c-8861-e45aedc39aca",
   "metadata": {},
   "outputs": [],
   "source": []
  },
  {
   "cell_type": "code",
   "execution_count": null,
   "id": "ef941f16-2db5-4a66-95ad-a2f65d2a3b25",
   "metadata": {},
   "outputs": [],
   "source": []
  },
  {
   "cell_type": "code",
   "execution_count": null,
   "id": "d4af1975-e1d6-4d1b-93e4-f7217dcfcec1",
   "metadata": {},
   "outputs": [],
   "source": []
  }
 ],
 "metadata": {
  "kernelspec": {
   "display_name": "Python 3 (ipykernel)",
   "language": "python",
   "name": "python3"
  },
  "language_info": {
   "codemirror_mode": {
    "name": "ipython",
    "version": 3
   },
   "file_extension": ".py",
   "mimetype": "text/x-python",
   "name": "python",
   "nbconvert_exporter": "python",
   "pygments_lexer": "ipython3",
   "version": "3.9.19"
  }
 },
 "nbformat": 4,
 "nbformat_minor": 5
}
