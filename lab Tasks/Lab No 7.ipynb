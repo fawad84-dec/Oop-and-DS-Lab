{
 "cells": [
  {
   "cell_type": "markdown",
   "id": "3f9d932c-a7b4-453e-920c-11b69372d8f2",
   "metadata": {},
   "source": [
    "# **Name : Fawad khan**\n",
    "# **Reg No : 23jzele0544**\n",
    "# **lab 07**"
   ]
  },
  {
   "cell_type": "markdown",
   "id": "9cfac61f-6239-4ebe-aa5e-a2c5e283f4ad",
   "metadata": {},
   "source": [
    "# **Problem No 01**\n",
    "# **Square -> Cube**"
   ]
  },
  {
   "cell_type": "markdown",
   "id": "65961d1c-fb37-4c1d-9f26-f9c32ee2aef0",
   "metadata": {},
   "source": [
    "*  Take the example of the square class in the last lab and inherit a cube class with its own volume and surface area instance method. \n",
    "* Create two instances of the cube class and call both the instance methods.\n"
   ]
  },
  {
   "cell_type": "code",
   "execution_count": 3,
   "id": "e1924f1c-b067-4ef5-bf24-cfee54a0ff37",
   "metadata": {},
   "outputs": [],
   "source": [
    "class Square:\n",
    "    def __init__(self, side_length) -> None:\n",
    "        self.side_length = side_length\n",
    "    @property\n",
    "    def side_length(self) -> float:\n",
    "        return self._side_length\n",
    "    @side_length.setter\n",
    "    def side_length(self, value: float) -> None:\n",
    "        self._side_length = value\n",
    "    def area(self) -> float:\n",
    "        return self.side_length ** 2\n",
    "    @property\n",
    "    def perimeter(self) -> float:\n",
    "        return 4 * self.side_length\n",
    "    def __repr__(self) -> str:\n",
    "        return f\"{type(self).__name__}({self.side_length})\"\n",
    "    def __str__(self) -> str:\n",
    "        return f\"Square with side length: {self.side_length}\"\n",
    "\n",
    "\n",
    "class Cube(Square):\n",
    "    def __init__(self, side_length):\n",
    "        super().__init__(side_length)\n",
    "    \n",
    "    def volume(self):\n",
    "        return  self.side_length ** 3\n",
    "    def surface_area(self):\n",
    "        return 6 * self.side_length ** 2"
   ]
  },
  {
   "cell_type": "code",
   "execution_count": 4,
   "id": "079bb8e6-2499-4e6d-ac3e-94cd60cad57f",
   "metadata": {},
   "outputs": [],
   "source": [
    "cube1 = Cube(2)"
   ]
  },
  {
   "cell_type": "code",
   "execution_count": 5,
   "id": "4601ca8e-e9ff-4e80-b40e-2f89efbeaf7c",
   "metadata": {},
   "outputs": [
    {
     "data": {
      "text/plain": [
       "8"
      ]
     },
     "execution_count": 5,
     "metadata": {},
     "output_type": "execute_result"
    }
   ],
   "source": [
    "cube1.volume()"
   ]
  },
  {
   "cell_type": "code",
   "execution_count": 6,
   "id": "5c13e94b-e378-4e5e-869c-4ecb50ee46e9",
   "metadata": {},
   "outputs": [
    {
     "data": {
      "text/plain": [
       "24"
      ]
     },
     "execution_count": 6,
     "metadata": {},
     "output_type": "execute_result"
    }
   ],
   "source": [
    "cube1.surface_area()"
   ]
  },
  {
   "cell_type": "markdown",
   "id": "d607e99d-66ec-46f6-a490-c95555d407f9",
   "metadata": {},
   "source": [
    "# **Problem No  02**\n",
    "# **Point2D -> Point3D**"
   ]
  },
  {
   "cell_type": "markdown",
   "id": "e6ce3633-1718-43dd-92b7-36148c816ef7",
   "metadata": {},
   "source": [
    "* Take the example of the Point2D class in the last lab and inherit a Point 3D class with its own distance_from_origin instance methods. \n",
    "* Create two instances and call the instance methods.\n"
   ]
  },
  {
   "cell_type": "code",
   "execution_count": 7,
   "id": "013e7e28-ec35-4071-a472-62ddbc5cf0fa",
   "metadata": {},
   "outputs": [],
   "source": [
    "import math\n",
    "\n",
    "class Point:\n",
    "    \"\"\"\n",
    "    A class to represent a point in a 2D coordinate system.\n",
    "    \"\"\"\n",
    "    def __init__(self, x: float = 0.0, y: float = 0.0):\n",
    "        \"\"\"\n",
    "        Initializes a new point at the given coordinates.\n",
    "        \n",
    "        x: x-coordinate (default is 0.0)\n",
    "        y: y-coordinate (default is 0.0)\n",
    "        \"\"\"\n",
    "        self._x = x\n",
    "        self._y = y\n",
    "\n",
    "    @property\n",
    "    def x(self) -> float:\n",
    "        \"\"\"Gets the x-coordinate.\"\"\"\n",
    "        return self._x\n",
    "\n",
    "    @x.setter\n",
    "    def x(self, value: float) -> None:\n",
    "        \"\"\"Sets the x-coordinate.\"\"\"\n",
    "        self._x = value\n",
    "\n",
    "    @property\n",
    "    def y(self) -> float:\n",
    "        \"\"\"Gets the y-coordinate.\"\"\"\n",
    "        return self._y\n",
    "\n",
    "    @y.setter\n",
    "    def y(self, value: float) -> None:\n",
    "        \"\"\"Sets the y-coordinate.\"\"\"\n",
    "        self._y = value\n",
    "\n",
    "    def distance_to(self, other: 'Point') -> float:\n",
    "        \"\"\"\n",
    "        Calculates the distance between this point and another point.\n",
    "        \n",
    "        :param other: Another point in the 2D coordinate system.\n",
    "        :return: The distance between the two points.\n",
    "        \"\"\"\n",
    "        return math.sqrt((self.x - other.x) ** 2 + (self.y - other.y) ** 2)\n",
    "\n",
    "    def distance_from_origin(self) -> float:\n",
    "        \"\"\"\n",
    "        Calculates the distance from the origin (0, 0) to this point.\n",
    "        \n",
    "        :return: The distance from the origin to this point.\n",
    "        \"\"\"\n",
    "        return math.sqrt(self.x ** 2 + self.y ** 2)\n",
    "\n",
    "    def __repr__(self):\n",
    "        \"\"\"Return a string representation of the Point instance.\"\"\"\n",
    "        return f'{type(self).__name__} ({self.x},{self.y})'\n",
    "\n",
    "\n",
    "class Point3D(Point):\n",
    "    \"\"\"\n",
    "    A class to represent a point in a 3D coordinate system, inheriting from Point.\n",
    "    \"\"\"\n",
    "    def __init__(self, x: float = 0.0, y: float = 0.0, z: float = 0.0):\n",
    "        \"\"\"\n",
    "        Initializes a new point in a 3D coordinate system.\n",
    "        \n",
    "        x: x-coordinate (default is 0.0)\n",
    "        y: y-coordinate (default is 0.0)\n",
    "        z: z-coordinate (default is 0.0)\n",
    "        \"\"\"\n",
    "        super().__init__(x, y)\n",
    "        self._z = z\n",
    "\n",
    "    @property\n",
    "    def z(self) -> float:\n",
    "        \"\"\"Gets the z-coordinate.\"\"\"\n",
    "        return self._z\n",
    "\n",
    "    @z.setter\n",
    "    def z(self, value: float) -> None:\n",
    "        \"\"\"Sets the z-coordinate.\"\"\"\n",
    "        self._z = value\n",
    "\n",
    "    def distance_from_origin(self) -> float:\n",
    "        \"\"\"\n",
    "        Calculates the distance from the origin (0, 0, 0) to this point.\n",
    "        \n",
    "        :return: The distance from the origin to this point.\n",
    "        \"\"\"\n",
    "        return math.sqrt(self.x ** 2 + self.y ** 2 + self.z ** 2)\n",
    "\n",
    "    def distance_to(self, other: 'Point3D') -> float:\n",
    "        \"\"\"\n",
    "        Calculates the distance between this point and another 3D point.\n",
    "        \n",
    "        :param other: Another point in the 3D coordinate system.\n",
    "        :return: The distance between the two points.\n",
    "        \"\"\"\n",
    "        return math.sqrt((self.x - other.x) ** 2 + \n",
    "                         (self.y - other.y) ** 2 + \n",
    "                         (self.z - other.z) ** 2)\n",
    "\n",
    "    def __repr__(self):\n",
    "        \"\"\"Return a string representation of the Point3D instance.\"\"\"\n",
    "        return f'{type(self).__name__} ({self.x}, {self.y}, {self.z})'\n"
   ]
  },
  {
   "cell_type": "code",
   "execution_count": 8,
   "id": "c781949f-a756-400d-8d27-26b7d17b19a6",
   "metadata": {},
   "outputs": [],
   "source": [
    "point1 = Point3D(3, 4, 5)\n",
    "point2 = Point3D(6, 8, 10)"
   ]
  },
  {
   "cell_type": "code",
   "execution_count": 9,
   "id": "2917be0e-5cf3-4857-9efc-a53e9b612b43",
   "metadata": {},
   "outputs": [
    {
     "name": "stdout",
     "output_type": "stream",
     "text": [
      "Point1: Point3D (3, 4, 5), Distance from origin: 7.0710678118654755\n",
      "Point2: Point3D (6, 8, 10), Distance from origin: <bound method Point3D.distance_from_origin of Point3D (6, 8, 10)>\n",
      "Distance between Point1 and Point2: 7.0710678118654755\n"
     ]
    }
   ],
   "source": [
    "print(f\"Point1: {point1}, Distance from origin: {point1.distance_from_origin()}\")\n",
    "print(f\"Point2: {point2}, Distance from origin: {point2.distance_from_origin}\")\n",
    "print(f\"Distance between Point1 and Point2: {point1.distance_to(point2)}\")"
   ]
  },
  {
   "cell_type": "markdown",
   "id": "972ce04a-c905-4224-b820-ab8e986cf3f6",
   "metadata": {},
   "source": [
    "# **Problem No 03**\n",
    "# **Rectangle -> Square**"
   ]
  },
  {
   "cell_type": "markdown",
   "id": "a0b47d08-1d4f-4ebc-9dd9-14dfc576f42f",
   "metadata": {},
   "source": [
    "* Take the example of the rectangle class in the last lab and inherit a square class. \n",
    "* Create two instances of the rectangle class and call the instance methods."
   ]
  },
  {
   "cell_type": "code",
   "execution_count": 10,
   "id": "07286ff4-2cca-41b9-908a-031b0888a18a",
   "metadata": {},
   "outputs": [],
   "source": [
    "class Rectangle:\n",
    "    \"\"\"\n",
    "    A class to represent a rectangle.\n",
    "    \"\"\"\n",
    "    def __init__(self, width: float, height: float) -> None:\n",
    "        self.width = width\n",
    "        self.height = height\n",
    "\n",
    "    @property\n",
    "    def width(self) -> float:\n",
    "        \"\"\"Gets the width of the rectangle.\"\"\"\n",
    "        return self._width\n",
    "\n",
    "    @width.setter\n",
    "    def width(self, value: float) -> None:\n",
    "        \"\"\"Sets the width of the rectangle.\"\"\"\n",
    "        self._width = value\n",
    "\n",
    "    @property\n",
    "    def height(self) -> float:\n",
    "        \"\"\"Gets the height of the rectangle.\"\"\"\n",
    "        return self._height\n",
    "\n",
    "    @height.setter\n",
    "    def height(self, value: float) -> None:\n",
    "        \"\"\"Sets the height of the rectangle.\"\"\"\n",
    "        self._height = value\n",
    "\n",
    "    @property\n",
    "    def area(self) -> float:\n",
    "        \"\"\"Calculates the area of the rectangle.\"\"\"\n",
    "        return self.width * self.height\n",
    "\n",
    "    @property\n",
    "    def perimeter(self) -> float:\n",
    "        \"\"\"Calculates the perimeter of the rectangle.\"\"\"\n",
    "        return 2 * (self.width + self.height)\n",
    "\n",
    "    def __repr__(self) -> str:\n",
    "        \"\"\"String representation of the rectangle.\"\"\"\n",
    "        return f'Rectangle(width={self.width}, height={self.height})'\n",
    "\n",
    "\n",
    "class Square(Rectangle):\n",
    "    \"\"\"\n",
    "    A class to represent a square, inheriting from Rectangle.\n",
    "    \"\"\"\n",
    "    def __init__(self, side: float) -> None:\n",
    "        super().__init__(side, side)\n",
    "\n",
    "    @property\n",
    "    def side(self) -> float:\n",
    "        \"\"\"Gets the side length of the square.\"\"\"\n",
    "        return self.width\n",
    "\n",
    "    @side.setter\n",
    "    def side(self, value: float) -> None:\n",
    "        \"\"\"Sets the side length of the square.\"\"\"\n",
    "        self.width = value\n",
    "        self.height = value\n",
    "\n",
    "    def __repr__(self) -> str:\n",
    "        \"\"\"String representation of the square.\"\"\"\n",
    "        return f'Square(side={self.side})'"
   ]
  },
  {
   "cell_type": "code",
   "execution_count": 11,
   "id": "f99d3dec-0022-439a-ba87-e2fc9d49fe66",
   "metadata": {},
   "outputs": [],
   "source": [
    "rect1 = Rectangle(4, 6)\n",
    "rect2 = Rectangle(3, 8)"
   ]
  },
  {
   "cell_type": "code",
   "execution_count": 12,
   "id": "7576181f-be9e-4e46-90c7-6f906c0c58f7",
   "metadata": {},
   "outputs": [
    {
     "name": "stdout",
     "output_type": "stream",
     "text": [
      "Rectangle 1: Rectangle(width=4, height=6), Area: 24, Perimeter: 20\n",
      "Rectangle 2: Rectangle(width=3, height=8), Area: 24, Perimeter: 22\n"
     ]
    }
   ],
   "source": [
    "print(f\"Rectangle 1: {rect1}, Area: {rect1.area}, Perimeter: {rect1.perimeter}\")\n",
    "print(f\"Rectangle 2: {rect2}, Area: {rect2.area}, Perimeter: {rect2.perimeter}\")"
   ]
  },
  {
   "cell_type": "code",
   "execution_count": 13,
   "id": "51658d55-364c-4934-8ba0-4b3690522d7a",
   "metadata": {},
   "outputs": [],
   "source": [
    "square = Square(5)"
   ]
  },
  {
   "cell_type": "code",
   "execution_count": 14,
   "id": "b5aaec82-65aa-4795-826e-cd70d37b2aab",
   "metadata": {},
   "outputs": [
    {
     "name": "stdout",
     "output_type": "stream",
     "text": [
      "Square: Square(side=5), Area: 25, Perimeter: 20\n"
     ]
    }
   ],
   "source": [
    "print(f\"Square: {square}, Area: {square.area}, Perimeter: {square.perimeter}\")"
   ]
  },
  {
   "cell_type": "markdown",
   "id": "6b25e339-8711-4978-84a8-56075f36af72",
   "metadata": {},
   "source": [
    "# **Problem No 04**\n",
    "# **Circle -> Sphere**"
   ]
  },
  {
   "cell_type": "markdown",
   "id": "bb5e3926-bccb-4f3a-a18e-d35130b6ee06",
   "metadata": {},
   "source": [
    "* Take the example of the circle class in the last lab and inherit a sphere class with its own volume and surface area instance method. \n",
    "* Create two instances of the cube class and call both the instance methods.\n"
   ]
  },
  {
   "cell_type": "code",
   "execution_count": 16,
   "id": "c42fd544-cd85-405b-9f6c-6f6137f1da31",
   "metadata": {},
   "outputs": [],
   "source": [
    "import math\n",
    "\n",
    "class Circle:\n",
    "    \"\"\"\n",
    "    A class to represent a circle.\n",
    "    \"\"\"\n",
    "    def __init__(self, radius: float):\n",
    "        self.radius = radius\n",
    "\n",
    "    @property\n",
    "    def radius(self) -> float:\n",
    "        return self._radius\n",
    "\n",
    "    @radius.setter\n",
    "    def radius(self, value: float) -> None:\n",
    "        self._radius = value\n",
    "\n",
    "    def volume(self, height: float) -> float:\n",
    "        \"\"\"\n",
    "        Calculates the volume of a cylinder with the circle as its base.\n",
    "        \"\"\"\n",
    "        return self.area * height\n",
    "\n",
    "    @property\n",
    "    def area(self) -> float:\n",
    "        \"\"\"\n",
    "        Calculates the area of the circle.\n",
    "        \"\"\"\n",
    "        return math.pi * (self._radius ** 2)\n",
    "\n",
    "    @property\n",
    "    def circumference(self) -> float:\n",
    "        \"\"\"\n",
    "        Calculates the circumference of the circle.\n",
    "        \"\"\"\n",
    "        return 2 * math.pi * self._radius\n",
    "\n",
    "    @property\n",
    "    def diameter(self) -> float:\n",
    "        \"\"\"\n",
    "        Returns the diameter of the circle.\n",
    "        \"\"\"\n",
    "        return self._radius * 2\n",
    "\n",
    "    @staticmethod\n",
    "    def from_diameter(diameter: float):\n",
    "        \"\"\"\n",
    "        Creates a Circle instance from the given diameter.\n",
    "        \"\"\"\n",
    "        return Circle(diameter / 2)\n",
    "\n",
    "\n",
    "class Sphere(Circle):\n",
    "    \"\"\"\n",
    "    A class to represent a sphere, inheriting from Circle.\n",
    "    \"\"\"\n",
    "    def __init__(self, radius: float):\n",
    "        super().__init__(radius)\n",
    "\n",
    "    @property\n",
    "    def surface_area(self) -> float:\n",
    "        \"\"\"\n",
    "        Calculates the surface area of the sphere.\n",
    "        \"\"\"\n",
    "        return 4 * math.pi * (self.radius ** 2)\n",
    "\n",
    "    @property\n",
    "    def volume(self) -> float:\n",
    "        \"\"\"\n",
    "        Calculates the volume of the sphere.\n",
    "        \"\"\"\n",
    "        return (4/3) * math.pi * (self.radius ** 3)\n",
    "\n",
    "    def __repr__(self) -> str:\n",
    "        return f\"Sphere(radius={self.radius})\""
   ]
  },
  {
   "cell_type": "code",
   "execution_count": 17,
   "id": "0164d140-d5d1-4208-a0aa-a092f046960b",
   "metadata": {},
   "outputs": [],
   "source": [
    "sphere = Sphere(5)"
   ]
  },
  {
   "cell_type": "code",
   "execution_count": 18,
   "id": "84d25fd6-4632-4652-873f-5ba0191278da",
   "metadata": {},
   "outputs": [
    {
     "name": "stdout",
     "output_type": "stream",
     "text": [
      "Sphere: Sphere(radius=5), Surface Area: 314.16, Volume: 523.60\n"
     ]
    }
   ],
   "source": [
    "print(f\"Sphere: {sphere}, Surface Area: {sphere.surface_area:.2f}, Volume: {sphere.volume:.2f}\")"
   ]
  },
  {
   "cell_type": "markdown",
   "id": "2eec835e-e5bf-4431-8657-2c9765e535ed",
   "metadata": {},
   "source": [
    "# **Problem No 05**\n",
    "# ***HR System***"
   ]
  },
  {
   "cell_type": "markdown",
   "id": "d0c2c6af-0d1b-40d5-aa93-6385072593e7",
   "metadata": {},
   "source": [
    "* **The ***HR system*** needs to process payroll for the company’s employees, but there are different types of employees depending on how their payroll is calculated.**\n",
    "1) **Implement a base class, *Employee*, that handles the common interface for every employee.**\n",
    "2.\t**Administrative workers have a fixed salary, so every week they get paid the same amount.**\n",
    "* **You create a derived class, SalaryEmployee, that inherits from Employee. The class initializes with the .id and .name required by the base class, and you use *super()* to initialize the members of the base class.**\n",
    "* **.*SalaryEmployee* also requires a weekly_salary initialization parameter that represents the amount that the employee makes per week.**\n",
    "* **The class provides the required *.calculate_payroll()* method that the HR system uses. The implementation just returns the amount stored in *weekly_salary.*.**\n",
    "3.\t**The company also employs manufacturing workers who are paid by the hour, so you add *HourlyEmployee* to the HR system**\n",
    "* **You create a derived class, HourlyEmployee, that inherits from Employee. The class initializes with the .id and .name required by the base class, and you use *super()* to initialize the members of the base class.**\n",
    "* **HourlyEmployee also requires hours_worked and the hourly_rate required to calculate the payroll.**\n",
    "* **The class provides the required *.calculate_payroll()* method by returning the hours worked times the hourly rate.**\n",
    "4.\t**the company employs sales associates who are paid through a fixed salary plus a commission based on their sales, so you create a CommissionEmployee class**\n",
    "* **Derive CommissionEmployee from *SalaryEmployee* because both classes have a *weekly_salary* to consider. At the same time, you initialize *CommissionEmployee* with a commission value that’s based on the sales for the employee.**\n",
    "* **In *.calculate_payroll()*, you leverage the implementation of the base class to retrieve the fixed salary, and you add the commission value.**\n",
    "5.\t***Implementing a *PayrollSystem* class that processes payroll.***\n",
    "* **PayrollSystem implements a *.calculate_payroll()* method that takes a collection of employees and prints their *.id, .name*, and check amount using the *.calculate_payroll()* method exposed on each employee object.**"
   ]
  },
  {
   "cell_type": "code",
   "execution_count": 20,
   "id": "3daf059d-91fa-47fa-81bd-ed4187748124",
   "metadata": {},
   "outputs": [],
   "source": [
    "class Payroll_system:\n",
    "    def calculate_payroll(self, employees):\n",
    "        print(\"Calculate Payroll\")\n",
    "        print(\"===========================\")\n",
    "        for employee in employees:\n",
    "            print(f\"Payroll for: {employee.id} - {employee.name}\")\n",
    "            print(f\"- Check amount: {employee.calculate_payroll()}\")\n",
    "            print()"
   ]
  },
  {
   "cell_type": "code",
   "execution_count": 21,
   "id": "dcd50413-321d-451c-b26e-c417d1205bcc",
   "metadata": {},
   "outputs": [],
   "source": [
    "class Employee:\n",
    "    def __init__(self, id, name):\n",
    "        self.id = id\n",
    "        self.name = name"
   ]
  },
  {
   "cell_type": "code",
   "execution_count": 22,
   "id": "ff91177b-160d-4b20-95c7-0c8678af3f38",
   "metadata": {},
   "outputs": [],
   "source": [
    "class Salary_employee(Employee):\n",
    "    def __init__(self, id, name, weekly_salary):\n",
    "        super().__init__(id, name)\n",
    "        self.weekly_salary = weekly_salary\n",
    "\n",
    "    def calculate_payroll(self):\n",
    "        return self.weekly_salary"
   ]
  },
  {
   "cell_type": "code",
   "execution_count": 23,
   "id": "7426851a-b56d-4bfb-87fc-a16c6b5e7888",
   "metadata": {},
   "outputs": [],
   "source": [
    "class Hourly_employee(Employee):\n",
    "    def __init__(self, id, name, hours_worked, hourly_rate):\n",
    "        super().__init__(id, name)\n",
    "        self.hours_worked = hours_worked\n",
    "        self.hourly_rate = hourly_rate\n",
    "\n",
    "    def calculate_payroll(self):\n",
    "        return self.hours_worked * self.hourly_rate"
   ]
  },
  {
   "cell_type": "code",
   "execution_count": 24,
   "id": "f9ad15f3-c585-4395-abaa-edde49857d36",
   "metadata": {},
   "outputs": [],
   "source": [
    "class Commission_employee(Salary_employee):\n",
    "    def __init__(self, id, name, weekly_salary, commission):\n",
    "        super().__init__(id, name, weekly_salary)\n",
    "        self.commission = commission\n",
    "\n",
    "    def calculate_payroll(self):\n",
    "        fixed = super().calculate_payroll()\n",
    "        return fixed + self.commission"
   ]
  },
  {
   "cell_type": "markdown",
   "id": "5fb89b00-e723-4b34-bd7d-a900cc000437",
   "metadata": {},
   "source": [
    "* Task:  creates the employees and passes them to the payroll system to process payroll"
   ]
  },
  {
   "cell_type": "code",
   "execution_count": 26,
   "id": "1b6dbb6c-2043-4ec8-9cee-8dd14f001e64",
   "metadata": {},
   "outputs": [],
   "source": [
    "salary_employee = Salary_employee(528, \"Jamal\", 1500)\n",
    "hourly_employee = Hourly_employee(529, \"Idrees\", 40, 25)\n",
    "commission_employee = Commission_employee(545, \"Waqas\", 1000, 250)"
   ]
  },
  {
   "cell_type": "code",
   "execution_count": 27,
   "id": "130788ab-283d-41b7-a804-1e0a73cdcd72",
   "metadata": {},
   "outputs": [
    {
     "name": "stdout",
     "output_type": "stream",
     "text": [
      "Calculate Payroll\n",
      "===========================\n",
      "Payroll for: 528 - Jamal\n",
      "- Check amount: 1500\n",
      "\n",
      "Payroll for: 529 - Idrees\n",
      "- Check amount: 1000\n",
      "\n",
      "Payroll for: 545 - Waqas\n",
      "- Check amount: 1250\n",
      "\n"
     ]
    }
   ],
   "source": [
    "payroll_system = Payroll_system()\n",
    "employees = [salary_employee, hourly_employee, commission_employee]\n",
    "payroll_system.calculate_payroll(employees)"
   ]
  },
  {
   "cell_type": "markdown",
   "id": "b61d7cb1-c6b2-4bc3-969a-ce77569dd7f7",
   "metadata": {},
   "source": [
    "# **Problem No 06**\n",
    "# ***Electrical Department class***"
   ]
  },
  {
   "cell_type": "code",
   "execution_count": 28,
   "id": "591784f8-030c-4de2-a2df-451ed08eafd9",
   "metadata": {},
   "outputs": [],
   "source": [
    "class ElectricalEmployee:\n",
    "    def __init__(self, fName, lName, pay, department=\"Electrical Department\"):\n",
    "        self.fName = fName\n",
    "        self.lName = lName\n",
    "        self.email = f\"{self.fName.lower()}{self.lName.lower()}@uet.edu.pk\"\n",
    "        self.pay = pay\n",
    "        self.department = department\n",
    "\n",
    "    def raisePay(self, percentage):\n",
    "        self.pay += self.pay * (percentage / 100)\n",
    "\n",
    "    def __str__(self):\n",
    "        return (\n",
    "            f\"Name: {self.fName} {self.lName}\\n\"\n",
    "            f\"Email: {self.email}\\n\"\n",
    "            f\"Pay: Rs{self.pay:.2f}\\n\"\n",
    "            f\"Department: {self.department}\"\n",
    "        )"
   ]
  },
  {
   "cell_type": "code",
   "execution_count": 29,
   "id": "e465fa5e-fbba-4e4c-af74-ce475cbe299a",
   "metadata": {},
   "outputs": [],
   "source": [
    "class ElectricalAdminStaff(ElectricalEmployee):\n",
    "    def __init__(self, fName, lName, pay, team=None):\n",
    "        super().__init__(fName, lName, pay)\n",
    "        self.team = team\n",
    "        self.tasks = []\n",
    "\n",
    "    def assignTask(self, task):\n",
    "        self.tasks.append(task)\n",
    "\n",
    "    def __str__(self):\n",
    "        base_info = super().__str__()\n",
    "        team_info = f\"Team: {self.team}\" if self.team else \"Team: None\"\n",
    "        tasks_info = f\"Tasks Assigned: {', '.join(self.tasks) if self.tasks else 'No tasks assigned'}\"\n",
    "        return f\"{base_info}\\n{team_info}\\n{tasks_info}\""
   ]
  },
  {
   "cell_type": "code",
   "execution_count": 30,
   "id": "9d1a0213-b909-42e4-a8d3-f7e53f5d7bab",
   "metadata": {},
   "outputs": [],
   "source": [
    "class ElectricalInstructor(ElectricalEmployee):\n",
    "    def __init__(self, fName, lName, pay, designation):\n",
    "        super().__init__(fName, lName, pay)\n",
    "        self.designation = designation\n",
    "        self.courses = []\n",
    "\n",
    "    def assignCourse(self, course):\n",
    "        self.courses.append(course)\n",
    "\n",
    "    def __str__(self):\n",
    "        base_info = super().__str__()\n",
    "        designation_info = f\"Designation: {self.designation}\"\n",
    "        courses_info = f\"Courses Assigned: {', '.join(self.courses) if self.courses else 'No courses assigned'}\"\n",
    "        return f\"{base_info}\\n{designation_info}\\n{courses_info}\""
   ]
  },
  {
   "cell_type": "code",
   "execution_count": 31,
   "id": "b47dd9a6-9e2a-4bba-ae04-22ef63aaaafc",
   "metadata": {},
   "outputs": [],
   "source": [
    "admin_staff = ElectricalAdminStaff(\"Muhammad\", \"Idrees\", 4000, \"Team A\")\n",
    "admin_staff.assignTask(\"Manage Electrical Maintenance\")\n",
    "admin_staff.assignTask(\"Prepare Electrical Reports\")"
   ]
  },
  {
   "cell_type": "code",
   "execution_count": 32,
   "id": "48134ecf-3400-4306-999a-68cb72054e6e",
   "metadata": {},
   "outputs": [],
   "source": [
    "instructor = ElectricalInstructor(\"Yahya\", \"Ahmad\", 5000, \"Senior Instructor\")\n",
    "instructor.assignCourse(\"Basic Electrical Engineering\")\n",
    "instructor.assignCourse(\"Advanced Circuit Analysis\")"
   ]
  },
  {
   "cell_type": "code",
   "execution_count": 33,
   "id": "058ff312-7a4c-441e-8d26-078ad0c32102",
   "metadata": {},
   "outputs": [
    {
     "name": "stdout",
     "output_type": "stream",
     "text": [
      "Admin Staff Details:\n",
      "Name: Muhammad Idrees\n",
      "Email: muhammadidrees@uet.edu.pk\n",
      "Pay: Rs4000.00\n",
      "Department: Electrical Department\n",
      "Team: Team A\n",
      "Tasks Assigned: Manage Electrical Maintenance, Prepare Electrical Reports\n"
     ]
    }
   ],
   "source": [
    "print(\"Admin Staff Details:\")\n",
    "print(admin_staff)"
   ]
  },
  {
   "cell_type": "code",
   "execution_count": 34,
   "id": "f4b0b618-8873-4ea5-b9c4-391fa6abcb75",
   "metadata": {},
   "outputs": [
    {
     "name": "stdout",
     "output_type": "stream",
     "text": [
      "\n",
      "Instructor Details:\n",
      "Name: Yahya Ahmad\n",
      "Email: yahyaahmad@uet.edu.pk\n",
      "Pay: Rs5000.00\n",
      "Department: Electrical Department\n",
      "Designation: Senior Instructor\n",
      "Courses Assigned: Basic Electrical Engineering, Advanced Circuit Analysis\n"
     ]
    }
   ],
   "source": [
    "print(\"\\nInstructor Details:\")\n",
    "print(instructor)"
   ]
  }
 ],
 "metadata": {
  "kernelspec": {
   "display_name": "Python 3 (ipykernel)",
   "language": "python",
   "name": "python3"
  },
  "language_info": {
   "codemirror_mode": {
    "name": "ipython",
    "version": 3
   },
   "file_extension": ".py",
   "mimetype": "text/x-python",
   "name": "python",
   "nbconvert_exporter": "python",
   "pygments_lexer": "ipython3",
   "version": "3.9.19"
  }
 },
 "nbformat": 4,
 "nbformat_minor": 5
}
