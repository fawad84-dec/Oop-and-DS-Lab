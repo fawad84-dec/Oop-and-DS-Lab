{
 "cells": [
  {
   "cell_type": "markdown",
   "id": "cd4d82e8-8dc9-4b05-8666-27c900e4a961",
   "metadata": {},
   "source": [
    "# ***Name : Fawad khan***\n",
    "# ***Reg No : 23jzele0544***\n",
    "# **Lab : 03**"
   ]
  },
  {
   "cell_type": "markdown",
   "id": "128f9895-d884-4e6e-a01a-b1ec1082c551",
   "metadata": {},
   "source": [
    "# **Lab Practice**"
   ]
  },
  {
   "cell_type": "markdown",
   "id": "83a03bb5-a897-42d1-8a50-3d585569e6d4",
   "metadata": {},
   "source": [
    "1. Make a list of 5 any integers."
   ]
  },
  {
   "cell_type": "code",
   "execution_count": 1,
   "id": "19c88b76-400d-459c-a7a8-b2b7e70aeced",
   "metadata": {},
   "outputs": [
    {
     "name": "stdout",
     "output_type": "stream",
     "text": [
      "[1, 2, 3, 4, 5]\n"
     ]
    }
   ],
   "source": [
    "lst1 = [1,2,3,4,5]\n",
    "print(lst1)\n"
   ]
  },
  {
   "cell_type": "markdown",
   "id": "79cb2256-6244-4769-a519-6853ee676c68",
   "metadata": {},
   "source": [
    "Make a list that contains the student's name, the last four digits of the registration number as an integer, CGPA as a float, and a list that contains the GPA of all semesters. (Nested List)"
   ]
  },
  {
   "cell_type": "code",
   "execution_count": 2,
   "id": "d2b1de1c-8b6c-4c8e-9d44-17d44012dfb1",
   "metadata": {},
   "outputs": [
    {
     "name": "stdout",
     "output_type": "stream",
     "text": [
      "['Yahya', 528, 3.91, [3.86, 3.95]]\n"
     ]
    }
   ],
   "source": [
    "student = ['Yahya', 528, 3.91, [3.86,3.95]]\n",
    "print(student)"
   ]
  },
  {
   "cell_type": "code",
   "execution_count": 3,
   "id": "948727c9-fc8b-4d7d-905c-7fd5ba5a401b",
   "metadata": {},
   "outputs": [
    {
     "name": "stdout",
     "output_type": "stream",
     "text": [
      "3.91\n"
     ]
    }
   ],
   "source": [
    "print(student[2])"
   ]
  },
  {
   "cell_type": "markdown",
   "id": "63635fc3-a490-494b-8290-3b885e306e3d",
   "metadata": {},
   "source": [
    "Print the list elements using the while loop and use the length function. (len)"
   ]
  },
  {
   "cell_type": "code",
   "execution_count": 4,
   "id": "44cc1d21-3474-4477-878b-a0e1fe5ac242",
   "metadata": {},
   "outputs": [
    {
     "name": "stdout",
     "output_type": "stream",
     "text": [
      "Yahya\n",
      "528\n",
      "3.91\n",
      "[3.86, 3.95]\n"
     ]
    }
   ],
   "source": [
    "i = 0\n",
    "while i < len(student):\n",
    "    print(student[i])\n",
    "    i += 1"
   ]
  },
  {
   "cell_type": "code",
   "execution_count": 5,
   "id": "0ddc2ba2-e2aa-49d2-aa6e-5ff007e8995f",
   "metadata": {},
   "outputs": [
    {
     "name": "stdout",
     "output_type": "stream",
     "text": [
      "['Yahya', 528, 3.91, [3.86, 3.95]]\n"
     ]
    }
   ],
   "source": [
    "print(student)"
   ]
  },
  {
   "cell_type": "markdown",
   "id": "dfb7683c-325f-4111-94ac-ba3f76ce94bc",
   "metadata": {},
   "source": [
    "Access the list of all semester GPAs using negative indexing."
   ]
  },
  {
   "cell_type": "code",
   "execution_count": 6,
   "id": "6dbac7b6-7812-476a-8dc3-432bc445a510",
   "metadata": {},
   "outputs": [
    {
     "data": {
      "text/plain": [
       "[3.86, 3.95]"
      ]
     },
     "execution_count": 6,
     "metadata": {},
     "output_type": "execute_result"
    }
   ],
   "source": [
    "student[-1]"
   ]
  },
  {
   "cell_type": "markdown",
   "id": "a764460b-da74-4809-be79-4edc0342e756",
   "metadata": {},
   "source": [
    "Make a list of the first 20 integers using the range function."
   ]
  },
  {
   "cell_type": "code",
   "execution_count": 7,
   "id": "d64161f2-b9ea-4e8b-9281-8e8264e05381",
   "metadata": {},
   "outputs": [
    {
     "name": "stdout",
     "output_type": "stream",
     "text": [
      "[1, 2, 3, 4, 5, 6, 7, 8, 9, 10, 11, 12, 13, 14, 15, 16, 17, 18, 19, 20]\n"
     ]
    }
   ],
   "source": [
    "lst2 = [x for x in range(1,21)]\n",
    "print(lst2)"
   ]
  },
  {
   "cell_type": "markdown",
   "id": "4db1c90f-1913-49a6-b5b9-4a383c246944",
   "metadata": {},
   "source": [
    "Make a list of odd integers from 20 to 40 using the range function."
   ]
  },
  {
   "cell_type": "code",
   "execution_count": 8,
   "id": "8f689bd1-5c29-4e19-b8d3-ed4dca5dee4e",
   "metadata": {},
   "outputs": [
    {
     "name": "stdout",
     "output_type": "stream",
     "text": [
      "[21, 23, 25, 27, 29, 31, 33, 35, 37, 39]\n"
     ]
    }
   ],
   "source": [
    "lst3 = [x for x in range(20,40) if x % 2 != 0]\n",
    "print(lst3)"
   ]
  },
  {
   "cell_type": "markdown",
   "id": "cf9149e6-326e-4741-b045-ead74163389b",
   "metadata": {},
   "source": [
    "Consider the student list. *Student = [Ibrahim, Husain, Irfan, Ayub, Usman]* Use in and not in operators to ensure that the student is in the list or not."
   ]
  },
  {
   "cell_type": "code",
   "execution_count": 9,
   "id": "ed8066ef-02fb-477c-8778-ade784a5d143",
   "metadata": {},
   "outputs": [],
   "source": [
    "Students = ['Ibrahim', 'Husain', 'Irfan', 'Ayub', 'Usman']"
   ]
  },
  {
   "cell_type": "code",
   "execution_count": 10,
   "id": "dc84b241-1d1a-4fc7-979f-0112e7bc611e",
   "metadata": {},
   "outputs": [
    {
     "name": "stdout",
     "output_type": "stream",
     "text": [
      "False\n",
      "True\n",
      "True\n",
      "True\n"
     ]
    }
   ],
   "source": [
    "print('Ibrahim1' in Students)\n",
    "print('yahya' not in Students)\n",
    "print('Ayub' in Students)\n",
    "print('usman' not in Students)"
   ]
  },
  {
   "cell_type": "markdown",
   "id": "f8bc03f5-fa64-441b-ab2e-4f19de923096",
   "metadata": {},
   "source": [
    "Print all the student lists in task 8 using the for loop"
   ]
  },
  {
   "cell_type": "code",
   "execution_count": 11,
   "id": "9cbbbd29-3307-44a8-80d2-d8a99cd4f043",
   "metadata": {},
   "outputs": [
    {
     "name": "stdout",
     "output_type": "stream",
     "text": [
      "Ibrahim\n",
      "Husain\n",
      "Irfan\n",
      "Ayub\n",
      "Usman\n"
     ]
    }
   ],
   "source": [
    "for i in Students:\n",
    "    print(i)"
   ]
  },
  {
   "cell_type": "markdown",
   "id": "031a7ab6-0aa8-4f4f-ae76-ba05ea614fbe",
   "metadata": {},
   "source": [
    "Observe what is print, what is the first thing print, what the last thing print. Consider task 8 for the student list.\n",
    "Student [1:3] and student [2:4]"
   ]
  },
  {
   "cell_type": "code",
   "execution_count": 12,
   "id": "61a3c83d-f0e9-452a-baf9-03c439e8d110",
   "metadata": {},
   "outputs": [
    {
     "data": {
      "text/plain": [
       "['Husain', 'Irfan']"
      ]
     },
     "execution_count": 12,
     "metadata": {},
     "output_type": "execute_result"
    }
   ],
   "source": [
    "Students [1:3]"
   ]
  },
  {
   "cell_type": "code",
   "execution_count": 13,
   "id": "486cf9db-210d-4ba6-92f9-d1f7b37d729b",
   "metadata": {},
   "outputs": [
    {
     "data": {
      "text/plain": [
       "['Irfan', 'Ayub']"
      ]
     },
     "execution_count": 13,
     "metadata": {},
     "output_type": "execute_result"
    }
   ],
   "source": [
    "Students [2:4]"
   ]
  },
  {
   "cell_type": "markdown",
   "id": "0816a1ca-32de-4b82-abf6-ace019e2c1bd",
   "metadata": {},
   "source": [
    "Make an appropriate list and use and demonstrate the use of the following mutator Methods."
   ]
  },
  {
   "cell_type": "code",
   "execution_count": 16,
   "id": "acf4571e-affe-43a2-a581-bf59598dcf5e",
   "metadata": {},
   "outputs": [
    {
     "data": {
      "text/plain": [
       "['a', 'b', 'c', 'd', 'e', 'f']"
      ]
     },
     "execution_count": 16,
     "metadata": {},
     "output_type": "execute_result"
    }
   ],
   "source": [
    "lst5 = ['a','b','c','d','e','f']\n",
    "lst5"
   ]
  },
  {
   "cell_type": "markdown",
   "id": "c1fa9924-aeb0-4fe4-9689-b29495ee6a9c",
   "metadata": {},
   "source": [
    "* append(obj)"
   ]
  },
  {
   "cell_type": "code",
   "execution_count": 17,
   "id": "3b6d750b-d330-4e5c-8cd3-b5fa6e00272c",
   "metadata": {},
   "outputs": [
    {
     "data": {
      "text/plain": [
       "['a', 'b', 'c', 'd', 'e', 'f', 'g']"
      ]
     },
     "execution_count": 17,
     "metadata": {},
     "output_type": "execute_result"
    }
   ],
   "source": [
    "lst5.append('g')\n",
    "lst5"
   ]
  },
  {
   "cell_type": "markdown",
   "id": "d26693e2-e833-4f2e-bb9c-5843acfa5821",
   "metadata": {},
   "source": [
    "* extend(iterable)"
   ]
  },
  {
   "cell_type": "code",
   "execution_count": 19,
   "id": "89fd3c18-4f48-47ce-8222-8c64277870e2",
   "metadata": {},
   "outputs": [
    {
     "data": {
      "text/plain": [
       "['a', 'b', 'c', 'd', 'e', 'f', 'g', 'h']"
      ]
     },
     "execution_count": 19,
     "metadata": {},
     "output_type": "execute_result"
    }
   ],
   "source": [
    "lst5.extend('h')\n",
    "lst5"
   ]
  },
  {
   "cell_type": "markdown",
   "id": "4870ddd5-a6e9-4804-94f4-bba906482c05",
   "metadata": {},
   "source": [
    "* insert(index, obj)"
   ]
  },
  {
   "cell_type": "code",
   "execution_count": 21,
   "id": "c5898b0b-e1d0-4fe4-8303-661dbd22e029",
   "metadata": {},
   "outputs": [
    {
     "data": {
      "text/plain": [
       "['a', 'b', 'x', 'c', 'd', 'e', 'f', 'g', 'h']"
      ]
     },
     "execution_count": 21,
     "metadata": {},
     "output_type": "execute_result"
    }
   ],
   "source": [
    "lst5.insert(2, 'x')\n",
    "lst5"
   ]
  },
  {
   "cell_type": "code",
   "execution_count": null,
   "id": "159b0827-e4df-4480-863d-5f5cbabde4b1",
   "metadata": {},
   "outputs": [],
   "source": [
    "* remove(obj)"
   ]
  },
  {
   "cell_type": "code",
   "execution_count": 24,
   "id": "5fcf9a14-5cc6-4a09-881a-79c8f58a83bd",
   "metadata": {},
   "outputs": [
    {
     "data": {
      "text/plain": [
       "'h'"
      ]
     },
     "execution_count": 24,
     "metadata": {},
     "output_type": "execute_result"
    }
   ],
   "source": [
    "lst5.pop(-1)"
   ]
  },
  {
   "cell_type": "markdown",
   "id": "eb1cbedf-45cf-4590-8047-55ddb5656a4e",
   "metadata": {},
   "source": [
    "Use list inducing in the following nested list and access each and every element.\n",
    "x = [\"a\", [\"bb\", [\"ccc\", \"ddd\"], \"ee\", \"ff\"], \"g\", [\"hh\", \"ii\"], \"j\"]"
   ]
  },
  {
   "cell_type": "code",
   "execution_count": 25,
   "id": "9af54ca7-00d8-462f-9daf-6915c3e45ce3",
   "metadata": {},
   "outputs": [],
   "source": [
    "x = [\"a\", [\"bb\", [\"ccc\", \"ddd\"], \"ee\", \"ff\"], \"g\", [\"hh\", \"ii\"], \"j\"]"
   ]
  },
  {
   "cell_type": "code",
   "execution_count": 26,
   "id": "bcf3e29f-166e-4c99-961e-ad13882e0231",
   "metadata": {},
   "outputs": [
    {
     "name": "stdout",
     "output_type": "stream",
     "text": [
      "a\n"
     ]
    }
   ],
   "source": [
    "print(x[0])"
   ]
  },
  {
   "cell_type": "code",
   "execution_count": 27,
   "id": "4597f686-856a-4a67-95ff-4e1cf4634e17",
   "metadata": {},
   "outputs": [
    {
     "name": "stdout",
     "output_type": "stream",
     "text": [
      "bb\n"
     ]
    }
   ],
   "source": [
    "print(x[1][0])"
   ]
  },
  {
   "cell_type": "code",
   "execution_count": 28,
   "id": "0abb2d97-b6f8-4bdc-8df0-b971eaab48d8",
   "metadata": {},
   "outputs": [
    {
     "name": "stdout",
     "output_type": "stream",
     "text": [
      "ccc\n"
     ]
    }
   ],
   "source": [
    "print(x[1][1][0])"
   ]
  },
  {
   "cell_type": "code",
   "execution_count": 29,
   "id": "7896d991-c8f4-46cb-aa58-ef737876e17b",
   "metadata": {},
   "outputs": [
    {
     "name": "stdout",
     "output_type": "stream",
     "text": [
      "ddd\n"
     ]
    }
   ],
   "source": [
    "print(x[1][1][1])"
   ]
  },
  {
   "cell_type": "code",
   "execution_count": 30,
   "id": "e551bbba-9267-427e-a1da-22179cd79de4",
   "metadata": {},
   "outputs": [
    {
     "name": "stdout",
     "output_type": "stream",
     "text": [
      "ee\n"
     ]
    }
   ],
   "source": [
    "print(x[1][2])"
   ]
  },
  {
   "cell_type": "code",
   "execution_count": 31,
   "id": "dca9aca5-9b41-4b2a-acf1-60d3d604b588",
   "metadata": {},
   "outputs": [
    {
     "name": "stdout",
     "output_type": "stream",
     "text": [
      "ff\n"
     ]
    }
   ],
   "source": [
    "print(x[1][3])"
   ]
  },
  {
   "cell_type": "code",
   "execution_count": 32,
   "id": "e62dfb30-3e67-4dc7-b5d9-8677937aa2a9",
   "metadata": {},
   "outputs": [
    {
     "name": "stdout",
     "output_type": "stream",
     "text": [
      "g\n"
     ]
    }
   ],
   "source": [
    "print(x[2])\n"
   ]
  },
  {
   "cell_type": "code",
   "execution_count": 33,
   "id": "359e8988-e146-42e9-9b84-5d9881ea4f20",
   "metadata": {},
   "outputs": [
    {
     "name": "stdout",
     "output_type": "stream",
     "text": [
      "hh\n"
     ]
    }
   ],
   "source": [
    "print(x[3][0])"
   ]
  },
  {
   "cell_type": "code",
   "execution_count": 34,
   "id": "cd378947-5976-4476-9ed1-673a156e6e6e",
   "metadata": {},
   "outputs": [
    {
     "name": "stdout",
     "output_type": "stream",
     "text": [
      "ii\n"
     ]
    }
   ],
   "source": [
    "print(x[3][1])"
   ]
  },
  {
   "cell_type": "code",
   "execution_count": 35,
   "id": "0ff865d5-32c6-4318-8d16-f19c929f4f3b",
   "metadata": {},
   "outputs": [
    {
     "name": "stdout",
     "output_type": "stream",
     "text": [
      "j\n"
     ]
    }
   ],
   "source": [
    "print(x[4])"
   ]
  },
  {
   "cell_type": "markdown",
   "id": "c5578298-aba6-4294-8ad6-c8faf115bd63",
   "metadata": {},
   "source": [
    "# **Tuple**"
   ]
  },
  {
   "cell_type": "markdown",
   "id": "80474c7f-dc04-46fd-b606-01347b38e21b",
   "metadata": {},
   "source": [
    "1. Make a tuple containing first five letters of English. (definition)"
   ]
  },
  {
   "cell_type": "code",
   "execution_count": 36,
   "id": "c47167f3-eff0-4f45-a57d-f4db23b6431c",
   "metadata": {},
   "outputs": [],
   "source": [
    "tpl1 = ('a','b','c','d','e')"
   ]
  },
  {
   "cell_type": "code",
   "execution_count": 37,
   "id": "7e3574eb-e863-445b-8835-a89e74c5fbad",
   "metadata": {},
   "outputs": [
    {
     "data": {
      "text/plain": [
       "('a', 'b', 'c', 'd', 'e')"
      ]
     },
     "execution_count": 37,
     "metadata": {},
     "output_type": "execute_result"
    }
   ],
   "source": [
    "tpl1"
   ]
  },
  {
   "cell_type": "markdown",
   "id": "9f036f12-e61d-4444-bd8c-a7f76bb4644e",
   "metadata": {},
   "source": [
    "Use the index to access the third and last element."
   ]
  },
  {
   "cell_type": "code",
   "execution_count": 38,
   "id": "18f61981-ff23-4468-9928-cad85f025f36",
   "metadata": {},
   "outputs": [
    {
     "data": {
      "text/plain": [
       "'c'"
      ]
     },
     "execution_count": 38,
     "metadata": {},
     "output_type": "execute_result"
    }
   ],
   "source": [
    "tpl1[2]"
   ]
  },
  {
   "cell_type": "code",
   "execution_count": 39,
   "id": "2b26e77c-ee7a-428c-996a-a4d463485e7d",
   "metadata": {},
   "outputs": [
    {
     "data": {
      "text/plain": [
       "'e'"
      ]
     },
     "execution_count": 39,
     "metadata": {},
     "output_type": "execute_result"
    }
   ],
   "source": [
    "tpl1[4]"
   ]
  },
  {
   "cell_type": "markdown",
   "id": "0c9d940f-e858-4622-ae5f-7bb9a3920415",
   "metadata": {},
   "source": [
    "Make an appropriate list and tuple and use different operations that will show that list is mutable and tuple is immutable."
   ]
  },
  {
   "cell_type": "code",
   "execution_count": 41,
   "id": "ac76feb3-938a-4f2e-b85a-4a4d46e7ccb8",
   "metadata": {},
   "outputs": [],
   "source": [
    "lst1 = ['a', 'b', 'c', 'd', 'e']"
   ]
  },
  {
   "cell_type": "code",
   "execution_count": 42,
   "id": "6b68e102-33c4-4f8e-8bbe-365866130875",
   "metadata": {},
   "outputs": [
    {
     "data": {
      "text/plain": [
       "['a', 'b', 'c', 'd', 'e']"
      ]
     },
     "execution_count": 42,
     "metadata": {},
     "output_type": "execute_result"
    }
   ],
   "source": [
    "lst1"
   ]
  },
  {
   "cell_type": "code",
   "execution_count": 43,
   "id": "d09641d4-853b-4900-a5d8-3ae899fd2374",
   "metadata": {},
   "outputs": [
    {
     "name": "stdout",
     "output_type": "stream",
     "text": [
      "['a', 'b', 'c', 'd', 'e', 'f']\n"
     ]
    }
   ],
   "source": [
    "# .append()\n",
    "lst1.append('f')    # list is mutable\n",
    "print(lst1)"
   ]
  },
  {
   "cell_type": "code",
   "execution_count": 44,
   "id": "0cdb37cd-b095-4272-8d77-da260fa135e0",
   "metadata": {},
   "outputs": [
    {
     "ename": "AttributeError",
     "evalue": "'tuple' object has no attribute 'append'",
     "output_type": "error",
     "traceback": [
      "\u001b[1;31m---------------------------------------------------------------------------\u001b[0m",
      "\u001b[1;31mAttributeError\u001b[0m                            Traceback (most recent call last)",
      "Cell \u001b[1;32mIn[44], line 2\u001b[0m\n\u001b[0;32m      1\u001b[0m \u001b[38;5;66;03m# .append()\u001b[39;00m\n\u001b[1;32m----> 2\u001b[0m \u001b[43mtpl1\u001b[49m\u001b[38;5;241;43m.\u001b[39;49m\u001b[43mappend\u001b[49m(\u001b[38;5;124m'\u001b[39m\u001b[38;5;124mf\u001b[39m\u001b[38;5;124m'\u001b[39m)    \u001b[38;5;66;03m# tuple is immutable and show error just after running\u001b[39;00m\n\u001b[0;32m      3\u001b[0m \u001b[38;5;28mprint\u001b[39m(tpl1)\n",
      "\u001b[1;31mAttributeError\u001b[0m: 'tuple' object has no attribute 'append'"
     ]
    }
   ],
   "source": [
    "# .append()\n",
    "tpl1.append('f')    # tuple is immutable and show error just after running\n",
    "print(tpl1)"
   ]
  },
  {
   "cell_type": "code",
   "execution_count": 45,
   "id": "70c7908b-6f2d-4bd2-a805-33cca7bf7afd",
   "metadata": {},
   "outputs": [
    {
     "data": {
      "text/plain": [
       "['a', 'b', 'e', 'd', 'e', 'f']"
      ]
     },
     "execution_count": 45,
     "metadata": {},
     "output_type": "execute_result"
    }
   ],
   "source": [
    "lst1[2] = 'e'   # mutable\n",
    "lst1"
   ]
  },
  {
   "cell_type": "code",
   "execution_count": 46,
   "id": "7613ed84-c6ce-4a22-9bcd-d3519210c468",
   "metadata": {},
   "outputs": [
    {
     "ename": "TypeError",
     "evalue": "'tuple' object does not support item assignment",
     "output_type": "error",
     "traceback": [
      "\u001b[1;31m---------------------------------------------------------------------------\u001b[0m",
      "\u001b[1;31mTypeError\u001b[0m                                 Traceback (most recent call last)",
      "Cell \u001b[1;32mIn[46], line 1\u001b[0m\n\u001b[1;32m----> 1\u001b[0m tpl1[\u001b[38;5;241m0\u001b[39m] \u001b[38;5;241m=\u001b[39m \u001b[38;5;124m'\u001b[39m\u001b[38;5;124mx\u001b[39m\u001b[38;5;124m'\u001b[39m   \u001b[38;5;66;03m# immutable it shwo an error juct after running\u001b[39;00m\n\u001b[0;32m      2\u001b[0m tpl1\n",
      "\u001b[1;31mTypeError\u001b[0m: 'tuple' object does not support item assignment"
     ]
    }
   ],
   "source": [
    "tpl1[0] = 'x'   # immutable it shwo an error juct after running\n",
    "tpl1"
   ]
  },
  {
   "cell_type": "markdown",
   "id": "ce77cdfc-d10c-4760-a09b-ac09ded43e3c",
   "metadata": {},
   "source": [
    "Make a tuple num = (1, 2, 3, 4). a. Observe the output num[2] = 9"
   ]
  },
  {
   "cell_type": "code",
   "execution_count": 48,
   "id": "a0e255ea-433c-4406-8510-6112f729f1e4",
   "metadata": {},
   "outputs": [
    {
     "ename": "NameError",
     "evalue": "name 'num' is not defined",
     "output_type": "error",
     "traceback": [
      "\u001b[1;31m---------------------------------------------------------------------------\u001b[0m",
      "\u001b[1;31mNameError\u001b[0m                                 Traceback (most recent call last)",
      "Cell \u001b[1;32mIn[48], line 1\u001b[0m\n\u001b[1;32m----> 1\u001b[0m \u001b[43mnum\u001b[49m[\u001b[38;5;241m2\u001b[39m] \u001b[38;5;241m=\u001b[39m \u001b[38;5;241m9\u001b[39m\n",
      "\u001b[1;31mNameError\u001b[0m: name 'num' is not defined"
     ]
    }
   ],
   "source": [
    "num[2] = 9  # i abserb that tuple is immutable"
   ]
  },
  {
   "cell_type": "markdown",
   "id": "ca66ec61-3a41-426e-8757-1c3a486a23c4",
   "metadata": {},
   "source": [
    "# **Dictionary**"
   ]
  },
  {
   "cell_type": "markdown",
   "id": "1ac8c894-37f2-4b0f-852f-0be59ac36ac0",
   "metadata": {},
   "source": [
    "consider the following structure and observe. Fd= { ‘one’: ‘aik’, , ‘three’: ‘teen’, ‘ten’ : ‘das’, ‘fifteen’ : ‘pandra’}\n",
    "Bracket type"
   ]
  },
  {
   "cell_type": "markdown",
   "id": "aaa9711e-7d51-4517-85e5-7712d459fe4c",
   "metadata": {},
   "source": [
    "consider the following structure and observe. Fd= { ‘one’: ‘aik’, , ‘three’: ‘teen’, ‘ten’ : ‘das’, ‘fifteen’ : ‘pandra’}\n",
    "Bracket type"
   ]
  },
  {
   "cell_type": "code",
   "execution_count": 49,
   "id": "339d3572-083f-4182-adf7-9b80bcb82ddf",
   "metadata": {},
   "outputs": [
    {
     "name": "stdout",
     "output_type": "stream",
     "text": [
      "<class 'dict'>\n"
     ]
    }
   ],
   "source": [
    "fd= { 'one': 'aik', 'three': 'teen', 'ten' : 'das', 'fifteen' : 'pandra'}\n",
    "print(type({}))"
   ]
  },
  {
   "cell_type": "markdown",
   "id": "0c0b9d5f-d404-4574-ab7f-0622f21b2ab7",
   "metadata": {},
   "source": [
    "* Print Fd"
   ]
  },
  {
   "cell_type": "code",
   "execution_count": 50,
   "id": "1fdfac37-fb8e-434c-8b05-d0b7fca2896f",
   "metadata": {},
   "outputs": [
    {
     "name": "stdout",
     "output_type": "stream",
     "text": [
      "{'one': 'aik', 'three': 'teen', 'ten': 'das', 'fifteen': 'pandra'}\n"
     ]
    }
   ],
   "source": [
    "print(fd)"
   ]
  },
  {
   "cell_type": "markdown",
   "id": "bfe23394-d3db-4cd8-841d-8ff6e95843c3",
   "metadata": {},
   "source": [
    "* Fd[‘one’]"
   ]
  },
  {
   "cell_type": "code",
   "execution_count": 51,
   "id": "33bad848-ec2d-449b-bd64-e002e4682017",
   "metadata": {},
   "outputs": [
    {
     "data": {
      "text/plain": [
       "'aik'"
      ]
     },
     "execution_count": 51,
     "metadata": {},
     "output_type": "execute_result"
    }
   ],
   "source": [
    "fd['one']"
   ]
  },
  {
   "cell_type": "markdown",
   "id": "2c82d718-61d9-4171-ba91-ec8f22f3d9b9",
   "metadata": {},
   "source": [
    "* Fd[‘ten’]"
   ]
  },
  {
   "cell_type": "code",
   "execution_count": 52,
   "id": "58eb6747-802f-4c62-8f8a-d452bc8837f4",
   "metadata": {},
   "outputs": [
    {
     "data": {
      "text/plain": [
       "'das'"
      ]
     },
     "execution_count": 52,
     "metadata": {},
     "output_type": "execute_result"
    }
   ],
   "source": [
    "fd['ten']"
   ]
  },
  {
   "cell_type": "markdown",
   "id": "ed331a3b-c4f5-44cd-a42d-5cd38a249d90",
   "metadata": {},
   "source": [
    "* del Fd[‘three’] and then print Fd."
   ]
  },
  {
   "cell_type": "code",
   "execution_count": null,
   "id": "42b5dcc0-0367-4b23-8821-11d0d62c014d",
   "metadata": {},
   "outputs": [],
   "source": [
    "del fd['three']\n",
    "print(fd)"
   ]
  },
  {
   "cell_type": "markdown",
   "id": "5662af0f-de75-4fbc-b67f-f3193d78df62",
   "metadata": {},
   "source": [
    "* Len(Fd)."
   ]
  },
  {
   "cell_type": "code",
   "execution_count": 53,
   "id": "48464ff2-7d8e-4039-ad11-3faf3cabec93",
   "metadata": {},
   "outputs": [
    {
     "data": {
      "text/plain": [
       "4"
      ]
     },
     "execution_count": 53,
     "metadata": {},
     "output_type": "execute_result"
    }
   ],
   "source": [
    "len(fd)"
   ]
  },
  {
   "cell_type": "markdown",
   "id": "bb93700e-e0e5-4d6e-a582-dc0fd0fb25cf",
   "metadata": {},
   "source": [
    "* Use the key method and print the list of keys."
   ]
  },
  {
   "cell_type": "code",
   "execution_count": 54,
   "id": "4bce384a-eee3-4df0-8969-8cb49d45ed1d",
   "metadata": {},
   "outputs": [
    {
     "data": {
      "text/plain": [
       "dict_keys(['one', 'three', 'ten', 'fifteen'])"
      ]
     },
     "execution_count": 54,
     "metadata": {},
     "output_type": "execute_result"
    }
   ],
   "source": [
    "fd.keys()"
   ]
  },
  {
   "cell_type": "markdown",
   "id": "0a0237d6-de7f-4ec2-b73e-e8f6a5274e07",
   "metadata": {},
   "source": [
    "* Use the value function to print the list of values."
   ]
  },
  {
   "cell_type": "code",
   "execution_count": 55,
   "id": "285cbd28-625e-4400-8c72-8c7b7059e1b4",
   "metadata": {},
   "outputs": [
    {
     "data": {
      "text/plain": [
       "dict_values(['aik', 'teen', 'das', 'pandra'])"
      ]
     },
     "execution_count": 55,
     "metadata": {},
     "output_type": "execute_result"
    }
   ],
   "source": [
    "fd.values()"
   ]
  },
  {
   "cell_type": "markdown",
   "id": "c9aa2075-0c1b-4d9f-b59b-4cfdb1fbc5b0",
   "metadata": {},
   "source": [
    "* Observe the output of Fd.items()."
   ]
  },
  {
   "cell_type": "code",
   "execution_count": null,
   "id": "86dccac5-687b-457c-9221-4b881d3e9e89",
   "metadata": {},
   "outputs": [],
   "source": [
    "fd.items()"
   ]
  },
  {
   "cell_type": "markdown",
   "id": "d807c878-8232-4ec6-9188-f758d1b6df67",
   "metadata": {},
   "source": [
    "* Observe the output Fd.has_key(‘one) and Fd.has_key(‘two’) and think where such type of output will help and required."
   ]
  },
  {
   "cell_type": "code",
   "execution_count": 56,
   "id": "88d6aca9-c75a-4904-9c3c-6c47c387904f",
   "metadata": {},
   "outputs": [
    {
     "ename": "AttributeError",
     "evalue": "'dict' object has no attribute 'has_key'",
     "output_type": "error",
     "traceback": [
      "\u001b[1;31m---------------------------------------------------------------------------\u001b[0m",
      "\u001b[1;31mAttributeError\u001b[0m                            Traceback (most recent call last)",
      "Cell \u001b[1;32mIn[56], line 1\u001b[0m\n\u001b[1;32m----> 1\u001b[0m \u001b[43mfd\u001b[49m\u001b[38;5;241;43m.\u001b[39;49m\u001b[43mhas_key\u001b[49m(\u001b[38;5;124m'\u001b[39m\u001b[38;5;124mone\u001b[39m\u001b[38;5;124m'\u001b[39m)\n",
      "\u001b[1;31mAttributeError\u001b[0m: 'dict' object has no attribute 'has_key'"
     ]
    }
   ],
   "source": [
    "fd.has_key('one')   # in ptython 3 .has_key methode were remove after running it show error"
   ]
  },
  {
   "cell_type": "code",
   "execution_count": null,
   "id": "b5979198-d26c-4484-8045-6921f8d9ecbc",
   "metadata": {},
   "outputs": [],
   "source": [
    "* To copy the dictionary, one may use one of the following. Verify by printing copy and alias.\n",
    "* copy = Fd.copy()\n",
    "\n",
    "\n"
   ]
  },
  {
   "cell_type": "code",
   "execution_count": 57,
   "id": "117e6c66-5850-41a2-be65-cf3dae03fa61",
   "metadata": {},
   "outputs": [],
   "source": [
    "copy = fd.copy()"
   ]
  },
  {
   "cell_type": "markdown",
   "id": "83fedf7b-843f-4e95-9d71-26aa49e53a93",
   "metadata": {},
   "source": [
    "* alias = Fd"
   ]
  },
  {
   "cell_type": "code",
   "execution_count": 58,
   "id": "d4e3d9e8-6913-4315-85d3-c909ed3fd05b",
   "metadata": {},
   "outputs": [],
   "source": [
    "alias = copy"
   ]
  },
  {
   "cell_type": "markdown",
   "id": "0768bebb-f312-4886-a93c-adecd724cc09",
   "metadata": {},
   "source": [
    "* Now let alias[‘three’] = ‘3’, now print alias and observe the result."
   ]
  },
  {
   "cell_type": "code",
   "execution_count": 59,
   "id": "482d8ac9-63e6-4105-9f4b-120d66aa2caa",
   "metadata": {},
   "outputs": [
    {
     "data": {
      "text/plain": [
       "{'one': 'aik', 'three': '3', 'ten': 'das', 'fifteen': 'pandra'}"
      ]
     },
     "execution_count": 59,
     "metadata": {},
     "output_type": "execute_result"
    }
   ],
   "source": [
    "alias['three'] = '3'\n",
    "alias"
   ]
  },
  {
   "cell_type": "markdown",
   "id": "6fc26913-0fbe-4aa6-acf0-293a70375f5d",
   "metadata": {},
   "source": [
    "* Also let copy[‘three’] = ‘3’, now print copy and observe the result."
   ]
  },
  {
   "cell_type": "code",
   "execution_count": 60,
   "id": "f6114965-8e4f-438b-bb83-a8e398ceda73",
   "metadata": {},
   "outputs": [
    {
     "data": {
      "text/plain": [
       "{'one': 'aik', 'three': '3', 'ten': 'das', 'fifteen': 'pandra'}"
      ]
     },
     "execution_count": 60,
     "metadata": {},
     "output_type": "execute_result"
    }
   ],
   "source": [
    "copy['three'] = '3'\n",
    "copy"
   ]
  },
  {
   "cell_type": "code",
   "execution_count": null,
   "id": "04c1c63c-e9f9-48df-8309-6c062eeb6766",
   "metadata": {},
   "outputs": [],
   "source": [
    "Make an appropriate dictionary and use the following built-in function and observe the\n",
    "result.\n",
    "\n",
    "* .get()\n",
    "\n",
    "\n"
   ]
  },
  {
   "cell_type": "code",
   "execution_count": 61,
   "id": "b3bb376a-8b20-47d0-a6d3-21ed7fb183a3",
   "metadata": {},
   "outputs": [
    {
     "data": {
      "text/plain": [
       "{'a': 1, 'b': 2, 'c': 3, 'd': 4, 'f': 5}"
      ]
     },
     "execution_count": 61,
     "metadata": {},
     "output_type": "execute_result"
    }
   ],
   "source": [
    "dict1 = {'a': 1, 'b': 2, 'c': 3, 'd': 4, 'f':5}\n",
    "dict1"
   ]
  },
  {
   "cell_type": "markdown",
   "id": "2bd58e0e-f830-4ae6-b9fc-82dd9cdacc6a",
   "metadata": {},
   "source": [
    "* .item()"
   ]
  },
  {
   "cell_type": "code",
   "execution_count": 63,
   "id": "d2bb5e1a-b0c1-4355-be1e-0a281162ef2b",
   "metadata": {},
   "outputs": [
    {
     "data": {
      "text/plain": [
       "dict_items([])"
      ]
     },
     "execution_count": 63,
     "metadata": {},
     "output_type": "execute_result"
    }
   ],
   "source": [
    "dict1.items()     #  .items()"
   ]
  },
  {
   "cell_type": "markdown",
   "id": "a6e9f07e-1ef0-4f56-9657-8ef3fb82dba5",
   "metadata": {},
   "source": [
    "* .keys()"
   ]
  },
  {
   "cell_type": "code",
   "execution_count": 64,
   "id": "1b4809c1-a43d-4ea1-9668-637a25f5d92f",
   "metadata": {},
   "outputs": [
    {
     "data": {
      "text/plain": [
       "dict_keys([])"
      ]
     },
     "execution_count": 64,
     "metadata": {},
     "output_type": "execute_result"
    }
   ],
   "source": [
    "dict1.keys()     # .keys()"
   ]
  },
  {
   "cell_type": "markdown",
   "id": "a4394a66-ed76-4d0f-ab60-7ca7a4672b62",
   "metadata": {},
   "source": [
    "* .vallues()"
   ]
  },
  {
   "cell_type": "code",
   "execution_count": 69,
   "id": "6fd32dd8-55a7-4961-ac18-097a3b9e8790",
   "metadata": {},
   "outputs": [
    {
     "data": {
      "text/plain": [
       "dict_values([])"
      ]
     },
     "execution_count": 69,
     "metadata": {},
     "output_type": "execute_result"
    }
   ],
   "source": [
    "dict1.values()       # .values()"
   ]
  },
  {
   "cell_type": "markdown",
   "id": "e5cf41ad-48f8-4446-91bb-a8a3e0bc3e44",
   "metadata": {},
   "source": [
    "* .get()"
   ]
  },
  {
   "cell_type": "code",
   "execution_count": 67,
   "id": "707b0237-cd55-4a8f-b400-6f8273fc5ff8",
   "metadata": {},
   "outputs": [],
   "source": [
    "dict1.get('f')  # .get()"
   ]
  },
  {
   "cell_type": "markdown",
   "id": "39fe99b1-7803-44e3-9f28-11e3a732ffad",
   "metadata": {},
   "source": [
    "* .clear()"
   ]
  },
  {
   "cell_type": "code",
   "execution_count": 68,
   "id": "bd2d9d31-05f6-43c8-b5e0-7b0aca6766d9",
   "metadata": {},
   "outputs": [],
   "source": [
    "dict1.clear()          # .clear()"
   ]
  },
  {
   "cell_type": "code",
   "execution_count": 70,
   "id": "c1087640-88e8-4f32-aabb-85ac2a6d4621",
   "metadata": {},
   "outputs": [
    {
     "data": {
      "text/plain": [
       "{}"
      ]
     },
     "execution_count": 70,
     "metadata": {},
     "output_type": "execute_result"
    }
   ],
   "source": [
    "dict1"
   ]
  },
  {
   "cell_type": "markdown",
   "id": "59a5035e-e00d-4618-b0af-f9f3de896b5e",
   "metadata": {},
   "source": [
    "# **List comprehension:**"
   ]
  },
  {
   "cell_type": "markdown",
   "id": "bd32f424-4663-4e3c-8af6-966a4e5d34c3",
   "metadata": {},
   "source": [
    "a. Consider the following code and print the square."
   ]
  },
  {
   "cell_type": "code",
   "execution_count": 71,
   "id": "b59a5f7d-b1b2-406c-97ee-2dc266eca733",
   "metadata": {},
   "outputs": [
    {
     "data": {
      "text/plain": [
       "[0, 1, 4, 9, 16, 25, 36, 49, 64, 81]"
      ]
     },
     "execution_count": 71,
     "metadata": {},
     "output_type": "execute_result"
    }
   ],
   "source": [
    "squares = []   # this simple way to print squares of number  from 1 to 10\n",
    "for x in range(10):\n",
    " squares.append(x * x)\n",
    "squares"
   ]
  },
  {
   "cell_type": "code",
   "execution_count": 72,
   "id": "474724d6-78a8-4298-bf36-abb19c341f42",
   "metadata": {},
   "outputs": [
    {
     "data": {
      "text/plain": [
       "[0, 1, 4, 9, 16, 25, 36, 49, 64, 81]"
      ]
     },
     "execution_count": 72,
     "metadata": {},
     "output_type": "execute_result"
    }
   ],
   "source": [
    "squares = [x * x for x in range(10)]  # this list comprehension way to print squares of number  from 1 to 10\n",
    "squares"
   ]
  },
  {
   "cell_type": "markdown",
   "id": "192ec560-e124-4e71-b003-0a3fe2f1a210",
   "metadata": {},
   "source": [
    "Change x*x by any function of x and observe the resulting list."
   ]
  },
  {
   "cell_type": "code",
   "execution_count": 73,
   "id": "503989cf-6415-4131-9632-0774303986d5",
   "metadata": {},
   "outputs": [
    {
     "data": {
      "text/plain": [
       "[0, 1, 2, 3, 4, 5, 6, 7, 8, 9]"
      ]
     },
     "execution_count": 73,
     "metadata": {},
     "output_type": "execute_result"
    }
   ],
   "source": [
    "squares = [x for x in range(10)] \n",
    "squares"
   ]
  },
  {
   "cell_type": "code",
   "execution_count": 4,
   "id": "330fb7d2-8844-4a0f-9ea5-f49187a9e801",
   "metadata": {},
   "outputs": [
    {
     "data": {
      "text/plain": [
       "[0, 4, 16, 36, 64]"
      ]
     },
     "execution_count": 4,
     "metadata": {},
     "output_type": "execute_result"
    }
   ],
   "source": [
    "even_squares = []           #  simple form to print number with for loop\n",
    "for x in range(10):\n",
    "        if x % 2 == 0:\n",
    "            even_squares.append(x * x)\n",
    "even_squares"
   ]
  },
  {
   "cell_type": "markdown",
   "id": "4344fb17-197b-4d54-a9d0-716faef6f3be",
   "metadata": {},
   "source": [
    "# **Dictionary comprehension:**"
   ]
  },
  {
   "cell_type": "markdown",
   "id": "0567533f-73fe-40ef-b564-fe99d7a65249",
   "metadata": {},
   "source": [
    "a. { x: x * x for x in range(5) }"
   ]
  },
  {
   "cell_type": "code",
   "execution_count": 7,
   "id": "fd4f947d-0d46-4222-881e-1a61463be871",
   "metadata": {},
   "outputs": [],
   "source": [
    "a = { x: x * x for x in range(5) }"
   ]
  },
  {
   "cell_type": "code",
   "execution_count": 8,
   "id": "d35e15fa-8b36-47de-a967-f57535813b67",
   "metadata": {},
   "outputs": [
    {
     "data": {
      "text/plain": [
       "{0: 0, 1: 1, 2: 4, 3: 9, 4: 16}"
      ]
     },
     "execution_count": 8,
     "metadata": {},
     "output_type": "execute_result"
    }
   ],
   "source": [
    "a"
   ]
  }
 ],
 "metadata": {
  "kernelspec": {
   "display_name": "Python 3 (ipykernel)",
   "language": "python",
   "name": "python3"
  },
  "language_info": {
   "codemirror_mode": {
    "name": "ipython",
    "version": 3
   },
   "file_extension": ".py",
   "mimetype": "text/x-python",
   "name": "python",
   "nbconvert_exporter": "python",
   "pygments_lexer": "ipython3",
   "version": "3.9.19"
  }
 },
 "nbformat": 4,
 "nbformat_minor": 5
}
