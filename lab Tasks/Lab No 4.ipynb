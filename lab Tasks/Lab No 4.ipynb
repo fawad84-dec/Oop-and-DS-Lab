{
 "cells": [
  {
   "cell_type": "markdown",
   "id": "5485103f-b93a-40e6-bbd4-b0bc816b5174",
   "metadata": {},
   "source": [
    "# ***Name : Fawad khan***\n",
    "# ***Reg No : 23jzele0544***\n",
    "# **Lab : 04**"
   ]
  },
  {
   "cell_type": "markdown",
   "id": "32d5e1dd-b371-47e2-a5a6-1837746e6921",
   "metadata": {},
   "source": [
    "# **Lab Practice**"
   ]
  },
  {
   "cell_type": "markdown",
   "id": "9cd3c603-00e1-4455-9fc6-25836654edca",
   "metadata": {},
   "source": [
    "1. Motivation\n",
    "Interest is to make a list that can store employee data.\n",
    "[name, age, position, the year they started working]\n",
    "For example\n",
    "* kirk = [\"James Kirk\", 34, \"Captain\", 2265]\n",
    "* spock = [\"Spock\", 35, \"Science Officer\", 2254]\n",
    "* mccoy = [\"Leonard McCoy\", \"Chief Medical Officer\", 2266]\n"
   ]
  },
  {
   "cell_type": "code",
   "execution_count": 3,
   "id": "831ef52c-ca4b-4b8c-b8e1-a8036eb7c423",
   "metadata": {},
   "outputs": [],
   "source": [
    "kirk = [\"James Kirk\", 34, \"Captain\", 2265]\n",
    "spock = [\"Spock\", 35, \"Science Officer\", 2254]\n",
    "mccoy = [\"Leonard McCoy\", \"Chief Medical Officer\", 2266]"
   ]
  },
  {
   "cell_type": "markdown",
   "id": "0e5b578a-3ec6-474f-9abb-a8b4a86f0648",
   "metadata": {},
   "source": [
    "* Print(kirk[0])"
   ]
  },
  {
   "cell_type": "code",
   "execution_count": 5,
   "id": "adbd3c41-ae04-4e90-bb6a-c54907c5f057",
   "metadata": {},
   "outputs": [
    {
     "name": "stdout",
     "output_type": "stream",
     "text": [
      "James Kirk\n"
     ]
    }
   ],
   "source": [
    "print(kirk[0])"
   ]
  },
  {
   "cell_type": "markdown",
   "id": "ecf941dc-fa66-4f7b-811f-7a18b020dbcb",
   "metadata": {},
   "source": [
    "print(mccoy[1])"
   ]
  },
  {
   "cell_type": "code",
   "execution_count": 8,
   "id": "eaecc2b3-8b32-4646-b968-f53eab3e7f77",
   "metadata": {},
   "outputs": [
    {
     "name": "stdout",
     "output_type": "stream",
     "text": [
      "Chief Medical Officer\n"
     ]
    }
   ],
   "source": [
    "print(mccoy[1])"
   ]
  },
  {
   "cell_type": "markdown",
   "id": "61cad6dd-0475-42b3-9f53-6b6d5a4d1710",
   "metadata": {},
   "source": [
    "## 2. Dog class\n",
    " "
   ]
  },
  {
   "cell_type": "code",
   "execution_count": 18,
   "id": "b2ac2be1-cc1d-4f35-ad4d-5b748c14c175",
   "metadata": {},
   "outputs": [],
   "source": [
    "class Dog:\n",
    "     pass"
   ]
  },
  {
   "cell_type": "markdown",
   "id": "674c6c57-e20e-4470-a617-2e85d782c32f",
   "metadata": {},
   "source": [
    "a. Creating a new object from a class is called instantiating a class. You can create a new\n",
    "object by typing the name of the class, followed by opening and closing parentheses:"
   ]
  },
  {
   "cell_type": "code",
   "execution_count": 19,
   "id": "d19e4f30-c22c-469e-912b-01ebe2757f45",
   "metadata": {},
   "outputs": [
    {
     "data": {
      "text/plain": [
       "<__main__.Dog at 0x26b1915daf0>"
      ]
     },
     "execution_count": 19,
     "metadata": {},
     "output_type": "execute_result"
    }
   ],
   "source": [
    "Dog()"
   ]
  },
  {
   "cell_type": "markdown",
   "id": "e4d5bfff-d8a6-476f-b887-2423a0a7f68c",
   "metadata": {},
   "source": [
    "b. Create two new Dog objects and assign them to the variables a and b. "
   ]
  },
  {
   "cell_type": "code",
   "execution_count": 20,
   "id": "c5f46339-e116-4acb-89e8-e51d72db6cf3",
   "metadata": {},
   "outputs": [],
   "source": [
    "a = Dog()"
   ]
  },
  {
   "cell_type": "code",
   "execution_count": 21,
   "id": "09f8a785-9a6e-411d-a414-e431e6f43585",
   "metadata": {},
   "outputs": [],
   "source": [
    "b=Dog()"
   ]
  },
  {
   "cell_type": "markdown",
   "id": "d85cbf81-3835-47f7-9b38-0489626d829b",
   "metadata": {},
   "source": [
    "c. When you compare a and b using the **==** operator, the result is False. Even\n",
    "though a and b are both instances of the Dog class, they represent two distinct objects\n",
    "in memory.\n",
    "a == b"
   ]
  },
  {
   "cell_type": "code",
   "execution_count": 22,
   "id": "bbcc7b52-009c-46de-b396-067ae552a492",
   "metadata": {},
   "outputs": [
    {
     "data": {
      "text/plain": [
       "False"
      ]
     },
     "execution_count": 22,
     "metadata": {},
     "output_type": "execute_result"
    }
   ],
   "source": [
    "a==b"
   ]
  },
  {
   "cell_type": "markdown",
   "id": "8d253dd5-e6a4-408c-89e8-a9d622d6c44a",
   "metadata": {},
   "source": [
    "d. Use the print command and print both instances/ objects. "
   ]
  },
  {
   "cell_type": "code",
   "execution_count": 23,
   "id": "7d7053f4-802c-42fe-a1ab-20038407a179",
   "metadata": {},
   "outputs": [
    {
     "name": "stdout",
     "output_type": "stream",
     "text": [
      "<__main__.Dog object at 0x0000026B1A3AB970>\n"
     ]
    }
   ],
   "source": [
    "print(a)"
   ]
  },
  {
   "cell_type": "code",
   "execution_count": 24,
   "id": "62662d5c-479f-4d0d-bf00-1a07fa2c462a",
   "metadata": {},
   "outputs": [
    {
     "name": "stdout",
     "output_type": "stream",
     "text": [
      "<__main__.Dog object at 0x0000026B19150880>\n"
     ]
    }
   ],
   "source": [
    "print(b)"
   ]
  },
  {
   "cell_type": "markdown",
   "id": "19d76414-caf6-4446-abe3-c3afa62763f6",
   "metadata": {},
   "source": [
    "3. Following is a class named ****MyFirstClass****. "
   ]
  },
  {
   "cell_type": "code",
   "execution_count": 27,
   "id": "8ac39343-fe75-4ed5-8536-8f8844990b30",
   "metadata": {},
   "outputs": [],
   "source": [
    "class  MyFirstClass:\n",
    "    pass"
   ]
  },
  {
   "cell_type": "markdown",
   "id": "e4f84ce8-bb78-47de-86ae-f12629765597",
   "metadata": {},
   "source": [
    "a. Make two instances named ***FC1*** and ***FC2***."
   ]
  },
  {
   "cell_type": "code",
   "execution_count": 28,
   "id": "838493c2-2ac5-43d7-855a-56800f1843d2",
   "metadata": {},
   "outputs": [],
   "source": [
    "FC1=MyFirstClass()"
   ]
  },
  {
   "cell_type": "code",
   "execution_count": 29,
   "id": "e6847002-a076-419a-a88b-579a16abb715",
   "metadata": {},
   "outputs": [],
   "source": [
    "FC2=MyFirstClass()"
   ]
  },
  {
   "cell_type": "markdown",
   "id": "bf3f8865-a7af-4040-a60c-a60e75e02404",
   "metadata": {},
   "source": [
    "b. Check whether FC1 and FC2 represent the same object or not. "
   ]
  },
  {
   "cell_type": "code",
   "execution_count": 30,
   "id": "9d611389-921a-4f87-88e4-25e0609cd61f",
   "metadata": {},
   "outputs": [
    {
     "data": {
      "text/plain": [
       "False"
      ]
     },
     "execution_count": 30,
     "metadata": {},
     "output_type": "execute_result"
    }
   ],
   "source": [
    "FC1==FC2"
   ]
  },
  {
   "cell_type": "markdown",
   "id": "dc111868-ab78-48c1-8dac-edb1c4e1563e",
   "metadata": {},
   "source": [
    "c. Use the print command and print both instances. "
   ]
  },
  {
   "cell_type": "code",
   "execution_count": 31,
   "id": "78b6b285-e7a5-49d6-8986-1d960ddf1dfa",
   "metadata": {},
   "outputs": [
    {
     "name": "stdout",
     "output_type": "stream",
     "text": [
      "<__main__.Dog object at 0x0000026B1A3AB970>\n"
     ]
    }
   ],
   "source": [
    "print(a)"
   ]
  },
  {
   "cell_type": "code",
   "execution_count": 32,
   "id": "5ba16d41-d616-4012-8b60-bc0277e83676",
   "metadata": {},
   "outputs": [
    {
     "name": "stdout",
     "output_type": "stream",
     "text": [
      "<__main__.Dog object at 0x0000026B19150880>\n"
     ]
    }
   ],
   "source": [
    "print(b)"
   ]
  },
  {
   "cell_type": "markdown",
   "id": "39d2e475-685b-4832-877b-cf5c412d7fdd",
   "metadata": {},
   "source": [
    "4. Consider the following class definition."
   ]
  },
  {
   "cell_type": "code",
   "execution_count": 33,
   "id": "46a54db5-e551-4cc0-a397-8902386a2855",
   "metadata": {},
   "outputs": [],
   "source": [
    "class Point:\n",
    "    pass"
   ]
  },
  {
   "cell_type": "markdown",
   "id": "2b1529e2-bfef-4fb4-8faf-85e9fe2e4630",
   "metadata": {},
   "source": [
    "a.Make two instances named as p1 and p2"
   ]
  },
  {
   "cell_type": "code",
   "execution_count": 34,
   "id": "59c9f6a3-545e-475f-a339-e412077f52d1",
   "metadata": {},
   "outputs": [],
   "source": [
    "p1=Point()"
   ]
  },
  {
   "cell_type": "code",
   "execution_count": 35,
   "id": "b047305e-8294-499a-800b-8e2f15cf56f7",
   "metadata": {},
   "outputs": [],
   "source": [
    "p2=Point()"
   ]
  },
  {
   "cell_type": "markdown",
   "id": "365d263c-2390-4687-aaae-558ff8b1ce29",
   "metadata": {},
   "source": [
    "b. Print both objects p1 and p2. "
   ]
  },
  {
   "cell_type": "code",
   "execution_count": 36,
   "id": "7ecc3a20-8dcf-4d31-aa96-3963756d7f79",
   "metadata": {},
   "outputs": [
    {
     "name": "stdout",
     "output_type": "stream",
     "text": [
      "<__main__.Point object at 0x0000026B1915D3D0>\n"
     ]
    }
   ],
   "source": [
    "print(p1)"
   ]
  },
  {
   "cell_type": "code",
   "execution_count": 37,
   "id": "1ba3678e-e0df-49be-b6bd-36d08ac0b08f",
   "metadata": {},
   "outputs": [
    {
     "name": "stdout",
     "output_type": "stream",
     "text": [
      "<__main__.Point object at 0x0000026B1915D7C0>\n"
     ]
    }
   ],
   "source": [
    "print(p2)"
   ]
  },
  {
   "cell_type": "markdown",
   "id": "27db4d7b-f0cf-4064-a779-f1bc16ac0584",
   "metadata": {},
   "source": [
    "c. Try different names for objects, instead of p1 and p2. Also, use different attribute names. "
   ]
  },
  {
   "cell_type": "code",
   "execution_count": 38,
   "id": "04c8932f-7da3-4400-ab75-a23ddb0352f8",
   "metadata": {},
   "outputs": [],
   "source": [
    "class Point:\n",
    "    def __init__(self,x,y):\n",
    "        self.x=x\n",
    "        self.y=y"
   ]
  },
  {
   "cell_type": "code",
   "execution_count": 40,
   "id": "018dea70-3cfc-4baa-a1ae-c2b850d8b371",
   "metadata": {},
   "outputs": [],
   "source": [
    "a = Point(2,5)"
   ]
  },
  {
   "cell_type": "code",
   "execution_count": 41,
   "id": "5c94cc63-8f3c-4efa-96fb-0a504d4ca4c8",
   "metadata": {},
   "outputs": [],
   "source": [
    "b= Point(7,5)"
   ]
  },
  {
   "cell_type": "code",
   "execution_count": 43,
   "id": "799ec48a-20dc-4e1f-9df4-1d1b08a049b9",
   "metadata": {},
   "outputs": [
    {
     "name": "stdout",
     "output_type": "stream",
     "text": [
      "<__main__.Point object at 0x0000026B1A378460>\n"
     ]
    }
   ],
   "source": [
    "print(a)"
   ]
  },
  {
   "cell_type": "code",
   "execution_count": 44,
   "id": "b897564e-9ab6-4409-bacd-5ee60aaeed63",
   "metadata": {
    "scrolled": true
   },
   "outputs": [
    {
     "name": "stdout",
     "output_type": "stream",
     "text": [
      "<__main__.Point object at 0x0000026B1A3AB130>\n"
     ]
    }
   ],
   "source": [
    "print(b)\n"
   ]
  },
  {
   "cell_type": "markdown",
   "id": "ae40497b-94f6-4378-ae09-fa523fee389c",
   "metadata": {},
   "source": [
    "To print the attributes of the  new objects/instance we have"
   ]
  },
  {
   "cell_type": "code",
   "execution_count": 46,
   "id": "9527aa3a-938f-44c8-abde-337d8ecceef7",
   "metadata": {},
   "outputs": [
    {
     "name": "stdout",
     "output_type": "stream",
     "text": [
      " The coordinate of point a is 2 and 5\n"
     ]
    }
   ],
   "source": [
    "print(f\" The coordinate of point a is {a.x} and {a.y}\")\n"
   ]
  },
  {
   "cell_type": "code",
   "execution_count": 48,
   "id": "bda1db71-6e42-4a71-918f-8aa7646643fe",
   "metadata": {},
   "outputs": [
    {
     "name": "stdout",
     "output_type": "stream",
     "text": [
      " The coordinate of point a is 7 and 5\n"
     ]
    }
   ],
   "source": [
    "print(f\" The coordinate of point a is {b.x} and {b.y}\")\n"
   ]
  },
  {
   "cell_type": "markdown",
   "id": "d5345ca8-a16f-411c-92e8-6ac4d38ffa1e",
   "metadata": {},
   "source": [
    "5. Update the Dog class with an __init__() method that creates .name and .age attributes:"
   ]
  },
  {
   "cell_type": "code",
   "execution_count": 49,
   "id": "3c0803ea-aa63-45e8-9b30-a0762ba849bc",
   "metadata": {},
   "outputs": [],
   "source": [
    "class Dog:\n",
    "    def __init__(self,name,age):\n",
    "        self.name=name\n",
    "        self.age=age"
   ]
  },
  {
   "cell_type": "markdown",
   "id": "a7ef7803-6155-4342-aa1f-a7538ab082c9",
   "metadata": {},
   "source": [
    "a. **Run**: miles = Dog(\"Miles\", 4)"
   ]
  },
  {
   "cell_type": "code",
   "execution_count": 51,
   "id": "7012f19b-3a0f-4f27-a36b-f45badcd2c6a",
   "metadata": {},
   "outputs": [],
   "source": [
    "miles = Dog(\"Miles\", 4)"
   ]
  },
  {
   "cell_type": "markdown",
   "id": "6bdf0615-9eb9-468c-bc78-fc46f235afe5",
   "metadata": {},
   "source": [
    "b.print miles"
   ]
  },
  {
   "cell_type": "code",
   "execution_count": 52,
   "id": "77459227-62ed-4285-af6a-f6dea398c1a3",
   "metadata": {},
   "outputs": [
    {
     "name": "stdout",
     "output_type": "stream",
     "text": [
      "<__main__.Dog object at 0x0000026B1A350AF0>\n"
     ]
    }
   ],
   "source": [
    "print(miles)"
   ]
  },
  {
   "cell_type": "markdown",
   "id": "8bc99a6d-0853-40d3-a25e-54d46acc0b7c",
   "metadata": {},
   "source": [
    "Create a new Dog class with a class attribute called. species and two instance attributes\n",
    "called .name and .age:\n"
   ]
  },
  {
   "cell_type": "markdown",
   "id": "3df1acef-178e-4111-b015-4fd63a483c49",
   "metadata": {},
   "source": [
    "Class attribute: You define class attributes directly beneath the first line of the class\n",
    "name and indent them by four spaces"
   ]
  },
  {
   "cell_type": "code",
   "execution_count": 59,
   "id": "1dc8658d-24d5-452f-a635-ac4843871636",
   "metadata": {},
   "outputs": [],
   "source": [
    "class Dog:\n",
    "    species = 'Canis familiaris'\n",
    "    def __init__(self, name, age):\n",
    "        self.name = name\n",
    "        self.age = age"
   ]
  },
  {
   "cell_type": "markdown",
   "id": "3f12aba0-7169-4b27-a713-bbeb66dc8430",
   "metadata": {},
   "source": [
    "a. To instantiate this Dog class, you need to provide values for name and age. If you don’t,\n",
    "then Python raises a TypeError:\n",
    "* Run: Dog()"
   ]
  },
  {
   "cell_type": "code",
   "execution_count": 60,
   "id": "8e91a6d0-9bf7-44d5-a5fa-710d5e4829f3",
   "metadata": {},
   "outputs": [
    {
     "ename": "TypeError",
     "evalue": "__init__() missing 2 required positional arguments: 'name' and 'age'",
     "output_type": "error",
     "traceback": [
      "\u001b[1;31m---------------------------------------------------------------------------\u001b[0m",
      "\u001b[1;31mTypeError\u001b[0m                                 Traceback (most recent call last)",
      "Cell \u001b[1;32mIn[60], line 1\u001b[0m\n\u001b[1;32m----> 1\u001b[0m \u001b[43mDog\u001b[49m\u001b[43m(\u001b[49m\u001b[43m)\u001b[49m\n",
      "\u001b[1;31mTypeError\u001b[0m: __init__() missing 2 required positional arguments: 'name' and 'age'"
     ]
    }
   ],
   "source": [
    "Dog()"
   ]
  },
  {
   "cell_type": "markdown",
   "id": "80aa53b8-273f-4404-881d-b91c3b6bcfa9",
   "metadata": {},
   "source": [
    "b. To pass arguments to the name and age parameters, put values into the parentheses\n",
    "after the class name:\n",
    "* miles = Dog(\"Miles\", 4)\n",
    "* buddy = Dog(\"Buddy\", 9)\n"
   ]
  },
  {
   "cell_type": "code",
   "execution_count": 61,
   "id": "0b1d9171-3b1d-4299-a5b7-300fd21edda3",
   "metadata": {},
   "outputs": [],
   "source": [
    "miles = Dog(\"Miles\", 4)\n",
    "buddy = Dog(\"Buddy\", 9)\n"
   ]
  },
  {
   "cell_type": "markdown",
   "id": "7ac7e482-f6ea-4a52-9764-74ead73c4fe4",
   "metadata": {},
   "source": [
    "c. After you create the Dog instances, you can access their instance attributes using dot\n",
    "notation:"
   ]
  },
  {
   "cell_type": "code",
   "execution_count": 62,
   "id": "5cea435a-afc7-40b6-98bb-92f7ee2caa84",
   "metadata": {},
   "outputs": [
    {
     "name": "stdout",
     "output_type": "stream",
     "text": [
      "Mile name: Miles\n",
      "Miles age: 4\n"
     ]
    }
   ],
   "source": [
    "print(f\"Mile name: {miles.name}\")\n",
    "print(f\"Miles age: {miles.age}\")"
   ]
  },
  {
   "cell_type": "code",
   "execution_count": 63,
   "id": "1636c325-0552-48fb-ad7e-1216232248d0",
   "metadata": {},
   "outputs": [
    {
     "name": "stdout",
     "output_type": "stream",
     "text": [
      "Buddy name: Buddy\n",
      "Buddy age: 9\n"
     ]
    }
   ],
   "source": [
    "print(f\"Buddy name: {buddy.name}\")\n",
    "print(f\"Buddy age: {buddy.age}\")"
   ]
  },
  {
   "cell_type": "markdown",
   "id": "b318c256-38a3-4840-9e7e-861d5da9a303",
   "metadata": {},
   "source": [
    "d. Although the attributes are guaranteed to exist, their values can change dynamically:\n"
   ]
  },
  {
   "cell_type": "code",
   "execution_count": 64,
   "id": "cd0c2209-6740-440b-9125-9f31462a3e70",
   "metadata": {},
   "outputs": [],
   "source": [
    "buddy.age = 10"
   ]
  },
  {
   "cell_type": "code",
   "execution_count": 65,
   "id": "9aa07196-3848-4ea3-8f1a-2a13c6c2255a",
   "metadata": {},
   "outputs": [
    {
     "data": {
      "text/plain": [
       "10"
      ]
     },
     "execution_count": 65,
     "metadata": {},
     "output_type": "execute_result"
    }
   ],
   "source": [
    "buddy.age"
   ]
  },
  {
   "cell_type": "code",
   "execution_count": 66,
   "id": "81b398ca-1f4b-4e0c-a4f2-e3ebebce6ac2",
   "metadata": {},
   "outputs": [],
   "source": [
    "miles.species = \"Felis silvestris\""
   ]
  },
  {
   "cell_type": "code",
   "execution_count": 67,
   "id": "bb03e88b-4879-48c0-be43-1bdbf5d0f436",
   "metadata": {},
   "outputs": [
    {
     "data": {
      "text/plain": [
       "'Felis silvestris'"
      ]
     },
     "execution_count": 67,
     "metadata": {},
     "output_type": "execute_result"
    }
   ],
   "source": [
    "miles.species"
   ]
  },
  {
   "cell_type": "markdown",
   "id": "eb785b1c-3572-4468-9e53-4ee0e27e7cfe",
   "metadata": {},
   "source": [
    "7. Define a class point in 2 dimension coordinate system. Your class must have the appropriate\n",
    "**__init__** method. In addition, add two other instance methods for the distance between points\n",
    "and also show or display the point properly **(note: return tuple like (x, y))**. Add another method\n",
    "with the name locate to display the coordinate in which the point is located. Add proper\n",
    "annotation and doc string to every class and instance method."
   ]
  },
  {
   "cell_type": "code",
   "execution_count": 68,
   "id": "45453bb1-c557-4443-8eac-97f28d54d03f",
   "metadata": {},
   "outputs": [],
   "source": [
    "class Point:\n",
    "    pass"
   ]
  },
  {
   "cell_type": "code",
   "execution_count": 69,
   "id": "3194a8a1-537b-4874-9f93-76cfbb0b6762",
   "metadata": {},
   "outputs": [],
   "source": [
    "\n",
    "import math\n",
    "class Point:\n",
    "    \"\"\"Represent a 2D coordinte system\n",
    "        parametrs:\n",
    "            x --> float\n",
    "            y --> float\n",
    "        \"\"\"\n",
    "    def __init__(self, x: float, y: float ) -> None:\n",
    "        \"\"\"Initialize the coordinte system\n",
    "        parametrs:\n",
    "            x --> float\n",
    "            y --> float\n",
    "        retrun:\n",
    "            None\n",
    "        \"\"\"\n",
    "        self.x = x\n",
    "        self.y = y\n",
    "    def distance(self, p2: 'point') -> float:\n",
    "        \"\"\"To calculate distance between two points\n",
    "        parameter:\n",
    "            x - float\n",
    "            y - float\n",
    "        return\n",
    "            None\n",
    "        \"\"\"\n",
    "        return math.sqrt((self.x-p2.x)**2 + (self.y-p2.y)**2)\n",
    "    def locate(self) -> str:\n",
    "        \"\"\"Returns a string representation of the point's coordinates.\n",
    "        \n",
    "        returns\n",
    "              --> str\n",
    "        \"\"\"\n",
    "        return f\"Point located at ({self.x} and {self.y}) \"\n",
    "    def show(self) -> tuple:\n",
    "        \"\"\"Retrun the Points in Tuple form\n",
    "        return \n",
    "              --> Tuple \n",
    "        \"\"\"\n",
    "        return (self.x, self.y)"
   ]
  },
  {
   "cell_type": "markdown",
   "id": "c9db6527-907b-4273-aa8e-7d36f8ba838f",
   "metadata": {},
   "source": [
    "a. Define point1 and pass two numbers. "
   ]
  },
  {
   "cell_type": "code",
   "execution_count": 70,
   "id": "248c68f8-a2ee-4c11-b950-5318842b0471",
   "metadata": {},
   "outputs": [],
   "source": [
    "point1=Point(1,2)"
   ]
  },
  {
   "cell_type": "code",
   "execution_count": 72,
   "id": "1958c332-525d-4e7f-89f1-4ab62a09dd73",
   "metadata": {},
   "outputs": [],
   "source": [
    "point2=Point(3,4)"
   ]
  },
  {
   "cell_type": "markdown",
   "id": "334891a8-67db-4212-9f6e-c2b155522f45",
   "metadata": {},
   "source": [
    "print both"
   ]
  },
  {
   "cell_type": "code",
   "execution_count": 73,
   "id": "01a27f73-e36c-4b5b-8cdc-d036a864fab9",
   "metadata": {},
   "outputs": [
    {
     "name": "stdout",
     "output_type": "stream",
     "text": [
      "<__main__.Point object at 0x0000026B1A394970>\n"
     ]
    }
   ],
   "source": [
    "print(point1)"
   ]
  },
  {
   "cell_type": "code",
   "execution_count": 74,
   "id": "3a7d86b0-a8cf-4ac8-af7d-a50681c63af8",
   "metadata": {},
   "outputs": [
    {
     "name": "stdout",
     "output_type": "stream",
     "text": [
      "<__main__.Point object at 0x0000026B1915D7C0>\n"
     ]
    }
   ],
   "source": [
    "print(p2)"
   ]
  },
  {
   "cell_type": "markdown",
   "id": "8e2e872b-ca90-4825-8d40-7a96ec929d61",
   "metadata": {},
   "source": [
    "d. Also print the location of both points. "
   ]
  },
  {
   "cell_type": "code",
   "execution_count": null,
   "id": "9da3dda1-01a9-43ec-b103-ffaba4e0901f",
   "metadata": {},
   "outputs": [],
   "source": []
  },
  {
   "cell_type": "markdown",
   "id": "40431b21-a471-4596-844e-7a05dca052e0",
   "metadata": {},
   "source": []
  }
 ],
 "metadata": {
  "kernelspec": {
   "display_name": "Python 3 (ipykernel)",
   "language": "python",
   "name": "python3"
  },
  "language_info": {
   "codemirror_mode": {
    "name": "ipython",
    "version": 3
   },
   "file_extension": ".py",
   "mimetype": "text/x-python",
   "name": "python",
   "nbconvert_exporter": "python",
   "pygments_lexer": "ipython3",
   "version": "3.9.19"
  }
 },
 "nbformat": 4,
 "nbformat_minor": 5
}
