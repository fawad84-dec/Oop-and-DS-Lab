{
 "cells": [
  {
   "cell_type": "markdown",
   "id": "f07de079-a8ee-4827-be15-dc4dd8cbbf68",
   "metadata": {},
   "source": [
    "# **Name : Fawad khan**\n",
    "# **Reg No : 23jzele0544**\n",
    "# **lab No 09**"
   ]
  },
  {
   "cell_type": "code",
   "execution_count": 68,
   "id": "ca51a91f-a38f-4af2-bef4-cece84f4a9de",
   "metadata": {},
   "outputs": [],
   "source": [
    "class Employee:\n",
    "    def __init__(self, id, name):\n",
    "        self.id = id\n",
    "        self.name = name\n",
    "\n",
    "class SalaryEmployee(Employee):\n",
    "    def __init__(self, id, name, weekly_salary):\n",
    "        super().__init__(id, name)\n",
    "        self.weekly_salary = weekly_salary\n",
    "\n",
    "    def calculate_payroll(self):\n",
    "        return self.weekly_salary\n",
    "\n",
    "class HourlyEmployee(Employee):\n",
    "    def __init__(self, id, name, hours_worked, hourly_rate):\n",
    "        super().__init__(id, name)\n",
    "        self.hours_worked = hours_worked\n",
    "        self.hourly_rate = hourly_rate\n",
    "\n",
    "    def calculate_payroll(self):\n",
    "        return self.hours_worked * self.hourly_rate\n",
    "\n",
    "class CommissionEmployee(SalaryEmployee):\n",
    "    def __init__(self, id, name, weekly_salary, commission):\n",
    "        super().__init__(id, name, weekly_salary)\n",
    "        self.commission = commission\n",
    "\n",
    "    def calculate_payroll(self):\n",
    "        fixed = super().calculate_payroll()\n",
    "        return fixed + self.commission\n",
    "#------------------------------------------------------------------\n",
    "\n",
    "class Manager(SalaryEmployee):\n",
    "    def work(self, hours):\n",
    "        print(f\"{self.name} screams and yells for {hours} hours.\")\n",
    "\n",
    "class Secretary(SalaryEmployee):\n",
    "    def work(self, hours):\n",
    "        print(f\"{self.name} expends {hours} hours doing office paperwork.\")\n",
    "\n",
    "class SalesPerson(CommissionEmployee):\n",
    "    def work(self, hours):\n",
    "        print(f\"{self.name} expends {hours} hours on the phone.\")\n",
    "\n",
    "class FactoryWorker(HourlyEmployee):\n",
    "    def work(self, hours):\n",
    "        print(f\"{self.name} manufactures gadgets for {hours} hours.\")\n",
    "#---------------------------------------------------------------------\n",
    "class TemporarySecretary(Secretary, HourlyEmployee):\n",
    "    def __init__(self, id, name, hours_worked, hourly_rate):\n",
    "        HourlyEmployee.__init__(self, id, name, hours_worked, hourly_rate)\n",
    "\n",
    "    def calculate_payroll(self):\n",
    "        return HourlyEmployee.calculate_payroll(self)"
   ]
  },
  {
   "cell_type": "code",
   "execution_count": 69,
   "id": "784064f4-9d5a-4213-9a58-b2af37be0365",
   "metadata": {},
   "outputs": [],
   "source": [
    "class ProductivitySystem:\n",
    "    def track(self, employees, hours):\n",
    "        print(\"Tracking Employee Productivity\")\n",
    "        print(\"==============================\")\n",
    "        for employee in employees:\n",
    "            employee.work(hours)\n",
    "        print(\"\")"
   ]
  },
  {
   "cell_type": "markdown",
   "id": "74158c47-71c1-423a-b87f-8a4570b49f2c",
   "metadata": {},
   "source": [
    "* It turns out that sometimes temporary secretaries are hired when there’s too much paperwork to do. The TemporarySecretary class performs the role of Secretary in the context of the ProductivitySystem, but for payroll purposes, it’s an HourlyEmployee.\n",
    "\n",
    "* Derive it from both Secretary and HourlyEmployee"
   ]
  },
  {
   "cell_type": "markdown",
   "id": "f176d7cc-de83-46ce-8e50-617eb030fb60",
   "metadata": {},
   "source": [
    "i. Run the Code"
   ]
  },
  {
   "cell_type": "code",
   "execution_count": 70,
   "id": "38540b42-eb67-4e75-848f-75854fdfaa7d",
   "metadata": {},
   "outputs": [],
   "source": [
    "class TemporarySecretary(Secretary, HourlyEmployee):\n",
    "    pass"
   ]
  },
  {
   "cell_type": "code",
   "execution_count": 71,
   "id": "9435da1f-927b-4cd3-9972-21b1e357ae23",
   "metadata": {},
   "outputs": [
    {
     "ename": "TypeError",
     "evalue": "__init__() takes 4 positional arguments but 5 were given",
     "output_type": "error",
     "traceback": [
      "\u001b[1;31m---------------------------------------------------------------------------\u001b[0m",
      "\u001b[1;31mTypeError\u001b[0m                                 Traceback (most recent call last)",
      "Cell \u001b[1;32mIn[71], line 1\u001b[0m\n\u001b[1;32m----> 1\u001b[0m temporarySecretary \u001b[38;5;241m=\u001b[39m \u001b[43mTemporarySecretary\u001b[49m\u001b[43m(\u001b[49m\u001b[38;5;241;43m5\u001b[39;49m\u001b[43m,\u001b[49m\u001b[43m \u001b[49m\u001b[38;5;124;43m\"\u001b[39;49m\u001b[38;5;124;43mRobin Williams\u001b[39;49m\u001b[38;5;124;43m\"\u001b[39;49m\u001b[43m,\u001b[49m\u001b[43m \u001b[49m\u001b[38;5;241;43m40\u001b[39;49m\u001b[43m,\u001b[49m\u001b[43m \u001b[49m\u001b[38;5;241;43m9\u001b[39;49m\u001b[43m)\u001b[49m\n",
      "\u001b[1;31mTypeError\u001b[0m: __init__() takes 4 positional arguments but 5 were given"
     ]
    }
   ],
   "source": [
    "temporarySecretary = TemporarySecretary(5, \"Robin Williams\", 40, 9)"
   ]
  },
  {
   "cell_type": "code",
   "execution_count": 72,
   "id": "1bbd524f-d64f-42ff-9116-a02a331756dd",
   "metadata": {},
   "outputs": [
    {
     "data": {
      "text/plain": [
       "(__main__.TemporarySecretary,\n",
       " __main__.Secretary,\n",
       " __main__.SalaryEmployee,\n",
       " __main__.HourlyEmployee,\n",
       " __main__.Employee,\n",
       " object)"
      ]
     },
     "execution_count": 72,
     "metadata": {},
     "output_type": "execute_result"
    }
   ],
   "source": [
    "TemporarySecretary.__mro__"
   ]
  },
  {
   "cell_type": "markdown",
   "id": "2f85052e-6b7f-4552-afae-8fb2a0a456ed",
   "metadata": {},
   "source": [
    "ii. Modified the code and Run the code"
   ]
  },
  {
   "cell_type": "code",
   "execution_count": 73,
   "id": "a0e8b55c-a9b2-4946-8e73-b75ec7490ab3",
   "metadata": {},
   "outputs": [],
   "source": [
    "class TemporarySecretary(HourlyEmployee, Secretary):\n",
    "    pass"
   ]
  },
  {
   "cell_type": "code",
   "execution_count": 74,
   "id": "2f8365ee-eff3-4a53-9cf7-9eb776b73ebd",
   "metadata": {},
   "outputs": [
    {
     "ename": "TypeError",
     "evalue": "__init__() missing 1 required positional argument: 'weekly_salary'",
     "output_type": "error",
     "traceback": [
      "\u001b[1;31m---------------------------------------------------------------------------\u001b[0m",
      "\u001b[1;31mTypeError\u001b[0m                                 Traceback (most recent call last)",
      "Cell \u001b[1;32mIn[74], line 1\u001b[0m\n\u001b[1;32m----> 1\u001b[0m temporary_secretary \u001b[38;5;241m=\u001b[39m \u001b[43mTemporarySecretary\u001b[49m\u001b[43m(\u001b[49m\u001b[38;5;241;43m5\u001b[39;49m\u001b[43m,\u001b[49m\u001b[43m \u001b[49m\u001b[38;5;124;43m\"\u001b[39;49m\u001b[38;5;124;43mRobin Williams\u001b[39;49m\u001b[38;5;124;43m\"\u001b[39;49m\u001b[43m,\u001b[49m\u001b[43m \u001b[49m\u001b[38;5;241;43m40\u001b[39;49m\u001b[43m,\u001b[49m\u001b[43m \u001b[49m\u001b[38;5;241;43m9\u001b[39;49m\u001b[43m)\u001b[49m\n",
      "Cell \u001b[1;32mIn[68], line 16\u001b[0m, in \u001b[0;36mHourlyEmployee.__init__\u001b[1;34m(self, id, name, hours_worked, hourly_rate)\u001b[0m\n\u001b[0;32m     15\u001b[0m \u001b[38;5;28;01mdef\u001b[39;00m \u001b[38;5;21m__init__\u001b[39m(\u001b[38;5;28mself\u001b[39m, \u001b[38;5;28mid\u001b[39m, name, hours_worked, hourly_rate):\n\u001b[1;32m---> 16\u001b[0m     \u001b[38;5;28;43msuper\u001b[39;49m\u001b[43m(\u001b[49m\u001b[43m)\u001b[49m\u001b[38;5;241;43m.\u001b[39;49m\u001b[38;5;21;43m__init__\u001b[39;49m\u001b[43m(\u001b[49m\u001b[38;5;28;43mid\u001b[39;49m\u001b[43m,\u001b[49m\u001b[43m \u001b[49m\u001b[43mname\u001b[49m\u001b[43m)\u001b[49m\n\u001b[0;32m     17\u001b[0m     \u001b[38;5;28mself\u001b[39m\u001b[38;5;241m.\u001b[39mhours_worked \u001b[38;5;241m=\u001b[39m hours_worked\n\u001b[0;32m     18\u001b[0m     \u001b[38;5;28mself\u001b[39m\u001b[38;5;241m.\u001b[39mhourly_rate \u001b[38;5;241m=\u001b[39m hourly_rate\n",
      "\u001b[1;31mTypeError\u001b[0m: __init__() missing 1 required positional argument: 'weekly_salary'"
     ]
    }
   ],
   "source": [
    "temporary_secretary = TemporarySecretary(5, \"Robin Williams\", 40, 9)"
   ]
  },
  {
   "cell_type": "code",
   "execution_count": 75,
   "id": "cec41203-15bb-49ff-9fdb-b73d92c09743",
   "metadata": {},
   "outputs": [
    {
     "data": {
      "text/plain": [
       "(__main__.TemporarySecretary,\n",
       " __main__.HourlyEmployee,\n",
       " __main__.Secretary,\n",
       " __main__.SalaryEmployee,\n",
       " __main__.Employee,\n",
       " object)"
      ]
     },
     "execution_count": 75,
     "metadata": {},
     "output_type": "execute_result"
    }
   ],
   "source": [
    "TemporarySecretary . __mro__"
   ]
  },
  {
   "cell_type": "markdown",
   "id": "ea438d1b-2e70-435d-a4e4-d6b4a55c0a2d",
   "metadata": {},
   "source": [
    "iii. Modified the code and Run the code"
   ]
  },
  {
   "cell_type": "code",
   "execution_count": 76,
   "id": "92ecca54-9ee3-4cfc-be36-73d357cc71b9",
   "metadata": {},
   "outputs": [],
   "source": [
    "class TemporarySecretary(HourlyEmployee, Secretary):\n",
    "    def __init__(self, id, name, hours_worked, hourly_rate):\n",
    "        super().__init__(id, name, hours_worked, hourly_rate)"
   ]
  },
  {
   "cell_type": "code",
   "execution_count": 77,
   "id": "208d5382-3e0b-4fe6-9616-a6ae0a8c08a0",
   "metadata": {},
   "outputs": [
    {
     "ename": "TypeError",
     "evalue": "__init__() missing 1 required positional argument: 'weekly_salary'",
     "output_type": "error",
     "traceback": [
      "\u001b[1;31m---------------------------------------------------------------------------\u001b[0m",
      "\u001b[1;31mTypeError\u001b[0m                                 Traceback (most recent call last)",
      "Cell \u001b[1;32mIn[77], line 1\u001b[0m\n\u001b[1;32m----> 1\u001b[0m temporary_secretary \u001b[38;5;241m=\u001b[39m \u001b[43mTemporarySecretary\u001b[49m\u001b[43m(\u001b[49m\u001b[38;5;241;43m5\u001b[39;49m\u001b[43m,\u001b[49m\u001b[43m \u001b[49m\u001b[38;5;124;43m\"\u001b[39;49m\u001b[38;5;124;43mRobin Williams\u001b[39;49m\u001b[38;5;124;43m\"\u001b[39;49m\u001b[43m,\u001b[49m\u001b[43m \u001b[49m\u001b[38;5;241;43m40\u001b[39;49m\u001b[43m,\u001b[49m\u001b[43m \u001b[49m\u001b[38;5;241;43m9\u001b[39;49m\u001b[43m)\u001b[49m\n",
      "Cell \u001b[1;32mIn[76], line 3\u001b[0m, in \u001b[0;36mTemporarySecretary.__init__\u001b[1;34m(self, id, name, hours_worked, hourly_rate)\u001b[0m\n\u001b[0;32m      2\u001b[0m \u001b[38;5;28;01mdef\u001b[39;00m \u001b[38;5;21m__init__\u001b[39m(\u001b[38;5;28mself\u001b[39m, \u001b[38;5;28mid\u001b[39m, name, hours_worked, hourly_rate):\n\u001b[1;32m----> 3\u001b[0m     \u001b[38;5;28;43msuper\u001b[39;49m\u001b[43m(\u001b[49m\u001b[43m)\u001b[49m\u001b[38;5;241;43m.\u001b[39;49m\u001b[38;5;21;43m__init__\u001b[39;49m\u001b[43m(\u001b[49m\u001b[38;5;28;43mid\u001b[39;49m\u001b[43m,\u001b[49m\u001b[43m \u001b[49m\u001b[43mname\u001b[49m\u001b[43m,\u001b[49m\u001b[43m \u001b[49m\u001b[43mhours_worked\u001b[49m\u001b[43m,\u001b[49m\u001b[43m \u001b[49m\u001b[43mhourly_rate\u001b[49m\u001b[43m)\u001b[49m\n",
      "Cell \u001b[1;32mIn[68], line 16\u001b[0m, in \u001b[0;36mHourlyEmployee.__init__\u001b[1;34m(self, id, name, hours_worked, hourly_rate)\u001b[0m\n\u001b[0;32m     15\u001b[0m \u001b[38;5;28;01mdef\u001b[39;00m \u001b[38;5;21m__init__\u001b[39m(\u001b[38;5;28mself\u001b[39m, \u001b[38;5;28mid\u001b[39m, name, hours_worked, hourly_rate):\n\u001b[1;32m---> 16\u001b[0m     \u001b[38;5;28;43msuper\u001b[39;49m\u001b[43m(\u001b[49m\u001b[43m)\u001b[49m\u001b[38;5;241;43m.\u001b[39;49m\u001b[38;5;21;43m__init__\u001b[39;49m\u001b[43m(\u001b[49m\u001b[38;5;28;43mid\u001b[39;49m\u001b[43m,\u001b[49m\u001b[43m \u001b[49m\u001b[43mname\u001b[49m\u001b[43m)\u001b[49m\n\u001b[0;32m     17\u001b[0m     \u001b[38;5;28mself\u001b[39m\u001b[38;5;241m.\u001b[39mhours_worked \u001b[38;5;241m=\u001b[39m hours_worked\n\u001b[0;32m     18\u001b[0m     \u001b[38;5;28mself\u001b[39m\u001b[38;5;241m.\u001b[39mhourly_rate \u001b[38;5;241m=\u001b[39m hourly_rate\n",
      "\u001b[1;31mTypeError\u001b[0m: __init__() missing 1 required positional argument: 'weekly_salary'"
     ]
    }
   ],
   "source": [
    "temporary_secretary = TemporarySecretary(5, \"Robin Williams\", 40, 9)"
   ]
  },
  {
   "cell_type": "code",
   "execution_count": null,
   "id": "41287ba9-000a-42ef-b29e-df8a395d3399",
   "metadata": {},
   "outputs": [],
   "source": [
    "TemporarySecretary.__mro__"
   ]
  },
  {
   "cell_type": "markdown",
   "id": "db04d516-ca08-40f3-a310-b61672f34d61",
   "metadata": {},
   "source": [
    "iv. Modified the code and Run the code"
   ]
  },
  {
   "cell_type": "code",
   "execution_count": 78,
   "id": "b93dbcba-ec7b-46d9-a6aa-2d50dd01e99a",
   "metadata": {},
   "outputs": [],
   "source": [
    "class TemporarySecretary(Secretary, HourlyEmployee):\n",
    "    def __init__(self, id, name, hours_worked, hourly_rate):\n",
    "        HourlyEmployee.__init__(self, id, name, hours_worked, hourly_rate)\n"
   ]
  },
  {
   "cell_type": "code",
   "execution_count": 89,
   "id": "22458ebf-aceb-4c0f-a83e-784ef6741768",
   "metadata": {},
   "outputs": [
    {
     "ename": "AttributeError",
     "evalue": "'ProductivitySystem' object has no attribute 'Track'",
     "output_type": "error",
     "traceback": [
      "\u001b[1;31m---------------------------------------------------------------------------\u001b[0m",
      "\u001b[1;31mAttributeError\u001b[0m                            Traceback (most recent call last)",
      "Cell \u001b[1;32mIn[89], line 4\u001b[0m\n\u001b[0;32m      2\u001b[0m company_employees \u001b[38;5;241m=\u001b[39m [temporary_secretary]\n\u001b[0;32m      3\u001b[0m productivity_system \u001b[38;5;241m=\u001b[39m TemporarySecretary \u001b[38;5;241m.\u001b[39m\u001b[38;5;18m__mro__\u001b[39m\n\u001b[1;32m----> 4\u001b[0m \u001b[43mProductivity_System\u001b[49m\u001b[38;5;241;43m.\u001b[39;49m\u001b[43mTrack\u001b[49m(company_employees, \u001b[38;5;241m40\u001b[39m)\n\u001b[0;32m      5\u001b[0m payroll_system \u001b[38;5;241m=\u001b[39m Payroll_system()\n\u001b[0;32m      6\u001b[0m payroll_system\u001b[38;5;241m.\u001b[39mcalculate_payroll(company_employees)\n",
      "\u001b[1;31mAttributeError\u001b[0m: 'ProductivitySystem' object has no attribute 'Track'"
     ]
    }
   ],
   "source": [
    "temporary_secretary = TemporarySecretary(5, \"Robin Williams\", 40, 9)\n",
    "company_employees = [temporary_secretary]\n",
    "productivity_system = TemporarySecretary .__mro__\n",
    "Productivity_System.Track(company_employees, 40)\n",
    "payroll_system = Payroll_system()\n",
    "payroll_system.calculate_payroll(company_employees)\n"
   ]
  },
  {
   "cell_type": "code",
   "execution_count": 80,
   "id": "8ed29ded-9a06-4d8f-999b-9f4c58436b42",
   "metadata": {},
   "outputs": [
    {
     "data": {
      "text/plain": [
       "(__main__.TemporarySecretary,\n",
       " __main__.Secretary,\n",
       " __main__.SalaryEmployee,\n",
       " __main__.HourlyEmployee,\n",
       " __main__.Employee,\n",
       " object)"
      ]
     },
     "execution_count": 80,
     "metadata": {},
     "output_type": "execute_result"
    }
   ],
   "source": [
    "TemporarySecretary.__mro__"
   ]
  },
  {
   "cell_type": "markdown",
   "id": "b7a7e483-83ca-4634-b3df-118b1853a972",
   "metadata": {},
   "source": [
    "v. Modified the code and Run the code"
   ]
  },
  {
   "cell_type": "code",
   "execution_count": 81,
   "id": "bfa191e7-c64c-40d2-ad96-0efeb26f829c",
   "metadata": {},
   "outputs": [],
   "source": [
    "class TemporarySecretary(Secretary, HourlyEmployee):\n",
    "    def __init__(self, id, name, hours_worked, hourly_rate):\n",
    "        HourlyEmployee.__init__(self, id, name, hours_worked, hourly_rate)\n",
    "    def calculate_payroll(self):\n",
    "        return HourlyEmployee.calculate_payroll(self)"
   ]
  },
  {
   "cell_type": "code",
   "execution_count": 67,
   "id": "ba8f0910-8a51-4017-a31c-9d6039a67aa2",
   "metadata": {},
   "outputs": [
    {
     "ename": "TypeError",
     "evalue": "'ProductivitySystem' object is not callable",
     "output_type": "error",
     "traceback": [
      "\u001b[1;31m---------------------------------------------------------------------------\u001b[0m",
      "\u001b[1;31mTypeError\u001b[0m                                 Traceback (most recent call last)",
      "Cell \u001b[1;32mIn[67], line 3\u001b[0m\n\u001b[0;32m      1\u001b[0m temporary_secretary \u001b[38;5;241m=\u001b[39m TemporarySecretary(\u001b[38;5;241m5\u001b[39m, \u001b[38;5;124m\"\u001b[39m\u001b[38;5;124mRobin Williams\u001b[39m\u001b[38;5;124m\"\u001b[39m, \u001b[38;5;241m40\u001b[39m, \u001b[38;5;241m9\u001b[39m)\n\u001b[0;32m      2\u001b[0m company_employees \u001b[38;5;241m=\u001b[39m [temporary_secretary]\n\u001b[1;32m----> 3\u001b[0m Productivity_System \u001b[38;5;241m=\u001b[39m \u001b[43mProductivitySystem\u001b[49m\u001b[43m(\u001b[49m\u001b[43m)\u001b[49m\n\u001b[0;32m      4\u001b[0m ProductivitySystem\u001b[38;5;241m.\u001b[39mTrack(company_employees, \u001b[38;5;241m40\u001b[39m)\n\u001b[0;32m      5\u001b[0m payroll_system \u001b[38;5;241m=\u001b[39m Payroll_system()\n",
      "\u001b[1;31mTypeError\u001b[0m: 'ProductivitySystem' object is not callable"
     ]
    }
   ],
   "source": [
    "temporary_secretary = TemporarySecretary(5, \"Robin Williams\", 40, 9)\n",
    "company_employees = [temporary_secretary]\n",
    "Productivity_System = ProductivitySystem()\n",
    "ProductivitySystem.Track(company_employees, 40)\n",
    "payroll_system = Payroll_system()\n",
    "payroll_system.calculate_payroll(company_employees)\n"
   ]
  },
  {
   "cell_type": "code",
   "execution_count": 65,
   "id": "8e53befa-8455-40b8-bb00-4a520775f9d2",
   "metadata": {},
   "outputs": [
    {
     "data": {
      "text/plain": [
       "(__main__.TemporarySecretary,\n",
       " __main__.Secretary,\n",
       " __main__.SalaryEmployee,\n",
       " __main__.HourlyEmployee,\n",
       " __main__.Employee,\n",
       " object)"
      ]
     },
     "execution_count": 65,
     "metadata": {},
     "output_type": "execute_result"
    }
   ],
   "source": [
    "TemporarySecretary.__mro__"
   ]
  }
 ],
 "metadata": {
  "kernelspec": {
   "display_name": "Python 3 (ipykernel)",
   "language": "python",
   "name": "python3"
  },
  "language_info": {
   "codemirror_mode": {
    "name": "ipython",
    "version": 3
   },
   "file_extension": ".py",
   "mimetype": "text/x-python",
   "name": "python",
   "nbconvert_exporter": "python",
   "pygments_lexer": "ipython3",
   "version": "3.9.19"
  }
 },
 "nbformat": 4,
 "nbformat_minor": 5
}
