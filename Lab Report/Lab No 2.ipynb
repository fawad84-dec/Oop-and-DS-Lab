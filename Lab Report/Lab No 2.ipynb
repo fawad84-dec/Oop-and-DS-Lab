{
 "cells": [
  {
   "cell_type": "markdown",
   "id": "736a9030-bda9-4aec-978c-c921b9ad0209",
   "metadata": {},
   "source": [
    "# **Name : Fawad Khan**\n",
    "# ***Reg No : 23jzele0544***\n",
    "# **Lab : 02**"
   ]
  },
  {
   "cell_type": "markdown",
   "id": "136f0a5b-5bc1-4868-8301-75ad0e48d217",
   "metadata": {},
   "source": [
    "# **Lab Report**"
   ]
  },
  {
   "cell_type": "code",
   "execution_count": 2,
   "id": "8cd8e451-32a6-460e-ac0f-74ea8e357e10",
   "metadata": {},
   "outputs": [
    {
     "name": "stdout",
     "output_type": "stream",
     "text": [
      "35\n"
     ]
    }
   ],
   "source": [
    "def voltage(current,resistance):   # define function\n",
    "    volt = current * resistance\n",
    "    return volt\n",
    "# argument passing by positional argument\n",
    "current_p = 5\n",
    "resistance_p = 7\n",
    "volt1 = voltage(current_p,resistance_p)  # call the function \n",
    "print(volt1)"
   ]
  },
  {
   "cell_type": "code",
   "execution_count": 3,
   "id": "e42aa572-f31d-4b73-8708-cde76f34f982",
   "metadata": {},
   "outputs": [
    {
     "name": "stdout",
     "output_type": "stream",
     "text": [
      "35\n"
     ]
    }
   ],
   "source": [
    "# argument passing by keyword argumnet\n",
    "volt2 = voltage(current = current_p, resistance = resistance_p) # call the function \n",
    "print(volt2)"
   ]
  },
  {
   "cell_type": "code",
   "execution_count": 4,
   "id": "37f55f47-a4a1-48fa-974a-4a15814295c0",
   "metadata": {},
   "outputs": [
    {
     "name": "stdout",
     "output_type": "stream",
     "text": [
      "8\n"
     ]
    }
   ],
   "source": [
    "# argument passing with a defult value\n",
    "def voltage2(current,resistance=2): # define function\n",
    "    volt = current * resistance\n",
    "    return volt\n",
    "currnet_ = 4\n",
    "volt = voltage2(currnet_)   # call the function \n",
    "print(volt)"
   ]
  },
  {
   "cell_type": "code",
   "execution_count": 5,
   "id": "e8f02187-e088-4bfb-8a72-df1b5de347b4",
   "metadata": {},
   "outputs": [
    {
     "ename": "TypeError",
     "evalue": "voltage3() missing 1 required positional argument: 'resistance'",
     "output_type": "error",
     "traceback": [
      "\u001b[1;31m---------------------------------------------------------------------------\u001b[0m",
      "\u001b[1;31mTypeError\u001b[0m                                 Traceback (most recent call last)",
      "Cell \u001b[1;32mIn[5], line 5\u001b[0m\n\u001b[0;32m      3\u001b[0m     volt \u001b[38;5;241m=\u001b[39m current \u001b[38;5;241m*\u001b[39m resistance\n\u001b[0;32m      4\u001b[0m     \u001b[38;5;28;01mreturn\u001b[39;00m volt\n\u001b[1;32m----> 5\u001b[0m volt1 \u001b[38;5;241m=\u001b[39m \u001b[43mvoltage3\u001b[49m\u001b[43m(\u001b[49m\u001b[38;5;241;43m5\u001b[39;49m\u001b[43m)\u001b[49m \u001b[38;5;66;03m# it show error beacuse one argument is missing in the positionol arguments\u001b[39;00m\n\u001b[0;32m      6\u001b[0m \u001b[38;5;28mprint\u001b[39m(volt1)\n",
      "\u001b[1;31mTypeError\u001b[0m: voltage3() missing 1 required positional argument: 'resistance'"
     ]
    }
   ],
   "source": [
    "# give less number of argument in to function\n",
    "def voltage3(current,resistance):  # define function\n",
    "    volt = current * resistance\n",
    "    return volt\n",
    "volt1 = voltage3(5) # it show error beacuse one argument is missing in the positionol arguments\n",
    "print(volt1)"
   ]
  },
  {
   "cell_type": "code",
   "execution_count": 6,
   "id": "0e42bb75-5773-49d5-b689-b07bd2570be5",
   "metadata": {},
   "outputs": [
    {
     "ename": "SyntaxError",
     "evalue": "positional argument follows keyword argument (1132106472.py, line 6)",
     "output_type": "error",
     "traceback": [
      "\u001b[1;36m  Cell \u001b[1;32mIn[6], line 6\u001b[1;36m\u001b[0m\n\u001b[1;33m    volt = voltage(current=current_p,resistance) # it show error that positional argument follows keyword argument\u001b[0m\n\u001b[1;37m                                               ^\u001b[0m\n\u001b[1;31mSyntaxError\u001b[0m\u001b[1;31m:\u001b[0m positional argument follows keyword argument\n"
     ]
    }
   ],
   "source": [
    "def voltage3(current,resistance):\n",
    "    volt = current * resistance\n",
    "    return volt\n",
    "current_p = 3\n",
    "resistance_p = 7\n",
    "volt = voltage(current=current_p,resistance) # it show error that positional argument follows keyword argument "
   ]
  }
 ],
 "metadata": {
  "kernelspec": {
   "display_name": "Python 3 (ipykernel)",
   "language": "python",
   "name": "python3"
  },
  "language_info": {
   "codemirror_mode": {
    "name": "ipython",
    "version": 3
   },
   "file_extension": ".py",
   "mimetype": "text/x-python",
   "name": "python",
   "nbconvert_exporter": "python",
   "pygments_lexer": "ipython3",
   "version": "3.9.19"
  }
 },
 "nbformat": 4,
 "nbformat_minor": 5
}
