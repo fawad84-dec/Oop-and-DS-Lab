{
 "cells": [
  {
   "cell_type": "markdown",
   "id": "d961c46c-4200-427b-8e4a-41c513499ea9",
   "metadata": {},
   "source": [
    "# <center><span style=\"font-family: Arial, sans-serif; font-size: 24px; font-weight: bold;\">Fall EE-271 OOP and Data Structures Lab</span></Center>\n"
   ]
  },
  {
   "cell_type": "markdown",
   "id": "ac1de3fc-4569-4ea9-a44f-e93e034b445f",
   "metadata": {},
   "source": [
    "# **Name : Fawad Khan**\n",
    "# **Req No : 23jzele05444**\n",
    "# **Lab Report No :07**                 "
   ]
  },
  {
   "cell_type": "markdown",
   "id": "6d571c39-3829-417c-9469-18697320b7c0",
   "metadata": {},
   "source": [
    "# Python Class Inheritance: Rectangle -> Square\n",
    "\n",
    "### **Objective:**\n",
    "Create a `Rectangle` class and inherit it into a `Square` class. The `Square` class should inherit the properties and methods from the `Rectangle` class and be able to represent a square where all sides are equal.\n",
    "\n",
    "1. **`Rectangle` class**: This class will represent a rectangle with two sides, `length` and `width`. It will have instance methods to calculate the area and perimeter of the rectangle.\n",
    "2. **`Square` class**: The `Square` class will inherit from the `Rectangle` class. Since all sides of a square are equal, the `Square` class will only need to take one side as input, and the methods for area and perimeter will be overridden accordingly.\n",
    "3. **Create two instances of the `Rectangle` class** and call the instance methods for each rectangle."
   ]
  },
  {
   "cell_type": "code",
   "execution_count": 1,
   "id": "e3906859-b2c2-4c0d-aca0-faf3735fd028",
   "metadata": {},
   "outputs": [],
   "source": [
    "class Rectangle:\n",
    "    \"\"\"\n",
    "    A class to represent a rectangle.\n",
    "    \"\"\"\n",
    "    def __init__(self, width: float, height: float) -> None:\n",
    "        self.width = width\n",
    "        self.height = height\n",
    "\n",
    "    @property\n",
    "    def width(self) -> float:\n",
    "        \"\"\"Gets the width of the rectangle.\"\"\"\n",
    "        return self._width\n",
    "\n",
    "    @width.setter\n",
    "    def width(self, value: float) -> None:\n",
    "        \"\"\"Sets the width of the rectangle.\"\"\"\n",
    "        self._width = value\n",
    "\n",
    "    @property\n",
    "    def height(self) -> float:\n",
    "        \"\"\"Gets the height of the rectangle.\"\"\"\n",
    "        return self._height\n",
    "\n",
    "    @height.setter\n",
    "    def height(self, value: float) -> None:\n",
    "        \"\"\"Sets the height of the rectangle.\"\"\"\n",
    "        self._height = value\n",
    "\n",
    "    @property\n",
    "    def area(self) -> float:\n",
    "        \"\"\"Calculates the area of the rectangle.\"\"\"\n",
    "        return self.width * self.height\n",
    "\n",
    "    @property\n",
    "    def perimeter(self) -> float:\n",
    "        \"\"\"Calculates the perimeter of the rectangle.\"\"\"\n",
    "        return 2 * (self.width + self.height)\n",
    "\n",
    "    def __repr__(self) -> str:\n",
    "        \"\"\"String representation of the rectangle.\"\"\"\n",
    "        return f'Rectangle(width={self.width}, height={self.height})'\n",
    "\n",
    "\n",
    "class Square(Rectangle):\n",
    "    \"\"\"\n",
    "    A class to represent a square, inheriting from Rectangle.\n",
    "    \"\"\"\n",
    "    def __init__(self, side: float) -> None:\n",
    "        super().__init__(side, side)\n",
    "\n",
    "    @property\n",
    "    def side(self) -> float:\n",
    "        \"\"\"Gets the side length of the square.\"\"\"\n",
    "        return self.width\n",
    "\n",
    "    @side.setter\n",
    "    def side(self, value: float) -> None:\n",
    "        \"\"\"Sets the side length of the square.\"\"\"\n",
    "        self.width = value\n",
    "        self.height = value\n",
    "\n",
    "    def __repr__(self) -> str:\n",
    "        \"\"\"String representation of the square.\"\"\"\n",
    "        return f'Square(side={self.side})'"
   ]
  },
  {
   "cell_type": "code",
   "execution_count": 2,
   "id": "1ce8851f-fb7d-4401-851c-1c384fbf7c6e",
   "metadata": {},
   "outputs": [],
   "source": [
    "rect1 = Rectangle(4, 6)\n",
    "rect2 = Rectangle(3, 8)"
   ]
  },
  {
   "cell_type": "code",
   "execution_count": 3,
   "id": "939ad046-91c9-40aa-ae53-dcb7eb28caea",
   "metadata": {},
   "outputs": [
    {
     "name": "stdout",
     "output_type": "stream",
     "text": [
      "Rectangle 1: Rectangle(width=4, height=6), Area: 24, Perimeter: 20\n",
      "Rectangle 2: Rectangle(width=3, height=8), Area: 24, Perimeter: 22\n"
     ]
    }
   ],
   "source": [
    "print(f\"Rectangle 1: {rect1}, Area: {rect1.area}, Perimeter: {rect1.perimeter}\")\n",
    "print(f\"Rectangle 2: {rect2}, Area: {rect2.area}, Perimeter: {rect2.perimeter}\")"
   ]
  },
  {
   "cell_type": "code",
   "execution_count": 4,
   "id": "3ba9ae57-abf7-40fe-a903-7a410b04169f",
   "metadata": {},
   "outputs": [
    {
     "name": "stdout",
     "output_type": "stream",
     "text": [
      "Square: Square(side=5), Area: 25, Perimeter: 20\n"
     ]
    }
   ],
   "source": [
    "square = Square(5)\n",
    "print(f\"Square: {square}, Area: {square.area}, Perimeter: {square.perimeter}\")"
   ]
  },
  {
   "cell_type": "code",
   "execution_count": null,
   "id": "1eebc346-18af-48ec-8ecc-9f9c780c7444",
   "metadata": {},
   "outputs": [],
   "source": []
  }
 ],
 "metadata": {
  "kernelspec": {
   "display_name": "Python 3 (ipykernel)",
   "language": "python",
   "name": "python3"
  },
  "language_info": {
   "codemirror_mode": {
    "name": "ipython",
    "version": 3
   },
   "file_extension": ".py",
   "mimetype": "text/x-python",
   "name": "python",
   "nbconvert_exporter": "python",
   "pygments_lexer": "ipython3",
   "version": "3.9.20"
  }
 },
 "nbformat": 4,
 "nbformat_minor": 5
}
