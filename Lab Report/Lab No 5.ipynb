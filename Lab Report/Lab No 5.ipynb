{
 "cells": [
  {
   "cell_type": "markdown",
   "id": "f6da3d44-9833-4860-b896-8e1c612c1b99",
   "metadata": {},
   "source": [
    "# ***Name : Fawad Khan***\n",
    "# ***Reg No : 23jzele0544***\n",
    "# **Lab : 05**"
   ]
  },
  {
   "cell_type": "markdown",
   "id": "e418fceb-7111-467a-811c-5bb32e0f886c",
   "metadata": {},
   "source": [
    "# **Lab Report**"
   ]
  },
  {
   "cell_type": "code",
   "execution_count": 1,
   "id": "9846cc0f-75de-45f9-b40d-6cdeee219939",
   "metadata": {},
   "outputs": [],
   "source": [
    "class Circle:\n",
    "    \"\"\"A class to represent a circle and perform related calculations.\n",
    "    \n",
    "    Attributes:\n",
    "    radius : float\n",
    "        The radius of the circle with a default value 1.0.\n",
    "    \n",
    "    Methods:\n",
    "    area():\n",
    "        Returns the area of the circle.\n",
    "    circumference():\n",
    "        Returns the circumference of the circle.\n",
    "    diameter():\n",
    "        Returns the diameter of the circle.\n",
    "    cylinder_volume(height: float):\n",
    "        Returns the volume of a cylinder with the circle as its area and a given height.\n",
    "    \"\"\"\n",
    "    def __init__(self,radius: float = 1.0):\n",
    "        \"\"\"Initializes the Circle with a radius.\n",
    "\n",
    "        Parameters:\n",
    "        radius:\n",
    "            The radius of the circle with a default value of 1.0.\n",
    "        \"\"\"\n",
    "        self.radius = radius\n",
    "    def area(self)-> float :\n",
    "        \"\"\"Calculates the area of the circle.\n",
    "    Return:\n",
    "        Return area in float\n",
    "    \"\"\"\n",
    "        return math.pi * self.radius**2\n",
    "    def circumference(self) -> float:\n",
    "        \"\"\"Calculates the circumference of the circle.\n",
    "    Return:\n",
    "        Return circumference in float\n",
    "    \"\"\"\n",
    "        return math.pi * 2 * self.radius\n",
    "    def diameter(self) -> float:\n",
    "        \"\"\"Calculates the diameter of the circle.\n",
    "    Return:\n",
    "        Return diameter in float\n",
    "    \"\"\"\n",
    "        return  2 * self.radius\n",
    "    def Volume_of_cylinder(self, height: float) -> float:\n",
    "        \"\"\"Calculates the volume of cylinder with the area of the circle.\n",
    "    Parameters:\n",
    "        height : float\n",
    "            The height of the cylinder.\n",
    "        Return:\n",
    "        float\n",
    "            The volume of the cylinder.\n",
    "        \"\"\"\n",
    "        return self.area * height\n",
    "    def __repr__(self) -> str:\n",
    "        \"\"\"This representation is intended for developers,\n",
    "        showing the class name and radius attribute in a format suitable for\n",
    "        recreating the object.\"\"\"\n",
    "        return f\"{type(self).__name__} ({self.radius})\"\n",
    "    def __str__(self) -> str:\n",
    "        \"\"\" This representation provides a simple description of the circle's\n",
    "        radius and is intended for end-users or general display purposes.\"\"\"\n",
    "        return f\"Circle with Radius: {self.radius}\""
   ]
  },
  {
   "cell_type": "code",
   "execution_count": 2,
   "id": "d84f8f77-e746-4f1b-a4ec-a543b24e709b",
   "metadata": {},
   "outputs": [],
   "source": [
    "inst_1 = Circle(4)\n",
    "inst_2 = Circle(8)"
   ]
  },
  {
   "cell_type": "code",
   "execution_count": 3,
   "id": "695cc546-e50e-46a5-9400-f58332e2fd63",
   "metadata": {},
   "outputs": [
    {
     "name": "stdout",
     "output_type": "stream",
     "text": [
      "Circle with Radius: 4\n",
      "Circle with Radius: 8\n"
     ]
    }
   ],
   "source": [
    "print(inst_1)\n",
    "print(inst_2)"
   ]
  },
  {
   "cell_type": "code",
   "execution_count": 4,
   "id": "967357a5-3693-4643-a2c4-62f7a5cccc05",
   "metadata": {},
   "outputs": [
    {
     "name": "stdout",
     "output_type": "stream",
     "text": [
      "mappingproxy({'Volume_of_cylinder': <function Circle.Volume_of_cylinder at 0x000002A8FD3204C0>,\n",
      "              '__dict__': <attribute '__dict__' of 'Circle' objects>,\n",
      "              '__doc__': 'A class to represent a circle and perform related '\n",
      "                         'calculations.\\n'\n",
      "                         '    \\n'\n",
      "                         '    Attributes:\\n'\n",
      "                         '    radius : float\\n'\n",
      "                         '        The radius of the circle with a default '\n",
      "                         'value 1.0.\\n'\n",
      "                         '    \\n'\n",
      "                         '    Methods:\\n'\n",
      "                         '    area():\\n'\n",
      "                         '        Returns the area of the circle.\\n'\n",
      "                         '    circumference():\\n'\n",
      "                         '        Returns the circumference of the circle.\\n'\n",
      "                         '    diameter():\\n'\n",
      "                         '        Returns the diameter of the circle.\\n'\n",
      "                         '    cylinder_volume(height: float):\\n'\n",
      "                         '        Returns the volume of a cylinder with the '\n",
      "                         'circle as its area and a given height.\\n'\n",
      "                         '    ',\n",
      "              '__init__': <function Circle.__init__ at 0x000002A8FD320280>,\n",
      "              '__module__': '__main__',\n",
      "              '__repr__': <function Circle.__repr__ at 0x000002A8FD320550>,\n",
      "              '__str__': <function Circle.__str__ at 0x000002A8FD3205E0>,\n",
      "              '__weakref__': <attribute '__weakref__' of 'Circle' objects>,\n",
      "              'area': <function Circle.area at 0x000002A8FD320310>,\n",
      "              'circumference': <function Circle.circumference at 0x000002A8FD3203A0>,\n",
      "              'diameter': <function Circle.diameter at 0x000002A8FD320430>})\n"
     ]
    }
   ],
   "source": [
    "from pprint import pprint\n",
    "pprint(Circle.__dict__)"
   ]
  },
  {
   "cell_type": "code",
   "execution_count": 5,
   "id": "e89b85e3-a409-42e0-b742-3fadf4a9adbf",
   "metadata": {},
   "outputs": [
    {
     "name": "stdout",
     "output_type": "stream",
     "text": [
      "mappingproxy({'Volume_of_cylinder': <function Circle.Volume_of_cylinder at 0x000002A8FD3204C0>,\n",
      "              '__dict__': <attribute '__dict__' of 'Circle' objects>,\n",
      "              '__doc__': 'A class to represent a circle and perform related '\n",
      "                         'calculations.\\n'\n",
      "                         '    \\n'\n",
      "                         '    Attributes:\\n'\n",
      "                         '    radius : float\\n'\n",
      "                         '        The radius of the circle with a default '\n",
      "                         'value 1.0.\\n'\n",
      "                         '    \\n'\n",
      "                         '    Methods:\\n'\n",
      "                         '    area():\\n'\n",
      "                         '        Returns the area of the circle.\\n'\n",
      "                         '    circumference():\\n'\n",
      "                         '        Returns the circumference of the circle.\\n'\n",
      "                         '    diameter():\\n'\n",
      "                         '        Returns the diameter of the circle.\\n'\n",
      "                         '    cylinder_volume(height: float):\\n'\n",
      "                         '        Returns the volume of a cylinder with the '\n",
      "                         'circle as its area and a given height.\\n'\n",
      "                         '    ',\n",
      "              '__init__': <function Circle.__init__ at 0x000002A8FD320280>,\n",
      "              '__module__': '__main__',\n",
      "              '__repr__': <function Circle.__repr__ at 0x000002A8FD320550>,\n",
      "              '__str__': <function Circle.__str__ at 0x000002A8FD3205E0>,\n",
      "              '__weakref__': <attribute '__weakref__' of 'Circle' objects>,\n",
      "              'area': <function Circle.area at 0x000002A8FD320310>,\n",
      "              'circumference': <function Circle.circumference at 0x000002A8FD3203A0>,\n",
      "              'diameter': <function Circle.diameter at 0x000002A8FD320430>})\n"
     ]
    }
   ],
   "source": [
    "pprint(vars(Circle))"
   ]
  },
  {
   "cell_type": "code",
   "execution_count": 6,
   "id": "f43a7d42-b358-43b1-a57c-56fcaa1ec48c",
   "metadata": {},
   "outputs": [
    {
     "name": "stdout",
     "output_type": "stream",
     "text": [
      "{'radius': 4}\n"
     ]
    }
   ],
   "source": [
    "print(inst_1.__dict__)"
   ]
  },
  {
   "cell_type": "code",
   "execution_count": 7,
   "id": "168b4add-b5e9-4e69-9207-223d522431f4",
   "metadata": {},
   "outputs": [
    {
     "name": "stdout",
     "output_type": "stream",
     "text": [
      "{'radius': 8}\n"
     ]
    }
   ],
   "source": [
    "print(inst_2.__dict__)"
   ]
  },
  {
   "cell_type": "code",
   "execution_count": 8,
   "id": "90cf33cb-b51f-4bb6-b17c-3de4d0f0daad",
   "metadata": {},
   "outputs": [
    {
     "name": "stdout",
     "output_type": "stream",
     "text": [
      "Help on class Circle in module __main__:\n",
      "\n",
      "class Circle(builtins.object)\n",
      " |  Circle(radius: float = 1.0)\n",
      " |  \n",
      " |  A class to represent a circle and perform related calculations.\n",
      " |  \n",
      " |  Attributes:\n",
      " |  radius : float\n",
      " |      The radius of the circle with a default value 1.0.\n",
      " |  \n",
      " |  Methods:\n",
      " |  area():\n",
      " |      Returns the area of the circle.\n",
      " |  circumference():\n",
      " |      Returns the circumference of the circle.\n",
      " |  diameter():\n",
      " |      Returns the diameter of the circle.\n",
      " |  cylinder_volume(height: float):\n",
      " |      Returns the volume of a cylinder with the circle as its area and a given height.\n",
      " |  \n",
      " |  Methods defined here:\n",
      " |  \n",
      " |  Volume_of_cylinder(self, height: float) -> float\n",
      " |      Calculates the volume of cylinder with the area of the circle.\n",
      " |      Parameters:\n",
      " |          height : float\n",
      " |              The height of the cylinder.\n",
      " |          Return:\n",
      " |          float\n",
      " |              The volume of the cylinder.\n",
      " |  \n",
      " |  __init__(self, radius: float = 1.0)\n",
      " |      Initializes the Circle with a radius.\n",
      " |      \n",
      " |      Parameters:\n",
      " |      radius:\n",
      " |          The radius of the circle with a default value of 1.0.\n",
      " |  \n",
      " |  __repr__(self) -> str\n",
      " |      This representation is intended for developers,\n",
      " |      showing the class name and radius attribute in a format suitable for\n",
      " |      recreating the object.\n",
      " |  \n",
      " |  __str__(self) -> str\n",
      " |      This representation provides a simple description of the circle's\n",
      " |      radius and is intended for end-users or general display purposes.\n",
      " |  \n",
      " |  area(self) -> float\n",
      " |      Calculates the area of the circle.\n",
      " |      Return:\n",
      " |          Return area in float\n",
      " |  \n",
      " |  circumference(self) -> float\n",
      " |      Calculates the circumference of the circle.\n",
      " |      Return:\n",
      " |          Return circumference in float\n",
      " |  \n",
      " |  diameter(self) -> float\n",
      " |      Calculates the diameter of the circle.\n",
      " |      Return:\n",
      " |          Return diameter in float\n",
      " |  \n",
      " |  ----------------------------------------------------------------------\n",
      " |  Data descriptors defined here:\n",
      " |  \n",
      " |  __dict__\n",
      " |      dictionary for instance variables (if defined)\n",
      " |  \n",
      " |  __weakref__\n",
      " |      list of weak references to the object (if defined)\n",
      "\n"
     ]
    }
   ],
   "source": [
    "help(Circle)"
   ]
  },
  {
   "cell_type": "code",
   "execution_count": 9,
   "id": "f9804169-a2cd-45fa-9667-2d2854b0062f",
   "metadata": {},
   "outputs": [
    {
     "name": "stdout",
     "output_type": "stream",
     "text": [
      "A class to represent a circle and perform related calculations.\n",
      "    \n",
      "    Attributes:\n",
      "    radius : float\n",
      "        The radius of the circle with a default value 1.0.\n",
      "    \n",
      "    Methods:\n",
      "    area():\n",
      "        Returns the area of the circle.\n",
      "    circumference():\n",
      "        Returns the circumference of the circle.\n",
      "    diameter():\n",
      "        Returns the diameter of the circle.\n",
      "    cylinder_volume(height: float):\n",
      "        Returns the volume of a cylinder with the circle as its area and a given height.\n",
      "    \n",
      "\n",
      "{'radius': <class 'float'>}\n",
      "Initializes the Circle with a radius.\n",
      "\n",
      "        Parameters:\n",
      "        radius:\n",
      "            The radius of the circle with a default value of 1.0.\n",
      "        \n",
      "\n",
      "Calculates the area of the circle.\n",
      "    Return:\n",
      "        Return area in float\n",
      "    \n",
      "Calculates the circumference of the circle.\n",
      "    Return:\n",
      "        Return circumference in float\n",
      "    \n",
      "\n",
      "Calculates the diameter of the circle.\n",
      "    Return:\n",
      "        Return diameter in float\n",
      "    \n",
      "\n",
      "This representation is intended for developers,\n",
      "        showing the class name and radius attribute in a format suitable for\n",
      "        recreating the object.\n",
      " This representation provides a simple description of the circle's\n",
      "        radius and is intended for end-users or general display purposes.\n"
     ]
    }
   ],
   "source": [
    "print(Circle.__doc__)\n",
    "print()\n",
    "print(Circle.__init__.__annotations__)\n",
    "print(Circle.__init__.__doc__)\n",
    "print()\n",
    "print(Circle.area.__doc__)\n",
    "print(Circle.circumference.__doc__)\n",
    "print()\n",
    "print(Circle.diameter.__doc__)\n",
    "\n",
    "print()\n",
    "print(Circle.__repr__.__doc__)\n",
    "print(Circle.__str__.__doc__)"
   ]
  },
  {
   "cell_type": "code",
   "execution_count": 10,
   "id": "6bc43603-36b1-4b87-938f-8e6793843f97",
   "metadata": {},
   "outputs": [
    {
     "name": "stdout",
     "output_type": "stream",
     "text": [
      "Circle with Radius: 1.0\n"
     ]
    },
    {
     "data": {
      "text/plain": [
       "Circle (1.0)"
      ]
     },
     "execution_count": 10,
     "metadata": {},
     "output_type": "execute_result"
    }
   ],
   "source": [
    "inst_3 = Circle()\n",
    "print(inst_3)\n",
    "inst_3"
   ]
  },
  {
   "cell_type": "code",
   "execution_count": null,
   "id": "e235e128-97ad-432c-8757-766844f5badd",
   "metadata": {},
   "outputs": [],
   "source": []
  }
 ],
 "metadata": {
  "kernelspec": {
   "display_name": "Python 3 (ipykernel)",
   "language": "python",
   "name": "python3"
  },
  "language_info": {
   "codemirror_mode": {
    "name": "ipython",
    "version": 3
   },
   "file_extension": ".py",
   "mimetype": "text/x-python",
   "name": "python",
   "nbconvert_exporter": "python",
   "pygments_lexer": "ipython3",
   "version": "3.9.19"
  }
 },
 "nbformat": 4,
 "nbformat_minor": 5
}
