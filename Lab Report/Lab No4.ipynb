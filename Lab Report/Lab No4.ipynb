{
 "cells": [
  {
   "cell_type": "markdown",
   "id": "8b0698ac-568b-419e-8ea9-38eb8ce0abcc",
   "metadata": {},
   "source": [
    "# ***Name : Fawad khan***\n",
    "# ***Reg No : 23jzele0544***\n",
    "# **Lab : 04**"
   ]
  },
  {
   "cell_type": "markdown",
   "id": "600df33b-438f-447c-8957-66093e0feba0",
   "metadata": {},
   "source": [
    "# **Lab Report**"
   ]
  },
  {
   "cell_type": "markdown",
   "id": "f5b485b8-9be6-486d-9abd-f71bee1efc15",
   "metadata": {},
   "source": [
    "a. Make an object and print its x and y coordinates. "
   ]
  },
  {
   "cell_type": "code",
   "execution_count": 3,
   "id": "a44da63b-dcef-42d3-8cb2-bad19650959c",
   "metadata": {},
   "outputs": [],
   "source": [
    "class Point:\n",
    "    pass"
   ]
  },
  {
   "cell_type": "code",
   "execution_count": 32,
   "id": "14432dd3-a124-4df3-bc7f-b8940be5c90e",
   "metadata": {},
   "outputs": [
    {
     "name": "stdout",
     "output_type": "stream",
     "text": [
      "Represents a point in two-dimensional geometric\n",
      "coordinates\n",
      "    Parameters\n",
      "        ----------\n",
      "        x : float\n",
      "        y : float\n",
      "    \n"
     ]
    }
   ],
   "source": [
    "import math\n",
    "class Point:\n",
    "    \"\"\"Represents a point in two-dimensional geometric\n",
    "coordinates\n",
    "    Parameters\n",
    "        ----------\n",
    "        x : float\n",
    "        y : float\n",
    "    \"\"\"\n",
    "    def __init__(self, x: float, y: float)->None:\n",
    "        self.x = x\n",
    "        self.y = y\n",
    "    def distance(self, p2)->float:\n",
    "        return math.sqrt((self.x-p2.x)**2 + (self.y-p2.y)**2)\n",
    "    def point(self) -> None:\n",
    "        print(f\"Point({self.x}, {self.y})\")\n",
    "print(Point.__doc__)"
   ]
  },
  {
   "cell_type": "markdown",
   "id": "36ec39b9-16a3-48fb-ab6d-83f31facf0db",
   "metadata": {},
   "source": [
    "a. Define point1 and pass two numbers. "
   ]
  },
  {
   "cell_type": "code",
   "execution_count": 33,
   "id": "ff8d1f67-50e4-4489-88df-563d6720ffd7",
   "metadata": {},
   "outputs": [],
   "source": [
    "p1 = Point(2,3)"
   ]
  },
  {
   "cell_type": "markdown",
   "id": "68180482-4d98-4f48-bfc0-6cefcd15ed35",
   "metadata": {},
   "source": [
    "b. Make another instance of the point class, say its name is p2. "
   ]
  },
  {
   "cell_type": "code",
   "execution_count": 34,
   "id": "ba89b9e2-07a1-419c-a323-0527238e57b6",
   "metadata": {},
   "outputs": [],
   "source": [
    "p2 = Point(4,2)"
   ]
  },
  {
   "cell_type": "markdown",
   "id": "e044a071-f394-4567-a363-6e35b23fccfd",
   "metadata": {},
   "source": [
    "c. Print p1 and p2, for this use the print command and pass the point as input. \n"
   ]
  },
  {
   "cell_type": "code",
   "execution_count": 35,
   "id": "89d8ebca-00c9-4f75-9df8-8cfe8c7e34d8",
   "metadata": {},
   "outputs": [
    {
     "name": "stdout",
     "output_type": "stream",
     "text": [
      "<__main__.Point object at 0x00000246EE09D850>\n"
     ]
    }
   ],
   "source": [
    "print(p1)"
   ]
  },
  {
   "cell_type": "code",
   "execution_count": 36,
   "id": "4be9da86-cd9b-4744-a485-dc4e58e442c1",
   "metadata": {},
   "outputs": [
    {
     "name": "stdout",
     "output_type": "stream",
     "text": [
      "<__main__.Point object at 0x00000246EE08D820>\n"
     ]
    }
   ],
   "source": [
    "print(p2)"
   ]
  },
  {
   "cell_type": "markdown",
   "id": "b697a358-b8b9-4737-b94f-45ff8ca1d763",
   "metadata": {},
   "source": [
    "d. Print the coordinate by using the object and dot operator."
   ]
  },
  {
   "cell_type": "code",
   "execution_count": 37,
   "id": "9e87dd99-97c4-4f75-8328-015d5d20ee0a",
   "metadata": {},
   "outputs": [
    {
     "name": "stdout",
     "output_type": "stream",
     "text": [
      "p1 coordinates is (2 , 3)\n"
     ]
    }
   ],
   "source": [
    "print(f\"p1 coordinates is ({p1.x} , {p1.y})\")"
   ]
  },
  {
   "cell_type": "code",
   "execution_count": 38,
   "id": "0175e849-3a29-49a0-9df2-9a24b6d2cb3b",
   "metadata": {},
   "outputs": [
    {
     "name": "stdout",
     "output_type": "stream",
     "text": [
      "p2 coordinates is (4 , 2)\n"
     ]
    }
   ],
   "source": [
    "print(f\"p2 coordinates is ({p2.x} , {p2.y})\")"
   ]
  },
  {
   "cell_type": "markdown",
   "id": "908ded3d-756d-48d8-a24f-dcd48d2dd9f3",
   "metadata": {},
   "source": [
    "e. Add a new method to the point class that can effectively print the points. Print both the\n",
    "point using that function. "
   ]
  },
  {
   "cell_type": "code",
   "execution_count": 39,
   "id": "1ef09aa1-1ee3-45df-ac6f-4ba634d81289",
   "metadata": {},
   "outputs": [],
   "source": [
    "p1 = Point(2,3)"
   ]
  },
  {
   "cell_type": "markdown",
   "id": "3620e5ec-57e4-41e2-ab3e-73a26d455c6f",
   "metadata": {},
   "source": [
    "b. Make another instance of the point class, say its name is p2. "
   ]
  },
  {
   "cell_type": "code",
   "execution_count": 40,
   "id": "a0f7959f-fd49-4ce0-8eb2-a974a3d8c274",
   "metadata": {},
   "outputs": [],
   "source": [
    "p2 = Point(4,2)"
   ]
  },
  {
   "cell_type": "markdown",
   "id": "f4c0afef-5fb5-462f-a3e6-acba5dca1c2e",
   "metadata": {},
   "source": [
    "c. Print p1 and p2, for this use the print command and pass the point as input. "
   ]
  },
  {
   "cell_type": "code",
   "execution_count": 41,
   "id": "b295d9cd-eb8a-4e81-b7ba-fd61c29d9d65",
   "metadata": {},
   "outputs": [
    {
     "name": "stdout",
     "output_type": "stream",
     "text": [
      "<__main__.Point object at 0x00000246EE04E760>\n"
     ]
    }
   ],
   "source": [
    "print(p1)"
   ]
  },
  {
   "cell_type": "code",
   "execution_count": 42,
   "id": "486d26d9-352f-4d5e-9bda-554c38db72e2",
   "metadata": {},
   "outputs": [
    {
     "name": "stdout",
     "output_type": "stream",
     "text": [
      "<__main__.Point object at 0x00000246EE09D910>\n"
     ]
    }
   ],
   "source": [
    "print(p2)"
   ]
  },
  {
   "cell_type": "markdown",
   "id": "5daa214d-35b4-41dd-9791-77955fde67a2",
   "metadata": {},
   "source": [
    "d. Print the coordinate by using the object and dot operator.\n"
   ]
  },
  {
   "cell_type": "code",
   "execution_count": 43,
   "id": "feeb4c87-d151-42e1-9b78-ff0e3d5e64db",
   "metadata": {},
   "outputs": [
    {
     "name": "stdout",
     "output_type": "stream",
     "text": [
      "p1 coordinates is (2 , 3)\n"
     ]
    }
   ],
   "source": [
    "print(f\"p1 coordinates is ({p1.x} , {p1.y})\")"
   ]
  },
  {
   "cell_type": "code",
   "execution_count": 44,
   "id": "e767ef29-416f-4c9f-ab3f-42aeb6ef2ce8",
   "metadata": {},
   "outputs": [
    {
     "name": "stdout",
     "output_type": "stream",
     "text": [
      "p2 coordinates is (4 , 2)\n"
     ]
    }
   ],
   "source": [
    "print(f\"p2 coordinates is ({p2.x} , {p2.y})\")"
   ]
  },
  {
   "cell_type": "markdown",
   "id": "e97d4250-aec7-4c99-9b27-d5c18cfc5163",
   "metadata": {},
   "source": [
    "e. Add a new method to the point class that can effectively print the points. Print both the\n",
    "point using that function. "
   ]
  },
  {
   "cell_type": "code",
   "execution_count": 45,
   "id": "77f93173-16e5-410e-bd29-2da442a69221",
   "metadata": {},
   "outputs": [
    {
     "name": "stdout",
     "output_type": "stream",
     "text": [
      "Point(2, 3)\n"
     ]
    }
   ],
   "source": [
    "p1.point()"
   ]
  },
  {
   "cell_type": "code",
   "execution_count": 46,
   "id": "27bad5a9-b222-4e39-a154-bfbf61b7c416",
   "metadata": {},
   "outputs": [
    {
     "name": "stdout",
     "output_type": "stream",
     "text": [
      "Point(4, 2)\n"
     ]
    }
   ],
   "source": [
    "p2.point()"
   ]
  },
  {
   "cell_type": "markdown",
   "id": "2e040170-4162-4407-829b-f16c9ab08e84",
   "metadata": {},
   "source": [
    "\n",
    "f. Calculate the distance between these two pints."
   ]
  },
  {
   "cell_type": "code",
   "execution_count": 47,
   "id": "52a75b97-cd77-44b5-9bdd-590c23b57dc3",
   "metadata": {},
   "outputs": [],
   "source": [
    "Distance = p1.distance(p2)"
   ]
  },
  {
   "cell_type": "code",
   "execution_count": 48,
   "id": "97af8c20-ec6e-4fdd-8b90-85daa4516626",
   "metadata": {},
   "outputs": [
    {
     "name": "stdout",
     "output_type": "stream",
     "text": [
      "Distance B/W two points (p1, p2) is 2.23606797749979\n"
     ]
    }
   ],
   "source": [
    "print(f\"Distance B/W two points (p1, p2) is {Distance}\")"
   ]
  }
 ],
 "metadata": {
  "kernelspec": {
   "display_name": "Python 3 (ipykernel)",
   "language": "python",
   "name": "python3"
  },
  "language_info": {
   "codemirror_mode": {
    "name": "ipython",
    "version": 3
   },
   "file_extension": ".py",
   "mimetype": "text/x-python",
   "name": "python",
   "nbconvert_exporter": "python",
   "pygments_lexer": "ipython3",
   "version": "3.9.19"
  }
 },
 "nbformat": 4,
 "nbformat_minor": 5
}
