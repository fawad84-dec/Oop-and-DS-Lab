{
 "cells": [
  {
   "cell_type": "markdown",
   "id": "d7e0be5c-8414-44fa-8ae4-1cb326196a82",
   "metadata": {},
   "source": [
    "# <center><span style=\"font-family: Arial, sans-serif; font-size: 24px; font-weight: bold;\">Fall EE-23 OOPS and Data Structure Lab</span></Center>\n"
   ]
  },
  {
   "cell_type": "markdown",
   "id": "12b3d5f8-3c93-45f3-af3e-171cfb3dc70f",
   "metadata": {},
   "source": [
    "# **Lab Practice**\n",
    "               \n",
    "# **Name :Fawad Khan**\n",
    "# **Reg No: 23jzele0544**\n",
    "# **Lab  : Multi level Inheritance**\n",
    "# **Lab Practice No 08**"
   ]
  },
  {
   "cell_type": "markdown",
   "id": "7bfe64f5-e9b5-45eb-be64-06f8bbbe977d",
   "metadata": {},
   "source": [
    "# **Problem No 01: Rectangle -> Square -> Cube**\n",
    "\n",
    "### Objective:\n",
    "Design a class hierarchy that models a Rectangle, a Square (inheriting from Rectangle), and a Cube (inheriting from Square). Each class should have appropriate methods for calculating area and volume where applicable.\n",
    "\n",
    "### Class Structure:\n",
    "1. **Rectangle Class**: This class will have `length` and `width` as attributes. It will also have a method to calculate the area.\n",
    "2. **Square Class**: This class will inherit from the `Rectangle` class. Since a square has equal length and width, the constructor will ensure that both dimensions are equal.\n",
    "3. **Cube Class**: This class will inherit from the `Square` class and extend functionality to calculate the surface area and volume of the cube. The `Cube` class will use the inherited `area()` method from the `Square` class to calculate its surface area.\n"
   ]
  },
  {
   "cell_type": "code",
   "execution_count": 2,
   "id": "42e3776b-883b-4033-a626-ebcdabf5fcc3",
   "metadata": {},
   "outputs": [],
   "source": [
    "class Rectangle:\n",
    "    def __init__(self, width, height):\n",
    "        self.width = width\n",
    "        self.height = height\n",
    "\n",
    "    def area(self):\n",
    "        return self.width * self.height\n",
    "\n",
    "    def __str__(self):\n",
    "        return f\"Rectangle [Width: {self.width}, Height: {self.height}, Area: {self.area()}]\""
   ]
  },
  {
   "cell_type": "code",
   "execution_count": 3,
   "id": "36c545dc-6870-4f61-9795-81b2acdbf163",
   "metadata": {},
   "outputs": [],
   "source": [
    "class Square(Rectangle):\n",
    "    def __init__(self, side):\n",
    "        super().__init__(side, side)\n",
    "\n",
    "    def __str__(self):\n",
    "        return f\"Square [Side: {self.width}, Area: {self.area()}]\""
   ]
  },
  {
   "cell_type": "code",
   "execution_count": 4,
   "id": "0ed77096-f259-43bd-a5d4-44cd1c0d1d5a",
   "metadata": {},
   "outputs": [],
   "source": [
    "class Cube(Square):\n",
    "    def __init__(self, side):\n",
    "        super().__init__(side)\n",
    "\n",
    "    def surface_area(self):\n",
    "        return 6 * super().area()\n",
    "\n",
    "    def volume(self):\n",
    "        return self.width ** 3\n",
    "\n",
    "    def __str__(self):\n",
    "        return (f\"Cube [Side: {self.width}, Surface Area: {self.surface_area()}, \"\n",
    "                f\"Volume: {self.volume()}]\")"
   ]
  },
  {
   "cell_type": "code",
   "execution_count": 5,
   "id": "7a8c8e62-e8b5-4ab3-ad2f-e6637220204e",
   "metadata": {},
   "outputs": [],
   "source": [
    "cube1 = Cube(3)\n",
    "cube2 = Cube(5)"
   ]
  },
  {
   "cell_type": "code",
   "execution_count": 6,
   "id": "b42029d7-10f0-4aa5-87ac-ce2793a6eff4",
   "metadata": {},
   "outputs": [
    {
     "name": "stdout",
     "output_type": "stream",
     "text": [
      "Cube 1 Details:\n",
      "Cube [Side: 3, Surface Area: 54, Volume: 27]\n",
      "\n",
      "Cube 2 Details:\n",
      "Cube [Side: 5, Surface Area: 150, Volume: 125]\n"
     ]
    }
   ],
   "source": [
    "print(\"Cube 1 Details:\")\n",
    "print(cube1)\n",
    "print(\"\\nCube 2 Details:\")\n",
    "print(cube2)"
   ]
  },
  {
   "cell_type": "markdown",
   "id": "0c537333-b105-44b6-aebd-6236f37123e1",
   "metadata": {},
   "source": [
    "# **Problem No 02: Extend the HR System**\n",
    "\n",
    "### **Objective**:\n",
    "Extend the existing HR system to include new classes that represent different employee roles within the company. These roles are:\n",
    "- Managers (inheriting from SalaryEmployee)\n",
    "- Secretaries (inheriting from SalaryEmployee)\n",
    "- Sales Employees (inheriting from SalaryEmployee)\n",
    "- Factory Workers (inheriting from HourlyEmployee)\n",
    "\n",
    "Each class should implement the `.work()` method, which tracks productivity based on the employee's role. The `.work()` method will take the hours worked as an argument, and each role will calculate productivity in a different way.\n",
    "\n",
    "### **Class Structure**:\n",
    "1. **Manager**: Managers are salaried employees who make more money and track productivity based on the hours they work. They inherit from `SalaryEmployee`.\n",
    "2. **Secretary**: Secretaries are salaried employees who make less money than managers. They inherit from `SalaryEmployee` and track productivity in a different way.\n",
    "3. **SalesPerson**: Sales employees have a base salary and earn commissions for sales. They inherit from `SalaryEmployee` and track productivity based on the number of sales.\n",
    "4. **FactoryWorker**: Factory workers are paid by the hour, and their productivity is tracked based on the hours worked. They inherit from `HourlyEmployee`."
   ]
  },
  {
   "cell_type": "code",
   "execution_count": 9,
   "id": "9cb8a524-3015-475f-a6a1-ebef791ef836",
   "metadata": {},
   "outputs": [],
   "source": [
    "class Payroll_system:\n",
    "    def calculate_payroll(self, employees):\n",
    "        print(\"Calculate Payroll\")\n",
    "        print(\"===========================\")\n",
    "        for employee in employees:\n",
    "            print(f\"Payroll for: {employee.id} - {employee.name}\")\n",
    "            print(f\"- Check amount: {employee.calculate_payroll()}\")\n",
    "            print()\n",
    "\n",
    "class Employee:\n",
    "    def __init__(self, id, name):\n",
    "        self.id = id\n",
    "        self.name = name\n",
    "class Salary_employee(Employee):\n",
    "    def __init__(self, id, name, weekly_salary):\n",
    "        super().__init__(id, name)\n",
    "        self.weekly_salary = weekly_salary\n",
    "\n",
    "    def calculate_payroll(self):\n",
    "        return self.weekly_salary\n",
    "\n",
    "class Hourly_employee(Employee):\n",
    "    def __init__(self, id, name, hours_worked, hourly_rate):\n",
    "        super().__init__(id, name)\n",
    "        self.hours_worked = hours_worked\n",
    "        self.hourly_rate = hourly_rate\n",
    "\n",
    "    def calculate_payroll(self):\n",
    "        return self.hours_worked * self.hourly_rate\n",
    "\n",
    "class Commission_employee(Salary_employee):\n",
    "    def __init__(self, id, name, weekly_salary, commission):\n",
    "        super().__init__(id, name, weekly_salary)\n",
    "        self.commission = commission\n",
    "\n",
    "    def calculate_payroll(self):\n",
    "        fixed = super().calculate_payroll()\n",
    "        return fixed + self.commission"
   ]
  },
  {
   "cell_type": "code",
   "execution_count": 10,
   "id": "1cf8b649-34fd-487c-8705-00cb2c68553f",
   "metadata": {},
   "outputs": [],
   "source": [
    "class Manager_role(Salary_employee):\n",
    "    def work(self, hours):\n",
    "        print(f\"{self.name} oversees and delegates tasks for {hours} hours.\")\n",
    "\n",
    "class Secretary_role(Salary_employee):\n",
    "    def work(self, hours):\n",
    "        print(f\"{self.name} efficiently organizes and manages documents for {hours} hours.\")\n",
    "\n",
    "class SalesPerson_role(Commission_employee):\n",
    "    def work(self, hours):\n",
    "        print(f\"{self.name} engages with clients and closes deals for {hours} hours.\")\n",
    "\n",
    "class FactoryWorker_role(Hourly_employee):\n",
    "    def work(self, hours):\n",
    "        print(f\"{self.name} diligently assembles products for {hours} hours.\")\n"
   ]
  },
  {
   "cell_type": "code",
   "execution_count": 16,
   "id": "e722e91c-07c7-4cdc-a825-15b0184688b5",
   "metadata": {},
   "outputs": [],
   "source": [
    "class Productivity_system:\n",
    "    def Track(self, employees, hours):\n",
    "        print(\"Productivity System Tracking\")\n",
    "        print('-----------------------------')\n",
    "        for employee in employees:\n",
    "            employee.work(hours)\n",
    "            print()"
   ]
  },
  {
   "cell_type": "code",
   "execution_count": 17,
   "id": "65ba1acd-b8ab-4efa-96d9-61a36981bdd1",
   "metadata": {},
   "outputs": [],
   "source": [
    "Manager = Manager_role(528, 'Yahya Ahmad', 3000)\n",
    "Secretary = Secretary_role(527, 'Assadullah', 1500)\n",
    "SalesPerson = SalesPerson_role(529, 'Muhammad Idrees', 23, 40)\n",
    "FactoryWorker = FactoryWorker_role(545, 'Abbas Mabood', 34, 55)"
   ]
  },
  {
   "cell_type": "code",
   "execution_count": 18,
   "id": "ed532b10-b021-4f27-976f-13c495049b6c",
   "metadata": {},
   "outputs": [],
   "source": [
    "employees = [Manager, Secretary, SalesPerson, FactoryWorker]"
   ]
  },
  {
   "cell_type": "code",
   "execution_count": 19,
   "id": "2cf5d5ce-6f55-4830-98a1-488c1f26ad4f",
   "metadata": {},
   "outputs": [],
   "source": [
    "productivity_system = Productivity_system()"
   ]
  },
  {
   "cell_type": "code",
   "execution_count": 20,
   "id": "b320937e-37e9-4b5d-af43-7c8ebc34c6d6",
   "metadata": {},
   "outputs": [
    {
     "name": "stdout",
     "output_type": "stream",
     "text": [
      "Productivity System Tracking\n",
      "-----------------------------\n",
      "Yahya Ahmad oversees and delegates tasks for 44 hours.\n",
      "\n",
      "Assadullah efficiently organizes and manages documents for 44 hours.\n",
      "\n",
      "Muhammad Idrees engages with clients and closes deals for 44 hours.\n",
      "\n",
      "Abbas Mabood diligently assembles products for 44 hours.\n",
      "\n"
     ]
    }
   ],
   "source": [
    "productivity_system.Track(employees, 44)"
   ]
  },
  {
   "cell_type": "code",
   "execution_count": null,
   "id": "bbf4fbe8-ca15-4b68-a80f-2c341cadbfb3",
   "metadata": {},
   "outputs": [],
   "source": []
  }
 ],
 "metadata": {
  "kernelspec": {
   "display_name": "Python 3 (ipykernel)",
   "language": "python",
   "name": "python3"
  },
  "language_info": {
   "codemirror_mode": {
    "name": "ipython",
    "version": 3
   },
   "file_extension": ".py",
   "mimetype": "text/x-python",
   "name": "python",
   "nbconvert_exporter": "python",
   "pygments_lexer": "ipython3",
   "version": "3.9.20"
  }
 },
 "nbformat": 4,
 "nbformat_minor": 5
}
