{
 "cells": [
  {
   "cell_type": "markdown",
   "id": "adffaee8-7631-4550-bd3e-0b8e0fa3c76c",
   "metadata": {},
   "source": [
    "# ***Name : Fawad Khan***\n",
    "# ***Reg No : 23jzele0544***\n",
    "# **Lab : 03**"
   ]
  },
  {
   "cell_type": "markdown",
   "id": "ce646666-8ec4-45c7-bfb3-29f30defee86",
   "metadata": {},
   "source": [
    "# **Lab Report** "
   ]
  },
  {
   "cell_type": "markdown",
   "id": "5041e96c-9280-42ca-9e1f-9796cf29dad1",
   "metadata": {},
   "source": [
    "1. Make a list that contains the student name, the last four digits of the registration number as\n",
    "an integer, the CGPA as a float, and a list that contains GPA of all semesters. (Nested List)"
   ]
  },
  {
   "cell_type": "code",
   "execution_count": 1,
   "id": "054b7277-3fde-4aac-b8b6-70bce199cc52",
   "metadata": {},
   "outputs": [],
   "source": [
    "# list cantain student name, reg no and cgpa and all samester GPA\n",
    "student_info = ['Yahya  Ahmad',528,3.91,[3.86,3.95]]"
   ]
  },
  {
   "cell_type": "code",
   "execution_count": 2,
   "id": "ee05145e-9f4d-4079-be4a-166caaeb2156",
   "metadata": {},
   "outputs": [
    {
     "name": "stdout",
     "output_type": "stream",
     "text": [
      "['Yahya  Ahmad', 528, 3.91, [3.86, 3.95]]\n"
     ]
    }
   ],
   "source": [
    "print(student_info)"
   ]
  },
  {
   "cell_type": "markdown",
   "id": "45b9948f-9e00-4fd9-aeb3-38a5f0962db6",
   "metadata": {},
   "source": [
    "Use list inducing in the following nested list and access each and every element.\n",
    "x = [\"a\", [\"bb\", [\"ccc\", \"ddd\"], \"ee\", \"ff\"], \"g\", [\"hh\", \"ii\"], \"j\"]"
   ]
  },
  {
   "cell_type": "code",
   "execution_count": 4,
   "id": "1b5729fe-9b9b-4985-b894-65d588fa70e7",
   "metadata": {},
   "outputs": [],
   "source": [
    "x = [\"a\", [\"bb\", [\"ccc\", \"ddd\"], \"ee\", \"ff\"], \"g\", [\"hh\", \"ii\"], \"j\"]"
   ]
  },
  {
   "cell_type": "code",
   "execution_count": 5,
   "id": "633ada36-ceef-4d7f-838f-312e9533359e",
   "metadata": {},
   "outputs": [
    {
     "data": {
      "text/plain": [
       "'a'"
      ]
     },
     "execution_count": 5,
     "metadata": {},
     "output_type": "execute_result"
    }
   ],
   "source": [
    "x[0]"
   ]
  },
  {
   "cell_type": "code",
   "execution_count": 6,
   "id": "eb703196-1b6c-4ac6-bf02-704c15489647",
   "metadata": {},
   "outputs": [
    {
     "data": {
      "text/plain": [
       "'bb'"
      ]
     },
     "execution_count": 6,
     "metadata": {},
     "output_type": "execute_result"
    }
   ],
   "source": [
    "x[1][0]"
   ]
  },
  {
   "cell_type": "code",
   "execution_count": 7,
   "id": "356091ea-e562-42a4-8d7f-f868427b8e5c",
   "metadata": {},
   "outputs": [
    {
     "data": {
      "text/plain": [
       "'ccc'"
      ]
     },
     "execution_count": 7,
     "metadata": {},
     "output_type": "execute_result"
    }
   ],
   "source": [
    "x[1][1][0]"
   ]
  },
  {
   "cell_type": "code",
   "execution_count": 8,
   "id": "90eb6bea-f3d8-42d6-88c1-5058bcf4e1ab",
   "metadata": {},
   "outputs": [
    {
     "data": {
      "text/plain": [
       "'ddd'"
      ]
     },
     "execution_count": 8,
     "metadata": {},
     "output_type": "execute_result"
    }
   ],
   "source": [
    "x[1][1][1]"
   ]
  },
  {
   "cell_type": "code",
   "execution_count": 9,
   "id": "df2d7813-900b-40b3-b6e6-da57e3fd8f05",
   "metadata": {},
   "outputs": [
    {
     "data": {
      "text/plain": [
       "'ee'"
      ]
     },
     "execution_count": 9,
     "metadata": {},
     "output_type": "execute_result"
    }
   ],
   "source": [
    "x[1][2]"
   ]
  },
  {
   "cell_type": "code",
   "execution_count": 10,
   "id": "de212233-b321-4555-9746-36084c87d4ab",
   "metadata": {},
   "outputs": [
    {
     "data": {
      "text/plain": [
       "'ff'"
      ]
     },
     "execution_count": 10,
     "metadata": {},
     "output_type": "execute_result"
    }
   ],
   "source": [
    "x[1][3]"
   ]
  },
  {
   "cell_type": "code",
   "execution_count": 11,
   "id": "8422c304-21c7-4069-84d0-a06682bd82ad",
   "metadata": {},
   "outputs": [
    {
     "data": {
      "text/plain": [
       "'g'"
      ]
     },
     "execution_count": 11,
     "metadata": {},
     "output_type": "execute_result"
    }
   ],
   "source": [
    "x[2]"
   ]
  },
  {
   "cell_type": "code",
   "execution_count": 12,
   "id": "a4856dd2-86c0-4de3-9cc8-cb0a123f2d8d",
   "metadata": {},
   "outputs": [
    {
     "data": {
      "text/plain": [
       "'hh'"
      ]
     },
     "execution_count": 12,
     "metadata": {},
     "output_type": "execute_result"
    }
   ],
   "source": [
    "x[3][0]"
   ]
  },
  {
   "cell_type": "code",
   "execution_count": 13,
   "id": "7491012a-ab20-49d9-a826-f7f5751a6294",
   "metadata": {},
   "outputs": [
    {
     "data": {
      "text/plain": [
       "'ii'"
      ]
     },
     "execution_count": 13,
     "metadata": {},
     "output_type": "execute_result"
    }
   ],
   "source": [
    "x[3][1]"
   ]
  },
  {
   "cell_type": "code",
   "execution_count": 14,
   "id": "06873894-2456-4117-a5cb-b5273c54d5e0",
   "metadata": {},
   "outputs": [
    {
     "data": {
      "text/plain": [
       "'j'"
      ]
     },
     "execution_count": 14,
     "metadata": {},
     "output_type": "execute_result"
    }
   ],
   "source": [
    "x[4]"
   ]
  }
 ],
 "metadata": {
  "kernelspec": {
   "display_name": "Python 3 (ipykernel)",
   "language": "python",
   "name": "python3"
  },
  "language_info": {
   "codemirror_mode": {
    "name": "ipython",
    "version": 3
   },
   "file_extension": ".py",
   "mimetype": "text/x-python",
   "name": "python",
   "nbconvert_exporter": "python",
   "pygments_lexer": "ipython3",
   "version": "3.9.19"
  }
 },
 "nbformat": 4,
 "nbformat_minor": 5
}
